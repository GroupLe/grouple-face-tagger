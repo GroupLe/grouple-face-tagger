{
 "cells": [
  {
   "cell_type": "code",
   "execution_count": 1,
   "id": "median-commons",
   "metadata": {},
   "outputs": [],
   "source": [
    "import pandas as pd\n",
    "from pathlib import Path\n",
    "from typing import List\n",
    "from natasha import MorphVocab\n",
    "import pymorphy"
   ]
  },
  {
   "cell_type": "code",
   "execution_count": 2,
   "id": "billion-cabinet",
   "metadata": {},
   "outputs": [],
   "source": [
    "path = Path('C:/may/ML/GroupLe/grouple/data/face_detection/raw/characters/you_anime_characters_refs.csv')"
   ]
  },
  {
   "cell_type": "code",
   "execution_count": 3,
   "id": "standard-parade",
   "metadata": {},
   "outputs": [],
   "source": [
    "df = pd.read_csv(path, sep = '\\t')"
   ]
  },
  {
   "cell_type": "code",
   "execution_count": 4,
   "id": "quality-blake",
   "metadata": {},
   "outputs": [
    {
     "data": {
      "text/plain": [
       "0         Эрен Йегер\n",
       "1    Микаса Аккерман\n",
       "2       Армин Арлерт\n",
       "3               Леви\n",
       "4         Саша Блауз\n",
       "5     Конни Спрингер\n",
       "6             Ханнес\n",
       "7     Бертольт Гувер\n",
       "8         Эрвин Смит\n",
       "9       Райнер Браун\n",
       "Name: name, dtype: object"
      ]
     },
     "execution_count": 4,
     "metadata": {},
     "output_type": "execute_result"
    }
   ],
   "source": [
    "df['name'][:10]"
   ]
  },
  {
   "cell_type": "code",
   "execution_count": 6,
   "id": "aboriginal-bangkok",
   "metadata": {},
   "outputs": [],
   "source": [
    "class Character:\n",
    "    def __init__(self, name, pic, link):\n",
    "        self.name = name\n",
    "        self.pic = pic\n",
    "        self.link = link"
   ]
  },
  {
   "cell_type": "code",
   "execution_count": 17,
   "id": "handed-waterproof",
   "metadata": {},
   "outputs": [],
   "source": [
    "class CandidatesSearch:\n",
    "    def __init__(self, df):\n",
    "        self.df = df\n",
    "        self.morph = pymorphy2.MorphAnalyzer()\n",
    "        \n",
    "    def lemmatize(self, word):\n",
    "        p = self.morph.parse(word)[0]\n",
    "        res = p.normal_form.capitalize()\n",
    "        return res\n",
    "\n",
    "    def get_info_name(self, name: str) -> List[Character]:\n",
    "        df_full = self.df[self.df['name']==name]\n",
    "\n",
    "        if df_full.empty:\n",
    "            name_lemm = self.lemmatize(name)\n",
    "            df_lemm = (df[df['name'].str.contains(name_lemm)])\n",
    "            df_chars = df_lemm.drop_duplicates(subset = 'link')\n",
    "        else: \n",
    "            df_chars = df_full.drop_duplicates(subset = 'link')\n",
    "\n",
    "        characters = []\n",
    "        for i, (page_link, name, link, img_addr) in df_chars.iterrows():\n",
    "            char = Character(name, page_link[:20] + img_addr, page_link[:20] + link)\n",
    "            characters.append(char)\n",
    "        return characters\n",
    "\n",
    "    def get_info(self, names: List[str]):\n",
    "        info = []\n",
    "        for name in names:\n",
    "            info.append(self.get_info_name(name))\n",
    "        return info"
   ]
  },
  {
   "cell_type": "code",
   "execution_count": 24,
   "id": "magnetic-nation",
   "metadata": {},
   "outputs": [
    {
     "data": {
      "text/plain": [
       "'Бертольт Гувер'"
      ]
     },
     "execution_count": 24,
     "metadata": {},
     "output_type": "execute_result"
    }
   ],
   "source": [
    "candidates_search = CandidatesSearch(df)\n",
    "l = ['Эрвина', 'Леви', 'Мари', 'Бертольта']\n",
    "a = candidates_search.get_info(l)\n",
    "a[3][0].name"
   ]
  },
  {
   "cell_type": "code",
   "execution_count": null,
   "id": "useful-experiment",
   "metadata": {},
   "outputs": [],
   "source": []
  }
 ],
 "metadata": {
  "kernelspec": {
   "display_name": "Python 3",
   "language": "python",
   "name": "python3"
  },
  "language_info": {
   "codemirror_mode": {
    "name": "ipython",
    "version": 3
   },
   "file_extension": ".py",
   "mimetype": "text/x-python",
   "name": "python",
   "nbconvert_exporter": "python",
   "pygments_lexer": "ipython3",
   "version": "3.6.2"
  }
 },
 "nbformat": 4,
 "nbformat_minor": 5
}
