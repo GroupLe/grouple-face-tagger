{
 "cells": [
  {
   "cell_type": "code",
   "execution_count": 1,
   "id": "median-commons",
   "metadata": {},
   "outputs": [],
   "source": [
    "import pandas as pd\n",
    "from pathlib import Path\n",
    "from typing import List\n",
    "from nltk.stem.snowball import SnowballStemmer"
   ]
  },
  {
   "cell_type": "code",
   "execution_count": 2,
   "id": "billion-cabinet",
   "metadata": {},
   "outputs": [],
   "source": [
    "path = Path('C:/may/ML/GroupLe/grouple/data/face_detection/raw/characters/you_anime_characters_refs.csv')"
   ]
  },
  {
   "cell_type": "code",
   "execution_count": 3,
   "id": "standard-parade",
   "metadata": {},
   "outputs": [],
   "source": [
    "df = pd.read_csv(path, sep = '\\t')"
   ]
  },
  {
   "cell_type": "code",
   "execution_count": 4,
   "id": "level-concept",
   "metadata": {},
   "outputs": [],
   "source": [
    "index_ = ['page_link', 'name', 'link', 'img_addr']\n",
    "df = df[index_]"
   ]
  },
  {
   "cell_type": "code",
   "execution_count": 5,
   "id": "solar-parade",
   "metadata": {},
   "outputs": [],
   "source": [
    "class Character:\n",
    "    def __init__(self, name: str, pic_link: str, link: str):\n",
    "        self.name = name\n",
    "        self.pic_link = pic_link\n",
    "        self.link = link"
   ]
  },
  {
   "cell_type": "code",
   "execution_count": 6,
   "id": "handed-waterproof",
   "metadata": {},
   "outputs": [],
   "source": [
    "class CandidatesSearch:\n",
    "    def __init__(self, df: pd.DataFrame):\n",
    "        self.df = df\n",
    "        self.stemmer = SnowballStemmer(language='russian')\n",
    "    \n",
    "    def get_character_by_name(self, name: str) -> List[Character]: \n",
    "        df_full = self.df[self.df['name']==name]\n",
    "\n",
    "        if df_full.empty:\n",
    "            name_stemm = self.stemmer.stem(name).capitalize()\n",
    "            df_stemm = (df[df['name'].str.contains(name_stemm)])\n",
    "            df_stemm = df_stemm[df_stemm['name'].str.startswith(name_stemm)]\n",
    "            df_chars = df_stemm.drop_duplicates(subset = 'link')\n",
    "        else: \n",
    "            df_chars = df_full.drop_duplicates(subset = 'link')\n",
    "\n",
    "        characters = []\n",
    "        for _, (page_link, name, link, img_addr) in df_chars.iterrows():\n",
    "            char = Character(name, page_link[:20] + img_addr, page_link[:20] + link)\n",
    "            characters.append(char)\n",
    "        return characters\n",
    "\n",
    "    def get_characters(self, names: List[str]) -> List[List[Character]]:\n",
    "        characters = []\n",
    "        for name in names:\n",
    "            characters+=self.get_character_by_name(name)\n",
    "        return characters"
   ]
  },
  {
   "cell_type": "code",
   "execution_count": 7,
   "id": "magnetic-nation",
   "metadata": {},
   "outputs": [
    {
     "name": "stdout",
     "output_type": "stream",
     "text": [
      "https://you-anime.ru/anime-images/characters/23214.jpg\n",
      "https://you-anime.ru/anime-images/characters/143098.jpg\n",
      "https://you-anime.ru/anime-images/characters/130812.jpg\n",
      "https://you-anime.ru/anime-images/characters/Ej1TOl7VcuigNeC3.jpg\n",
      "https://you-anime.ru/anime-images/characters/46975.jpg\n",
      "https://you-anime.ru/anime-images/characters/151163.jpg\n",
      "https://you-anime.ru/anime-images/characters/43102.jpg\n",
      "https://you-anime.ru/anime-images/characters/136749.jpg\n",
      "https://you-anime.ru/anime-images/characters/155191.jpg\n",
      "https://you-anime.ru/anime-images/characters/156594.jpg\n",
      "https://you-anime.ru/anime-images/characters/34853.jpg\n",
      "https://you-anime.ru/anime-images/characters/81523.jpg\n",
      "https://you-anime.ru/anime-images/characters/105947.jpg\n",
      "https://you-anime.ru/anime-images/characters/139933.jpg\n",
      "https://you-anime.ru/anime-images/characters/3192.jpg\n",
      "https://you-anime.ru/anime-images/characters/68521.jpg\n",
      "https://you-anime.ru/anime-images/characters/20826.jpg\n",
      "https://you-anime.ru/anime-images/characters/149928.jpg\n",
      "https://you-anime.ru/anime-images/characters/100863.jpg\n",
      "https://you-anime.ru/anime-images/characters/14073.jpg\n",
      "https://you-anime.ru/anime-images/characters/41700.jpg\n",
      "https://you-anime.ru/anime-images/characters/49025.jpg\n",
      "https://you-anime.ru/anime-images/characters/missing_original.jpg\n",
      "https://you-anime.ru/anime-images/characters/26115.jpg\n"
     ]
    }
   ],
   "source": [
    "candidates_search = CandidatesSearch(df)\n",
    "l = ['Мари']\n",
    "a = candidates_search.get_characters(l)\n",
    "for i in a:\n",
    "        print(i.pic_link)\n"
   ]
  },
  {
   "cell_type": "code",
   "execution_count": null,
   "id": "covered-richards",
   "metadata": {},
   "outputs": [],
   "source": []
  }
 ],
 "metadata": {
  "kernelspec": {
   "display_name": "Python 3",
   "language": "python",
   "name": "python3"
  },
  "language_info": {
   "codemirror_mode": {
    "name": "ipython",
    "version": 3
   },
   "file_extension": ".py",
   "mimetype": "text/x-python",
   "name": "python",
   "nbconvert_exporter": "python",
   "pygments_lexer": "ipython3",
   "version": "3.6.2"
  }
 },
 "nbformat": 4,
 "nbformat_minor": 5
}
