{
 "cells": [
  {
   "cell_type": "code",
   "execution_count": 1,
   "id": "median-commons",
   "metadata": {},
   "outputs": [],
   "source": [
    "import pandas as pd\n",
    "from pathlib import Path\n",
    "from typing import List\n",
    "from nltk.stem.snowball import SnowballStemmer"
   ]
  },
  {
   "cell_type": "code",
   "execution_count": 56,
   "id": "billion-cabinet",
   "metadata": {},
   "outputs": [],
   "source": [
    "path = Path('C:/may/ML/GroupLe/grouple/data/face_detection/raw/characters/you_anime_characters_refs.csv')"
   ]
  },
  {
   "cell_type": "code",
   "execution_count": 57,
   "id": "standard-parade",
   "metadata": {},
   "outputs": [],
   "source": [
    "df = pd.read_csv(path, sep = '\\t')"
   ]
  },
  {
   "cell_type": "code",
   "execution_count": 58,
   "id": "level-concept",
   "metadata": {},
   "outputs": [],
   "source": [
    "index_ = ['page_link', 'name', 'link', 'img_addr']\n",
    "df = df[index_]"
   ]
  },
  {
   "cell_type": "code",
   "execution_count": 62,
   "id": "solar-parade",
   "metadata": {},
   "outputs": [],
   "source": [
    "class Character:\n",
    "    def __init__(self, name: str, pic: str, link: str):\n",
    "        self.name = name\n",
    "        self.pic = pic\n",
    "        self.link = link"
   ]
  },
  {
   "cell_type": "code",
   "execution_count": 63,
   "id": "handed-waterproof",
   "metadata": {},
   "outputs": [],
   "source": [
    "class CandidatesSearch:\n",
    "    def __init__(self, df: pd.DataFrame):\n",
    "        self.df = df\n",
    "        self.stemmer = SnowballStemmer(language='russian')\n",
    "        \n",
    "    def lemmatize(self, word: str) -> str:\n",
    "        p = self.morph.parse(word)[0]\n",
    "        res = p.normal_form.capitalize()\n",
    "        return res\n",
    "\n",
    "    def get_character_info_by_name(self, name: str) -> List[Character]: \n",
    "        df_full = self.df[self.df['name']==name]\n",
    "\n",
    "        if df_full.empty:\n",
    "            name_stemm = self.stemmer.stem(name).capitalize()\n",
    "            print(name_stemm)\n",
    "            \n",
    "            df_lemm = (df[df['name'].str.contains(name_stemm)])\n",
    "            df_lemm = df_lemm[df_lemm['name'].str.startswith(name_stemm)]\n",
    "            df_chars = df_lemm.drop_duplicates(subset = 'link')\n",
    "        else: \n",
    "            df_chars = df_full.drop_duplicates(subset = 'link')\n",
    "\n",
    "        characters = []\n",
    "        for _, (page_link, name, link, img_addr) in df_chars.iterrows():\n",
    "            char = Character(name, page_link[:20] + img_addr, page_link[:20] + link)\n",
    "            characters.append(char)\n",
    "        return characters\n",
    "\n",
    "    def get_characters_info(self, names: List[str]) -> List[List[Character]]:\n",
    "        info = []\n",
    "        for name in names:\n",
    "            info.append(self.get_character_info_by_name(name))\n",
    "        return info"
   ]
  },
  {
   "cell_type": "code",
   "execution_count": 61,
   "id": "magnetic-nation",
   "metadata": {},
   "outputs": [
    {
     "name": "stdout",
     "output_type": "stream",
     "text": [
      "Мари\n",
      "Мари\n",
      "Мари\n",
      "Мари\n",
      "Мари\n",
      "Мари\n",
      "Мари\n",
      "Мари\n",
      "Мари\n",
      "Мари\n",
      "Мари\n",
      "Мари\n",
      "Мари\n",
      "Мари\n",
      "Мари\n",
      "Мари\n",
      "Мари\n",
      "Мари\n",
      "Мари\n",
      "Мари\n",
      "Мари\n",
      "Мари\n",
      "Мари\n",
      "Мари\n"
     ]
    }
   ],
   "source": [
    "candidates_search = CandidatesSearch(df)\n",
    "l = ['Мари']\n",
    "a = candidates_search.get_characters_info(l)\n",
    "for i in a:\n",
    "    for j in i:\n",
    "        print(j.name)\n"
   ]
  }
 ],
 "metadata": {
  "kernelspec": {
   "display_name": "Python 3",
   "language": "python",
   "name": "python3"
  },
  "language_info": {
   "codemirror_mode": {
    "name": "ipython",
    "version": 3
   },
   "file_extension": ".py",
   "mimetype": "text/x-python",
   "name": "python",
   "nbconvert_exporter": "python",
   "pygments_lexer": "ipython3",
   "version": "3.6.2"
  }
 },
 "nbformat": 4,
 "nbformat_minor": 5
}
