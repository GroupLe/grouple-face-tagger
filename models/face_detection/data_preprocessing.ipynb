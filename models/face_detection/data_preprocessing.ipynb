{
 "cells": [
  {
   "cell_type": "code",
   "execution_count": 11,
   "id": "lonely-butler",
   "metadata": {},
   "outputs": [],
   "source": [
    "import opendatasets as od\n",
    "from pathlib import Path\n",
    "import os\n",
    "from skimage.io import imread\n",
    "import cv2\n",
    "import regex as re\n",
    "import numpy as np\n",
    "import shutil\n",
    "from model import AnimeFaceDetectionModel\n",
    "import matplotlib.pyplot as plt"
   ]
  },
  {
   "cell_type": "code",
   "execution_count": 3,
   "id": "unable-respondent",
   "metadata": {},
   "outputs": [],
   "source": [
    "root = Path('../../data/face_detection/raw/')\n",
    "path1 = root / 'waifus_images_train'\n",
    "path2 = root / 'waifus_images_val'\n",
    "target_root = 'C:/may/ML/GroupLe/grouple/data/face_detection/processed/'"
   ]
  },
  {
   "cell_type": "code",
   "execution_count": 14,
   "id": "failing-increase",
   "metadata": {},
   "outputs": [
    {
     "name": "stdout",
     "output_type": "stream",
     "text": [
      "Sat Jul 10 15:31:18 2021: Initializing.\n",
      "Sat Jul 10 15:31:18 2021: Initialized (0.0718 seconds).\n"
     ]
    }
   ],
   "source": [
    "model = AnimeFaceDetectionModel(module_path = '', margin=0)"
   ]
  },
  {
   "cell_type": "code",
   "execution_count": 82,
   "id": "julian-integrity",
   "metadata": {},
   "outputs": [],
   "source": [
    "def save_face(path):\n",
    "    for (dirpath, dirname, filenames) in os.walk(path1):\n",
    "        for filename in filenames:\n",
    "            filepath = os.path.join(dirpath, filename)\n",
    "            image = cv2.imread(filepath)\n",
    "            if not (isinstance(image, np.ndarray)) or not (filename.endswith('.png') or (filename.endswith('.jpg'))):\n",
    "                os.remove(filepath)\n",
    "                continue\n",
    "            if len(image.shape)!=3:\n",
    "                os.remove(filepath)\n",
    "                continue\n",
    "            face = model.detect(image)\n",
    "            \n",
    "            try:\n",
    "                face = np.array(face)\n",
    "            except ValueError as ve:\n",
    "                continue\n",
    "            \n",
    "            if face.size==0 or len(np.shape(face))==1 or len(np.shape(face))==2:\n",
    "                continue\n",
    "                \n",
    "            name = filename.split('.')\n",
    "            name = re.sub(r\"[^A-za-z]\", \"\", name[0]) \n",
    "            if not os.path.isdir(Path(target_root) / name):\n",
    "                 os.mkdir(Path(target_root) / name)\n",
    "            target_path = target_root + '/' + name + '/' + filename\n",
    "            cv2.imwrite(target_path, face[0])"
   ]
  },
  {
   "cell_type": "code",
   "execution_count": null,
   "id": "close-departure",
   "metadata": {},
   "outputs": [
    {
     "name": "stderr",
     "output_type": "stream",
     "text": [
      "c:\\users\\май\\appdata\\local\\programs\\python\\python36\\lib\\site-packages\\ipykernel_launcher.py:15: VisibleDeprecationWarning: Creating an ndarray from ragged nested sequences (which is a list-or-tuple of lists-or-tuples-or ndarrays with different lengths or shapes) is deprecated. If you meant to do this, you must specify 'dtype=object' when creating the ndarray\n",
      "  from ipykernel import kernelapp as app\n"
     ]
    }
   ],
   "source": [
    "save_face(root)"
   ]
  }
 ],
 "metadata": {
  "kernelspec": {
   "display_name": "Python 3",
   "language": "python",
   "name": "python3"
  },
  "language_info": {
   "codemirror_mode": {
    "name": "ipython",
    "version": 3
   },
   "file_extension": ".py",
   "mimetype": "text/x-python",
   "name": "python",
   "nbconvert_exporter": "python",
   "pygments_lexer": "ipython3",
   "version": "3.6.2"
  }
 },
 "nbformat": 4,
 "nbformat_minor": 5
}
