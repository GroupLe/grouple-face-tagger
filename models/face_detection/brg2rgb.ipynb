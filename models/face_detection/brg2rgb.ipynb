{
 "cells": [
  {
   "cell_type": "code",
   "execution_count": 20,
   "id": "public-master",
   "metadata": {},
   "outputs": [],
   "source": [
    "import os\n",
    "import cv2\n",
    "from pathlib import Path\n",
    "import matplotlib.pyplot as plt\n",
    "path = 'C:/may/ML/GroupLe/grouple/data/face_detection/processed'"
   ]
  },
  {
   "cell_type": "code",
   "execution_count": 26,
   "id": "mental-vanilla",
   "metadata": {},
   "outputs": [],
   "source": [
    "for dirpath, dirs, files in os.walk(path):\n",
    "        for filename in files:\n",
    "            image_path = os.path.join(dirpath, filename)\n",
    "            image = cv2.imread(image_path)\n",
    "            image = cv2.cvtColor(image, cv2.COLOR_BGR2RGB)\n",
    "            os.remove(image_path)\n",
    "            cv2.imwrite(image_path, image)"
   ]
  },
  {
   "cell_type": "code",
   "execution_count": null,
   "id": "standard-trinidad",
   "metadata": {},
   "outputs": [],
   "source": []
  }
 ],
 "metadata": {
  "kernelspec": {
   "display_name": "Python 3",
   "language": "python",
   "name": "python3"
  },
  "language_info": {
   "codemirror_mode": {
    "name": "ipython",
    "version": 3
   },
   "file_extension": ".py",
   "mimetype": "text/x-python",
   "name": "python",
   "nbconvert_exporter": "python",
   "pygments_lexer": "ipython3",
   "version": "3.6.2"
  }
 },
 "nbformat": 4,
 "nbformat_minor": 5
}
