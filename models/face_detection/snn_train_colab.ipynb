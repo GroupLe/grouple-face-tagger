{
 "cells": [
  {
   "cell_type": "code",
   "execution_count": 2,
   "metadata": {
    "colab": {
     "base_uri": "https://localhost:8080/"
    },
    "id": "7pr-1sOH7ahq",
    "outputId": "ad53fb3b-a75b-4f08-a873-ffa401f4cdb1"
   },
   "outputs": [
    {
     "name": "stdout",
     "output_type": "stream",
     "text": [
      "Cloning into 'grouple-face-tagger'...\n",
      "remote: Enumerating objects: 397, done.\u001b[K\n",
      "remote: Counting objects: 100% (397/397), done.\u001b[K\n",
      "remote: Compressing objects: 100% (291/291), done.\u001b[K\n",
      "remote: Total 397 (delta 142), reused 326 (delta 79), pack-reused 0\u001b[K\n",
      "Receiving objects: 100% (397/397), 13.88 MiB | 26.56 MiB/s, done.\n",
      "Resolving deltas: 100% (142/142), done.\n"
     ]
    }
   ],
   "source": [
    "!git clone https://github.com/GroupLe/grouple-face-tagger/"
   ]
  },
  {
   "cell_type": "code",
   "execution_count": 3,
   "metadata": {
    "id": "ckJ4PzSXfWlV"
   },
   "outputs": [],
   "source": [
    "!cd grouple-face-tagger && touch __init__.py\n",
    "!mkdir data"
   ]
  },
  {
   "cell_type": "code",
   "execution_count": 9,
   "metadata": {
    "colab": {
     "base_uri": "https://localhost:8080/"
    },
    "id": "9uFJ1ZbsgBUo",
    "outputId": "48ad367d-5ab9-44f3-c7c2-e4ec017a504a"
   },
   "outputs": [
    {
     "name": "stdout",
     "output_type": "stream",
     "text": [
      "Drive already mounted at /content/drive; to attempt to forcibly remount, call drive.mount(\"/content/drive\", force_remount=True).\n"
     ]
    }
   ],
   "source": [
    "from google.colab import drive\n",
    "drive.mount(\"/content/drive\")"
   ]
  },
  {
   "cell_type": "code",
   "execution_count": 1,
   "metadata": {
    "id": "KgVwrOkThMHa"
   },
   "outputs": [],
   "source": [
    "import os\n",
    "import matplotlib.pyplot as plt\n",
    "from pathlib import Path\n",
    "import torch\n",
    "import torch.nn as nn\n",
    "from tqdm import tqdm\n",
    "from torch.utils.data import Dataset\n",
    "import torchvision\n",
    "import wandb\n",
    "# import sys\n",
    "# sys.path.insert(0, \"grouple-face-tagger/models/face_detection/\")\n",
    "from snn_model.datasets import TripletPathDataset\n",
    "from snn_model.model import EmbeddingNet, TripletNet\n",
    "from snn_model.functions import accuracy\n",
    "from snn_model.transformations import EmptyTransformation\n",
    "from statistics import mean"
   ]
  },
  {
   "cell_type": "code",
   "execution_count": 2,
   "metadata": {
    "id": "xUAEBGBfiosg"
   },
   "outputs": [],
   "source": [
    "root = Path('../../data/face_detection/')"
   ]
  },
  {
   "cell_type": "code",
   "execution_count": 3,
   "metadata": {
    "colab": {
     "base_uri": "https://localhost:8080/"
    },
    "id": "70808zrBhUz2",
    "outputId": "da958fce-e037-4645-a465-34611672d9db"
   },
   "outputs": [
    {
     "name": "stdout",
     "output_type": "stream",
     "text": [
      "1659\n",
      "23\n"
     ]
    }
   ],
   "source": [
    "filecount=0\n",
    "for dirpath, dirs, files in os.walk(root):\n",
    "    for filename in files:\n",
    "        filecount+=1\n",
    "print(filecount)\n",
    "print(len(os.listdir(root)))"
   ]
  },
  {
   "cell_type": "code",
   "execution_count": 78,
   "metadata": {
    "id": "H1DEwYBdi6cY"
   },
   "outputs": [],
   "source": [
    "import torchvision.transforms as T\n",
    "\n",
    "composed = torchvision.transforms.Compose([T.ToTensor(),\n",
    "                                           T.Resize((128, 128)),\n",
    "                                           T.RandomChoice((T.ColorJitter(0.05, 0.05, 0.05),\n",
    "                                                          T.RandomRotation(degrees=(0, 30)),\n",
    "                                                          EmptyTransformation(),\n",
    "                                                          EmptyTransformation(),\n",
    "                                                          EmptyTransformation()))])\n",
    "                                                          "
   ]
  },
  {
   "cell_type": "code",
   "execution_count": null,
   "metadata": {
    "colab": {
     "base_uri": "https://localhost:8080/"
    },
    "id": "GOiTGCaEi70o",
    "outputId": "a0f930cc-e83c-4aa3-cf45-4b2885fbaedb"
   },
   "outputs": [
    {
     "name": "stderr",
     "output_type": "stream",
     "text": [
      "\r",
      "0it [00:00, ?it/s]"
     ]
    }
   ],
   "source": [
    "siamse_dataset = TripletPathDataset(Path(root), transform = composed)"
   ]
  },
  {
   "cell_type": "code",
   "execution_count": 6,
   "metadata": {
    "id": "22f9sc6O9biB"
   },
   "outputs": [
    {
     "name": "stdout",
     "output_type": "stream",
     "text": [
      "1327\n",
      "331\n"
     ]
    }
   ],
   "source": [
    "print(round(len(siamse_dataset)*0.8))\n",
    "print(int(len(siamse_dataset)*0.2))\n",
    "\n",
    "siamse_dataset_train, siamse_dataset_test = torch.utils.data.random_split(siamse_dataset,\n",
    "                                                                         (round(len(siamse_dataset)*0.8),\n",
    "                                                                          int(len(siamse_dataset)*0.2)))\n",
    "\n",
    "from torch.utils.data import DataLoader\n",
    "batch_size = 100\n",
    "train_dl = DataLoader(siamse_dataset_train, batch_size = batch_size, shuffle = True)\n",
    "test_dl = DataLoader(siamse_dataset_test, batch_size = batch_size, shuffle = True)"
   ]
  },
  {
   "cell_type": "code",
   "execution_count": 64,
   "metadata": {},
   "outputs": [],
   "source": [
    "embedding_net = EmbeddingNet()\n",
    "model = TripletNet(embedding_net)\n",
    "criterion = nn.TripletMarginLoss(margin=1, p=2)\n",
    "optimizer = torch.optim.Adagrad(model.parameters())\n",
    "scheduler = torch.optim.lr_scheduler.ReduceLROnPlateau(optimizer, 'min')\n",
    "# wandb.login(host='wandb.ai' relogin=True)"
   ]
  },
  {
   "cell_type": "code",
   "execution_count": 65,
   "metadata": {},
   "outputs": [
    {
     "data": {
      "text/plain": [
       "<bound method Optimizer.state_dict of Adagrad (\n",
       "Parameter Group 0\n",
       "    eps: 1e-10\n",
       "    initial_accumulator_value: 0\n",
       "    lr: 0.01\n",
       "    lr_decay: 0\n",
       "    weight_decay: 0\n",
       ")>"
      ]
     },
     "execution_count": 65,
     "metadata": {},
     "output_type": "execute_result"
    }
   ],
   "source": [
    "optimizer.state_dict"
   ]
  },
  {
   "cell_type": "code",
   "execution_count": 69,
   "metadata": {},
   "outputs": [
    {
     "name": "stderr",
     "output_type": "stream",
     "text": [
      "wandb: WARNING Calling wandb.login() after wandb.init() has no effect.\n"
     ]
    },
    {
     "data": {
      "text/plain": [
       "True"
      ]
     },
     "execution_count": 69,
     "metadata": {},
     "output_type": "execute_result"
    }
   ],
   "source": [
    "import wandb\n",
    "wandb.login()"
   ]
  },
  {
   "cell_type": "code",
   "execution_count": 70,
   "metadata": {},
   "outputs": [
    {
     "data": {
      "text/html": [
       "Finishing last run (ID:2ozm6m0g) before initializing another..."
      ],
      "text/plain": [
       "<IPython.core.display.HTML object>"
      ]
     },
     "metadata": {},
     "output_type": "display_data"
    },
    {
     "data": {
      "text/html": [
       "<br/>Waiting for W&B process to finish, PID 12644<br/>Program ended successfully."
      ],
      "text/plain": [
       "<IPython.core.display.HTML object>"
      ]
     },
     "metadata": {},
     "output_type": "display_data"
    },
    {
     "data": {
      "application/vnd.jupyter.widget-view+json": {
       "model_id": "",
       "version_major": 2,
       "version_minor": 0
      },
      "text/plain": [
       "VBox(children=(Label(value=' 0.00MB of 0.00MB uploaded (0.00MB deduped)\\r'), FloatProgress(value=1.0, max=1.0)…"
      ]
     },
     "metadata": {},
     "output_type": "display_data"
    },
    {
     "data": {
      "text/html": [
       "Find user logs for this run at: <code>C:\\may\\ML\\GroupLe\\grouple\\models\\face_detection\\wandb\\run-20210724_012726-2ozm6m0g\\logs\\debug.log</code>"
      ],
      "text/plain": [
       "<IPython.core.display.HTML object>"
      ]
     },
     "metadata": {},
     "output_type": "display_data"
    },
    {
     "data": {
      "text/html": [
       "Find internal logs for this run at: <code>C:\\may\\ML\\GroupLe\\grouple\\models\\face_detection\\wandb\\run-20210724_012726-2ozm6m0g\\logs\\debug-internal.log</code>"
      ],
      "text/plain": [
       "<IPython.core.display.HTML object>"
      ]
     },
     "metadata": {},
     "output_type": "display_data"
    },
    {
     "data": {
      "text/html": [
       "<h3>Run summary:</h3><br/><style>\n",
       "    table.wandb td:nth-child(1) { padding: 0 10px; text-align: right }\n",
       "    </style><table class=\"wandb\">\n",
       "<tr><td>train/accuracy</td><td>0.82</td></tr><tr><td>train/loss</td><td>0.59918</td></tr><tr><td>_runtime</td><td>135</td></tr><tr><td>_timestamp</td><td>1627079381</td></tr><tr><td>_step</td><td>11</td></tr></table>"
      ],
      "text/plain": [
       "<IPython.core.display.HTML object>"
      ]
     },
     "metadata": {},
     "output_type": "display_data"
    },
    {
     "data": {
      "text/html": [
       "<h3>Run history:</h3><br/><style>\n",
       "    table.wandb td:nth-child(1) { padding: 0 10px; text-align: right }\n",
       "    </style><table class=\"wandb\">\n",
       "<tr><td>train/accuracy</td><td>▇▂▃▄▂▁▂▆▁▆▇█</td></tr><tr><td>train/loss</td><td>▄▄█▃▇▆▄▁▄▁▂▁</td></tr><tr><td>_runtime</td><td>▁▂▂▃▄▄▅▆▆▇▇█</td></tr><tr><td>_timestamp</td><td>▁▂▂▃▄▄▅▆▆▇▇█</td></tr><tr><td>_step</td><td>▁▂▂▃▄▄▅▅▆▇▇█</td></tr></table><br/>"
      ],
      "text/plain": [
       "<IPython.core.display.HTML object>"
      ]
     },
     "metadata": {},
     "output_type": "display_data"
    },
    {
     "data": {
      "text/html": [
       "Synced 5 W&B file(s), 0 media file(s), 0 artifact file(s) and 0 other file(s)"
      ],
      "text/plain": [
       "<IPython.core.display.HTML object>"
      ]
     },
     "metadata": {},
     "output_type": "display_data"
    },
    {
     "data": {
      "text/html": [
       "\n",
       "                    <br/>Synced <strong style=\"color:#cdcd00\">fast-lake-34</strong>: <a href=\"https://wandb.ai/metpinc/triplet_siamse_network/runs/2ozm6m0g\" target=\"_blank\">https://wandb.ai/metpinc/triplet_siamse_network/runs/2ozm6m0g</a><br/>\n",
       "                "
      ],
      "text/plain": [
       "<IPython.core.display.HTML object>"
      ]
     },
     "metadata": {},
     "output_type": "display_data"
    },
    {
     "data": {
      "text/html": [
       "...Successfully finished last run (ID:2ozm6m0g). Initializing new run:<br/><br/>"
      ],
      "text/plain": [
       "<IPython.core.display.HTML object>"
      ]
     },
     "metadata": {},
     "output_type": "display_data"
    },
    {
     "data": {
      "text/html": [
       "\n",
       "                Tracking run with wandb version 0.11.0<br/>\n",
       "                Syncing run <strong style=\"color:#cdcd00\">still-elevator-35</strong> to <a href=\"https://wandb.ai\" target=\"_blank\">Weights & Biases</a> <a href=\"https://docs.wandb.com/integrations/jupyter.html\" target=\"_blank\">(Documentation)</a>.<br/>\n",
       "                Project page: <a href=\"https://wandb.ai/metpinc/triplet_siamse_network\" target=\"_blank\">https://wandb.ai/metpinc/triplet_siamse_network</a><br/>\n",
       "                Run page: <a href=\"https://wandb.ai/metpinc/triplet_siamse_network/runs/2lew8tho\" target=\"_blank\">https://wandb.ai/metpinc/triplet_siamse_network/runs/2lew8tho</a><br/>\n",
       "                Run data is saved locally in <code>C:\\may\\ML\\GroupLe\\grouple\\models\\face_detection\\wandb\\run-20210724_012957-2lew8tho</code><br/><br/>\n",
       "            "
      ],
      "text/plain": [
       "<IPython.core.display.HTML object>"
      ]
     },
     "metadata": {},
     "output_type": "display_data"
    }
   ],
   "source": [
    "wandb.init(project=\"triplet_siamse_network\", config={\n",
    "    \"learning_rate\": 0.01,\n",
    "    \"architecture\": \"SNN\"\n",
    "})\n",
    "config = wandb.config"
   ]
  },
  {
   "cell_type": "code",
   "execution_count": 71,
   "metadata": {},
   "outputs": [
    {
     "name": "stdout",
     "output_type": "stream",
     "text": [
      "\n",
      "\n",
      "Epoch 0\n",
      "train\n",
      "  [0/14] acc 0.78 loss 0.7127691507339478\n",
      "  [1/14] acc 0.8 loss 0.6291276812553406\n",
      "  [2/14] acc 0.79 loss 0.632846474647522\n",
      "  [3/14] acc 0.79 loss 0.545107364654541\n",
      "  [4/14] acc 0.73 loss 0.7576642036437988\n",
      "  [5/14] acc 0.87 loss 0.4366939067840576\n",
      "  [6/14] acc 0.77 loss 0.6170132756233215\n",
      "  [7/14] acc 0.74 loss 0.7776358127593994\n",
      "  [8/14] acc 0.81 loss 0.5451846122741699\n",
      "  [9/14] acc 0.8 loss 0.5780346393585205\n",
      "  [10/14] acc 0.84 loss 0.4974980056285858\n",
      "  [11/14] acc 0.85 loss 0.37996453046798706\n",
      "  [12/14] acc 0.79 loss 0.5725834965705872\n",
      "  [13/14] acc 0.8148148148148148 loss 0.4691707193851471\n",
      "train accuracy:  0.7982010582010582\n",
      "train loss:  tensor(0.5822, grad_fn=<DivBackward0>)\n",
      "test\n",
      "  [0/14] acc 0.75 loss 0.766713559627533\n",
      "  [1/14] acc 0.86 loss 0.5451606512069702\n",
      "  [2/14] acc 0.79 loss 0.5708218216896057\n",
      "  [3/14] acc 0.8125 loss 0.5801378488540649\n",
      "test accuracy:  0.803125\n",
      "\n",
      "\n",
      "Epoch 1\n",
      "train\n",
      "  [0/14] acc 0.8 loss 0.5351629257202148\n",
      "  [1/14] acc 0.82 loss 0.5596207976341248\n",
      "  [2/14] acc 0.81 loss 0.5971339344978333\n",
      "  [3/14] acc 0.84 loss 0.40106499195098877\n",
      "  [4/14] acc 0.85 loss 0.5156318545341492\n",
      "  [5/14] acc 0.83 loss 0.5444661974906921\n",
      "  [6/14] acc 0.88 loss 0.3539142608642578\n",
      "  [7/14] acc 0.86 loss 0.35783180594444275\n",
      "  [8/14] acc 0.88 loss 0.44171276688575745\n",
      "  [9/14] acc 0.87 loss 0.39037054777145386\n",
      "  [10/14] acc 0.88 loss 0.376160204410553\n",
      "  [11/14] acc 0.82 loss 0.4479641616344452\n",
      "  [12/14] acc 0.85 loss 0.4150426387786865\n",
      "  [13/14] acc 0.8888888888888888 loss 0.34904709458351135\n",
      "train accuracy:  0.8484920634920635\n",
      "train loss:  tensor(0.4489, grad_fn=<DivBackward0>)\n",
      "test\n",
      "  [0/14] acc 0.81 loss 0.5517551302909851\n",
      "  [1/14] acc 0.83 loss 0.5343464612960815\n",
      "  [2/14] acc 0.84 loss 0.63344806432724\n",
      "  [3/14] acc 0.75 loss 0.7404398918151855\n",
      "test accuracy:  0.8075\n",
      "\n",
      "\n",
      "Epoch 2\n",
      "train\n",
      "  [0/14] acc 0.87 loss 0.38192540407180786\n",
      "  [1/14] acc 0.84 loss 0.5541919469833374\n",
      "  [2/14] acc 0.84 loss 0.5259181261062622\n",
      "  [3/14] acc 0.9 loss 0.30807024240493774\n",
      "  [4/14] acc 0.83 loss 0.6065351366996765\n",
      "  [5/14] acc 0.86 loss 0.49781978130340576\n",
      "  [6/14] acc 0.94 loss 0.2679465711116791\n",
      "  [7/14] acc 0.9 loss 0.2953486442565918\n",
      "  [8/14] acc 0.86 loss 0.3613450229167938\n",
      "  [9/14] acc 0.84 loss 0.4728148579597473\n",
      "  [10/14] acc 0.9 loss 0.3766680061817169\n",
      "  [11/14] acc 0.88 loss 0.34224072098731995\n",
      "  [12/14] acc 0.88 loss 0.3655509650707245\n",
      "  [13/14] acc 0.8148148148148148 loss 0.5913596749305725\n",
      "train accuracy:  0.8682010582010582\n",
      "train loss:  tensor(0.4248, grad_fn=<DivBackward0>)\n",
      "test\n",
      "  [0/14] acc 0.76 loss 0.6958909034729004\n",
      "  [1/14] acc 0.88 loss 0.377273291349411\n",
      "  [2/14] acc 0.86 loss 0.4464991092681885\n",
      "  [3/14] acc 0.6875 loss 0.6740472912788391\n",
      "test accuracy:  0.796875\n",
      "\n",
      "\n",
      "Epoch 3\n",
      "train\n",
      "  [0/14] acc 0.81 loss 0.5756983757019043\n",
      "  [1/14] acc 0.92 loss 0.25099122524261475\n",
      "  [2/14] acc 0.9 loss 0.2666841447353363\n",
      "  [3/14] acc 0.89 loss 0.33510416746139526\n",
      "  [4/14] acc 0.88 loss 0.3963584899902344\n",
      "  [5/14] acc 0.94 loss 0.21290642023086548\n",
      "  [6/14] acc 0.93 loss 0.25448480248451233\n",
      "  [7/14] acc 0.86 loss 0.38411328196525574\n",
      "  [8/14] acc 0.82 loss 0.4902271628379822\n",
      "  [9/14] acc 0.9 loss 0.31053316593170166\n",
      "  [10/14] acc 0.85 loss 0.3721579313278198\n",
      "  [11/14] acc 0.9 loss 0.26496827602386475\n",
      "  [12/14] acc 0.9 loss 0.2647894620895386\n",
      "  [13/14] acc 0.7777777777777778 loss 0.5726918578147888\n",
      "train accuracy:  0.876984126984127\n",
      "train loss:  tensor(0.3537, grad_fn=<DivBackward0>)\n",
      "test\n",
      "  [0/14] acc 0.88 loss 0.4600987136363983\n",
      "  [1/14] acc 0.82 loss 0.4885636866092682\n",
      "  [2/14] acc 0.83 loss 0.45480024814605713\n",
      "  [3/14] acc 0.96875 loss 0.16540828347206116\n",
      "test accuracy:  0.8746875\n",
      "\n",
      "\n",
      "Epoch 4\n",
      "train\n",
      "  [0/14] acc 0.94 loss 0.23059731721878052\n",
      "  [1/14] acc 0.89 loss 0.3918662965297699\n",
      "  [2/14] acc 0.96 loss 0.13531117141246796\n",
      "  [3/14] acc 0.94 loss 0.1842154711484909\n",
      "  [4/14] acc 0.89 loss 0.23516680300235748\n",
      "  [5/14] acc 0.86 loss 0.3475630283355713\n",
      "  [6/14] acc 0.83 loss 0.42129600048065186\n",
      "  [7/14] acc 0.91 loss 0.23568202555179596\n",
      "  [8/14] acc 0.88 loss 0.3150172829627991\n",
      "  [9/14] acc 0.92 loss 0.23562327027320862\n",
      "  [10/14] acc 0.93 loss 0.2118995040655136\n",
      "  [11/14] acc 0.92 loss 0.25190281867980957\n",
      "  [12/14] acc 0.93 loss 0.2105562835931778\n",
      "  [13/14] acc 0.8518518518518519 loss 0.2723393738269806\n",
      "train accuracy:  0.9037037037037037\n",
      "train loss:  tensor(0.2628, grad_fn=<DivBackward0>)\n",
      "test\n",
      "  [0/14] acc 0.86 loss 0.4459982216358185\n",
      "  [1/14] acc 0.84 loss 0.48533961176872253\n",
      "  [2/14] acc 0.79 loss 0.468761146068573\n",
      "  [3/14] acc 0.75 loss 0.6670600175857544\n",
      "test accuracy:  0.81\n",
      "\n",
      "\n",
      "Epoch 5\n",
      "train\n",
      "  [0/14] acc 0.86 loss 0.3539319932460785\n",
      "  [1/14] acc 0.93 loss 0.26677027344703674\n",
      "  [2/14] acc 0.85 loss 0.35964861512184143\n",
      "  [3/14] acc 0.93 loss 0.16257832944393158\n",
      "  [4/14] acc 0.88 loss 0.3058145046234131\n",
      "  [5/14] acc 0.95 loss 0.1963256448507309\n",
      "  [6/14] acc 0.95 loss 0.2192557156085968\n",
      "  [7/14] acc 0.92 loss 0.1769661009311676\n",
      "  [8/14] acc 0.93 loss 0.22414955496788025\n",
      "  [9/14] acc 0.88 loss 0.3658638894557953\n",
      "  [10/14] acc 0.89 loss 0.28319042921066284\n",
      "  [11/14] acc 0.97 loss 0.12929975986480713\n",
      "  [12/14] acc 0.93 loss 0.23894453048706055\n",
      "  [13/14] acc 0.8888888888888888 loss 0.26562100648880005\n",
      "train accuracy:  0.9113492063492064\n",
      "train loss:  tensor(0.2535, grad_fn=<DivBackward0>)\n",
      "test\n",
      "  [0/14] acc 0.85 loss 0.5506037473678589\n",
      "  [1/14] acc 0.88 loss 0.304350882768631\n",
      "  [2/14] acc 0.88 loss 0.34090980887413025\n",
      "  [3/14] acc 0.875 loss 0.3954073190689087\n",
      "test accuracy:  0.87125\n",
      "\n",
      "\n",
      "Epoch 6\n",
      "train\n",
      "  [0/14] acc 0.95 loss 0.21718677878379822\n",
      "  [1/14] acc 0.93 loss 0.17825278639793396\n",
      "  [2/14] acc 0.9 loss 0.2602473497390747\n",
      "  [3/14] acc 0.95 loss 0.22276073694229126\n",
      "  [4/14] acc 0.92 loss 0.19820402562618256\n",
      "  [5/14] acc 0.92 loss 0.2131890505552292\n",
      "  [6/14] acc 0.95 loss 0.17520995438098907\n",
      "  [7/14] acc 0.95 loss 0.09104698151350021\n",
      "  [8/14] acc 0.91 loss 0.19641265273094177\n",
      "  [9/14] acc 0.93 loss 0.22878703474998474\n",
      "  [10/14] acc 0.96 loss 0.1880861222743988\n",
      "  [11/14] acc 0.95 loss 0.15535269677639008\n",
      "  [12/14] acc 0.95 loss 0.1817832589149475\n",
      "  [13/14] acc 0.8148148148148148 loss 0.48489806056022644\n",
      "train accuracy:  0.9274867724867725\n",
      "train loss:  tensor(0.2137, grad_fn=<DivBackward0>)\n",
      "test\n",
      "  [0/14] acc 0.86 loss 0.42407482862472534\n",
      "  [1/14] acc 0.89 loss 0.30926626920700073\n",
      "  [2/14] acc 0.81 loss 0.5142213702201843\n",
      "  [3/14] acc 0.90625 loss 0.2656064033508301\n",
      "test accuracy:  0.8665625\n",
      "\n",
      "\n",
      "Epoch 7\n",
      "train\n",
      "  [0/14] acc 0.96 loss 0.09491511434316635\n",
      "  [1/14] acc 0.9 loss 0.32069942355155945\n",
      "  [2/14] acc 0.94 loss 0.14980778098106384\n",
      "  [3/14] acc 0.94 loss 0.1927797943353653\n",
      "  [4/14] acc 0.91 loss 0.23536989092826843\n",
      "  [5/14] acc 0.95 loss 0.10271772742271423\n",
      "  [6/14] acc 0.96 loss 0.1424255222082138\n",
      "  [7/14] acc 0.95 loss 0.15833371877670288\n",
      "  [8/14] acc 0.91 loss 0.24629496037960052\n",
      "  [9/14] acc 0.94 loss 0.19751431047916412\n",
      "  [10/14] acc 0.92 loss 0.20721489191055298\n",
      "  [11/14] acc 0.94 loss 0.1859152466058731\n",
      "  [12/14] acc 0.92 loss 0.2397986650466919\n",
      "  [13/14] acc 0.9629629629629629 loss 0.10565867274999619\n",
      "train accuracy:  0.9359259259259259\n",
      "train loss:  tensor(0.1842, grad_fn=<DivBackward0>)\n",
      "test\n",
      "  [0/14] acc 0.84 loss 0.4970806837081909\n",
      "  [1/14] acc 0.89 loss 0.2776755392551422\n",
      "  [2/14] acc 0.89 loss 0.3510854244232178\n",
      "  [3/14] acc 0.8125 loss 0.5464663505554199\n",
      "test accuracy:  0.858125\n",
      "\n",
      "\n",
      "Epoch 8\n",
      "train\n",
      "  [0/14] acc 0.96 loss 0.1864263117313385\n",
      "  [1/14] acc 0.97 loss 0.1546746790409088\n"
     ]
    },
    {
     "ename": "KeyboardInterrupt",
     "evalue": "",
     "output_type": "error",
     "traceback": [
      "\u001b[1;31m---------------------------------------------------------------------------\u001b[0m",
      "\u001b[1;31mKeyboardInterrupt\u001b[0m                         Traceback (most recent call last)",
      "\u001b[1;32m<ipython-input-71-94a00cc00113>\u001b[0m in \u001b[0;36m<module>\u001b[1;34m\u001b[0m\n\u001b[0;32m     13\u001b[0m         \u001b[0moptimizer\u001b[0m\u001b[1;33m.\u001b[0m\u001b[0mzero_grad\u001b[0m\u001b[1;33m(\u001b[0m\u001b[1;33m)\u001b[0m\u001b[1;33m\u001b[0m\u001b[0m\n\u001b[0;32m     14\u001b[0m \u001b[1;33m\u001b[0m\u001b[0m\n\u001b[1;32m---> 15\u001b[1;33m         \u001b[0mpred\u001b[0m \u001b[1;33m=\u001b[0m \u001b[0mmodel\u001b[0m\u001b[1;33m.\u001b[0m\u001b[0mforward\u001b[0m\u001b[1;33m(\u001b[0m\u001b[0manchor\u001b[0m\u001b[1;33m,\u001b[0m \u001b[0mpositive\u001b[0m\u001b[1;33m,\u001b[0m \u001b[0mnegative\u001b[0m\u001b[1;33m)\u001b[0m\u001b[1;33m\u001b[0m\u001b[0m\n\u001b[0m\u001b[0;32m     16\u001b[0m         \u001b[0mpred_anchor\u001b[0m\u001b[1;33m,\u001b[0m \u001b[0mpred_positive\u001b[0m\u001b[1;33m,\u001b[0m \u001b[0mpred_negative\u001b[0m \u001b[1;33m=\u001b[0m \u001b[0mpred\u001b[0m\u001b[1;33m\u001b[0m\u001b[0m\n\u001b[0;32m     17\u001b[0m         \u001b[0mloss\u001b[0m \u001b[1;33m=\u001b[0m \u001b[0mcriterion\u001b[0m\u001b[1;33m(\u001b[0m\u001b[0mpred_anchor\u001b[0m\u001b[1;33m,\u001b[0m \u001b[0mpred_positive\u001b[0m\u001b[1;33m,\u001b[0m \u001b[0mpred_negative\u001b[0m\u001b[1;33m)\u001b[0m\u001b[1;33m\u001b[0m\u001b[0m\n",
      "\u001b[1;32m<ipython-input-63-66dbafc856cb>\u001b[0m in \u001b[0;36mforward\u001b[1;34m(self, x1, x2, x3)\u001b[0m\n\u001b[0;32m     48\u001b[0m     \u001b[1;32mdef\u001b[0m \u001b[0mforward\u001b[0m\u001b[1;33m(\u001b[0m\u001b[0mself\u001b[0m\u001b[1;33m,\u001b[0m \u001b[0mx1\u001b[0m\u001b[1;33m:\u001b[0m \u001b[0mtorch\u001b[0m\u001b[1;33m.\u001b[0m\u001b[0mTensor\u001b[0m\u001b[1;33m,\u001b[0m \u001b[0mx2\u001b[0m\u001b[1;33m:\u001b[0m \u001b[0mtorch\u001b[0m\u001b[1;33m.\u001b[0m\u001b[0mTensor\u001b[0m\u001b[1;33m,\u001b[0m \u001b[0mx3\u001b[0m\u001b[1;33m:\u001b[0m \u001b[0mtorch\u001b[0m\u001b[1;33m.\u001b[0m\u001b[0mTensor\u001b[0m\u001b[1;33m)\u001b[0m\u001b[1;33m:\u001b[0m\u001b[1;33m\u001b[0m\u001b[0m\n\u001b[0;32m     49\u001b[0m         \u001b[0moutput1\u001b[0m \u001b[1;33m=\u001b[0m \u001b[0mself\u001b[0m\u001b[1;33m.\u001b[0m\u001b[0membedding_net\u001b[0m\u001b[1;33m(\u001b[0m\u001b[0mx1\u001b[0m\u001b[1;33m)\u001b[0m\u001b[1;33m\u001b[0m\u001b[0m\n\u001b[1;32m---> 50\u001b[1;33m         \u001b[0moutput2\u001b[0m \u001b[1;33m=\u001b[0m \u001b[0mself\u001b[0m\u001b[1;33m.\u001b[0m\u001b[0membedding_net\u001b[0m\u001b[1;33m(\u001b[0m\u001b[0mx2\u001b[0m\u001b[1;33m)\u001b[0m\u001b[1;33m\u001b[0m\u001b[0m\n\u001b[0m\u001b[0;32m     51\u001b[0m         \u001b[0moutput3\u001b[0m \u001b[1;33m=\u001b[0m \u001b[0mself\u001b[0m\u001b[1;33m.\u001b[0m\u001b[0membedding_net\u001b[0m\u001b[1;33m(\u001b[0m\u001b[0mx3\u001b[0m\u001b[1;33m)\u001b[0m\u001b[1;33m\u001b[0m\u001b[0m\n\u001b[0;32m     52\u001b[0m         \u001b[1;32mreturn\u001b[0m \u001b[0moutput1\u001b[0m\u001b[1;33m,\u001b[0m \u001b[0moutput2\u001b[0m\u001b[1;33m,\u001b[0m \u001b[0moutput3\u001b[0m\u001b[1;33m\u001b[0m\u001b[0m\n",
      "\u001b[1;32mc:\\users\\май\\appdata\\local\\programs\\python\\python36\\lib\\site-packages\\torch\\nn\\modules\\module.py\u001b[0m in \u001b[0;36m_call_impl\u001b[1;34m(self, *input, **kwargs)\u001b[0m\n\u001b[0;32m    725\u001b[0m             \u001b[0mresult\u001b[0m \u001b[1;33m=\u001b[0m \u001b[0mself\u001b[0m\u001b[1;33m.\u001b[0m\u001b[0m_slow_forward\u001b[0m\u001b[1;33m(\u001b[0m\u001b[1;33m*\u001b[0m\u001b[0minput\u001b[0m\u001b[1;33m,\u001b[0m \u001b[1;33m**\u001b[0m\u001b[0mkwargs\u001b[0m\u001b[1;33m)\u001b[0m\u001b[1;33m\u001b[0m\u001b[0m\n\u001b[0;32m    726\u001b[0m         \u001b[1;32melse\u001b[0m\u001b[1;33m:\u001b[0m\u001b[1;33m\u001b[0m\u001b[0m\n\u001b[1;32m--> 727\u001b[1;33m             \u001b[0mresult\u001b[0m \u001b[1;33m=\u001b[0m \u001b[0mself\u001b[0m\u001b[1;33m.\u001b[0m\u001b[0mforward\u001b[0m\u001b[1;33m(\u001b[0m\u001b[1;33m*\u001b[0m\u001b[0minput\u001b[0m\u001b[1;33m,\u001b[0m \u001b[1;33m**\u001b[0m\u001b[0mkwargs\u001b[0m\u001b[1;33m)\u001b[0m\u001b[1;33m\u001b[0m\u001b[0m\n\u001b[0m\u001b[0;32m    728\u001b[0m         for hook in itertools.chain(\n\u001b[0;32m    729\u001b[0m                 \u001b[0m_global_forward_hooks\u001b[0m\u001b[1;33m.\u001b[0m\u001b[0mvalues\u001b[0m\u001b[1;33m(\u001b[0m\u001b[1;33m)\u001b[0m\u001b[1;33m,\u001b[0m\u001b[1;33m\u001b[0m\u001b[0m\n",
      "\u001b[1;32m<ipython-input-63-66dbafc856cb>\u001b[0m in \u001b[0;36mforward\u001b[1;34m(self, x)\u001b[0m\n\u001b[0;32m     31\u001b[0m \u001b[1;33m\u001b[0m\u001b[0m\n\u001b[0;32m     32\u001b[0m     \u001b[1;32mdef\u001b[0m \u001b[0mforward\u001b[0m\u001b[1;33m(\u001b[0m\u001b[0mself\u001b[0m\u001b[1;33m,\u001b[0m \u001b[0mx\u001b[0m\u001b[1;33m:\u001b[0m \u001b[0mtorch\u001b[0m\u001b[1;33m.\u001b[0m\u001b[0mTensor\u001b[0m\u001b[1;33m)\u001b[0m \u001b[1;33m->\u001b[0m \u001b[0mtorch\u001b[0m\u001b[1;33m.\u001b[0m\u001b[0mTensor\u001b[0m\u001b[1;33m:\u001b[0m\u001b[1;33m\u001b[0m\u001b[0m\n\u001b[1;32m---> 33\u001b[1;33m         \u001b[0moutput\u001b[0m \u001b[1;33m=\u001b[0m \u001b[0mself\u001b[0m\u001b[1;33m.\u001b[0m\u001b[0mconv_block\u001b[0m\u001b[1;33m(\u001b[0m\u001b[0mx\u001b[0m\u001b[1;33m)\u001b[0m\u001b[1;33m\u001b[0m\u001b[0m\n\u001b[0m\u001b[0;32m     34\u001b[0m \u001b[1;33m\u001b[0m\u001b[0m\n\u001b[0;32m     35\u001b[0m         \u001b[0moutput\u001b[0m \u001b[1;33m=\u001b[0m \u001b[0moutput\u001b[0m\u001b[1;33m.\u001b[0m\u001b[0msqueeze\u001b[0m\u001b[1;33m(\u001b[0m\u001b[1;33m)\u001b[0m\u001b[1;33m\u001b[0m\u001b[0m\n",
      "\u001b[1;32mc:\\users\\май\\appdata\\local\\programs\\python\\python36\\lib\\site-packages\\torch\\nn\\modules\\module.py\u001b[0m in \u001b[0;36m_call_impl\u001b[1;34m(self, *input, **kwargs)\u001b[0m\n\u001b[0;32m    725\u001b[0m             \u001b[0mresult\u001b[0m \u001b[1;33m=\u001b[0m \u001b[0mself\u001b[0m\u001b[1;33m.\u001b[0m\u001b[0m_slow_forward\u001b[0m\u001b[1;33m(\u001b[0m\u001b[1;33m*\u001b[0m\u001b[0minput\u001b[0m\u001b[1;33m,\u001b[0m \u001b[1;33m**\u001b[0m\u001b[0mkwargs\u001b[0m\u001b[1;33m)\u001b[0m\u001b[1;33m\u001b[0m\u001b[0m\n\u001b[0;32m    726\u001b[0m         \u001b[1;32melse\u001b[0m\u001b[1;33m:\u001b[0m\u001b[1;33m\u001b[0m\u001b[0m\n\u001b[1;32m--> 727\u001b[1;33m             \u001b[0mresult\u001b[0m \u001b[1;33m=\u001b[0m \u001b[0mself\u001b[0m\u001b[1;33m.\u001b[0m\u001b[0mforward\u001b[0m\u001b[1;33m(\u001b[0m\u001b[1;33m*\u001b[0m\u001b[0minput\u001b[0m\u001b[1;33m,\u001b[0m \u001b[1;33m**\u001b[0m\u001b[0mkwargs\u001b[0m\u001b[1;33m)\u001b[0m\u001b[1;33m\u001b[0m\u001b[0m\n\u001b[0m\u001b[0;32m    728\u001b[0m         for hook in itertools.chain(\n\u001b[0;32m    729\u001b[0m                 \u001b[0m_global_forward_hooks\u001b[0m\u001b[1;33m.\u001b[0m\u001b[0mvalues\u001b[0m\u001b[1;33m(\u001b[0m\u001b[1;33m)\u001b[0m\u001b[1;33m,\u001b[0m\u001b[1;33m\u001b[0m\u001b[0m\n",
      "\u001b[1;32mc:\\users\\май\\appdata\\local\\programs\\python\\python36\\lib\\site-packages\\torch\\nn\\modules\\container.py\u001b[0m in \u001b[0;36mforward\u001b[1;34m(self, input)\u001b[0m\n\u001b[0;32m    115\u001b[0m     \u001b[1;32mdef\u001b[0m \u001b[0mforward\u001b[0m\u001b[1;33m(\u001b[0m\u001b[0mself\u001b[0m\u001b[1;33m,\u001b[0m \u001b[0minput\u001b[0m\u001b[1;33m)\u001b[0m\u001b[1;33m:\u001b[0m\u001b[1;33m\u001b[0m\u001b[0m\n\u001b[0;32m    116\u001b[0m         \u001b[1;32mfor\u001b[0m \u001b[0mmodule\u001b[0m \u001b[1;32min\u001b[0m \u001b[0mself\u001b[0m\u001b[1;33m:\u001b[0m\u001b[1;33m\u001b[0m\u001b[0m\n\u001b[1;32m--> 117\u001b[1;33m             \u001b[0minput\u001b[0m \u001b[1;33m=\u001b[0m \u001b[0mmodule\u001b[0m\u001b[1;33m(\u001b[0m\u001b[0minput\u001b[0m\u001b[1;33m)\u001b[0m\u001b[1;33m\u001b[0m\u001b[0m\n\u001b[0m\u001b[0;32m    118\u001b[0m         \u001b[1;32mreturn\u001b[0m \u001b[0minput\u001b[0m\u001b[1;33m\u001b[0m\u001b[0m\n\u001b[0;32m    119\u001b[0m \u001b[1;33m\u001b[0m\u001b[0m\n",
      "\u001b[1;32mc:\\users\\май\\appdata\\local\\programs\\python\\python36\\lib\\site-packages\\torch\\nn\\modules\\module.py\u001b[0m in \u001b[0;36m_call_impl\u001b[1;34m(self, *input, **kwargs)\u001b[0m\n\u001b[0;32m    725\u001b[0m             \u001b[0mresult\u001b[0m \u001b[1;33m=\u001b[0m \u001b[0mself\u001b[0m\u001b[1;33m.\u001b[0m\u001b[0m_slow_forward\u001b[0m\u001b[1;33m(\u001b[0m\u001b[1;33m*\u001b[0m\u001b[0minput\u001b[0m\u001b[1;33m,\u001b[0m \u001b[1;33m**\u001b[0m\u001b[0mkwargs\u001b[0m\u001b[1;33m)\u001b[0m\u001b[1;33m\u001b[0m\u001b[0m\n\u001b[0;32m    726\u001b[0m         \u001b[1;32melse\u001b[0m\u001b[1;33m:\u001b[0m\u001b[1;33m\u001b[0m\u001b[0m\n\u001b[1;32m--> 727\u001b[1;33m             \u001b[0mresult\u001b[0m \u001b[1;33m=\u001b[0m \u001b[0mself\u001b[0m\u001b[1;33m.\u001b[0m\u001b[0mforward\u001b[0m\u001b[1;33m(\u001b[0m\u001b[1;33m*\u001b[0m\u001b[0minput\u001b[0m\u001b[1;33m,\u001b[0m \u001b[1;33m**\u001b[0m\u001b[0mkwargs\u001b[0m\u001b[1;33m)\u001b[0m\u001b[1;33m\u001b[0m\u001b[0m\n\u001b[0m\u001b[0;32m    728\u001b[0m         for hook in itertools.chain(\n\u001b[0;32m    729\u001b[0m                 \u001b[0m_global_forward_hooks\u001b[0m\u001b[1;33m.\u001b[0m\u001b[0mvalues\u001b[0m\u001b[1;33m(\u001b[0m\u001b[1;33m)\u001b[0m\u001b[1;33m,\u001b[0m\u001b[1;33m\u001b[0m\u001b[0m\n",
      "\u001b[1;32mc:\\users\\май\\appdata\\local\\programs\\python\\python36\\lib\\site-packages\\torch\\nn\\modules\\container.py\u001b[0m in \u001b[0;36mforward\u001b[1;34m(self, input)\u001b[0m\n\u001b[0;32m    115\u001b[0m     \u001b[1;32mdef\u001b[0m \u001b[0mforward\u001b[0m\u001b[1;33m(\u001b[0m\u001b[0mself\u001b[0m\u001b[1;33m,\u001b[0m \u001b[0minput\u001b[0m\u001b[1;33m)\u001b[0m\u001b[1;33m:\u001b[0m\u001b[1;33m\u001b[0m\u001b[0m\n\u001b[0;32m    116\u001b[0m         \u001b[1;32mfor\u001b[0m \u001b[0mmodule\u001b[0m \u001b[1;32min\u001b[0m \u001b[0mself\u001b[0m\u001b[1;33m:\u001b[0m\u001b[1;33m\u001b[0m\u001b[0m\n\u001b[1;32m--> 117\u001b[1;33m             \u001b[0minput\u001b[0m \u001b[1;33m=\u001b[0m \u001b[0mmodule\u001b[0m\u001b[1;33m(\u001b[0m\u001b[0minput\u001b[0m\u001b[1;33m)\u001b[0m\u001b[1;33m\u001b[0m\u001b[0m\n\u001b[0m\u001b[0;32m    118\u001b[0m         \u001b[1;32mreturn\u001b[0m \u001b[0minput\u001b[0m\u001b[1;33m\u001b[0m\u001b[0m\n\u001b[0;32m    119\u001b[0m \u001b[1;33m\u001b[0m\u001b[0m\n",
      "\u001b[1;32mc:\\users\\май\\appdata\\local\\programs\\python\\python36\\lib\\site-packages\\torch\\nn\\modules\\module.py\u001b[0m in \u001b[0;36m_call_impl\u001b[1;34m(self, *input, **kwargs)\u001b[0m\n\u001b[0;32m    725\u001b[0m             \u001b[0mresult\u001b[0m \u001b[1;33m=\u001b[0m \u001b[0mself\u001b[0m\u001b[1;33m.\u001b[0m\u001b[0m_slow_forward\u001b[0m\u001b[1;33m(\u001b[0m\u001b[1;33m*\u001b[0m\u001b[0minput\u001b[0m\u001b[1;33m,\u001b[0m \u001b[1;33m**\u001b[0m\u001b[0mkwargs\u001b[0m\u001b[1;33m)\u001b[0m\u001b[1;33m\u001b[0m\u001b[0m\n\u001b[0;32m    726\u001b[0m         \u001b[1;32melse\u001b[0m\u001b[1;33m:\u001b[0m\u001b[1;33m\u001b[0m\u001b[0m\n\u001b[1;32m--> 727\u001b[1;33m             \u001b[0mresult\u001b[0m \u001b[1;33m=\u001b[0m \u001b[0mself\u001b[0m\u001b[1;33m.\u001b[0m\u001b[0mforward\u001b[0m\u001b[1;33m(\u001b[0m\u001b[1;33m*\u001b[0m\u001b[0minput\u001b[0m\u001b[1;33m,\u001b[0m \u001b[1;33m**\u001b[0m\u001b[0mkwargs\u001b[0m\u001b[1;33m)\u001b[0m\u001b[1;33m\u001b[0m\u001b[0m\n\u001b[0m\u001b[0;32m    728\u001b[0m         for hook in itertools.chain(\n\u001b[0;32m    729\u001b[0m                 \u001b[0m_global_forward_hooks\u001b[0m\u001b[1;33m.\u001b[0m\u001b[0mvalues\u001b[0m\u001b[1;33m(\u001b[0m\u001b[1;33m)\u001b[0m\u001b[1;33m,\u001b[0m\u001b[1;33m\u001b[0m\u001b[0m\n",
      "\u001b[1;32mc:\\users\\май\\appdata\\local\\programs\\python\\python36\\lib\\site-packages\\torch\\nn\\modules\\conv.py\u001b[0m in \u001b[0;36mforward\u001b[1;34m(self, input)\u001b[0m\n\u001b[0;32m    421\u001b[0m \u001b[1;33m\u001b[0m\u001b[0m\n\u001b[0;32m    422\u001b[0m     \u001b[1;32mdef\u001b[0m \u001b[0mforward\u001b[0m\u001b[1;33m(\u001b[0m\u001b[0mself\u001b[0m\u001b[1;33m,\u001b[0m \u001b[0minput\u001b[0m\u001b[1;33m:\u001b[0m \u001b[0mTensor\u001b[0m\u001b[1;33m)\u001b[0m \u001b[1;33m->\u001b[0m \u001b[0mTensor\u001b[0m\u001b[1;33m:\u001b[0m\u001b[1;33m\u001b[0m\u001b[0m\n\u001b[1;32m--> 423\u001b[1;33m         \u001b[1;32mreturn\u001b[0m \u001b[0mself\u001b[0m\u001b[1;33m.\u001b[0m\u001b[0m_conv_forward\u001b[0m\u001b[1;33m(\u001b[0m\u001b[0minput\u001b[0m\u001b[1;33m,\u001b[0m \u001b[0mself\u001b[0m\u001b[1;33m.\u001b[0m\u001b[0mweight\u001b[0m\u001b[1;33m)\u001b[0m\u001b[1;33m\u001b[0m\u001b[0m\n\u001b[0m\u001b[0;32m    424\u001b[0m \u001b[1;33m\u001b[0m\u001b[0m\n\u001b[0;32m    425\u001b[0m \u001b[1;32mclass\u001b[0m \u001b[0mConv3d\u001b[0m\u001b[1;33m(\u001b[0m\u001b[0m_ConvNd\u001b[0m\u001b[1;33m)\u001b[0m\u001b[1;33m:\u001b[0m\u001b[1;33m\u001b[0m\u001b[0m\n",
      "\u001b[1;32mc:\\users\\май\\appdata\\local\\programs\\python\\python36\\lib\\site-packages\\torch\\nn\\modules\\conv.py\u001b[0m in \u001b[0;36m_conv_forward\u001b[1;34m(self, input, weight)\u001b[0m\n\u001b[0;32m    418\u001b[0m                             _pair(0), self.dilation, self.groups)\n\u001b[0;32m    419\u001b[0m         return F.conv2d(input, weight, self.bias, self.stride,\n\u001b[1;32m--> 420\u001b[1;33m                         self.padding, self.dilation, self.groups)\n\u001b[0m\u001b[0;32m    421\u001b[0m \u001b[1;33m\u001b[0m\u001b[0m\n\u001b[0;32m    422\u001b[0m     \u001b[1;32mdef\u001b[0m \u001b[0mforward\u001b[0m\u001b[1;33m(\u001b[0m\u001b[0mself\u001b[0m\u001b[1;33m,\u001b[0m \u001b[0minput\u001b[0m\u001b[1;33m:\u001b[0m \u001b[0mTensor\u001b[0m\u001b[1;33m)\u001b[0m \u001b[1;33m->\u001b[0m \u001b[0mTensor\u001b[0m\u001b[1;33m:\u001b[0m\u001b[1;33m\u001b[0m\u001b[0m\n",
      "\u001b[1;31mKeyboardInterrupt\u001b[0m: "
     ]
    }
   ],
   "source": [
    "for epoch in range(10):\n",
    "    print('\\n\\nEpoch', epoch)\n",
    "\n",
    "    print('train')\n",
    "    \n",
    "    train_loss_history = []\n",
    "    train_accuracy_history = []\n",
    "\n",
    "    test_accuracy_history = []\n",
    "    test_loss_history = []\n",
    "    \n",
    "    for i, (anchor, positive, negative) in (enumerate(train_dl)):\n",
    "        optimizer.zero_grad()\n",
    "        \n",
    "        pred = model.forward(anchor, positive, negative)\n",
    "        pred_anchor, pred_positive, pred_negative = pred\n",
    "        loss = criterion(pred_anchor, pred_positive, pred_negative)\n",
    "\n",
    "        loss.backward() #count gradients\n",
    "        optimizer.step() #update weights\n",
    "        scheduler.step(loss)\n",
    "\n",
    "        cur_accuracy = accuracy(pred_anchor, pred_positive, pred_negative)\n",
    "        print(f'  [{i}/{len(train_dl)}] acc {cur_accuracy} loss {loss}')\n",
    "        \n",
    "        train_accuracy_history.append(cur_accuracy)\n",
    "        train_loss_history.append(loss)\n",
    "        wandb.log({\"train/accuracy\": cur_accuracy, \"train/loss\": loss})\n",
    "\n",
    "    print('train accuracy: ', mean(train_accuracy_history))\n",
    "    print('train loss: ', sum(train_loss_history)/len(train_loss_history))\n",
    "\n",
    "\n",
    "    print('test')\n",
    "    with torch.no_grad():\n",
    "        for i, (anchor, positive, negative) in enumerate(test_dl):\n",
    "            pred = model.forward(anchor, positive, negative)\n",
    "            pred_anchor, pred_positive, pred_negative = pred\n",
    "            loss = criterion(pred_anchor, pred_positive, pred_negative)\n",
    "            cur_accuracy = accuracy(pred_anchor, pred_positive, pred_negative)\n",
    "            test_accuracy_history.append(cur_accuracy)\n",
    "            wandb.log({\"test/accuracy\":cur_accuracy})\n",
    "            wandb.log({\"test/loss\": loss})\n",
    "            print(f'  [{i}/{len(train_dl)}] acc {cur_accuracy} loss {loss}')\n",
    "            \n",
    "    print('test accuracy: ', mean(test_accuracy_history))\n"
   ]
  },
  {
   "cell_type": "code",
   "execution_count": null,
   "metadata": {},
   "outputs": [],
   "source": []
  }
 ],
 "metadata": {
  "colab": {
   "collapsed_sections": [],
   "name": "snn_train_colab.ipynb",
   "provenance": []
  },
  "kernelspec": {
   "display_name": "Python 3",
   "language": "python",
   "name": "python3"
  },
  "language_info": {
   "codemirror_mode": {
    "name": "ipython",
    "version": 3
   },
   "file_extension": ".py",
   "mimetype": "text/x-python",
   "name": "python",
   "nbconvert_exporter": "python",
   "pygments_lexer": "ipython3",
   "version": "3.6.2"
  }
 },
 "nbformat": 4,
 "nbformat_minor": 4
}
