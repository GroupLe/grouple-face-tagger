{
 "cells": [
  {
   "cell_type": "code",
   "execution_count": 1,
   "metadata": {},
   "outputs": [],
   "source": [
    "from statistics import mean, stdev\n",
    "from transformers import BertTokenizer\n",
    "from tqdm.notebook import tqdm\n",
    "from tensorboardX import SummaryWriter\n",
    "import matplotlib.pyplot as plt\n",
    "# from datasets.reader import read_conll\n",
    "from datasets.conll import ConllBertDataset"
   ]
  },
  {
   "cell_type": "markdown",
   "metadata": {},
   "source": [
    "# Load data"
   ]
  },
  {
   "cell_type": "code",
   "execution_count": 2,
   "metadata": {},
   "outputs": [],
   "source": [
    "manga_path = '../../data/NER/processed/comments/augmented_10/'"
   ]
  },
  {
   "cell_type": "code",
   "execution_count": 3,
   "metadata": {},
   "outputs": [
    {
     "data": {
      "application/vnd.jupyter.widget-view+json": {
       "model_id": "8d3487584c544e03963f8832ab69710a",
       "version_major": 2,
       "version_minor": 0
      },
      "text/plain": [
       "  0%|          | 0/2014 [00:00<?, ?it/s]"
      ]
     },
     "metadata": {},
     "output_type": "display_data"
    },
    {
     "data": {
      "application/vnd.jupyter.widget-view+json": {
       "model_id": "5667b6a598e74329984bee2ba94d0270",
       "version_major": 2,
       "version_minor": 0
      },
      "text/plain": [
       "  0%|          | 0/503 [00:00<?, ?it/s]"
      ]
     },
     "metadata": {},
     "output_type": "display_data"
    }
   ],
   "source": [
    "tokenizer = BertTokenizer.from_pretrained('DeepPavlov/rubert-base-cased-conversational')\n",
    "train_ds = ConllBertDataset.from_file(manga_path + 'train.txt', tokenizer)\n",
    "test_ds = ConllBertDataset.from_file(manga_path + 'test.txt', tokenizer)"
   ]
  },
  {
   "cell_type": "code",
   "execution_count": 4,
   "metadata": {},
   "outputs": [
    {
     "data": {
      "text/plain": [
       "([[101, 2063, 801, 28293, 845, 1702, 10029, 292, 292, 102]],\n",
       " [['O', 'O', 'O', 'PER', 'PER', 'PER', 'O', 'O', 'O', 'O']])"
      ]
     },
     "execution_count": 4,
     "metadata": {},
     "output_type": "execute_result"
    }
   ],
   "source": [
    "train_ds[-1:]"
   ]
  },
  {
   "cell_type": "code",
   "execution_count": 5,
   "metadata": {},
   "outputs": [
    {
     "data": {
      "text/plain": [
       "tuple"
      ]
     },
     "execution_count": 5,
     "metadata": {},
     "output_type": "execute_result"
    }
   ],
   "source": [
    "type(train_ds[0])"
   ]
  },
  {
   "cell_type": "markdown",
   "metadata": {},
   "source": [
    "# Create model"
   ]
  },
  {
   "cell_type": "code",
   "execution_count": 7,
   "metadata": {},
   "outputs": [],
   "source": [
    "import torch\n",
    "import torch.nn as nn\n",
    "\n",
    "from models import BertLstm\n",
    "from sklearn.metrics import roc_auc_score"
   ]
  },
  {
   "cell_type": "code",
   "execution_count": 8,
   "metadata": {},
   "outputs": [
    {
     "data": {
      "text/plain": [
       "models.naive.BertLstm"
      ]
     },
     "execution_count": 8,
     "metadata": {},
     "output_type": "execute_result"
    }
   ],
   "source": [
    "BertLstm"
   ]
  },
  {
   "cell_type": "code",
   "execution_count": 9,
   "metadata": {},
   "outputs": [],
   "source": [
    "acc = lambda preds, labels: ((preds.argmax(dim=1) == labels).sum() / labels.size(0)).item()\n",
    "sigmoid = nn.Sigmoid()\n",
    "\n",
    "def auc(preds, labels):\n",
    "    assert all(map(lambda preds: preds.size(1) == 2, preds))\n",
    "    to_probs = lambda preds: sigmoid(preds)[:, 0].cpu().detach().numpy()\n",
    "    to_labels = lambda labels: (1 - labels).cpu().detach().numpy()\n",
    "    \n",
    "    preds = list(map(to_probs, preds))\n",
    "    labels = list(map(to_labels, labels))\n",
    "    \n",
    "    preds = [item for subl in preds for item in subl]\n",
    "    labels = [item for subl in labels for item in subl]\n",
    "    \n",
    "    auc = roc_auc_score(labels, preds)\n",
    "    return auc"
   ]
  },
  {
   "cell_type": "code",
   "execution_count": 70,
   "metadata": {},
   "outputs": [],
   "source": [
    "import numpy as np\n",
    "import sklearn\n",
    "from sklearn.metrics import precision_recall_curve\n",
    "T=0.5\n",
    "def f_score(preds, labels):\n",
    "    preds2 = []\n",
    "    assert all(map(lambda preds: preds.size(1) == 2, preds))\n",
    "    to_probs = lambda preds: sigmoid(preds)[:, 0].cpu().detach().numpy()\n",
    "    to_labels = lambda labels: (1 - labels).cpu().detach().numpy()\n",
    "    \n",
    "    preds = list(map(to_probs, preds))\n",
    "    labels = list(map(to_labels, labels))\n",
    "    \n",
    "    preds = [item for subl in preds for item in subl]\n",
    "    labels = [item for subl in labels for item in subl]\n",
    "    precision, recall, thresholds = precision_recall_curve(labels, preds)\n",
    "    fscore = (2 * precision * recall) / (precision + recall)\n",
    "    ix = np.argmax(fscore)\n",
    "    print(thresholds[ix])\n",
    "    return fscore[ix]"
   ]
  },
  {
   "cell_type": "markdown",
   "metadata": {},
   "source": [
    "# Train"
   ]
  },
  {
   "cell_type": "code",
   "execution_count": 11,
   "metadata": {},
   "outputs": [
    {
     "name": "stderr",
     "output_type": "stream",
     "text": [
      "c:\\users\\май\\appdata\\local\\programs\\python\\python36\\lib\\site-packages\\torch\\cuda\\__init__.py:52: UserWarning: CUDA initialization: Found no NVIDIA driver on your system. Please check that you have an NVIDIA GPU and installed a driver from http://www.nvidia.com/Download/index.aspx (Triggered internally at  ..\\c10\\cuda\\CUDAFunctions.cpp:100.)\n",
      "  return torch._C._cuda_getDeviceCount() > 0\n"
     ]
    }
   ],
   "source": [
    "device = torch.device('cuda:0' if torch.cuda.is_available() else 'cpu')\n",
    "labels_n = max(train_ds.labels_n, test_ds.labels_n)\n",
    "\n",
    "simple_model = BertLstm(labels_n).to(device)\n",
    "opt = torch.optim.Adam(simple_model.parameters(), lr=0.001)\n",
    "criterion = nn.CrossEntropyLoss()\n",
    "\n",
    "writer = SummaryWriter()#'runs/16_epoches_30_augs_uncased')"
   ]
  },
  {
   "cell_type": "code",
   "execution_count": 72,
   "metadata": {
    "jupyter": {
     "outputs_hidden": true
    },
    "scrolled": true
   },
   "outputs": [
    {
     "name": "stdout",
     "output_type": "stream",
     "text": [
      "Epoch 1\n"
     ]
    },
    {
     "data": {
      "application/vnd.jupyter.widget-view+json": {
       "model_id": "047fa1760cc24abd8268bfbe8cd7cbd5",
       "version_major": 2,
       "version_minor": 0
      },
      "text/plain": [
       "  0%|          | 0/2013 [00:00<?, ?it/s]"
      ]
     },
     "metadata": {},
     "output_type": "display_data"
    },
    {
     "name": "stdout",
     "output_type": "stream",
     "text": [
      "0.5798725\n",
      "0.8515026517383618\n"
     ]
    },
    {
     "data": {
      "application/vnd.jupyter.widget-view+json": {
       "model_id": "d1bdad22d36d4bc2a7fd3d96cfec5639",
       "version_major": 2,
       "version_minor": 0
      },
      "text/plain": [
       "  0%|          | 0/502 [00:00<?, ?it/s]"
      ]
     },
     "metadata": {},
     "output_type": "display_data"
    },
    {
     "name": "stdout",
     "output_type": "stream",
     "text": [
      "0.5720629\n",
      "0.8476070528967256\n",
      "Epoch 2\n"
     ]
    },
    {
     "data": {
      "application/vnd.jupyter.widget-view+json": {
       "model_id": "33495927a63a40dc82e059c6e48f3232",
       "version_major": 2,
       "version_minor": 0
      },
      "text/plain": [
       "  0%|          | 0/2013 [00:00<?, ?it/s]"
      ]
     },
     "metadata": {},
     "output_type": "display_data"
    },
    {
     "name": "stdout",
     "output_type": "stream",
     "text": [
      "0.5030781\n",
      "0.8795059600746804\n"
     ]
    },
    {
     "data": {
      "application/vnd.jupyter.widget-view+json": {
       "model_id": "6f4dc6f7c7b543e9a04bb4883c49e31f",
       "version_major": 2,
       "version_minor": 0
      },
      "text/plain": [
       "  0%|          | 0/502 [00:00<?, ?it/s]"
      ]
     },
     "metadata": {},
     "output_type": "display_data"
    },
    {
     "name": "stdout",
     "output_type": "stream",
     "text": [
      "0.8053785\n",
      "0.8819571865443425\n",
      "Epoch 3\n"
     ]
    },
    {
     "data": {
      "application/vnd.jupyter.widget-view+json": {
       "model_id": "22ca2645dba344ab8cc7479906337078",
       "version_major": 2,
       "version_minor": 0
      },
      "text/plain": [
       "  0%|          | 0/2013 [00:00<?, ?it/s]"
      ]
     },
     "metadata": {},
     "output_type": "display_data"
    },
    {
     "name": "stdout",
     "output_type": "stream",
     "text": [
      "0.5569232\n",
      "0.8709770948100899\n"
     ]
    },
    {
     "data": {
      "application/vnd.jupyter.widget-view+json": {
       "model_id": "2886bd2540c44c599e1bc864d5199a96",
       "version_major": 2,
       "version_minor": 0
      },
      "text/plain": [
       "  0%|          | 0/502 [00:00<?, ?it/s]"
      ]
     },
     "metadata": {},
     "output_type": "display_data"
    },
    {
     "name": "stdout",
     "output_type": "stream",
     "text": [
      "0.62582636\n",
      "0.862476664592408\n",
      "Epoch 4\n"
     ]
    },
    {
     "data": {
      "application/vnd.jupyter.widget-view+json": {
       "model_id": "d34392cd433d4bcaab29a752a8feabd3",
       "version_major": 2,
       "version_minor": 0
      },
      "text/plain": [
       "  0%|          | 0/2013 [00:00<?, ?it/s]"
      ]
     },
     "metadata": {},
     "output_type": "display_data"
    },
    {
     "name": "stdout",
     "output_type": "stream",
     "text": [
      "0.562747\n",
      "0.8584836486288313\n"
     ]
    },
    {
     "data": {
      "application/vnd.jupyter.widget-view+json": {
       "model_id": "bcb6a3aa34854d63a05d3d0fc898cc8a",
       "version_major": 2,
       "version_minor": 0
      },
      "text/plain": [
       "  0%|          | 0/502 [00:00<?, ?it/s]"
      ]
     },
     "metadata": {},
     "output_type": "display_data"
    },
    {
     "name": "stdout",
     "output_type": "stream",
     "text": [
      "0.6049042\n",
      "0.8737745098039216\n",
      "Epoch 5\n"
     ]
    },
    {
     "data": {
      "application/vnd.jupyter.widget-view+json": {
       "model_id": "d0fbcd8e1bfd4c7d84377cd93f0edc01",
       "version_major": 2,
       "version_minor": 0
      },
      "text/plain": [
       "  0%|          | 0/2013 [00:00<?, ?it/s]"
      ]
     },
     "metadata": {},
     "output_type": "display_data"
    },
    {
     "name": "stdout",
     "output_type": "stream",
     "text": [
      "0.6234066\n",
      "0.8675785797438882\n"
     ]
    },
    {
     "data": {
      "application/vnd.jupyter.widget-view+json": {
       "model_id": "d03cf1d0349d42c6ba0c9228f03f442d",
       "version_major": 2,
       "version_minor": 0
      },
      "text/plain": [
       "  0%|          | 0/502 [00:00<?, ?it/s]"
      ]
     },
     "metadata": {},
     "output_type": "display_data"
    },
    {
     "name": "stdout",
     "output_type": "stream",
     "text": [
      "0.53196836\n",
      "0.8391608391608391\n",
      "Epoch 6\n"
     ]
    },
    {
     "data": {
      "application/vnd.jupyter.widget-view+json": {
       "model_id": "30545dc243544e2e9d803108549792c3",
       "version_major": 2,
       "version_minor": 0
      },
      "text/plain": [
       "  0%|          | 0/2013 [00:00<?, ?it/s]"
      ]
     },
     "metadata": {},
     "output_type": "display_data"
    },
    {
     "name": "stdout",
     "output_type": "stream",
     "text": [
      "0.5467241\n",
      "0.8643523920653441\n"
     ]
    },
    {
     "data": {
      "application/vnd.jupyter.widget-view+json": {
       "model_id": "b397bc891f654599b3f44474181729b9",
       "version_major": 2,
       "version_minor": 0
      },
      "text/plain": [
       "  0%|          | 0/502 [00:00<?, ?it/s]"
      ]
     },
     "metadata": {},
     "output_type": "display_data"
    },
    {
     "name": "stdout",
     "output_type": "stream",
     "text": [
      "0.55217355\n",
      "0.8674101610904584\n",
      "Epoch 7\n"
     ]
    },
    {
     "data": {
      "application/vnd.jupyter.widget-view+json": {
       "model_id": "a66d79d14e644de38988542502aaebf0",
       "version_major": 2,
       "version_minor": 0
      },
      "text/plain": [
       "  0%|          | 0/2013 [00:00<?, ?it/s]"
      ]
     },
     "metadata": {},
     "output_type": "display_data"
    },
    {
     "name": "stdout",
     "output_type": "stream",
     "text": [
      "0.52305293\n",
      "0.8689334495786107\n"
     ]
    },
    {
     "data": {
      "application/vnd.jupyter.widget-view+json": {
       "model_id": "a665282dae3444b3824c87561e6e862b",
       "version_major": 2,
       "version_minor": 0
      },
      "text/plain": [
       "  0%|          | 0/502 [00:00<?, ?it/s]"
      ]
     },
     "metadata": {},
     "output_type": "display_data"
    },
    {
     "name": "stdout",
     "output_type": "stream",
     "text": [
      "0.8854728\n",
      "0.8642590286425903\n",
      "Epoch 8\n"
     ]
    },
    {
     "data": {
      "application/vnd.jupyter.widget-view+json": {
       "model_id": "91caa3c8aca0469c9ba259262440fcca",
       "version_major": 2,
       "version_minor": 0
      },
      "text/plain": [
       "  0%|          | 0/2013 [00:00<?, ?it/s]"
      ]
     },
     "metadata": {},
     "output_type": "display_data"
    },
    {
     "name": "stdout",
     "output_type": "stream",
     "text": [
      "0.5323221\n",
      "0.8758849877185378\n"
     ]
    },
    {
     "data": {
      "application/vnd.jupyter.widget-view+json": {
       "model_id": "da08590e109b4d3fa5255e97c7b68e07",
       "version_major": 2,
       "version_minor": 0
      },
      "text/plain": [
       "  0%|          | 0/502 [00:00<?, ?it/s]"
      ]
     },
     "metadata": {},
     "output_type": "display_data"
    },
    {
     "name": "stdout",
     "output_type": "stream",
     "text": [
      "0.6398675\n",
      "0.8865853658536587\n",
      "Epoch 9\n"
     ]
    },
    {
     "data": {
      "application/vnd.jupyter.widget-view+json": {
       "model_id": "3b84e908927f4ce38d23072a6c3283b4",
       "version_major": 2,
       "version_minor": 0
      },
      "text/plain": [
       "  0%|          | 0/2013 [00:00<?, ?it/s]"
      ]
     },
     "metadata": {},
     "output_type": "display_data"
    },
    {
     "name": "stdout",
     "output_type": "stream",
     "text": [
      "0.62996143\n",
      "0.8772031204854087\n"
     ]
    },
    {
     "data": {
      "application/vnd.jupyter.widget-view+json": {
       "model_id": "9ed03dca46e844beb076c88dced95e91",
       "version_major": 2,
       "version_minor": 0
      },
      "text/plain": [
       "  0%|          | 0/502 [00:00<?, ?it/s]"
      ]
     },
     "metadata": {},
     "output_type": "display_data"
    },
    {
     "name": "stdout",
     "output_type": "stream",
     "text": [
      "0.63887805\n",
      "0.8679479231246124\n",
      "Epoch 10\n"
     ]
    },
    {
     "data": {
      "application/vnd.jupyter.widget-view+json": {
       "model_id": "2f22e2a3c7ee48a1a02a8a2cd3baeae9",
       "version_major": 2,
       "version_minor": 0
      },
      "text/plain": [
       "  0%|          | 0/2013 [00:00<?, ?it/s]"
      ]
     },
     "metadata": {},
     "output_type": "display_data"
    },
    {
     "name": "stdout",
     "output_type": "stream",
     "text": [
      "0.5154614\n",
      "0.8799538838449344\n"
     ]
    },
    {
     "data": {
      "application/vnd.jupyter.widget-view+json": {
       "model_id": "4c17d96e89484511aacdabd2a0570d84",
       "version_major": 2,
       "version_minor": 0
      },
      "text/plain": [
       "  0%|          | 0/502 [00:00<?, ?it/s]"
      ]
     },
     "metadata": {},
     "output_type": "display_data"
    },
    {
     "name": "stdout",
     "output_type": "stream",
     "text": [
      "0.89143866\n",
      "0.8740740740740741\n"
     ]
    }
   ],
   "source": [
    "loss_interval = 50\n",
    "\n",
    "for e in range(10):\n",
    "    print('Epoch', e+1) \n",
    "    losses = []\n",
    "    probs_epoch = []\n",
    "    labels_epoch = []\n",
    "    opt.zero_grad()\n",
    "    for i in tqdm(range(1, len(train_ds))):\n",
    "        if i % loss_interval == 0:\n",
    "            opt.step()\n",
    "            opt.zero_grad()\n",
    "        words, labels = train_ds[i]\n",
    "        words = torch.LongTensor(words).unsqueeze(0).to(device)\n",
    "        labels = torch.LongTensor(list(map(lambda label: train_ds.ne2ix[label], labels))).to(device)\n",
    "\n",
    "        preds = simple_model(words)\n",
    "        loss = criterion(preds, labels)\n",
    "        loss.backward()\n",
    "        step = e*len(train_ds)+i\n",
    "        writer.add_scalar('Loss/Train', loss.item(), step)\n",
    "        writer.add_scalar('Accuracy/Train', acc(preds, labels), step)\n",
    "        probs_epoch.append(preds)\n",
    "        labels_epoch.append(labels)\n",
    "    print(f_score(probs_epoch, labels_epoch))\n",
    "    writer.add_scalar('AUC_epoch/Train', auc(probs_epoch, labels_epoch), e) \n",
    "            \n",
    "    losses = []\n",
    "    probs_epoch = []\n",
    "    labels_epoch = []\n",
    "    with torch.no_grad():\n",
    "        for i in tqdm(range(1, len(test_ds))):\n",
    "            words, labels = train_ds[i]\n",
    "            words = torch.LongTensor(words).unsqueeze(0).to(device)\n",
    "            labels = torch.LongTensor(list(map(lambda label: test_ds.ne2ix[label], labels))).to(device)\n",
    "            preds = simple_model(words)\n",
    "            loss = criterion(preds, labels)\n",
    "            step = e*len(test_ds)+i\n",
    "            writer.add_ueuscalar('Loss/Test', loss.item(), step)\n",
    "            writer.add_scalar('Accuracy/Test', acc(preds, labels), step)\n",
    "            probs_epoch.append(preds)\n",
    "            labels_epoch.append(labels)\n",
    "    print(f_score(probs_epoch, labels_epoch))\n",
    "    writer.add_scalar('AUC_epoch/Test', auc(probs_epoch, labels_epoch), e) \n",
    "    "
   ]
  },
  {
   "cell_type": "code",
   "execution_count": 64,
   "metadata": {},
   "outputs": [],
   "source": [
    "simple_model.save('./weights/model.pt')"
   ]
  },
  {
   "cell_type": "code",
   "execution_count": null,
   "metadata": {},
   "outputs": [],
   "source": []
  }
 ],
 "metadata": {
  "kernelspec": {
   "display_name": "Python 3",
   "language": "python",
   "name": "python3"
  },
  "language_info": {
   "codemirror_mode": {
    "name": "ipython",
    "version": 3
   },
   "file_extension": ".py",
   "mimetype": "text/x-python",
   "name": "python",
   "nbconvert_exporter": "python",
   "pygments_lexer": "ipython3",
   "version": "3.6.2"
  }
 },
 "nbformat": 4,
 "nbformat_minor": 4
}
