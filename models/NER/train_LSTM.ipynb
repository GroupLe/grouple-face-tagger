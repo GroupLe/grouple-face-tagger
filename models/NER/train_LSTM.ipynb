{
 "cells": [
  {
   "cell_type": "code",
   "execution_count": 1,
   "id": "illegal-stationery",
   "metadata": {},
   "outputs": [],
   "source": [
    "import pandas as pd\n",
    "from pathlib import Path\n",
    "import regex as re\n",
    "import torch\n",
    "import torch.nn as nn\n",
    "import torch.nn.functional as F\n",
    "import numpy as np\n",
    "from models.lstm.functions import encode, f_score"
   ]
  },
  {
   "cell_type": "markdown",
   "id": "hazardous-conflict",
   "metadata": {},
   "source": [
    "# The end of preprocessing"
   ]
  },
  {
   "cell_type": "code",
   "execution_count": 2,
   "id": "german-couple",
   "metadata": {},
   "outputs": [],
   "source": [
    "data_root = Path('../../data/NER/processed/')"
   ]
  },
  {
   "cell_type": "code",
   "execution_count": 3,
   "id": "organized-borough",
   "metadata": {},
   "outputs": [],
   "source": [
    "data = pd.read_csv(data_root / 'tokens_labels_lstm.csv', sep = ';')"
   ]
  },
  {
   "cell_type": "code",
   "execution_count": 4,
   "id": "ideal-chicago",
   "metadata": {},
   "outputs": [
    {
     "data": {
      "text/html": [
       "<div>\n",
       "<style scoped>\n",
       "    .dataframe tbody tr th:only-of-type {\n",
       "        vertical-align: middle;\n",
       "    }\n",
       "\n",
       "    .dataframe tbody tr th {\n",
       "        vertical-align: top;\n",
       "    }\n",
       "\n",
       "    .dataframe thead th {\n",
       "        text-align: right;\n",
       "    }\n",
       "</style>\n",
       "<table border=\"1\" class=\"dataframe\">\n",
       "  <thead>\n",
       "    <tr style=\"text-align: right;\">\n",
       "      <th></th>\n",
       "      <th>token</th>\n",
       "      <th>label</th>\n",
       "    </tr>\n",
       "  </thead>\n",
       "  <tbody>\n",
       "    <tr>\n",
       "      <th>0</th>\n",
       "      <td>заметной</td>\n",
       "      <td>0</td>\n",
       "    </tr>\n",
       "    <tr>\n",
       "      <th>1</th>\n",
       "      <td>добивался</td>\n",
       "      <td>0</td>\n",
       "    </tr>\n",
       "    <tr>\n",
       "      <th>2</th>\n",
       "      <td>регистраторши</td>\n",
       "      <td>0</td>\n",
       "    </tr>\n",
       "    <tr>\n",
       "      <th>3</th>\n",
       "      <td>подгоревшего</td>\n",
       "      <td>0</td>\n",
       "    </tr>\n",
       "    <tr>\n",
       "      <th>4</th>\n",
       "      <td>ленбах</td>\n",
       "      <td>1</td>\n",
       "    </tr>\n",
       "  </tbody>\n",
       "</table>\n",
       "</div>"
      ],
      "text/plain": [
       "           token  label\n",
       "0       заметной      0\n",
       "1      добивался      0\n",
       "2  регистраторши      0\n",
       "3   подгоревшего      0\n",
       "4         ленбах      1"
      ]
     },
     "execution_count": 4,
     "metadata": {},
     "output_type": "execute_result"
    }
   ],
   "source": [
    "data.head()"
   ]
  },
  {
   "cell_type": "markdown",
   "id": "automotive-muscle",
   "metadata": {},
   "source": [
    "# Training"
   ]
  },
  {
   "cell_type": "code",
   "execution_count": 5,
   "id": "confused-unemployment",
   "metadata": {},
   "outputs": [],
   "source": [
    "X = list(data['token'])\n",
    "y = list(data['label'])\n",
    "from sklearn.model_selection import train_test_split\n",
    "X_train, X_test, y_train, y_test = train_test_split(X, y, test_size=0.2)"
   ]
  },
  {
   "cell_type": "code",
   "execution_count": 6,
   "id": "placed-architect",
   "metadata": {},
   "outputs": [],
   "source": [
    "from torch.utils.data import DataLoader\n",
    "from models.lstm.token_dataset import TokensDataset"
   ]
  },
  {
   "cell_type": "code",
   "execution_count": 7,
   "id": "blind-sugar",
   "metadata": {},
   "outputs": [],
   "source": [
    "train_ds = TokensDataset(X_train, y_train)\n",
    "test_ds = TokensDataset(X_test, y_test)"
   ]
  },
  {
   "cell_type": "code",
   "execution_count": 8,
   "id": "choice-concert",
   "metadata": {},
   "outputs": [],
   "source": [
    "batch_size = 1000\n",
    "vocab_size = 33\n",
    "max_len = len(max(data['token'], key=lambda i: len(i)))\n",
    "train_dl = DataLoader(train_ds, batch_size=batch_size, shuffle=True, collate_fn = TokensDataset.collate_fn)\n",
    "test_dl = DataLoader(test_ds, batch_size=batch_size, shuffle=True, collate_fn = TokensDataset.collate_fn)\n",
    "emb_dim = 16"
   ]
  },
  {
   "cell_type": "code",
   "execution_count": 9,
   "id": "greater-increase",
   "metadata": {},
   "outputs": [],
   "source": [
    "from tensorboardX import SummaryWriter\n",
    "writer = SummaryWriter()"
   ]
  },
  {
   "cell_type": "code",
   "execution_count": 10,
   "id": "collaborative-switzerland",
   "metadata": {},
   "outputs": [
    {
     "name": "stderr",
     "output_type": "stream",
     "text": [
      "wandb: Currently logged in as: metpinc (use `wandb login --relogin` to force relogin)\n"
     ]
    },
    {
     "data": {
      "text/plain": [
       "True"
      ]
     },
     "execution_count": 10,
     "metadata": {},
     "output_type": "execute_result"
    }
   ],
   "source": [
    "import wandb\n",
    "wandb.login()"
   ]
  },
  {
   "cell_type": "code",
   "execution_count": 11,
   "id": "alive-second",
   "metadata": {},
   "outputs": [
    {
     "name": "stderr",
     "output_type": "stream",
     "text": [
      "wandb: wandb version 0.12.0 is available!  To upgrade, please run:\n",
      "wandb:  $ pip install wandb --upgrade\n"
     ]
    },
    {
     "data": {
      "text/html": [
       "\n",
       "                Tracking run with wandb version 0.11.0<br/>\n",
       "                Syncing run <strong style=\"color:#cdcd00\">pleasant-cherry-7</strong> to <a href=\"https://wandb.ai\" target=\"_blank\">Weights & Biases</a> <a href=\"https://docs.wandb.com/integrations/jupyter.html\" target=\"_blank\">(Documentation)</a>.<br/>\n",
       "                Project page: <a href=\"https://wandb.ai/metpinc/ner_network\" target=\"_blank\">https://wandb.ai/metpinc/ner_network</a><br/>\n",
       "                Run page: <a href=\"https://wandb.ai/metpinc/ner_network/runs/hu6zaois\" target=\"_blank\">https://wandb.ai/metpinc/ner_network/runs/hu6zaois</a><br/>\n",
       "                Run data is saved locally in <code>C:\\may\\ML\\GroupLe\\grouple\\models\\NER\\wandb\\run-20210816_175149-hu6zaois</code><br/><br/>\n",
       "            "
      ],
      "text/plain": [
       "<IPython.core.display.HTML object>"
      ]
     },
     "metadata": {},
     "output_type": "display_data"
    }
   ],
   "source": [
    "wandb.init(project=\"ner_network\", config={\n",
    "    \"learning_rate\": 0.01,\n",
    "})\n",
    "config = wandb.config"
   ]
  },
  {
   "cell_type": "code",
   "execution_count": 12,
   "id": "great-leeds",
   "metadata": {},
   "outputs": [],
   "source": [
    "from tqdm import tqdm \n",
    "import sklearn\n",
    "def train_model(model, epochs=10, lr=0.001):\n",
    "    parameters = filter(lambda p: p.requires_grad, model.parameters())\n",
    "    optimizer = torch.optim.Adam(parameters, lr=lr)\n",
    "    for i in range(epochs):\n",
    "        \n",
    "        print('\\n\\n')\n",
    "        print('------- EPOCH', i, '--------' )\n",
    "        \n",
    "        train_prebs_history = []\n",
    "        train_labels_history = []\n",
    "        train_accuracy_history = []\n",
    "        \n",
    "        test_preds_history = []\n",
    "        test_labels_history = []\n",
    "\n",
    "        for batch_idx, (data, label) in tqdm(enumerate(train_dl), total = len(train_dl)):\n",
    "\n",
    "            optimizer.zero_grad()\n",
    "            \n",
    "            preds = model.forward(data)\n",
    "\n",
    "            loss = nn.CrossEntropyLoss()\n",
    "\n",
    "            output = loss(preds, label)\n",
    "            \n",
    "            output.backward()\n",
    "            optimizer.step()\n",
    "\n",
    "            train_prebs_history.append(preds)\n",
    "            train_labels_history.append(label)\n",
    "                \n",
    "                \n",
    "        print('--------TRAIN----------')\n",
    "        wandb.log({\"roc_auc/train\": sklearn.metrics.roc_auc_score(label, preds.argmax(dim=1), average= 'weighted')})\n",
    "        print(f_score(train_prebs_history, train_labels_history))\n",
    "        train_accuracy = (preds.argmax(dim=1) == label).float().mean()\n",
    "        writer.add_scalar('Accuracy/train', train_accuracy, i)\n",
    "        writer.add_scalar('Loss/train', output, i)\n",
    "        writer.add_scalar('F1_score/train', f_score(train_prebs_history, train_labels_history), i) \n",
    "        \n",
    "        \n",
    "        for batch_idx, (data, label) in tqdm(enumerate(test_dl), total = len(test_dl)):\n",
    "            \n",
    "            test_preds = model.forward(data.long())\n",
    "            test_preds_history.append(test_preds)\n",
    "            test_labels_history.append(label)\n",
    "            \n",
    "            test_loss = loss(test_preds, label)\n",
    "        \n",
    "        print('-----------TEST----------')\n",
    "        wandb.log({\"roc_auc/test\": sklearn.metrics.roc_auc_score(label, test_preds.argmax(dim=1), average= 'weighted')})\n",
    "        print(f_score(test_preds_history, test_labels_history))\n",
    "        test_accuracy = (test_preds.argmax(dim=1) == label).float().mean()\n",
    "        writer.add_scalar('Accuracy/test', test_accuracy, i)\n",
    "        writer.add_scalar('Loss/test', test_loss, i)\n",
    "        writer.add_scalar('F1_score/test', f_score(test_preds_history, test_labels_history), i)\n",
    "            \n",
    "\n",
    "            "
   ]
  },
  {
   "cell_type": "code",
   "execution_count": 13,
   "id": "progressive-judgment",
   "metadata": {},
   "outputs": [],
   "source": [
    "from models.lstm.model import LSTMFixedLen"
   ]
  },
  {
   "cell_type": "code",
   "execution_count": 14,
   "id": "usual-oriental",
   "metadata": {},
   "outputs": [],
   "source": [
    "model_fixed = LSTMFixedLen(vocab_size, emb_dim, 128, max_len)"
   ]
  },
  {
   "cell_type": "code",
   "execution_count": 15,
   "id": "sixth-burner",
   "metadata": {
    "scrolled": false
   },
   "outputs": [
    {
     "name": "stderr",
     "output_type": "stream",
     "text": [
      "\r",
      "  0%|                                                                                           | 0/53 [00:00<?, ?it/s]"
     ]
    },
    {
     "name": "stdout",
     "output_type": "stream",
     "text": [
      "\n",
      "\n",
      "\n",
      "------- EPOCH 0 --------\n"
     ]
    },
    {
     "name": "stderr",
     "output_type": "stream",
     "text": [
      "c:\\users\\май\\appdata\\local\\programs\\python\\python36\\lib\\site-packages\\torch\\autograd\\__init__.py:132: UserWarning: CUDA initialization: Found no NVIDIA driver on your system. Please check that you have an NVIDIA GPU and installed a driver from http://www.nvidia.com/Download/index.aspx (Triggered internally at  ..\\c10\\cuda\\CUDAFunctions.cpp:100.)\n",
      "  allow_unreachable=True)  # allow_unreachable flag\n",
      "100%|██████████████████████████████████████████████████████████████████████████████████| 53/53 [00:15<00:00,  3.40it/s]\n"
     ]
    },
    {
     "name": "stdout",
     "output_type": "stream",
     "text": [
      "--------TRAIN----------\n",
      "0.7736961100697597\n"
     ]
    },
    {
     "name": "stderr",
     "output_type": "stream",
     "text": [
      "100%|██████████████████████████████████████████████████████████████████████████████████| 14/14 [00:01<00:00,  8.27it/s]\n"
     ]
    },
    {
     "name": "stdout",
     "output_type": "stream",
     "text": [
      "-----------TEST----------\n",
      "0.8645970937912815\n",
      "\n",
      "\n",
      "\n",
      "------- EPOCH 1 --------\n"
     ]
    },
    {
     "name": "stderr",
     "output_type": "stream",
     "text": [
      "100%|██████████████████████████████████████████████████████████████████████████████████| 53/53 [00:14<00:00,  3.55it/s]\n",
      "  0%|                                                                                           | 0/14 [00:00<?, ?it/s]"
     ]
    },
    {
     "name": "stdout",
     "output_type": "stream",
     "text": [
      "--------TRAIN----------\n",
      "0.8731958762886598\n"
     ]
    },
    {
     "name": "stderr",
     "output_type": "stream",
     "text": [
      "100%|██████████████████████████████████████████████████████████████████████████████████| 14/14 [00:01<00:00,  8.27it/s]\n",
      "  0%|                                                                                           | 0/53 [00:00<?, ?it/s]"
     ]
    },
    {
     "name": "stdout",
     "output_type": "stream",
     "text": [
      "-----------TEST----------\n",
      "0.8864462809917356\n",
      "\n",
      "\n",
      "\n",
      "------- EPOCH 2 --------\n"
     ]
    },
    {
     "name": "stderr",
     "output_type": "stream",
     "text": [
      "100%|██████████████████████████████████████████████████████████████████████████████████| 53/53 [00:14<00:00,  3.60it/s]\n"
     ]
    },
    {
     "name": "stdout",
     "output_type": "stream",
     "text": [
      "--------TRAIN----------\n",
      "0.8912600160669043\n"
     ]
    },
    {
     "name": "stderr",
     "output_type": "stream",
     "text": [
      "100%|██████████████████████████████████████████████████████████████████████████████████| 14/14 [00:01<00:00,  8.49it/s]\n",
      "  0%|                                                                                           | 0/53 [00:00<?, ?it/s]"
     ]
    },
    {
     "name": "stdout",
     "output_type": "stream",
     "text": [
      "-----------TEST----------\n",
      "0.9003424943613734\n",
      "\n",
      "\n",
      "\n",
      "------- EPOCH 3 --------\n"
     ]
    },
    {
     "name": "stderr",
     "output_type": "stream",
     "text": [
      "100%|██████████████████████████████████████████████████████████████████████████████████| 53/53 [00:14<00:00,  3.60it/s]\n",
      "  0%|                                                                                           | 0/14 [00:00<?, ?it/s]"
     ]
    },
    {
     "name": "stdout",
     "output_type": "stream",
     "text": [
      "--------TRAIN----------\n",
      "0.9059405940594059\n"
     ]
    },
    {
     "name": "stderr",
     "output_type": "stream",
     "text": [
      "100%|██████████████████████████████████████████████████████████████████████████████████| 14/14 [00:01<00:00,  8.10it/s]\n"
     ]
    },
    {
     "name": "stdout",
     "output_type": "stream",
     "text": [
      "-----------TEST----------\n",
      "0.9017083436494182\n",
      "\n",
      "\n",
      "\n",
      "------- EPOCH 4 --------\n"
     ]
    },
    {
     "name": "stderr",
     "output_type": "stream",
     "text": [
      "100%|██████████████████████████████████████████████████████████████████████████████████| 53/53 [00:14<00:00,  3.58it/s]\n"
     ]
    },
    {
     "name": "stdout",
     "output_type": "stream",
     "text": [
      "--------TRAIN----------\n",
      "0.9148672639445109\n"
     ]
    },
    {
     "name": "stderr",
     "output_type": "stream",
     "text": [
      "100%|██████████████████████████████████████████████████████████████████████████████████| 14/14 [00:01<00:00,  8.45it/s]\n"
     ]
    },
    {
     "name": "stdout",
     "output_type": "stream",
     "text": [
      "-----------TEST----------\n",
      "0.9085954917017587\n",
      "\n",
      "\n",
      "\n",
      "------- EPOCH 5 --------\n"
     ]
    },
    {
     "name": "stderr",
     "output_type": "stream",
     "text": [
      "100%|██████████████████████████████████████████████████████████████████████████████████| 53/53 [00:14<00:00,  3.60it/s]\n"
     ]
    },
    {
     "name": "stdout",
     "output_type": "stream",
     "text": [
      "--------TRAIN----------\n",
      "0.9233848502981656\n"
     ]
    },
    {
     "name": "stderr",
     "output_type": "stream",
     "text": [
      "100%|██████████████████████████████████████████████████████████████████████████████████| 14/14 [00:01<00:00,  8.46it/s]\n",
      "  0%|                                                                                           | 0/53 [00:00<?, ?it/s]"
     ]
    },
    {
     "name": "stdout",
     "output_type": "stream",
     "text": [
      "-----------TEST----------\n",
      "0.9063801432617026\n",
      "\n",
      "\n",
      "\n",
      "------- EPOCH 6 --------\n"
     ]
    },
    {
     "name": "stderr",
     "output_type": "stream",
     "text": [
      "100%|██████████████████████████████████████████████████████████████████████████████████| 53/53 [00:14<00:00,  3.63it/s]\n",
      "  0%|                                                                                           | 0/14 [00:00<?, ?it/s]"
     ]
    },
    {
     "name": "stdout",
     "output_type": "stream",
     "text": [
      "--------TRAIN----------\n",
      "0.9298888431453273\n"
     ]
    },
    {
     "name": "stderr",
     "output_type": "stream",
     "text": [
      "100%|██████████████████████████████████████████████████████████████████████████████████| 14/14 [00:01<00:00,  8.42it/s]\n",
      "  0%|                                                                                           | 0/53 [00:00<?, ?it/s]"
     ]
    },
    {
     "name": "stdout",
     "output_type": "stream",
     "text": [
      "-----------TEST----------\n",
      "0.9084935107606374\n",
      "\n",
      "\n",
      "\n",
      "------- EPOCH 7 --------\n"
     ]
    },
    {
     "name": "stderr",
     "output_type": "stream",
     "text": [
      "100%|██████████████████████████████████████████████████████████████████████████████████| 53/53 [00:14<00:00,  3.57it/s]\n"
     ]
    },
    {
     "name": "stdout",
     "output_type": "stream",
     "text": [
      "--------TRAIN----------\n",
      "0.9400612633496152\n"
     ]
    },
    {
     "name": "stderr",
     "output_type": "stream",
     "text": [
      "100%|██████████████████████████████████████████████████████████████████████████████████| 14/14 [00:01<00:00,  8.23it/s]\n"
     ]
    },
    {
     "name": "stdout",
     "output_type": "stream",
     "text": [
      "-----------TEST----------\n",
      "0.9077368638808441\n",
      "\n",
      "\n",
      "\n",
      "------- EPOCH 8 --------\n"
     ]
    },
    {
     "name": "stderr",
     "output_type": "stream",
     "text": [
      " 25%|████████████████████                                                              | 13/53 [00:03<00:12,  3.31it/s]\n"
     ]
    },
    {
     "ename": "KeyboardInterrupt",
     "evalue": "",
     "output_type": "error",
     "traceback": [
      "\u001b[1;31m---------------------------------------------------------------------------\u001b[0m",
      "\u001b[1;31mKeyboardInterrupt\u001b[0m                         Traceback (most recent call last)",
      "\u001b[1;32m<ipython-input-15-59220ec7405b>\u001b[0m in \u001b[0;36m<module>\u001b[1;34m\u001b[0m\n\u001b[1;32m----> 1\u001b[1;33m \u001b[0mtrain_model\u001b[0m\u001b[1;33m(\u001b[0m\u001b[0mmodel_fixed\u001b[0m\u001b[1;33m,\u001b[0m \u001b[0mepochs\u001b[0m\u001b[1;33m=\u001b[0m\u001b[1;36m10\u001b[0m\u001b[1;33m,\u001b[0m \u001b[0mlr\u001b[0m\u001b[1;33m=\u001b[0m\u001b[1;36m0.01\u001b[0m\u001b[1;33m)\u001b[0m\u001b[1;33m\u001b[0m\u001b[0m\n\u001b[0m",
      "\u001b[1;32m<ipython-input-12-513bb0dfac29>\u001b[0m in \u001b[0;36mtrain_model\u001b[1;34m(model, epochs, lr)\u001b[0m\n\u001b[0;32m     20\u001b[0m             \u001b[0moptimizer\u001b[0m\u001b[1;33m.\u001b[0m\u001b[0mzero_grad\u001b[0m\u001b[1;33m(\u001b[0m\u001b[1;33m)\u001b[0m\u001b[1;33m\u001b[0m\u001b[0m\n\u001b[0;32m     21\u001b[0m \u001b[1;33m\u001b[0m\u001b[0m\n\u001b[1;32m---> 22\u001b[1;33m             \u001b[0mpreds\u001b[0m \u001b[1;33m=\u001b[0m \u001b[0mmodel\u001b[0m\u001b[1;33m.\u001b[0m\u001b[0mforward\u001b[0m\u001b[1;33m(\u001b[0m\u001b[0mdata\u001b[0m\u001b[1;33m)\u001b[0m\u001b[1;33m\u001b[0m\u001b[0m\n\u001b[0m\u001b[0;32m     23\u001b[0m \u001b[1;33m\u001b[0m\u001b[0m\n\u001b[0;32m     24\u001b[0m             \u001b[0mloss\u001b[0m \u001b[1;33m=\u001b[0m \u001b[0mnn\u001b[0m\u001b[1;33m.\u001b[0m\u001b[0mCrossEntropyLoss\u001b[0m\u001b[1;33m(\u001b[0m\u001b[1;33m)\u001b[0m\u001b[1;33m\u001b[0m\u001b[0m\n",
      "\u001b[1;32mC:\\may\\ML\\GroupLe\\grouple\\models\\NER\\models\\lstm\\model.py\u001b[0m in \u001b[0;36mforward\u001b[1;34m(self, x)\u001b[0m\n\u001b[0;32m     35\u001b[0m         \u001b[1;31m# x = self.dropout(x)\u001b[0m\u001b[1;33m\u001b[0m\u001b[1;33m\u001b[0m\u001b[0m\n\u001b[0;32m     36\u001b[0m \u001b[1;33m\u001b[0m\u001b[0m\n\u001b[1;32m---> 37\u001b[1;33m         \u001b[0mlstm_out\u001b[0m\u001b[1;33m,\u001b[0m \u001b[1;33m(\u001b[0m\u001b[0mht\u001b[0m\u001b[1;33m,\u001b[0m \u001b[0mct\u001b[0m\u001b[1;33m)\u001b[0m \u001b[1;33m=\u001b[0m \u001b[0mself\u001b[0m\u001b[1;33m.\u001b[0m\u001b[0mlstm\u001b[0m\u001b[1;33m(\u001b[0m\u001b[0mx\u001b[0m\u001b[1;33m)\u001b[0m\u001b[1;33m\u001b[0m\u001b[0m\n\u001b[0m\u001b[0;32m     38\u001b[0m         \u001b[0mlast_ht\u001b[0m \u001b[1;33m=\u001b[0m \u001b[0mht\u001b[0m\u001b[1;33m[\u001b[0m\u001b[1;33m-\u001b[0m\u001b[1;36m1\u001b[0m\u001b[1;33m]\u001b[0m\u001b[1;33m\u001b[0m\u001b[0m\n\u001b[0;32m     39\u001b[0m \u001b[1;33m\u001b[0m\u001b[0m\n",
      "\u001b[1;32mc:\\users\\май\\appdata\\local\\programs\\python\\python36\\lib\\site-packages\\torch\\nn\\modules\\module.py\u001b[0m in \u001b[0;36m_call_impl\u001b[1;34m(self, *input, **kwargs)\u001b[0m\n\u001b[0;32m    725\u001b[0m             \u001b[0mresult\u001b[0m \u001b[1;33m=\u001b[0m \u001b[0mself\u001b[0m\u001b[1;33m.\u001b[0m\u001b[0m_slow_forward\u001b[0m\u001b[1;33m(\u001b[0m\u001b[1;33m*\u001b[0m\u001b[0minput\u001b[0m\u001b[1;33m,\u001b[0m \u001b[1;33m**\u001b[0m\u001b[0mkwargs\u001b[0m\u001b[1;33m)\u001b[0m\u001b[1;33m\u001b[0m\u001b[0m\n\u001b[0;32m    726\u001b[0m         \u001b[1;32melse\u001b[0m\u001b[1;33m:\u001b[0m\u001b[1;33m\u001b[0m\u001b[0m\n\u001b[1;32m--> 727\u001b[1;33m             \u001b[0mresult\u001b[0m \u001b[1;33m=\u001b[0m \u001b[0mself\u001b[0m\u001b[1;33m.\u001b[0m\u001b[0mforward\u001b[0m\u001b[1;33m(\u001b[0m\u001b[1;33m*\u001b[0m\u001b[0minput\u001b[0m\u001b[1;33m,\u001b[0m \u001b[1;33m**\u001b[0m\u001b[0mkwargs\u001b[0m\u001b[1;33m)\u001b[0m\u001b[1;33m\u001b[0m\u001b[0m\n\u001b[0m\u001b[0;32m    728\u001b[0m         for hook in itertools.chain(\n\u001b[0;32m    729\u001b[0m                 \u001b[0m_global_forward_hooks\u001b[0m\u001b[1;33m.\u001b[0m\u001b[0mvalues\u001b[0m\u001b[1;33m(\u001b[0m\u001b[1;33m)\u001b[0m\u001b[1;33m,\u001b[0m\u001b[1;33m\u001b[0m\u001b[0m\n",
      "\u001b[1;32mc:\\users\\май\\appdata\\local\\programs\\python\\python36\\lib\\site-packages\\torch\\nn\\modules\\rnn.py\u001b[0m in \u001b[0;36mforward\u001b[1;34m(self, input, hx)\u001b[0m\n\u001b[0;32m    580\u001b[0m         \u001b[1;32mif\u001b[0m \u001b[0mbatch_sizes\u001b[0m \u001b[1;32mis\u001b[0m \u001b[1;32mNone\u001b[0m\u001b[1;33m:\u001b[0m\u001b[1;33m\u001b[0m\u001b[0m\n\u001b[0;32m    581\u001b[0m             result = _VF.lstm(input, hx, self._flat_weights, self.bias, self.num_layers,\n\u001b[1;32m--> 582\u001b[1;33m                               self.dropout, self.training, self.bidirectional, self.batch_first)\n\u001b[0m\u001b[0;32m    583\u001b[0m         \u001b[1;32melse\u001b[0m\u001b[1;33m:\u001b[0m\u001b[1;33m\u001b[0m\u001b[0m\n\u001b[0;32m    584\u001b[0m             result = _VF.lstm(input, batch_sizes, hx, self._flat_weights, self.bias,\n",
      "\u001b[1;31mKeyboardInterrupt\u001b[0m: "
     ]
    }
   ],
   "source": [
    "train_model(model_fixed, epochs=10, lr=0.01)"
   ]
  },
  {
   "cell_type": "code",
   "execution_count": 16,
   "id": "rolled-namibia",
   "metadata": {},
   "outputs": [],
   "source": [
    "model_fixed.save('./weights/model_lstm_fixed.pt')"
   ]
  },
  {
   "cell_type": "code",
   "execution_count": 17,
   "id": "perfect-interval",
   "metadata": {},
   "outputs": [],
   "source": [
    "loaded_model = LSTMFixedLen().load('./weights/model_lstm_fixed.pt')"
   ]
  },
  {
   "cell_type": "code",
   "execution_count": 18,
   "id": "champion-colon",
   "metadata": {},
   "outputs": [
    {
     "data": {
      "text/plain": [
       "1"
      ]
     },
     "execution_count": 18,
     "metadata": {},
     "output_type": "execute_result"
    }
   ],
   "source": [
    "loaded_model.prediction('')"
   ]
  },
  {
   "cell_type": "code",
   "execution_count": 19,
   "id": "known-picnic",
   "metadata": {},
   "outputs": [
    {
     "data": {
      "text/plain": [
       "1"
      ]
     },
     "execution_count": 19,
     "metadata": {},
     "output_type": "execute_result"
    }
   ],
   "source": [
    "loaded_model.prediction('стол')"
   ]
  },
  {
   "cell_type": "code",
   "execution_count": 21,
   "id": "promising-capture",
   "metadata": {},
   "outputs": [
    {
     "data": {
      "text/plain": [
       "['привет',\n",
       " 'меня',\n",
       " 'я',\n",
       " 'и',\n",
       " 'ручка',\n",
       " 'стул',\n",
       " 'комод',\n",
       " 'шкаф',\n",
       " 'тумбочка',\n",
       " 'рамка']"
      ]
     },
     "execution_count": 21,
     "metadata": {},
     "output_type": "execute_result"
    }
   ],
   "source": [
    "loaded_model.extract_names('привет меня я и ручка стул комод шкаф тумбочка рамка')"
   ]
  },
  {
   "cell_type": "code",
   "execution_count": 22,
   "id": "duplicate-cathedral",
   "metadata": {},
   "outputs": [
    {
     "data": {
      "text/plain": [
       "list"
      ]
     },
     "execution_count": 22,
     "metadata": {},
     "output_type": "execute_result"
    }
   ],
   "source": [
    "a = 'привет меня зовут майя'\n",
    "type(a.split(' '))"
   ]
  },
  {
   "cell_type": "code",
   "execution_count": 23,
   "id": "visible-breed",
   "metadata": {},
   "outputs": [
    {
     "data": {
      "text/plain": [
       "1"
      ]
     },
     "execution_count": 23,
     "metadata": {},
     "output_type": "execute_result"
    }
   ],
   "source": [
    "import numpy\n",
    "a = torch.tensor([1, 2]).detach().numpy()\n",
    "a.argmax()"
   ]
  },
  {
   "cell_type": "code",
   "execution_count": 24,
   "id": "several-giving",
   "metadata": {},
   "outputs": [
    {
     "data": {
      "text/plain": [
       "0"
      ]
     },
     "execution_count": 24,
     "metadata": {},
     "output_type": "execute_result"
    }
   ],
   "source": [
    "data.iloc[2].label"
   ]
  },
  {
   "cell_type": "code",
   "execution_count": 25,
   "id": "streaming-destination",
   "metadata": {},
   "outputs": [
    {
     "name": "stdout",
     "output_type": "stream",
     "text": [
      "заметной\n",
      "prediction:  1\n",
      "label: 0\n",
      "\n",
      "\n",
      "\n",
      "добивался\n",
      "prediction:  1\n",
      "label: 0\n",
      "\n",
      "\n",
      "\n",
      "регистраторши\n",
      "prediction:  1\n",
      "label: 0\n",
      "\n",
      "\n",
      "\n",
      "просившей\n",
      "prediction:  1\n",
      "label: 0\n",
      "\n",
      "\n",
      "\n",
      "создавая\n",
      "prediction:  1\n",
      "label: 0\n",
      "\n",
      "\n",
      "\n",
      "обеим\n",
      "prediction:  1\n",
      "label: 0\n",
      "\n",
      "\n",
      "\n",
      "шенграбеном\n",
      "prediction:  1\n",
      "label: 0\n",
      "\n",
      "\n",
      "\n",
      "посторонись\n",
      "prediction:  1\n",
      "label: 0\n",
      "\n",
      "\n",
      "\n",
      "влиятельным\n",
      "prediction:  1\n",
      "label: 0\n",
      "\n",
      "\n",
      "\n",
      "падали\n",
      "prediction:  1\n",
      "label: 0\n",
      "\n",
      "\n",
      "\n",
      "отражающие\n",
      "prediction:  1\n",
      "label: 0\n",
      "\n",
      "\n",
      "\n",
      "проспали\n",
      "prediction:  1\n",
      "label: 0\n",
      "\n",
      "\n",
      "\n",
      "записка\n",
      "prediction:  1\n",
      "label: 0\n",
      "\n",
      "\n",
      "\n",
      "оборотом\n",
      "prediction:  1\n",
      "label: 0\n",
      "\n",
      "\n",
      "\n",
      "подойдт\n",
      "prediction:  1\n",
      "label: 0\n",
      "\n",
      "\n",
      "\n",
      "входившему\n",
      "prediction:  1\n",
      "label: 0\n",
      "\n",
      "\n",
      "\n",
      "крючковатый\n",
      "prediction:  1\n",
      "label: 0\n",
      "\n",
      "\n",
      "\n",
      "листках\n",
      "prediction:  1\n",
      "label: 0\n",
      "\n",
      "\n",
      "\n",
      "отрешнное\n",
      "prediction:  1\n",
      "label: 0\n",
      "\n",
      "\n",
      "\n",
      "пуки\n",
      "prediction:  1\n",
      "label: 0\n",
      "\n",
      "\n",
      "\n",
      "смены\n",
      "prediction:  1\n",
      "label: 0\n",
      "\n",
      "\n",
      "\n",
      "скривя\n",
      "prediction:  1\n",
      "label: 0\n",
      "\n",
      "\n",
      "\n",
      "копии\n",
      "prediction:  1\n",
      "label: 0\n",
      "\n",
      "\n",
      "\n",
      "спутал\n",
      "prediction:  1\n",
      "label: 0\n",
      "\n",
      "\n",
      "\n",
      "квадратик\n",
      "prediction:  1\n",
      "label: 0\n",
      "\n",
      "\n",
      "\n",
      "бульварном\n",
      "prediction:  1\n",
      "label: 0\n",
      "\n",
      "\n",
      "\n",
      "точка\n",
      "prediction:  1\n",
      "label: 0\n",
      "\n",
      "\n",
      "\n",
      "плену\n",
      "prediction:  1\n",
      "label: 0\n",
      "\n",
      "\n",
      "\n",
      "отчаянием\n",
      "prediction:  1\n",
      "label: 0\n",
      "\n",
      "\n",
      "\n",
      "лопнувшей\n",
      "prediction:  1\n",
      "label: 0\n",
      "\n",
      "\n",
      "\n",
      "еленой\n",
      "prediction:  1\n",
      "label: 0\n",
      "\n",
      "\n",
      "\n",
      "орлиным\n",
      "prediction:  1\n",
      "label: 0\n",
      "\n",
      "\n",
      "\n",
      "единственную\n",
      "prediction:  1\n",
      "label: 0\n",
      "\n",
      "\n",
      "\n",
      "безумен\n",
      "prediction:  1\n",
      "label: 0\n",
      "\n",
      "\n",
      "\n",
      "дворах\n",
      "prediction:  1\n",
      "label: 0\n",
      "\n",
      "\n",
      "\n",
      "округленную\n",
      "prediction:  1\n",
      "label: 0\n",
      "\n",
      "\n",
      "\n",
      "глупою\n",
      "prediction:  1\n",
      "label: 0\n",
      "\n",
      "\n",
      "\n",
      "жертвами\n",
      "prediction:  1\n",
      "label: 0\n",
      "\n",
      "\n",
      "\n",
      "меняются\n",
      "prediction:  1\n",
      "label: 0\n",
      "\n",
      "\n",
      "\n",
      "восклицание\n",
      "prediction:  1\n",
      "label: 0\n",
      "\n",
      "\n",
      "\n",
      "увеселяли\n",
      "prediction:  1\n",
      "label: 0\n",
      "\n",
      "\n",
      "\n",
      "выдам\n",
      "prediction:  1\n",
      "label: 0\n",
      "\n",
      "\n",
      "\n",
      "дамбы\n",
      "prediction:  1\n",
      "label: 0\n",
      "\n",
      "\n",
      "\n",
      "толкований\n",
      "prediction:  1\n",
      "label: 0\n",
      "\n",
      "\n",
      "\n",
      "искоренено\n",
      "prediction:  1\n",
      "label: 0\n",
      "\n",
      "\n",
      "\n",
      "курил\n",
      "prediction:  1\n",
      "label: 0\n",
      "\n",
      "\n",
      "\n",
      "эскадронным\n",
      "prediction:  1\n",
      "label: 0\n",
      "\n",
      "\n",
      "\n",
      "переживание\n",
      "prediction:  1\n",
      "label: 0\n",
      "\n",
      "\n",
      "\n",
      "подвигались\n",
      "prediction:  1\n",
      "label: 0\n",
      "\n",
      "\n",
      "\n",
      "звука\n",
      "prediction:  1\n",
      "label: 0\n",
      "\n",
      "\n",
      "\n",
      "квартирам\n",
      "prediction:  1\n",
      "label: 0\n",
      "\n",
      "\n",
      "\n",
      "сооружениям\n",
      "prediction:  1\n",
      "label: 0\n",
      "\n",
      "\n",
      "\n",
      "практически\n",
      "prediction:  1\n",
      "label: 0\n",
      "\n",
      "\n",
      "\n",
      "ощущали\n",
      "prediction:  1\n",
      "label: 0\n",
      "\n",
      "\n",
      "\n",
      "французская\n",
      "prediction:  1\n",
      "label: 0\n",
      "\n",
      "\n",
      "\n",
      "разразиться\n",
      "prediction:  1\n",
      "label: 0\n",
      "\n",
      "\n",
      "\n",
      "груша\n",
      "prediction:  1\n",
      "label: 0\n",
      "\n",
      "\n",
      "\n",
      "семейству\n",
      "prediction:  1\n",
      "label: 0\n",
      "\n",
      "\n",
      "\n",
      "пропустила\n",
      "prediction:  1\n",
      "label: 0\n",
      "\n",
      "\n",
      "\n",
      "выпустив\n",
      "prediction:  1\n",
      "label: 0\n",
      "\n",
      "\n",
      "\n",
      "скаррету\n",
      "prediction:  1\n",
      "label: 0\n",
      "\n",
      "\n",
      "\n",
      "обожает\n",
      "prediction:  1\n",
      "label: 0\n",
      "\n",
      "\n",
      "\n",
      "поцелую\n",
      "prediction:  1\n",
      "label: 0\n",
      "\n",
      "\n",
      "\n",
      "алина\n",
      "prediction:  1\n",
      "label: 0\n",
      "\n",
      "\n",
      "\n",
      "лязгом\n",
      "prediction:  1\n",
      "label: 0\n",
      "\n",
      "\n",
      "\n",
      "чаем\n",
      "prediction:  1\n",
      "label: 0\n",
      "\n",
      "\n",
      "\n",
      "вызвал\n",
      "prediction:  1\n",
      "label: 0\n",
      "\n",
      "\n",
      "\n",
      "командование\n",
      "prediction:  1\n",
      "label: 0\n",
      "\n",
      "\n",
      "\n",
      "насмешливая\n",
      "prediction:  1\n",
      "label: 0\n",
      "\n",
      "\n",
      "\n",
      "возражений\n",
      "prediction:  1\n",
      "label: 0\n",
      "\n",
      "\n",
      "\n",
      "особнячок\n",
      "prediction:  1\n",
      "label: 0\n",
      "\n",
      "\n",
      "\n",
      "наметил\n",
      "prediction:  1\n",
      "label: 0\n",
      "\n",
      "\n",
      "\n",
      "стювесант\n",
      "prediction:  1\n",
      "label: 0\n",
      "\n",
      "\n",
      "\n",
      "какоенибудь\n",
      "prediction:  1\n",
      "label: 0\n",
      "\n",
      "\n",
      "\n",
      "одними\n",
      "prediction:  1\n",
      "label: 0\n",
      "\n",
      "\n",
      "\n",
      "последнюю\n",
      "prediction:  1\n",
      "label: 0\n",
      "\n",
      "\n",
      "\n",
      "карьерной\n",
      "prediction:  1\n",
      "label: 0\n",
      "\n",
      "\n",
      "\n",
      "перекинуть\n",
      "prediction:  1\n",
      "label: 0\n",
      "\n",
      "\n",
      "\n",
      "энергический\n",
      "prediction:  1\n",
      "label: 0\n",
      "\n",
      "\n",
      "\n",
      "платьев\n",
      "prediction:  1\n",
      "label: 0\n",
      "\n",
      "\n",
      "\n",
      "эгоистом\n",
      "prediction:  1\n",
      "label: 0\n",
      "\n",
      "\n",
      "\n",
      "бассеттом\n",
      "prediction:  1\n",
      "label: 0\n",
      "\n",
      "\n",
      "\n",
      "штабквартиру\n",
      "prediction:  1\n",
      "label: 0\n",
      "\n",
      "\n",
      "\n",
      "скрывались\n",
      "prediction:  1\n",
      "label: 0\n",
      "\n",
      "\n",
      "\n",
      "волною\n",
      "prediction:  1\n",
      "label: 0\n",
      "\n",
      "\n",
      "\n",
      "физическое\n",
      "prediction:  1\n",
      "label: 0\n",
      "\n",
      "\n",
      "\n",
      "горшочки\n",
      "prediction:  1\n",
      "label: 0\n",
      "\n",
      "\n",
      "\n",
      "бытия\n",
      "prediction:  1\n",
      "label: 0\n",
      "\n",
      "\n",
      "\n",
      "запахами\n",
      "prediction:  1\n",
      "label: 0\n",
      "\n",
      "\n",
      "\n",
      "бурая\n",
      "prediction:  1\n",
      "label: 0\n",
      "\n",
      "\n",
      "\n",
      "мнето\n",
      "prediction:  1\n",
      "label: 0\n",
      "\n",
      "\n",
      "\n",
      "выстрелами\n",
      "prediction:  1\n",
      "label: 0\n",
      "\n",
      "\n",
      "\n",
      "шлют\n",
      "prediction:  1\n",
      "label: 0\n",
      "\n",
      "\n",
      "\n",
      "горючее\n",
      "prediction:  1\n",
      "label: 0\n",
      "\n",
      "\n",
      "\n",
      "будто\n",
      "prediction:  1\n",
      "label: 0\n",
      "\n",
      "\n",
      "\n",
      "холоду\n",
      "prediction:  1\n",
      "label: 0\n",
      "\n",
      "\n",
      "\n",
      "выглядит\n",
      "prediction:  1\n",
      "label: 0\n",
      "\n",
      "\n",
      "\n",
      "новички\n",
      "prediction:  1\n",
      "label: 0\n",
      "\n",
      "\n",
      "\n",
      "огарка\n",
      "prediction:  1\n",
      "label: 0\n",
      "\n",
      "\n",
      "\n",
      "днэ\n",
      "prediction:  1\n",
      "label: 0\n",
      "\n",
      "\n",
      "\n",
      "открытым\n",
      "prediction:  1\n",
      "label: 0\n",
      "\n",
      "\n",
      "\n",
      "витиеватой\n",
      "prediction:  1\n",
      "label: 0\n",
      "\n",
      "\n",
      "\n",
      "пустоте\n",
      "prediction:  1\n",
      "label: 0\n",
      "\n",
      "\n",
      "\n",
      "голосу\n",
      "prediction:  1\n",
      "label: 0\n",
      "\n",
      "\n",
      "\n",
      "снов\n",
      "prediction:  1\n",
      "label: 0\n",
      "\n",
      "\n",
      "\n",
      "худым\n"
     ]
    },
    {
     "ename": "KeyboardInterrupt",
     "evalue": "",
     "output_type": "error",
     "traceback": [
      "\u001b[1;31m---------------------------------------------------------------------------\u001b[0m",
      "\u001b[1;31mKeyboardInterrupt\u001b[0m                         Traceback (most recent call last)",
      "\u001b[1;32m<ipython-input-25-27f2645f6ee6>\u001b[0m in \u001b[0;36m<module>\u001b[1;34m\u001b[0m\n\u001b[0;32m      2\u001b[0m     \u001b[1;32mif\u001b[0m \u001b[0mloaded_model\u001b[0m\u001b[1;33m.\u001b[0m\u001b[0mprediction\u001b[0m\u001b[1;33m(\u001b[0m\u001b[0mdata\u001b[0m\u001b[1;33m.\u001b[0m\u001b[0miloc\u001b[0m\u001b[1;33m[\u001b[0m\u001b[0mi\u001b[0m\u001b[1;33m]\u001b[0m\u001b[1;33m.\u001b[0m\u001b[0mtoken\u001b[0m\u001b[1;33m)\u001b[0m\u001b[1;33m!=\u001b[0m\u001b[0mdata\u001b[0m\u001b[1;33m.\u001b[0m\u001b[0miloc\u001b[0m\u001b[1;33m[\u001b[0m\u001b[0mi\u001b[0m\u001b[1;33m]\u001b[0m\u001b[1;33m.\u001b[0m\u001b[0mlabel\u001b[0m\u001b[1;33m:\u001b[0m\u001b[1;33m\u001b[0m\u001b[0m\n\u001b[0;32m      3\u001b[0m         \u001b[0mprint\u001b[0m\u001b[1;33m(\u001b[0m\u001b[0mdata\u001b[0m\u001b[1;33m.\u001b[0m\u001b[0miloc\u001b[0m\u001b[1;33m[\u001b[0m\u001b[0mi\u001b[0m\u001b[1;33m]\u001b[0m\u001b[1;33m.\u001b[0m\u001b[0mtoken\u001b[0m\u001b[1;33m)\u001b[0m\u001b[1;33m\u001b[0m\u001b[0m\n\u001b[1;32m----> 4\u001b[1;33m         \u001b[0mprint\u001b[0m\u001b[1;33m(\u001b[0m\u001b[1;34m'prediction: '\u001b[0m\u001b[1;33m,\u001b[0m \u001b[0mloaded_model\u001b[0m\u001b[1;33m.\u001b[0m\u001b[0mprediction\u001b[0m\u001b[1;33m(\u001b[0m\u001b[0mdata\u001b[0m\u001b[1;33m.\u001b[0m\u001b[0miloc\u001b[0m\u001b[1;33m[\u001b[0m\u001b[0mi\u001b[0m\u001b[1;33m]\u001b[0m\u001b[1;33m.\u001b[0m\u001b[0mtoken\u001b[0m\u001b[1;33m)\u001b[0m\u001b[1;33m)\u001b[0m\u001b[1;33m\u001b[0m\u001b[0m\n\u001b[0m\u001b[0;32m      5\u001b[0m         \u001b[0mprint\u001b[0m\u001b[1;33m(\u001b[0m\u001b[1;34m'label:'\u001b[0m\u001b[1;33m,\u001b[0m \u001b[0mdata\u001b[0m\u001b[1;33m.\u001b[0m\u001b[0miloc\u001b[0m\u001b[1;33m[\u001b[0m\u001b[0mi\u001b[0m\u001b[1;33m]\u001b[0m\u001b[1;33m.\u001b[0m\u001b[0mlabel\u001b[0m\u001b[1;33m)\u001b[0m\u001b[1;33m\u001b[0m\u001b[0m\n\u001b[0;32m      6\u001b[0m         \u001b[0mprint\u001b[0m\u001b[1;33m(\u001b[0m\u001b[1;34m'\\n\\n'\u001b[0m\u001b[1;33m)\u001b[0m\u001b[1;33m\u001b[0m\u001b[0m\n",
      "\u001b[1;32mC:\\may\\ML\\GroupLe\\grouple\\models\\NER\\models\\lstm\\model.py\u001b[0m in \u001b[0;36mprediction\u001b[1;34m(self, word)\u001b[0m\n\u001b[0;32m     70\u001b[0m     \u001b[1;32mdef\u001b[0m \u001b[0mprediction\u001b[0m\u001b[1;33m(\u001b[0m\u001b[0mself\u001b[0m\u001b[1;33m,\u001b[0m \u001b[0mword\u001b[0m\u001b[1;33m:\u001b[0m \u001b[0mstr\u001b[0m\u001b[1;33m)\u001b[0m \u001b[1;33m->\u001b[0m \u001b[0mtorch\u001b[0m\u001b[1;33m.\u001b[0m\u001b[0mTensor\u001b[0m\u001b[1;33m:\u001b[0m\u001b[1;33m\u001b[0m\u001b[0m\n\u001b[0;32m     71\u001b[0m         \u001b[0mencoded\u001b[0m \u001b[1;33m=\u001b[0m \u001b[0mself\u001b[0m\u001b[1;33m.\u001b[0m\u001b[0mencode\u001b[0m\u001b[1;33m(\u001b[0m\u001b[0mword\u001b[0m\u001b[1;33m)\u001b[0m\u001b[1;33m\u001b[0m\u001b[0m\n\u001b[1;32m---> 72\u001b[1;33m         \u001b[0mprobability\u001b[0m \u001b[1;33m=\u001b[0m \u001b[0mself\u001b[0m\u001b[1;33m.\u001b[0m\u001b[0mforward\u001b[0m\u001b[1;33m(\u001b[0m\u001b[0mencoded\u001b[0m\u001b[1;33m.\u001b[0m\u001b[0munsqueeze\u001b[0m\u001b[1;33m(\u001b[0m\u001b[1;36m0\u001b[0m\u001b[1;33m)\u001b[0m\u001b[1;33m)\u001b[0m\u001b[1;33m\u001b[0m\u001b[0m\n\u001b[0m\u001b[0;32m     73\u001b[0m         \u001b[1;32mreturn\u001b[0m \u001b[0mprobability\u001b[0m\u001b[1;33m.\u001b[0m\u001b[0mdetach\u001b[0m\u001b[1;33m(\u001b[0m\u001b[1;33m)\u001b[0m\u001b[1;33m.\u001b[0m\u001b[0mnumpy\u001b[0m\u001b[1;33m(\u001b[0m\u001b[1;33m)\u001b[0m\u001b[1;33m.\u001b[0m\u001b[0margmax\u001b[0m\u001b[1;33m(\u001b[0m\u001b[1;33m)\u001b[0m\u001b[1;33m\u001b[0m\u001b[0m\n\u001b[0;32m     74\u001b[0m \u001b[1;33m\u001b[0m\u001b[0m\n",
      "\u001b[1;32mC:\\may\\ML\\GroupLe\\grouple\\models\\NER\\models\\lstm\\model.py\u001b[0m in \u001b[0;36mforward\u001b[1;34m(self, x)\u001b[0m\n\u001b[0;32m     35\u001b[0m         \u001b[1;31m# x = self.dropout(x)\u001b[0m\u001b[1;33m\u001b[0m\u001b[1;33m\u001b[0m\u001b[0m\n\u001b[0;32m     36\u001b[0m \u001b[1;33m\u001b[0m\u001b[0m\n\u001b[1;32m---> 37\u001b[1;33m         \u001b[0mlstm_out\u001b[0m\u001b[1;33m,\u001b[0m \u001b[1;33m(\u001b[0m\u001b[0mht\u001b[0m\u001b[1;33m,\u001b[0m \u001b[0mct\u001b[0m\u001b[1;33m)\u001b[0m \u001b[1;33m=\u001b[0m \u001b[0mself\u001b[0m\u001b[1;33m.\u001b[0m\u001b[0mlstm\u001b[0m\u001b[1;33m(\u001b[0m\u001b[0mx\u001b[0m\u001b[1;33m)\u001b[0m\u001b[1;33m\u001b[0m\u001b[0m\n\u001b[0m\u001b[0;32m     38\u001b[0m         \u001b[0mlast_ht\u001b[0m \u001b[1;33m=\u001b[0m \u001b[0mht\u001b[0m\u001b[1;33m[\u001b[0m\u001b[1;33m-\u001b[0m\u001b[1;36m1\u001b[0m\u001b[1;33m]\u001b[0m\u001b[1;33m\u001b[0m\u001b[0m\n\u001b[0;32m     39\u001b[0m \u001b[1;33m\u001b[0m\u001b[0m\n",
      "\u001b[1;32mc:\\users\\май\\appdata\\local\\programs\\python\\python36\\lib\\site-packages\\torch\\nn\\modules\\module.py\u001b[0m in \u001b[0;36m_call_impl\u001b[1;34m(self, *input, **kwargs)\u001b[0m\n\u001b[0;32m    725\u001b[0m             \u001b[0mresult\u001b[0m \u001b[1;33m=\u001b[0m \u001b[0mself\u001b[0m\u001b[1;33m.\u001b[0m\u001b[0m_slow_forward\u001b[0m\u001b[1;33m(\u001b[0m\u001b[1;33m*\u001b[0m\u001b[0minput\u001b[0m\u001b[1;33m,\u001b[0m \u001b[1;33m**\u001b[0m\u001b[0mkwargs\u001b[0m\u001b[1;33m)\u001b[0m\u001b[1;33m\u001b[0m\u001b[0m\n\u001b[0;32m    726\u001b[0m         \u001b[1;32melse\u001b[0m\u001b[1;33m:\u001b[0m\u001b[1;33m\u001b[0m\u001b[0m\n\u001b[1;32m--> 727\u001b[1;33m             \u001b[0mresult\u001b[0m \u001b[1;33m=\u001b[0m \u001b[0mself\u001b[0m\u001b[1;33m.\u001b[0m\u001b[0mforward\u001b[0m\u001b[1;33m(\u001b[0m\u001b[1;33m*\u001b[0m\u001b[0minput\u001b[0m\u001b[1;33m,\u001b[0m \u001b[1;33m**\u001b[0m\u001b[0mkwargs\u001b[0m\u001b[1;33m)\u001b[0m\u001b[1;33m\u001b[0m\u001b[0m\n\u001b[0m\u001b[0;32m    728\u001b[0m         for hook in itertools.chain(\n\u001b[0;32m    729\u001b[0m                 \u001b[0m_global_forward_hooks\u001b[0m\u001b[1;33m.\u001b[0m\u001b[0mvalues\u001b[0m\u001b[1;33m(\u001b[0m\u001b[1;33m)\u001b[0m\u001b[1;33m,\u001b[0m\u001b[1;33m\u001b[0m\u001b[0m\n",
      "\u001b[1;32mc:\\users\\май\\appdata\\local\\programs\\python\\python36\\lib\\site-packages\\torch\\nn\\modules\\rnn.py\u001b[0m in \u001b[0;36mforward\u001b[1;34m(self, input, hx)\u001b[0m\n\u001b[0;32m    580\u001b[0m         \u001b[1;32mif\u001b[0m \u001b[0mbatch_sizes\u001b[0m \u001b[1;32mis\u001b[0m \u001b[1;32mNone\u001b[0m\u001b[1;33m:\u001b[0m\u001b[1;33m\u001b[0m\u001b[0m\n\u001b[0;32m    581\u001b[0m             result = _VF.lstm(input, hx, self._flat_weights, self.bias, self.num_layers,\n\u001b[1;32m--> 582\u001b[1;33m                               self.dropout, self.training, self.bidirectional, self.batch_first)\n\u001b[0m\u001b[0;32m    583\u001b[0m         \u001b[1;32melse\u001b[0m\u001b[1;33m:\u001b[0m\u001b[1;33m\u001b[0m\u001b[0m\n\u001b[0;32m    584\u001b[0m             result = _VF.lstm(input, batch_sizes, hx, self._flat_weights, self.bias,\n",
      "\u001b[1;31mKeyboardInterrupt\u001b[0m: "
     ]
    }
   ],
   "source": [
    "for i in range(10000):\n",
    "    if loaded_model.prediction(data.iloc[i].token)!=data.iloc[i].label:\n",
    "        print(data.iloc[i].token)\n",
    "        print('prediction: ', loaded_model.prediction(data.iloc[i].token))\n",
    "        print('label:', data.iloc[i].label)\n",
    "        print('\\n\\n')"
   ]
  },
  {
   "cell_type": "code",
   "execution_count": 26,
   "id": "perceived-defendant",
   "metadata": {},
   "outputs": [],
   "source": [
    "labels = data.label[:100]"
   ]
  },
  {
   "cell_type": "code",
   "execution_count": 29,
   "id": "recorded-causing",
   "metadata": {},
   "outputs": [
    {
     "ename": "TypeError",
     "evalue": "must be str, not numpy.int64",
     "output_type": "error",
     "traceback": [
      "\u001b[1;31m---------------------------------------------------------------------------\u001b[0m",
      "\u001b[1;31mTypeError\u001b[0m                                 Traceback (most recent call last)",
      "\u001b[1;32m<ipython-input-29-8f7af0618cf1>\u001b[0m in \u001b[0;36m<module>\u001b[1;34m\u001b[0m\n\u001b[0;32m      1\u001b[0m \u001b[0mstring\u001b[0m \u001b[1;33m=\u001b[0m \u001b[1;34m''\u001b[0m\u001b[1;33m\u001b[0m\u001b[0m\n\u001b[0;32m      2\u001b[0m \u001b[1;32mfor\u001b[0m \u001b[0mi\u001b[0m \u001b[1;32min\u001b[0m \u001b[0ma\u001b[0m\u001b[1;33m:\u001b[0m\u001b[1;33m\u001b[0m\u001b[0m\n\u001b[1;32m----> 3\u001b[1;33m     \u001b[0mstring\u001b[0m \u001b[1;33m+=\u001b[0m\u001b[0mi\u001b[0m\u001b[1;33m\u001b[0m\u001b[0m\n\u001b[0m\u001b[0;32m      4\u001b[0m     \u001b[0mstring\u001b[0m\u001b[1;33m+=\u001b[0m\u001b[1;34m' '\u001b[0m\u001b[1;33m\u001b[0m\u001b[0m\n\u001b[0;32m      5\u001b[0m \u001b[0mprint\u001b[0m\u001b[1;33m(\u001b[0m\u001b[0mstring\u001b[0m\u001b[1;33m)\u001b[0m\u001b[1;33m\u001b[0m\u001b[0m\n",
      "\u001b[1;31mTypeError\u001b[0m: must be str, not numpy.int64"
     ]
    }
   ],
   "source": [
    "string = ''\n",
    "for i in a:\n",
    "    string +=i\n",
    "    string+=' '\n",
    "print(string)"
   ]
  },
  {
   "cell_type": "code",
   "execution_count": 30,
   "id": "requested-positive",
   "metadata": {},
   "outputs": [
    {
     "data": {
      "text/plain": [
       "['']"
      ]
     },
     "execution_count": 30,
     "metadata": {},
     "output_type": "execute_result"
    }
   ],
   "source": [
    "loaded_model.extract_names(string)"
   ]
  },
  {
   "cell_type": "code",
   "execution_count": null,
   "id": "dynamic-volleyball",
   "metadata": {},
   "outputs": [],
   "source": []
  }
 ],
 "metadata": {
  "kernelspec": {
   "display_name": "Python 3",
   "language": "python",
   "name": "python3"
  },
  "language_info": {
   "codemirror_mode": {
    "name": "ipython",
    "version": 3
   },
   "file_extension": ".py",
   "mimetype": "text/x-python",
   "name": "python",
   "nbconvert_exporter": "python",
   "pygments_lexer": "ipython3",
   "version": "3.6.2"
  }
 },
 "nbformat": 4,
 "nbformat_minor": 5
}
