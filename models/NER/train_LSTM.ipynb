{
 "cells": [
  {
   "cell_type": "code",
   "execution_count": 1,
   "id": "illegal-stationery",
   "metadata": {},
   "outputs": [],
   "source": [
    "import pandas as pd\n",
    "from pathlib import Path\n",
    "import regex as re\n",
    "import torch\n",
    "import torch.nn as nn\n",
    "import torch.nn.functional as F\n",
    "import numpy as np\n",
    "from models.lstm.functions import encode, f_score"
   ]
  },
  {
   "cell_type": "markdown",
   "id": "hazardous-conflict",
   "metadata": {},
   "source": [
    "# The end of preprocessing"
   ]
  },
  {
   "cell_type": "code",
   "execution_count": 2,
   "id": "german-couple",
   "metadata": {},
   "outputs": [],
   "source": [
    "data_root = Path('../../data/NER/processed/')"
   ]
  },
  {
   "cell_type": "code",
   "execution_count": 3,
   "id": "organized-borough",
   "metadata": {},
   "outputs": [],
   "source": [
    "data = pd.read_csv(data_root / 'tokens_labels_lstm.csv', sep = ';')"
   ]
  },
  {
   "cell_type": "code",
   "execution_count": 4,
   "id": "ideal-chicago",
   "metadata": {},
   "outputs": [
    {
     "data": {
      "text/html": [
       "<div>\n",
       "<style scoped>\n",
       "    .dataframe tbody tr th:only-of-type {\n",
       "        vertical-align: middle;\n",
       "    }\n",
       "\n",
       "    .dataframe tbody tr th {\n",
       "        vertical-align: top;\n",
       "    }\n",
       "\n",
       "    .dataframe thead th {\n",
       "        text-align: right;\n",
       "    }\n",
       "</style>\n",
       "<table border=\"1\" class=\"dataframe\">\n",
       "  <thead>\n",
       "    <tr style=\"text-align: right;\">\n",
       "      <th></th>\n",
       "      <th>token</th>\n",
       "      <th>label</th>\n",
       "    </tr>\n",
       "  </thead>\n",
       "  <tbody>\n",
       "    <tr>\n",
       "      <th>0</th>\n",
       "      <td>ханц</td>\n",
       "      <td>1</td>\n",
       "    </tr>\n",
       "    <tr>\n",
       "      <th>1</th>\n",
       "      <td>саду</td>\n",
       "      <td>0</td>\n",
       "    </tr>\n",
       "    <tr>\n",
       "      <th>2</th>\n",
       "      <td>мономочи</td>\n",
       "      <td>1</td>\n",
       "    </tr>\n",
       "    <tr>\n",
       "      <th>3</th>\n",
       "      <td>распороть</td>\n",
       "      <td>0</td>\n",
       "    </tr>\n",
       "    <tr>\n",
       "      <th>4</th>\n",
       "      <td>баснословных</td>\n",
       "      <td>0</td>\n",
       "    </tr>\n",
       "  </tbody>\n",
       "</table>\n",
       "</div>"
      ],
      "text/plain": [
       "          token  label\n",
       "0          ханц      1\n",
       "1          саду      0\n",
       "2      мономочи      1\n",
       "3     распороть      0\n",
       "4  баснословных      0"
      ]
     },
     "execution_count": 4,
     "metadata": {},
     "output_type": "execute_result"
    }
   ],
   "source": [
    "data.head()"
   ]
  },
  {
   "cell_type": "markdown",
   "id": "automotive-muscle",
   "metadata": {},
   "source": [
    "# Training"
   ]
  },
  {
   "cell_type": "code",
   "execution_count": 5,
   "id": "confused-unemployment",
   "metadata": {},
   "outputs": [],
   "source": [
    "X = list(data['token'])\n",
    "y = list(data['label'])\n",
    "from sklearn.model_selection import train_test_split\n",
    "X_train, X_test, y_train, y_test = train_test_split(X, y, test_size=0.2)"
   ]
  },
  {
   "cell_type": "code",
   "execution_count": 6,
   "id": "placed-architect",
   "metadata": {},
   "outputs": [],
   "source": [
    "from torch.utils.data import DataLoader\n",
    "from models.lstm.token_dataset import TokensDataset"
   ]
  },
  {
   "cell_type": "code",
   "execution_count": 7,
   "id": "blind-sugar",
   "metadata": {},
   "outputs": [],
   "source": [
    "train_ds = TokensDataset(X_train, y_train)\n",
    "test_ds = TokensDataset(X_test, y_test)"
   ]
  },
  {
   "cell_type": "code",
   "execution_count": 8,
   "id": "choice-concert",
   "metadata": {},
   "outputs": [],
   "source": [
    "batch_size = 1000\n",
    "vocab_size = 33\n",
    "max_len = len(max(data['token'], key=lambda i: len(i)))\n",
    "train_dl = DataLoader(train_ds, batch_size=batch_size, shuffle=True, collate_fn = TokensDataset.collate_fn)\n",
    "test_dl = DataLoader(test_ds, batch_size=batch_size, shuffle=True, collate_fn = TokensDataset.collate_fn)\n",
    "emb_dim = 16"
   ]
  },
  {
   "cell_type": "code",
   "execution_count": 9,
   "id": "greater-increase",
   "metadata": {},
   "outputs": [],
   "source": [
    "from tensorboardX import SummaryWriter\n",
    "writer = SummaryWriter()"
   ]
  },
  {
   "cell_type": "code",
   "execution_count": 12,
   "id": "great-leeds",
   "metadata": {},
   "outputs": [],
   "source": [
    "from tqdm import tqdm \n",
    "def train_model(model, epochs=10, lr=0.001):\n",
    "    parameters = filter(lambda p: p.requires_grad, model.parameters())\n",
    "    optimizer = torch.optim.Adam(parameters, lr=lr)\n",
    "    for i in range(epochs):\n",
    "        \n",
    "        print('\\n\\n')\n",
    "        print('------- EPOCH', i, '--------' )\n",
    "        \n",
    "        train_prebs_history = []\n",
    "        train_labels_history = []\n",
    "        train_accuracy_history = []\n",
    "        \n",
    "        test_preds_history = []\n",
    "        test_labels_history = []\n",
    "        \n",
    "        for batch_idx, (data, label) in tqdm(enumerate(train_dl), total = len(train_dl)):\n",
    "\n",
    "            optimizer.zero_grad()\n",
    "            \n",
    "            preds = model.forward(data)\n",
    "            \n",
    "            loss = nn.CrossEntropyLoss()\n",
    "\n",
    "            output = loss(preds, label)\n",
    "            \n",
    "            output.backward()\n",
    "            optimizer.step()\n",
    "\n",
    "            train_prebs_history.append(preds)\n",
    "            train_labels_history.append(label)\n",
    "            \n",
    "        print('--------TRAIN----------')\n",
    "        \n",
    "        print(f_score(train_prebs_history, train_labels_history))\n",
    "        train_accuracy = (preds.argmax(dim=1) == label).float().mean()\n",
    "        writer.add_scalar('Accuracy/train', train_accuracy, i)\n",
    "        writer.add_scalar('Loss/train', output, i)\n",
    "        writer.add_scalar('F1_score/train', f_score(train_prebs_history, train_labels_history), i) \n",
    "        \n",
    "        \n",
    "        for batch_idx, (data, label) in tqdm(enumerate(test_dl), total = len(test_dl)):\n",
    "            \n",
    "            test_preds = model.forward(data.long())\n",
    "            test_preds_history.append(test_preds)\n",
    "            test_labels_history.append(label)\n",
    "            \n",
    "            test_loss = loss(test_preds, label)\n",
    "        \n",
    "        print('-----------TEST----------')\n",
    "        print(f_score(test_preds_history, test_labels_history))\n",
    "        test_accuracy = (test_preds.argmax(dim=1) == label).float().mean()\n",
    "        writer.add_scalar('Accuracy/test', test_accuracy, i)\n",
    "        writer.add_scalar('Loss/test', test_loss, i)\n",
    "        writer.add_scalar('F1_score/test', f_score(test_preds_history, test_labels_history), i)\n",
    "            \n",
    "\n",
    "            "
   ]
  },
  {
   "cell_type": "code",
   "execution_count": 9,
   "id": "progressive-judgment",
   "metadata": {},
   "outputs": [],
   "source": [
    "from models.lstm.model import LSTMFixedLen"
   ]
  },
  {
   "cell_type": "code",
   "execution_count": 10,
   "id": "usual-oriental",
   "metadata": {},
   "outputs": [],
   "source": [
    "model_fixed = LSTMFixedLen(vocab_size, emb_dim, 128, max_len)"
   ]
  },
  {
   "cell_type": "code",
   "execution_count": 13,
   "id": "sixth-burner",
   "metadata": {
    "scrolled": false
   },
   "outputs": [
    {
     "ename": "NameError",
     "evalue": "name 'train_model' is not defined",
     "output_type": "error",
     "traceback": [
      "\u001b[1;31m---------------------------------------------------------------------------\u001b[0m",
      "\u001b[1;31mNameError\u001b[0m                                 Traceback (most recent call last)",
      "\u001b[1;32m<ipython-input-13-2f908333c01a>\u001b[0m in \u001b[0;36m<module>\u001b[1;34m\u001b[0m\n\u001b[1;32m----> 1\u001b[1;33m \u001b[0mtrain_model\u001b[0m\u001b[1;33m(\u001b[0m\u001b[0mmodel_fixed\u001b[0m\u001b[1;33m,\u001b[0m \u001b[0mepochs\u001b[0m\u001b[1;33m=\u001b[0m\u001b[1;36m30\u001b[0m\u001b[1;33m,\u001b[0m \u001b[0mlr\u001b[0m\u001b[1;33m=\u001b[0m\u001b[1;36m0.01\u001b[0m\u001b[1;33m)\u001b[0m\u001b[1;33m\u001b[0m\u001b[0m\n\u001b[0m",
      "\u001b[1;31mNameError\u001b[0m: name 'train_model' is not defined"
     ]
    }
   ],
   "source": [
    "train_model(model_fixed, epochs=30, lr=0.01)"
   ]
  },
  {
   "cell_type": "code",
   "execution_count": 14,
   "id": "rolled-namibia",
   "metadata": {},
   "outputs": [],
   "source": [
    "model_fixed.save('./weights/model_lstm_fixed.pt')"
   ]
  },
  {
   "cell_type": "code",
   "execution_count": 11,
   "id": "perfect-interval",
   "metadata": {},
   "outputs": [],
   "source": [
    "loaded_model = LSTMFixedLen().load('./weights/model_lstm_fixed.pt')"
   ]
  },
  {
   "cell_type": "code",
   "execution_count": 12,
   "id": "champion-colon",
   "metadata": {},
   "outputs": [
    {
     "data": {
      "text/plain": [
       "1"
      ]
     },
     "execution_count": 12,
     "metadata": {},
     "output_type": "execute_result"
    }
   ],
   "source": [
    "loaded_model.prediction('')"
   ]
  },
  {
   "cell_type": "code",
   "execution_count": 13,
   "id": "known-picnic",
   "metadata": {},
   "outputs": [
    {
     "data": {
      "text/plain": [
       "1"
      ]
     },
     "execution_count": 13,
     "metadata": {},
     "output_type": "execute_result"
    }
   ],
   "source": [
    "loaded_model.prediction('наруто')"
   ]
  },
  {
   "cell_type": "code",
   "execution_count": 21,
   "id": "promising-capture",
   "metadata": {},
   "outputs": [
    {
     "data": {
      "text/plain": [
       "['наруто', 'и', 'лет']"
      ]
     },
     "execution_count": 21,
     "metadata": {},
     "output_type": "execute_result"
    }
   ],
   "source": [
    "loaded_model.extract_names('привет меня зовут наруто и мне много лет')"
   ]
  },
  {
   "cell_type": "code",
   "execution_count": 22,
   "id": "duplicate-cathedral",
   "metadata": {},
   "outputs": [
    {
     "data": {
      "text/plain": [
       "list"
      ]
     },
     "execution_count": 22,
     "metadata": {},
     "output_type": "execute_result"
    }
   ],
   "source": [
    "a = 'привет меня зовут майя'\n",
    "type(a.split(' '))"
   ]
  },
  {
   "cell_type": "code",
   "execution_count": 24,
   "id": "visible-breed",
   "metadata": {},
   "outputs": [
    {
     "data": {
      "text/plain": [
       "1"
      ]
     },
     "execution_count": 24,
     "metadata": {},
     "output_type": "execute_result"
    }
   ],
   "source": [
    "import numpy\n",
    "a = torch.tensor([1, 2]).detach().numpy()\n",
    "a.argmax()"
   ]
  },
  {
   "cell_type": "code",
   "execution_count": null,
   "id": "streaming-destination",
   "metadata": {},
   "outputs": [],
   "source": []
  }
 ],
 "metadata": {
  "kernelspec": {
   "display_name": "Python 3",
   "language": "python",
   "name": "python3"
  },
  "language_info": {
   "codemirror_mode": {
    "name": "ipython",
    "version": 3
   },
   "file_extension": ".py",
   "mimetype": "text/x-python",
   "name": "python",
   "nbconvert_exporter": "python",
   "pygments_lexer": "ipython3",
   "version": "3.6.2"
  }
 },
 "nbformat": 4,
 "nbformat_minor": 5
}
