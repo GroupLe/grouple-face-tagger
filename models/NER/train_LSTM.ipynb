{
 "cells": [
  {
   "cell_type": "code",
   "execution_count": 27,
   "id": "illegal-stationery",
   "metadata": {},
   "outputs": [],
   "source": [
    "import pandas as pd\n",
    "from pathlib import Path\n",
    "import regex as re\n",
    "import torch\n",
    "import torch.nn as nn\n",
    "import torch.nn.functional as F\n",
    "import numpy as np\n",
    "from models.lstm.functions import encode, f_score"
   ]
  },
  {
   "cell_type": "markdown",
   "id": "hazardous-conflict",
   "metadata": {},
   "source": [
    "# The end of preprocessing"
   ]
  },
  {
   "cell_type": "code",
   "execution_count": 28,
   "id": "german-couple",
   "metadata": {},
   "outputs": [],
   "source": [
    "data_root = Path('../../data/NER/processed/')"
   ]
  },
  {
   "cell_type": "code",
   "execution_count": 29,
   "id": "organized-borough",
   "metadata": {},
   "outputs": [],
   "source": [
    "data = pd.read_csv(data_root / 'tokens_labels_lstm.csv', sep = ';')"
   ]
  },
  {
   "cell_type": "code",
   "execution_count": 30,
   "id": "ideal-chicago",
   "metadata": {},
   "outputs": [
    {
     "data": {
      "text/html": [
       "<div>\n",
       "<style scoped>\n",
       "    .dataframe tbody tr th:only-of-type {\n",
       "        vertical-align: middle;\n",
       "    }\n",
       "\n",
       "    .dataframe tbody tr th {\n",
       "        vertical-align: top;\n",
       "    }\n",
       "\n",
       "    .dataframe thead th {\n",
       "        text-align: right;\n",
       "    }\n",
       "</style>\n",
       "<table border=\"1\" class=\"dataframe\">\n",
       "  <thead>\n",
       "    <tr style=\"text-align: right;\">\n",
       "      <th></th>\n",
       "      <th>token</th>\n",
       "      <th>label</th>\n",
       "    </tr>\n",
       "  </thead>\n",
       "  <tbody>\n",
       "    <tr>\n",
       "      <th>0</th>\n",
       "      <td>молох</td>\n",
       "      <td>1</td>\n",
       "    </tr>\n",
       "    <tr>\n",
       "      <th>1</th>\n",
       "      <td>сознаю</td>\n",
       "      <td>0</td>\n",
       "    </tr>\n",
       "    <tr>\n",
       "      <th>2</th>\n",
       "      <td>ясукава</td>\n",
       "      <td>1</td>\n",
       "    </tr>\n",
       "    <tr>\n",
       "      <th>3</th>\n",
       "      <td>материалами</td>\n",
       "      <td>0</td>\n",
       "    </tr>\n",
       "    <tr>\n",
       "      <th>4</th>\n",
       "      <td>рокуджоджи</td>\n",
       "      <td>1</td>\n",
       "    </tr>\n",
       "  </tbody>\n",
       "</table>\n",
       "</div>"
      ],
      "text/plain": [
       "         token  label\n",
       "0        молох      1\n",
       "1       сознаю      0\n",
       "2      ясукава      1\n",
       "3  материалами      0\n",
       "4   рокуджоджи      1"
      ]
     },
     "execution_count": 30,
     "metadata": {},
     "output_type": "execute_result"
    }
   ],
   "source": [
    "data.head()"
   ]
  },
  {
   "cell_type": "code",
   "execution_count": 31,
   "id": "soviet-boost",
   "metadata": {},
   "outputs": [
    {
     "data": {
      "text/html": [
       "<div>\n",
       "<style scoped>\n",
       "    .dataframe tbody tr th:only-of-type {\n",
       "        vertical-align: middle;\n",
       "    }\n",
       "\n",
       "    .dataframe tbody tr th {\n",
       "        vertical-align: top;\n",
       "    }\n",
       "\n",
       "    .dataframe thead th {\n",
       "        text-align: right;\n",
       "    }\n",
       "</style>\n",
       "<table border=\"1\" class=\"dataframe\">\n",
       "  <thead>\n",
       "    <tr style=\"text-align: right;\">\n",
       "      <th></th>\n",
       "      <th>token</th>\n",
       "      <th>label</th>\n",
       "      <th>encoded</th>\n",
       "    </tr>\n",
       "  </thead>\n",
       "  <tbody>\n",
       "    <tr>\n",
       "      <th>0</th>\n",
       "      <td>молох</td>\n",
       "      <td>1</td>\n",
       "      <td>[13, 15, 12, 15, 22, 1, 1, 1, 1, 1, 1, 1, 1, 1]</td>\n",
       "    </tr>\n",
       "    <tr>\n",
       "      <th>1</th>\n",
       "      <td>сознаю</td>\n",
       "      <td>0</td>\n",
       "      <td>[18, 15, 8, 14, 1, 31, 1, 1, 1, 1, 1, 1, 1, 1]</td>\n",
       "    </tr>\n",
       "    <tr>\n",
       "      <th>2</th>\n",
       "      <td>ясукава</td>\n",
       "      <td>1</td>\n",
       "      <td>[32, 18, 20, 11, 1, 3, 1, 1, 1, 1, 1, 1, 1, 1]</td>\n",
       "    </tr>\n",
       "    <tr>\n",
       "      <th>3</th>\n",
       "      <td>материалами</td>\n",
       "      <td>0</td>\n",
       "      <td>[13, 1, 19, 6, 17, 9, 1, 12, 1, 13, 9, 1, 1, 1]</td>\n",
       "    </tr>\n",
       "    <tr>\n",
       "      <th>4</th>\n",
       "      <td>рокуджоджи</td>\n",
       "      <td>1</td>\n",
       "      <td>[17, 15, 11, 20, 5, 7, 15, 5, 7, 9, 1, 1, 1, 1]</td>\n",
       "    </tr>\n",
       "  </tbody>\n",
       "</table>\n",
       "</div>"
      ],
      "text/plain": [
       "         token  label                                          encoded\n",
       "0        молох      1  [13, 15, 12, 15, 22, 1, 1, 1, 1, 1, 1, 1, 1, 1]\n",
       "1       сознаю      0   [18, 15, 8, 14, 1, 31, 1, 1, 1, 1, 1, 1, 1, 1]\n",
       "2      ясукава      1   [32, 18, 20, 11, 1, 3, 1, 1, 1, 1, 1, 1, 1, 1]\n",
       "3  материалами      0  [13, 1, 19, 6, 17, 9, 1, 12, 1, 13, 9, 1, 1, 1]\n",
       "4   рокуджоджи      1  [17, 15, 11, 20, 5, 7, 15, 5, 7, 9, 1, 1, 1, 1]"
      ]
     },
     "execution_count": 31,
     "metadata": {},
     "output_type": "execute_result"
    }
   ],
   "source": [
    "max_len = len(max(data['token'], key=lambda i: len(i)))\n",
    "data['encoded'] = data['token'].apply(lambda x: np.array(encode(x, max_len)))\n",
    "data.head()"
   ]
  },
  {
   "cell_type": "markdown",
   "id": "automotive-muscle",
   "metadata": {},
   "source": [
    "# Training"
   ]
  },
  {
   "cell_type": "code",
   "execution_count": 32,
   "id": "confused-unemployment",
   "metadata": {},
   "outputs": [],
   "source": [
    "X = list(data['encoded'])\n",
    "y = list(data['label'])\n",
    "from sklearn.model_selection import train_test_split\n",
    "X_train, X_test, y_train, y_test = train_test_split(X, y, test_size=0.2)"
   ]
  },
  {
   "cell_type": "code",
   "execution_count": 33,
   "id": "placed-architect",
   "metadata": {},
   "outputs": [],
   "source": [
    "from torch.utils.data import DataLoader\n",
    "from models.lstm.token_dataset import TokensDataset"
   ]
  },
  {
   "cell_type": "code",
   "execution_count": 34,
   "id": "blind-sugar",
   "metadata": {},
   "outputs": [],
   "source": [
    "train_ds = TokensDataset(X_train, y_train)\n",
    "test_ds = TokensDataset(X_test, y_test)"
   ]
  },
  {
   "cell_type": "code",
   "execution_count": 35,
   "id": "choice-concert",
   "metadata": {},
   "outputs": [],
   "source": [
    "batch_size = 1000\n",
    "vocab_size = 33\n",
    "train_dl = DataLoader(train_ds, batch_size=batch_size, shuffle=True)\n",
    "test_dl = DataLoader(test_ds, batch_size=batch_size, shuffle=True)\n",
    "emb_dim = 16"
   ]
  },
  {
   "cell_type": "code",
   "execution_count": 36,
   "id": "configured-integration",
   "metadata": {},
   "outputs": [],
   "source": [
    "# import numpy as np\n",
    "# import sklearn\n",
    "# from sklearn.metrics import precision_recall_curve\n",
    "\n",
    "# sigmoid = nn.Sigmoid()\n",
    "\n",
    "# def f_score(preds, labels):\n",
    "#     preds2 = []\n",
    "#     assert all(map(lambda preds: preds.size(1) == 2, preds))\n",
    "#     to_probs = lambda preds: sigmoid(preds)[:, 0].cpu().detach().numpy()\n",
    "#     to_labels = lambda labels: (1 - labels).cpu().detach().numpy()\n",
    "    \n",
    "#     preds = list(map(to_probs, preds))\n",
    "#     labels = list(map(to_labels, labels))\n",
    "    \n",
    "#     preds = [item for subl in preds for item in subl]\n",
    "#     labels = [item for subl in labels for item in subl]\n",
    "#     precision, recall, thresholds = precision_recall_curve(labels, preds)\n",
    "#     fscore = (2 * precision * recall) / (precision + recall)\n",
    "#     ix = np.argmax(fscore)\n",
    "#     return fscore[ix]"
   ]
  },
  {
   "cell_type": "code",
   "execution_count": 37,
   "id": "greater-increase",
   "metadata": {},
   "outputs": [],
   "source": [
    "from tensorboardX import SummaryWriter\n",
    "writer = SummaryWriter()"
   ]
  },
  {
   "cell_type": "code",
   "execution_count": 38,
   "id": "great-leeds",
   "metadata": {},
   "outputs": [],
   "source": [
    "from tqdm import tqdm \n",
    "def train_model(model, epochs=10, lr=0.001):\n",
    "    parameters = filter(lambda p: p.requires_grad, model.parameters())\n",
    "    optimizer = torch.optim.Adam(parameters, lr=lr)\n",
    "    for i in range(epochs):\n",
    "        \n",
    "        print('\\n\\n')\n",
    "        print('------- EPOCH', i, '--------' )\n",
    "        \n",
    "        train_prebs_history = []\n",
    "        train_labels_history = []\n",
    "        train_accuracy_history = []\n",
    "        \n",
    "        test_preds_history = []\n",
    "        test_labels_history = []\n",
    "        \n",
    "        for batch_idx, (data, label) in tqdm(enumerate(train_dl), total = len(train_dl)):\n",
    "\n",
    "            optimizer.zero_grad()\n",
    "            \n",
    "            data = data.long()\n",
    "            \n",
    "            preds = model.forward(data)\n",
    "            \n",
    "            loss = nn.CrossEntropyLoss()\n",
    "\n",
    "            output = loss(preds, label)\n",
    "            \n",
    "            output.backward()\n",
    "            optimizer.step()\n",
    "\n",
    "            train_prebs_history.append(preds)\n",
    "            train_labels_history.append(label)\n",
    "            \n",
    "        print('--------TRAIN----------')\n",
    "        print(f_score(train_prebs_history, train_labels_history))\n",
    "        train_accuracy = (preds.argmax(dim=1) == label).float().mean()\n",
    "        writer.add_scalar('Accuracy/train', train_accuracy, i)\n",
    "        writer.add_scalar('Loss/train', output, i)\n",
    "        writer.add_scalar('F1_score/train', f_score(train_prebs_history, train_labels_history), i) \n",
    "        \n",
    "        \n",
    "        for batch_idx, (data, label) in tqdm(enumerate(test_dl), total = len(test_dl)):\n",
    "            \n",
    "            test_preds = model.forward(data.long())\n",
    "            test_preds_history.append(test_preds)\n",
    "            test_labels_history.append(label)\n",
    "            \n",
    "            test_loss = loss(test_preds, label)\n",
    "        \n",
    "        print('-----------TEST----------')\n",
    "        print(f_score(test_preds_history, test_labels_history))\n",
    "        test_accuracy = (test_preds.argmax(dim=1) == label).float().mean()\n",
    "        writer.add_scalar('Accuracy/test', test_accuracy, i)\n",
    "        writer.add_scalar('Loss/test', test_loss, i)\n",
    "        writer.add_scalar('F1_score/test', f_score(test_preds_history, test_labels_history), i)\n",
    "            \n",
    "\n",
    "            "
   ]
  },
  {
   "cell_type": "code",
   "execution_count": 39,
   "id": "progressive-judgment",
   "metadata": {},
   "outputs": [],
   "source": [
    "from models.lstm.model import LSTM_fixed_len"
   ]
  },
  {
   "cell_type": "code",
   "execution_count": 40,
   "id": "usual-oriental",
   "metadata": {},
   "outputs": [],
   "source": [
    "model_fixed = LSTM_fixed_len(vocab_size, emb_dim, 128)"
   ]
  },
  {
   "cell_type": "code",
   "execution_count": 41,
   "id": "sixth-burner",
   "metadata": {
    "scrolled": false
   },
   "outputs": [
    {
     "name": "stderr",
     "output_type": "stream",
     "text": [
      "\r",
      "  0%|                                                                                           | 0/53 [00:00<?, ?it/s]"
     ]
    },
    {
     "name": "stdout",
     "output_type": "stream",
     "text": [
      "\n",
      "\n",
      "\n",
      "------- EPOCH 0 --------\n"
     ]
    },
    {
     "name": "stderr",
     "output_type": "stream",
     "text": [
      "100%|██████████████████████████████████████████████████████████████████████████████████| 53/53 [00:12<00:00,  4.33it/s]\n",
      "  0%|                                                                                           | 0/14 [00:00<?, ?it/s]"
     ]
    },
    {
     "name": "stdout",
     "output_type": "stream",
     "text": [
      "--------TRAIN----------\n",
      "0.7282757152739593\n"
     ]
    },
    {
     "name": "stderr",
     "output_type": "stream",
     "text": [
      "100%|██████████████████████████████████████████████████████████████████████████████████| 14/14 [00:01<00:00, 11.79it/s]\n",
      "  0%|                                                                                           | 0/53 [00:00<?, ?it/s]"
     ]
    },
    {
     "name": "stdout",
     "output_type": "stream",
     "text": [
      "-----------TEST----------\n",
      "0.826239438864977\n",
      "\n",
      "\n",
      "\n",
      "------- EPOCH 1 --------\n"
     ]
    },
    {
     "name": "stderr",
     "output_type": "stream",
     "text": [
      " 25%|████████████████████                                                              | 13/53 [00:03<00:10,  3.70it/s]\n"
     ]
    },
    {
     "ename": "KeyboardInterrupt",
     "evalue": "",
     "output_type": "error",
     "traceback": [
      "\u001b[1;31m---------------------------------------------------------------------------\u001b[0m",
      "\u001b[1;31mKeyboardInterrupt\u001b[0m                         Traceback (most recent call last)",
      "\u001b[1;32m<ipython-input-41-2f908333c01a>\u001b[0m in \u001b[0;36m<module>\u001b[1;34m\u001b[0m\n\u001b[1;32m----> 1\u001b[1;33m \u001b[0mtrain_model\u001b[0m\u001b[1;33m(\u001b[0m\u001b[0mmodel_fixed\u001b[0m\u001b[1;33m,\u001b[0m \u001b[0mepochs\u001b[0m\u001b[1;33m=\u001b[0m\u001b[1;36m30\u001b[0m\u001b[1;33m,\u001b[0m \u001b[0mlr\u001b[0m\u001b[1;33m=\u001b[0m\u001b[1;36m0.01\u001b[0m\u001b[1;33m)\u001b[0m\u001b[1;33m\u001b[0m\u001b[0m\n\u001b[0m",
      "\u001b[1;32m<ipython-input-38-7963cb57f465>\u001b[0m in \u001b[0;36mtrain_model\u001b[1;34m(model, epochs, lr)\u001b[0m\n\u001b[0;32m     27\u001b[0m             \u001b[0moutput\u001b[0m \u001b[1;33m=\u001b[0m \u001b[0mloss\u001b[0m\u001b[1;33m(\u001b[0m\u001b[0mpreds\u001b[0m\u001b[1;33m,\u001b[0m \u001b[0mlabel\u001b[0m\u001b[1;33m)\u001b[0m\u001b[1;33m\u001b[0m\u001b[0m\n\u001b[0;32m     28\u001b[0m \u001b[1;33m\u001b[0m\u001b[0m\n\u001b[1;32m---> 29\u001b[1;33m             \u001b[0moutput\u001b[0m\u001b[1;33m.\u001b[0m\u001b[0mbackward\u001b[0m\u001b[1;33m(\u001b[0m\u001b[1;33m)\u001b[0m\u001b[1;33m\u001b[0m\u001b[0m\n\u001b[0m\u001b[0;32m     30\u001b[0m             \u001b[0moptimizer\u001b[0m\u001b[1;33m.\u001b[0m\u001b[0mstep\u001b[0m\u001b[1;33m(\u001b[0m\u001b[1;33m)\u001b[0m\u001b[1;33m\u001b[0m\u001b[0m\n\u001b[0;32m     31\u001b[0m \u001b[1;33m\u001b[0m\u001b[0m\n",
      "\u001b[1;32mc:\\users\\май\\appdata\\local\\programs\\python\\python36\\lib\\site-packages\\torch\\tensor.py\u001b[0m in \u001b[0;36mbackward\u001b[1;34m(self, gradient, retain_graph, create_graph)\u001b[0m\n\u001b[0;32m    219\u001b[0m                 \u001b[0mretain_graph\u001b[0m\u001b[1;33m=\u001b[0m\u001b[0mretain_graph\u001b[0m\u001b[1;33m,\u001b[0m\u001b[1;33m\u001b[0m\u001b[0m\n\u001b[0;32m    220\u001b[0m                 create_graph=create_graph)\n\u001b[1;32m--> 221\u001b[1;33m         \u001b[0mtorch\u001b[0m\u001b[1;33m.\u001b[0m\u001b[0mautograd\u001b[0m\u001b[1;33m.\u001b[0m\u001b[0mbackward\u001b[0m\u001b[1;33m(\u001b[0m\u001b[0mself\u001b[0m\u001b[1;33m,\u001b[0m \u001b[0mgradient\u001b[0m\u001b[1;33m,\u001b[0m \u001b[0mretain_graph\u001b[0m\u001b[1;33m,\u001b[0m \u001b[0mcreate_graph\u001b[0m\u001b[1;33m)\u001b[0m\u001b[1;33m\u001b[0m\u001b[0m\n\u001b[0m\u001b[0;32m    222\u001b[0m \u001b[1;33m\u001b[0m\u001b[0m\n\u001b[0;32m    223\u001b[0m     \u001b[1;32mdef\u001b[0m \u001b[0mregister_hook\u001b[0m\u001b[1;33m(\u001b[0m\u001b[0mself\u001b[0m\u001b[1;33m,\u001b[0m \u001b[0mhook\u001b[0m\u001b[1;33m)\u001b[0m\u001b[1;33m:\u001b[0m\u001b[1;33m\u001b[0m\u001b[0m\n",
      "\u001b[1;32mc:\\users\\май\\appdata\\local\\programs\\python\\python36\\lib\\site-packages\\torch\\autograd\\__init__.py\u001b[0m in \u001b[0;36mbackward\u001b[1;34m(tensors, grad_tensors, retain_graph, create_graph, grad_variables)\u001b[0m\n\u001b[0;32m    130\u001b[0m     Variable._execution_engine.run_backward(\n\u001b[0;32m    131\u001b[0m         \u001b[0mtensors\u001b[0m\u001b[1;33m,\u001b[0m \u001b[0mgrad_tensors_\u001b[0m\u001b[1;33m,\u001b[0m \u001b[0mretain_graph\u001b[0m\u001b[1;33m,\u001b[0m \u001b[0mcreate_graph\u001b[0m\u001b[1;33m,\u001b[0m\u001b[1;33m\u001b[0m\u001b[0m\n\u001b[1;32m--> 132\u001b[1;33m         allow_unreachable=True)  # allow_unreachable flag\n\u001b[0m\u001b[0;32m    133\u001b[0m \u001b[1;33m\u001b[0m\u001b[0m\n\u001b[0;32m    134\u001b[0m \u001b[1;33m\u001b[0m\u001b[0m\n",
      "\u001b[1;31mKeyboardInterrupt\u001b[0m: "
     ]
    }
   ],
   "source": [
    "train_model(model_fixed, epochs=30, lr=0.01)"
   ]
  },
  {
   "cell_type": "code",
   "execution_count": 16,
   "id": "rolled-namibia",
   "metadata": {},
   "outputs": [],
   "source": [
    "model_fixed.save('./weights/model_lstm_fixed.pt')"
   ]
  },
  {
   "cell_type": "code",
   "execution_count": 17,
   "id": "weekly-trust",
   "metadata": {},
   "outputs": [],
   "source": [
    "import os\n",
    "def load_model(model_path):\n",
    "    path = os.path.abspath(model_path)\n",
    "    model = LSTM_fixed_len()\n",
    "    model.load_state_dict(torch.load(path))\n",
    "    model.eval()\n",
    "    return model "
   ]
  },
  {
   "cell_type": "code",
   "execution_count": 18,
   "id": "miniature-signal",
   "metadata": {},
   "outputs": [],
   "source": [
    "loaded_model = load_model('./weights/model_lstm_fixed.pt')"
   ]
  },
  {
   "cell_type": "code",
   "execution_count": 19,
   "id": "champion-colon",
   "metadata": {},
   "outputs": [
    {
     "data": {
      "text/plain": [
       "tensor([[-0.3767, -0.0162]], grad_fn=<AddmmBackward>)"
      ]
     },
     "execution_count": 19,
     "metadata": {},
     "output_type": "execute_result"
    }
   ],
   "source": [
    "loaded_model.prediction('юки')"
   ]
  },
  {
   "cell_type": "code",
   "execution_count": null,
   "id": "known-picnic",
   "metadata": {},
   "outputs": [],
   "source": []
  }
 ],
 "metadata": {
  "kernelspec": {
   "display_name": "Python 3",
   "language": "python",
   "name": "python3"
  },
  "language_info": {
   "codemirror_mode": {
    "name": "ipython",
    "version": 3
   },
   "file_extension": ".py",
   "mimetype": "text/x-python",
   "name": "python",
   "nbconvert_exporter": "python",
   "pygments_lexer": "ipython3",
   "version": "3.6.2"
  }
 },
 "nbformat": 4,
 "nbformat_minor": 5
}
