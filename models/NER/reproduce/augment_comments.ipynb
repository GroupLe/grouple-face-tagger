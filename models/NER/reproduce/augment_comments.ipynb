{
 "cells": [
  {
   "cell_type": "code",
   "execution_count": 1,
   "metadata": {},
   "outputs": [],
   "source": [
    "import pandas as pd\n",
    "import json\n",
    "import matplotlib.pyplot as plt"
   ]
  },
  {
   "cell_type": "code",
   "execution_count": 2,
   "metadata": {},
   "outputs": [],
   "source": [
    "root = '../characters_parser/data/'"
   ]
  },
  {
   "cell_type": "code",
   "execution_count": 3,
   "metadata": {},
   "outputs": [
    {
     "data": {
      "text/html": [
       "<div>\n",
       "<style scoped>\n",
       "    .dataframe tbody tr th:only-of-type {\n",
       "        vertical-align: middle;\n",
       "    }\n",
       "\n",
       "    .dataframe tbody tr th {\n",
       "        vertical-align: top;\n",
       "    }\n",
       "\n",
       "    .dataframe thead th {\n",
       "        text-align: right;\n",
       "    }\n",
       "</style>\n",
       "<table border=\"1\" class=\"dataframe\">\n",
       "  <thead>\n",
       "    <tr style=\"text-align: right;\">\n",
       "      <th></th>\n",
       "      <th>title</th>\n",
       "      <th>name</th>\n",
       "    </tr>\n",
       "  </thead>\n",
       "  <tbody>\n",
       "    <tr>\n",
       "      <th>0</th>\n",
       "      <td>Атака титанов</td>\n",
       "      <td>Эрен Йегер</td>\n",
       "    </tr>\n",
       "    <tr>\n",
       "      <th>1</th>\n",
       "      <td>Атака титанов</td>\n",
       "      <td>Микаса Аккерман</td>\n",
       "    </tr>\n",
       "    <tr>\n",
       "      <th>2</th>\n",
       "      <td>Атака титанов</td>\n",
       "      <td>Армин Арлерт</td>\n",
       "    </tr>\n",
       "  </tbody>\n",
       "</table>\n",
       "</div>"
      ],
      "text/plain": [
       "           title             name\n",
       "0  Атака титанов       Эрен Йегер\n",
       "1  Атака титанов  Микаса Аккерман\n",
       "2  Атака титанов     Армин Арлерт"
      ]
     },
     "execution_count": 3,
     "metadata": {},
     "output_type": "execute_result"
    }
   ],
   "source": [
    "ydf1 = pd.read_csv(root + 'you_anime_characters_refs.csv', sep='\\t')\n",
    "ydf1['anime_url'] = ydf1.page_link.apply(lambda s: s.split('/')[-1])\n",
    "\n",
    "ydf2 = pd.read_csv(root + 'you_anime_refs.csv', sep='\\t')\n",
    "ydf2['anime_url'] = ydf2.link.apply(lambda s: s.split('/')[-1])\n",
    "\n",
    "ydf = pd.merge(ydf1, ydf2, on='anime_url')\n",
    "ydf = ydf['title name'.split()]\n",
    "\n",
    "ydf.title = ydf.title.apply(str.strip)\n",
    "ydf.name = ydf.name.apply(str.strip)\n",
    "\n",
    "ydf.head(3)"
   ]
  },
  {
   "cell_type": "code",
   "execution_count": 8,
   "metadata": {},
   "outputs": [],
   "source": [
    "names = ydf.name.drop_duplicates().tolist()"
   ]
  },
  {
   "cell_type": "code",
   "execution_count": 9,
   "metadata": {},
   "outputs": [
    {
     "data": {
      "text/plain": [
       "63065"
      ]
     },
     "execution_count": 9,
     "metadata": {},
     "output_type": "execute_result"
    }
   ],
   "source": [
    "len(names)"
   ]
  },
  {
   "cell_type": "code",
   "execution_count": 11,
   "metadata": {},
   "outputs": [
    {
     "data": {
      "text/plain": [
       "['Эрен Йегер', 'Микаса Аккерман', 'Армин Арлерт', 'Леви', 'Саша Блауз']"
      ]
     },
     "execution_count": 11,
     "metadata": {},
     "output_type": "execute_result"
    }
   ],
   "source": [
    "names[:5]"
   ]
  },
  {
   "cell_type": "markdown",
   "metadata": {},
   "source": [
    "# Read data"
   ]
  },
  {
   "cell_type": "code",
   "execution_count": 16,
   "metadata": {},
   "outputs": [],
   "source": [
    "from datasets.reader import read_conll\n",
    "from random import choice"
   ]
  },
  {
   "cell_type": "code",
   "execution_count": 35,
   "metadata": {},
   "outputs": [
    {
     "data": {
      "text/plain": [
       "0.11923411662315056"
      ]
     },
     "execution_count": 35,
     "metadata": {},
     "output_type": "execute_result"
    }
   ],
   "source": [
    "sents = read_conll('./data/comments/raw.txt')\n",
    "with_character = lambda sent: any(map(lambda token: token[-1] == 'PER', sent))\n",
    "\n",
    "sents_characters = list(filter(with_character, sents))\n",
    "len(sents_characters) / len(sents)"
   ]
  },
  {
   "cell_type": "markdown",
   "metadata": {},
   "source": [
    "# Augment"
   ]
  },
  {
   "cell_type": "code",
   "execution_count": 36,
   "metadata": {},
   "outputs": [],
   "source": [
    "def get_rand_character(characters):\n",
    "    char = choice(characters)\n",
    "    if len(char.split()) > 1:\n",
    "        char = choice(char.split())\n",
    "    return char"
   ]
  },
  {
   "cell_type": "code",
   "execution_count": 37,
   "metadata": {},
   "outputs": [],
   "source": [
    "from copy import deepcopy"
   ]
  },
  {
   "cell_type": "code",
   "execution_count": 74,
   "metadata": {},
   "outputs": [],
   "source": [
    "augmented_sents_characters = []\n",
    "AUGMENTATION_ROUNDS = 30\n",
    "\n",
    "for i in range(AUGMENTATION_ROUNDS):\n",
    "    for sent in sents_characters:\n",
    "        sent = deepcopy(sent)\n",
    "        for i, token in enumerate(sent):\n",
    "            if token[-1] == 'PER':\n",
    "                token = list(token)\n",
    "                token[0] = get_rand_character(names)\n",
    "                sent[i] = tuple(token)\n",
    "        augmented_sents_characters.append(sent)"
   ]
  },
  {
   "cell_type": "code",
   "execution_count": 75,
   "metadata": {},
   "outputs": [
    {
     "data": {
      "text/plain": [
       "4110"
      ]
     },
     "execution_count": 75,
     "metadata": {},
     "output_type": "execute_result"
    }
   ],
   "source": [
    "len(augmented_sents_characters)"
   ]
  },
  {
   "cell_type": "markdown",
   "metadata": {},
   "source": [
    "# Mix data with augmented and save"
   ]
  },
  {
   "cell_type": "code",
   "execution_count": 76,
   "metadata": {},
   "outputs": [],
   "source": [
    "from random import shuffle"
   ]
  },
  {
   "cell_type": "code",
   "execution_count": 77,
   "metadata": {},
   "outputs": [],
   "source": [
    "mixed = augmented_sents_characters + sents\n",
    "shuffle(mixed)"
   ]
  },
  {
   "cell_type": "code",
   "execution_count": 78,
   "metadata": {},
   "outputs": [],
   "source": [
    "token_to_str = lambda token: '%s _ _ %s' % token\n",
    "sent_to_str_tokens = lambda sent: '\\n'.join(list(map(token_to_str, sent)))\n",
    "\n",
    "mixed = list(map(sent_to_str_tokens, mixed))\n",
    "with open('./data/augmented_30_comments/raw.txt', 'w') as f:\n",
    "    f.write('\\n\\n'.join(mixed))"
   ]
  },
  {
   "cell_type": "code",
   "execution_count": null,
   "metadata": {},
   "outputs": [],
   "source": []
  }
 ],
 "metadata": {
  "kernelspec": {
   "display_name": "Python 3",
   "language": "python",
   "name": "python3"
  },
  "language_info": {
   "codemirror_mode": {
    "name": "ipython",
    "version": 3
   },
   "file_extension": ".py",
   "mimetype": "text/x-python",
   "name": "python",
   "nbconvert_exporter": "python",
   "pygments_lexer": "ipython3",
   "version": "3.6.9"
  }
 },
 "nbformat": 4,
 "nbformat_minor": 4
}
