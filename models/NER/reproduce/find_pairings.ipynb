{
 "cells": [
  {
   "cell_type": "markdown",
   "metadata": {},
   "source": [
    "Не особо удачная попытка найти пейринги в метаинформации манги на её главной странице. Такие данные очень редко указаны, но могут быть полезны для создания датасета/валидации алгоритмов NER"
   ]
  },
  {
   "cell_type": "code",
   "execution_count": 1,
   "metadata": {},
   "outputs": [],
   "source": [
    "import pandas as pd\n",
    "import json\n",
    "import matplotlib.pyplot as plt\n",
    "from pairing_utils import get_pairing"
   ]
  },
  {
   "cell_type": "code",
   "execution_count": null,
   "metadata": {},
   "outputs": [],
   "source": [
    "root = '../characters_parser/data/'\n",
    "path = root + 'merged_grouple_data.csv'\n",
    "df = pd.read_csv(path)\n",
    "print(df.shape)\n",
    "print(df[~df.volumes_data_file.isna()].shape)\n",
    "df = df[~df.volumes_data_file.isna()]\n",
    "df.head()"
   ]
  },
  {
   "cell_type": "code",
   "execution_count": 3,
   "metadata": {},
   "outputs": [],
   "source": [
    "def load_data(page_file, volumes_file):\n",
    "    page = root + 'grouple_manga_pages/' + page_file\n",
    "    volumes = root + 'grouple_merged_volumes/' + volumes_file\n",
    "    return {'page': json.load(open(page)),\n",
    "            'volumes': json.load(open(volumes))}"
   ]
  },
  {
   "cell_type": "code",
   "execution_count": 4,
   "metadata": {},
   "outputs": [
    {
     "name": "stdout",
     "output_type": "stream",
     "text": [
      "https://mintmanga.live/free__dj___awkward_sleepover ('Харука', 'Рин')\n",
      "https://mintmanga.live/yowamushi_pedal_dj___juicy_hold_hole ('Тодо', 'Макисима')\n",
      "https://mintmanga.live/katekyo_hitman_reborn__dj___a_game_for_new_suits ('Ямамото', 'Гокудера')\n",
      "https://mintmanga.live/durarara___dj___biting_because_you_re_mine ('Shizuo', 'Izaya')\n",
      "https://mintmanga.live/vse_vmeste ('Кенсей', 'Шуухей')\n",
      "https://mintmanga.live/black_butler_dj___cheshire None\n"
     ]
    }
   ],
   "source": [
    "c = 0\n",
    "for i, (name, page, volumes) in enumerate(df.to_records(index=False)):\n",
    "    if c > 5:\n",
    "        break\n",
    "    \n",
    "    data = load_data(page, volumes)\n",
    "    url = data['page']['url']\n",
    "    descr = data['page']['description'].replace('\\n', ' ')\n",
    "    is_pairing = 'пейринг' in descr.lower()\n",
    "\n",
    "    if is_pairing:\n",
    "        print(url, get_pairing(descr))\n",
    "        c += 1"
   ]
  },
  {
   "cell_type": "code",
   "execution_count": 5,
   "metadata": {},
   "outputs": [],
   "source": [
    "class Manga:\n",
    "    def __init__(self, characters, comments):\n",
    "        self.characters = characters\n",
    "        self.comments = comments"
   ]
  },
  {
   "cell_type": "code",
   "execution_count": 16,
   "metadata": {},
   "outputs": [
    {
     "name": "stdout",
     "output_type": "stream",
     "text": [
      "Харука + Рин\n"
     ]
    }
   ],
   "source": [
    "dataset = []\n",
    "\n",
    "for i, (name, page, volumes) in enumerate(df.to_records(index=False)):\n",
    "    data = load_data(page, volumes)\n",
    "    url = data['page']['url']\n",
    "    descr = data['page']['description']\n",
    "    is_pairing = 'пейринг' in descr.lower()\n",
    "\n",
    "    if is_pairing:\n",
    "        res = get_pairing(descr)\n",
    "        if res is not None:\n",
    "            p1, p2 = res\n",
    "            print(p1, '+', p2)\n",
    "            break"
   ]
  },
  {
   "cell_type": "code",
   "execution_count": 18,
   "metadata": {},
   "outputs": [
    {
     "data": {
      "text/plain": [
       "['Какой Хару на первом фрейме... Вах просто *о*',\n",
       " 'зубы .ахаха',\n",
       " 'опечаточка забавная. особенно в тему к \"плохому японскому\"',\n",
       " 'Какая страница',\n",
       " 'правильное решение',\n",
       " 'ща поможешь',\n",
       " 'какой цёёмик :З',\n",
       " 'молодец помог*О*',\n",
       " 'прям помесьХаруки и Соске @_@',\n",
       " 'Щас все будет ринушка ты только подожди']"
      ]
     },
     "execution_count": 18,
     "metadata": {},
     "output_type": "execute_result"
    }
   ],
   "source": [
    "comms = data['volumes']['comments']\n",
    "comms[:10]"
   ]
  },
  {
   "cell_type": "code",
   "execution_count": 72,
   "metadata": {},
   "outputs": [],
   "source": [
    "from nltk.stem.snowball import SnowballStemmer\n",
    "from nltk.tokenize import TweetTokenizer\n",
    "tokenizer = TweetTokenizer()\n",
    "stemmer = SnowballStemmer(\"russian\")"
   ]
  },
  {
   "cell_type": "code",
   "execution_count": 108,
   "metadata": {},
   "outputs": [],
   "source": [
    "class Comment:\n",
    "    def __init__(self, characters, comments):\n",
    "        self.comments = list(map(self.clear, comments))\n",
    "        self.labels = list(map(lambda s: ['O' for _ in s.split()], self.comments))\n",
    "        for character in characters:\n",
    "            character = stemmer.stem(character)\n",
    "            for comm_i, comm in enumerate(self.comments):\n",
    "                comm = self.stem(comm).lower()\n",
    "                for i, word in enumerate(comm.split()):\n",
    "                    if (word in character and len(word)>=3) or word == character:\n",
    "                        self.labels[comm_i][i] = 'PER'\n",
    "    \n",
    "    def clear(self, text, stem=False):\n",
    "        text = self.split_pairings(text)\n",
    "        text = self.tokenize(text)\n",
    "        text = self.del_spec_symbols(text)\n",
    "        if stem:\n",
    "            text = self.stem(text)\n",
    "        return text\n",
    "\n",
    "    def split_pairings(self, text):\n",
    "        s = text[0]\n",
    "        for i, c in enumerate(text[1:], start=1):\n",
    "            prev = text[i-1]\n",
    "            if c.isalpha() and prev.isalpha():\n",
    "                if c.isupper() and not prev.isupper():\n",
    "                    s += ' '\n",
    "            s += c\n",
    "        return s\n",
    "    \n",
    "    def tokenize(self, text):\n",
    "        text = tokenizer.tokenize(text)\n",
    "        text = ' '.join(text)\n",
    "        return text\n",
    "    \n",
    "    def del_spec_symbols(self, text):\n",
    "        ranges = 'ая АЯ az AZ 09'.split()\n",
    "        allowed = ''\n",
    "        for cfrom, cto in ranges:\n",
    "            chars = list(map(chr, range(ord(cfrom), ord(cto)+1))) # range of symbols\n",
    "            allowed += ''.join(chars)\n",
    "        punkt = ',.!? '\n",
    "        \n",
    "        s = text[0] if text[0] in allowed else ''\n",
    "        for i, c in enumerate(text[1:], start=1):\n",
    "            prev = text[i-1]\n",
    "            if prev in punkt and c in punkt:\n",
    "                # do not allow sequential punktuation such as ...\n",
    "                continue\n",
    "            if c in allowed or c in punkt:\n",
    "                s += c\n",
    "        return s.strip()\n",
    "    \n",
    "    def stem(self, text):\n",
    "        def stem_cased(word):\n",
    "            if word[0].isupper():\n",
    "                return stemmer.stem(word).capitalize()\n",
    "            else:\n",
    "                return stemmer.stem(word)\n",
    "            \n",
    "        text = list(filter(lambda s: len(s)>0, text.split()))\n",
    "        text = [stem_cased(w) for w in text]\n",
    "        return ' '.join(text)"
   ]
  },
  {
   "cell_type": "code",
   "execution_count": 109,
   "metadata": {},
   "outputs": [
    {
     "name": "stdout",
     "output_type": "stream",
     "text": [
      "Харука + Рин\n",
      "Тодо + Макисима\n",
      "Ямамото + Гокудера\n",
      "Shizuo + Izaya\n",
      "Кенсей + Шуухей\n",
      "Эспада + Гриммиджоу\n"
     ]
    }
   ],
   "source": [
    "dataset = []\n",
    "n = 0\n",
    "\n",
    "def hotfix(pname):\n",
    "    for i, c in enumerate(pname[1:], start=1):\n",
    "        if c.isupper():\n",
    "            return pname[:i]\n",
    "    return pname\n",
    "        \n",
    "for i, (name, page, volumes) in enumerate(df.to_records(index=False)):\n",
    "    data = load_data(page, volumes)\n",
    "    url = data['page']['url']\n",
    "    descr = data['page']['description']\n",
    "    is_pairing = 'пейринг' in descr.lower()\n",
    "\n",
    "    if n > 5:\n",
    "        break\n",
    "    \n",
    "    if is_pairing:\n",
    "        res = get_pairing(descr)\n",
    "        if res is not None:\n",
    "            n += 1\n",
    "            p1, p2 = res\n",
    "            p2 = hotfix(p2)\n",
    "            print(p1, '+', p2)\n",
    "            dataset.append(Comment((p1, p2), data['volumes']['comments']))"
   ]
  },
  {
   "cell_type": "code",
   "execution_count": null,
   "metadata": {},
   "outputs": [],
   "source": [
    "list(map(lambda obj: list(zip(obj.comments, obj.labels)), dataset))"
   ]
  },
  {
   "cell_type": "code",
   "execution_count": null,
   "metadata": {},
   "outputs": [],
   "source": []
  },
  {
   "cell_type": "code",
   "execution_count": null,
   "metadata": {},
   "outputs": [],
   "source": []
  },
  {
   "cell_type": "code",
   "execution_count": 1,
   "metadata": {},
   "outputs": [
    {
     "ename": "NameError",
     "evalue": "name 'Comment' is not defined",
     "output_type": "error",
     "traceback": [
      "\u001b[0;31m---------------------------------------------------------------------------\u001b[0m",
      "\u001b[0;31mNameError\u001b[0m                                 Traceback (most recent call last)",
      "\u001b[0;32m<ipython-input-1-df1863c33c38>\u001b[0m in \u001b[0;36m<module>\u001b[0;34m\u001b[0m\n\u001b[0;32m----> 1\u001b[0;31m \u001b[0mcleaner\u001b[0m \u001b[0;34m=\u001b[0m \u001b[0mComment\u001b[0m\u001b[0;34m(\u001b[0m\u001b[0;34m)\u001b[0m\u001b[0;34m\u001b[0m\u001b[0;34m\u001b[0m\u001b[0m\n\u001b[0m\u001b[1;32m      2\u001b[0m \u001b[0;32mdef\u001b[0m \u001b[0mclean\u001b[0m\u001b[0;34m(\u001b[0m\u001b[0mtext\u001b[0m\u001b[0;34m)\u001b[0m\u001b[0;34m:\u001b[0m\u001b[0;34m\u001b[0m\u001b[0;34m\u001b[0m\u001b[0m\n\u001b[1;32m      3\u001b[0m     \u001b[0mtext\u001b[0m \u001b[0;34m=\u001b[0m \u001b[0mcleaner\u001b[0m\u001b[0;34m.\u001b[0m\u001b[0msplit_pairings\u001b[0m\u001b[0;34m(\u001b[0m\u001b[0mtext\u001b[0m\u001b[0;34m)\u001b[0m\u001b[0;34m\u001b[0m\u001b[0;34m\u001b[0m\u001b[0m\n\u001b[1;32m      4\u001b[0m     \u001b[0mtext\u001b[0m \u001b[0;34m=\u001b[0m \u001b[0mcleaner\u001b[0m\u001b[0;34m.\u001b[0m\u001b[0mtokenize\u001b[0m\u001b[0;34m(\u001b[0m\u001b[0mtext\u001b[0m\u001b[0;34m)\u001b[0m\u001b[0;34m\u001b[0m\u001b[0;34m\u001b[0m\u001b[0m\n\u001b[1;32m      5\u001b[0m     \u001b[0mtext\u001b[0m \u001b[0;34m=\u001b[0m \u001b[0mcleaner\u001b[0m\u001b[0;34m.\u001b[0m\u001b[0mdel_spec_symbols\u001b[0m\u001b[0;34m(\u001b[0m\u001b[0mtext\u001b[0m\u001b[0;34m)\u001b[0m\u001b[0;34m\u001b[0m\u001b[0;34m\u001b[0m\u001b[0m\n",
      "\u001b[0;31mNameError\u001b[0m: name 'Comment' is not defined"
     ]
    }
   ],
   "source": [
    "cleaner = Comment()\n",
    "def clean(text):\n",
    "    text = cleaner.split_pairings(text)\n",
    "    text = cleaner.tokenize(text)\n",
    "    text = cleaner.del_spec_symbols(text)\n",
    "    text = cleaner.stem(text)\n",
    "    return text\n",
    "\n",
    "list(map(clean, comms))"
   ]
  },
  {
   "cell_type": "code",
   "execution_count": null,
   "metadata": {},
   "outputs": [],
   "source": []
  }
 ],
 "metadata": {
  "kernelspec": {
   "display_name": "Python 3",
   "language": "python",
   "name": "python3"
  },
  "language_info": {
   "codemirror_mode": {
    "name": "ipython",
    "version": 3
   },
   "file_extension": ".py",
   "mimetype": "text/x-python",
   "name": "python",
   "nbconvert_exporter": "python",
   "pygments_lexer": "ipython3",
   "version": "3.6.9"
  }
 },
 "nbformat": 4,
 "nbformat_minor": 4
}
