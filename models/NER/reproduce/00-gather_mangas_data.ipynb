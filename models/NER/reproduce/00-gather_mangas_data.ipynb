{
 "cells": [
  {
   "cell_type": "markdown",
   "metadata": {},
   "source": [
    "Собирает в единую табличку ссылки на файлы сырых скачанных данных"
   ]
  },
  {
   "cell_type": "code",
   "execution_count": 1,
   "metadata": {},
   "outputs": [],
   "source": [
    "from pathlib import Path\n",
    "from collections import defaultdict\n",
    "import pandas as pd\n",
    "import json\n",
    "import os\n",
    "from tqdm.notebook import tqdm\n",
    "import matplotlib.pyplot as plt"
   ]
  },
  {
   "cell_type": "code",
   "execution_count": 2,
   "metadata": {},
   "outputs": [],
   "source": [
    "root = Path('../../../data/NER/')\n",
    "data_root = root / 'raw'\n",
    "processed_data_root = root / 'processed'"
   ]
  },
  {
   "cell_type": "markdown",
   "metadata": {},
   "source": [
    "# Add data from grouple manga main page"
   ]
  },
  {
   "cell_type": "code",
   "execution_count": 3,
   "metadata": {},
   "outputs": [
    {
     "data": {
      "text/plain": [
       "{'url': 'https://mintmanga.live/naruto_dodzinsi__novogodnii_festival',\n",
       " 'manga_type': 'Сингл',\n",
       " 'title': 'Наруто додзинси: Новогодний фестиваль',\n",
       " 'description': 'Фестиваль! Скрытый лист отмечает праздник! Когда всюду лотки сугощениями, смех весёлой толпы синоби в разноцветных кимоно, а наверху,бросая ослепительно яркие цвета и вспышки, взрывается фейерверк - вамвдруг захотелось отдохнуть от шума и понаблюдать за этим изумительнымзрелищем где-нибудь в укромном месте. Хорошо, что Саске знает где оно...Додзинси Саске х Наруто.',\n",
       " 'comments': ['О боже мой! Я даже боюсь представить что там, не говоря о том, чтобы читать!',\n",
       "  'симпотичненько и рисовка радует глаза!',\n",
       "  'Рисовка мила, да. Но вот эта немощность... Сначала, конечно, удивилась, но потом понравилось. И эти слова в конце... Лучше бы вообще молчали. Все впечатление испортило.А еще, тут яоя нет.',\n",
       "  'Тут можно и без яоя)Рисовка очень красивая. Все так мило) Но ограничение ни к чему.',\n",
       "  'Присоединяюсь к предыдущим коментам - ограничение здесь не надо, даже поцелуя нет! А так странное впечатление от дидзински, в начале нет слов потом резко появляютсь, история норм. - такая повседневная.',\n",
       "  'Ограничение не нужно, там совершенно нет ничего такого  Очень красиво и мило, вот и все'],\n",
       " 'volumes': ['/naruto_dodzinsi__novogodnii_festival/vol1/1']}"
      ]
     },
     "execution_count": 3,
     "metadata": {},
     "output_type": "execute_result"
    }
   ],
   "source": [
    "# data example\n",
    "data = json.load(open(data_root / 'grouple_manga_pages/0.json'))\n",
    "data"
   ]
  },
  {
   "cell_type": "code",
   "execution_count": 4,
   "metadata": {},
   "outputs": [],
   "source": [
    "# data example\n",
    "data = json.load(open(data_root / 'grouple_manga_volumes/0.json'))\n",
    "# data"
   ]
  },
  {
   "cell_type": "markdown",
   "metadata": {},
   "source": [
    "# Create url to page_file and volume_file"
   ]
  },
  {
   "cell_type": "code",
   "execution_count": 5,
   "metadata": {},
   "outputs": [
    {
     "data": {
      "application/vnd.jupyter.widget-view+json": {
       "model_id": "62e22e6060de4c3685178d8cf3e2f6e4",
       "version_major": 2,
       "version_minor": 0
      },
      "text/plain": [
       "  0%|          | 0/8153 [00:00<?, ?it/s]"
      ]
     },
     "metadata": {},
     "output_type": "display_data"
    }
   ],
   "source": [
    "url2page = dict()\n",
    "path = data_root / 'grouple_manga_pages/'\n",
    "\n",
    "for file in tqdm(os.listdir(path)):\n",
    "    data = json.load(open(path / file))\n",
    "    url_title = data['url'].split('/')[-1]\n",
    "    url2page[url_title] = file"
   ]
  },
  {
   "cell_type": "code",
   "execution_count": null,
   "metadata": {},
   "outputs": [
    {
     "data": {
      "application/vnd.jupyter.widget-view+json": {
       "model_id": "a203fe0ce07141818d1f52908462d032",
       "version_major": 2,
       "version_minor": 0
      },
      "text/plain": [
       "  0%|          | 0/21136 [00:00<?, ?it/s]"
      ]
     },
     "metadata": {},
     "output_type": "display_data"
    },
    {
     "data": {
      "application/vnd.jupyter.widget-view+json": {
       "model_id": "21fb76c4afb643638722320267a94dc8",
       "version_major": 2,
       "version_minor": 0
      },
      "text/plain": [
       "  0%|          | 0/1675 [00:00<?, ?it/s]"
      ]
     },
     "metadata": {},
     "output_type": "display_data"
    }
   ],
   "source": [
    "# get several volumes per one manga\n",
    "url2volumes = defaultdict(lambda: [])\n",
    "path = data_root / 'grouple_manga_volumes/'\n",
    "\n",
    "for file in tqdm(os.listdir(path)):\n",
    "    if not file.endswith('.json'):\n",
    "        continue\n",
    "    data = json.load(open(path / file))\n",
    "    url_title = data['url'].split('/')[-3]\n",
    "    url2volumes[url_title].append(file)\n",
    "\n",
    "\n",
    "# merge volumes into one file\n",
    "url2volume = defaultdict(lambda: None)\n",
    "merged_files_path = data_root / 'grouple_merged_volumes/'\n",
    "\n",
    "for i, (url_title, vols) in tqdm(enumerate(url2volumes.items()), total=len(url2volumes)):\n",
    "    obj = {'comments': [],\n",
    "           'links': []}\n",
    "    for vol in vols:\n",
    "        data = json.load(open(path / vol))\n",
    "        obj['comments'] += data['comments']\n",
    "        obj['links'] += data['links']\n",
    "    obj['url'] = data['url']\n",
    "    \n",
    "    filename = f'{i}.json'\n",
    "    url2volume[url_title] = filename\n",
    "    json.dump(obj, open(merged_files_path / filename, 'w'))"
   ]
  },
  {
   "cell_type": "code",
   "execution_count": null,
   "metadata": {},
   "outputs": [],
   "source": [
    "# Create df with links to files\n",
    "\n",
    "records = []\n",
    "for url in tqdm(list(url2page.keys())):\n",
    "    page = url2page[url]\n",
    "    volumes = url2volume[url]\n",
    "    records.append((url, page, volumes))\n",
    "\n",
    "df = pd.DataFrame.from_records(records, columns=['url', 'page_file', 'volumes_data_file'])"
   ]
  },
  {
   "cell_type": "code",
   "execution_count": null,
   "metadata": {},
   "outputs": [],
   "source": [
    "df.to_csv(processed_data_root / 'merged_grouple_data.csv', index=False)"
   ]
  },
  {
   "cell_type": "markdown",
   "metadata": {},
   "source": [
    "# Plotsurl2volume"
   ]
  },
  {
   "cell_type": "code",
   "execution_count": null,
   "metadata": {},
   "outputs": [],
   "source": [
    "# How many volumes loaded per manga\n",
    "counts = list(map(len, url2volumes.values()))\n",
    "\n",
    "counts = pd.Series(list(manga2volumes.values()))\n",
    "_ = plt.hist(counts, bins=100)\n",
    "plt.showz()\n",
    "\n",
    "_ = plt.hist(counts[counts < 50], bins=50)\n",
    "plt.show()"
   ]
  },
  {
   "cell_type": "code",
   "execution_count": null,
   "metadata": {},
   "outputs": [],
   "source": []
  },
  {
   "cell_type": "code",
   "execution_count": null,
   "metadata": {},
   "outputs": [],
   "source": []
  }
 ],
 "metadata": {
  "kernelspec": {
   "display_name": "Python 3",
   "language": "python",
   "name": "python3"
  },
  "language_info": {
   "codemirror_mode": {
    "name": "ipython",
    "version": 3
   },
   "file_extension": ".py",
   "mimetype": "text/x-python",
   "name": "python",
   "nbconvert_exporter": "python",
   "pygments_lexer": "ipython3",
   "version": "3.6.2"
  }
 },
 "nbformat": 4,
 "nbformat_minor": 4
}
