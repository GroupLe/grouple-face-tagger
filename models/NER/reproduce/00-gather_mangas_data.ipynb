{
 "cells": [
  {
   "cell_type": "markdown",
   "metadata": {},
   "source": [
    "Собирает в единую табличку ссылки на файлы сырых скачанных данных"
   ]
  },
  {
   "cell_type": "code",
   "execution_count": 8,
   "metadata": {},
   "outputs": [],
   "source": [
    "from pathlib import Path\n",
    "from collections import defaultdict\n",
    "import pandas as pd\n",
    "import json\n",
    "import os\n",
    "from tqdm.notebook import tqdm\n",
    "import matplotlib.pyplot as plt"
   ]
  },
  {
   "cell_type": "code",
   "execution_count": 9,
   "metadata": {},
   "outputs": [],
   "source": [
    "root = Path('../../../data/NER/')\n",
    "data_root = root / 'raw'\n",
    "processed_data_root = root / 'processed'"
   ]
  },
  {
   "cell_type": "markdown",
   "metadata": {},
   "source": [
    "# Add data from grouple manga main page"
   ]
  },
  {
   "cell_type": "code",
   "execution_count": 10,
   "metadata": {},
   "outputs": [
    {
     "data": {
      "text/plain": [
       "{'url': 'https://mintmanga.live/naruto_dodzinsi__novogodnii_festival',\n",
       " 'manga_type': 'Сингл',\n",
       " 'title': 'Наруто додзинси: Новогодний фестиваль',\n",
       " 'description': 'Фестиваль! Скрытый лист отмечает праздник! Когда всюду лотки сугощениями, смех весёлой толпы синоби в разноцветных кимоно, а наверху,бросая ослепительно яркие цвета и вспышки, взрывается фейерверк - вамвдруг захотелось отдохнуть от шума и понаблюдать за этим изумительнымзрелищем где-нибудь в укромном месте. Хорошо, что Саске знает где оно...Додзинси Саске х Наруто.',\n",
       " 'comments': ['О боже мой! Я даже боюсь представить что там, не говоря о том, чтобы читать!',\n",
       "  'симпотичненько и рисовка радует глаза!',\n",
       "  'Рисовка мила, да. Но вот эта немощность... Сначала, конечно, удивилась, но потом понравилось. И эти слова в конце... Лучше бы вообще молчали. Все впечатление испортило.А еще, тут яоя нет.',\n",
       "  'Тут можно и без яоя)Рисовка очень красивая. Все так мило) Но ограничение ни к чему.',\n",
       "  'Присоединяюсь к предыдущим коментам - ограничение здесь не надо, даже поцелуя нет! А так странное впечатление от дидзински, в начале нет слов потом резко появляютсь, история норм. - такая повседневная.',\n",
       "  'Ограничение не нужно, там совершенно нет ничего такого  Очень красиво и мило, вот и все'],\n",
       " 'volumes': ['/naruto_dodzinsi__novogodnii_festival/vol1/1']}"
      ]
     },
     "execution_count": 10,
     "metadata": {},
     "output_type": "execute_result"
    }
   ],
   "source": [
    "# data example\n",
    "data = json.load(open(data_root / 'grouple_manga_pages/0.json'))\n",
    "data"
   ]
  },
  {
   "cell_type": "code",
   "execution_count": 11,
   "metadata": {},
   "outputs": [],
   "source": [
    "# data example\n",
    "data = json.load(open(data_root / 'grouple_manga_volumes/0.json'))\n",
    "# data"
   ]
  },
  {
   "cell_type": "markdown",
   "metadata": {},
   "source": [
    "# Create url to page_file and volume_file"
   ]
  },
  {
   "cell_type": "code",
   "execution_count": 12,
   "metadata": {},
   "outputs": [
    {
     "data": {
      "application/vnd.jupyter.widget-view+json": {
       "model_id": "61b1be3e89374706b71fb26e66ee1cde",
       "version_major": 2,
       "version_minor": 0
      },
      "text/plain": [
       "HBox(children=(FloatProgress(value=0.0, max=8153.0), HTML(value='')))"
      ]
     },
     "metadata": {},
     "output_type": "display_data"
    },
    {
     "name": "stdout",
     "output_type": "stream",
     "text": [
      "\n"
     ]
    }
   ],
   "source": [
    "url2page = dict()\n",
    "path = data_root / 'grouple_manga_pages/'\n",
    "\n",
    "for file in tqdm(os.listdir(path)):\n",
    "    data = json.load(open(path / file))\n",
    "    url_title = data['url'].split('/')[-1]\n",
    "    url2page[url_title] = file"
   ]
  },
  {
   "cell_type": "code",
   "execution_count": 14,
   "metadata": {},
   "outputs": [
    {
     "data": {
      "application/vnd.jupyter.widget-view+json": {
       "model_id": "ec2ddd895a0c4f50b14a1b2c7a7cb814",
       "version_major": 2,
       "version_minor": 0
      },
      "text/plain": [
       "HBox(children=(FloatProgress(value=0.0, max=21136.0), HTML(value='')))"
      ]
     },
     "metadata": {},
     "output_type": "display_data"
    },
    {
     "name": "stdout",
     "output_type": "stream",
     "text": [
      "\n"
     ]
    },
    {
     "ename": "NameError",
     "evalue": "name 'manga2volumes_files' is not defined",
     "output_type": "error",
     "traceback": [
      "\u001b[0;31m---------------------------------------------------------------------------\u001b[0m",
      "\u001b[0;31mNameError\u001b[0m                                 Traceback (most recent call last)",
      "\u001b[0;32m<ipython-input-14-6e939e5e2a4b>\u001b[0m in \u001b[0;36m<module>\u001b[0;34m\u001b[0m\n\u001b[1;32m     15\u001b[0m \u001b[0mmerged_files_path\u001b[0m \u001b[0;34m=\u001b[0m \u001b[0mdata_root\u001b[0m \u001b[0;34m/\u001b[0m \u001b[0;34m'grouple_merged_volumes/'\u001b[0m\u001b[0;34m\u001b[0m\u001b[0;34m\u001b[0m\u001b[0m\n\u001b[1;32m     16\u001b[0m \u001b[0;34m\u001b[0m\u001b[0m\n\u001b[0;32m---> 17\u001b[0;31m \u001b[0;32mfor\u001b[0m \u001b[0mi\u001b[0m\u001b[0;34m,\u001b[0m \u001b[0;34m(\u001b[0m\u001b[0murl_title\u001b[0m\u001b[0;34m,\u001b[0m \u001b[0mvols\u001b[0m\u001b[0;34m)\u001b[0m \u001b[0;32min\u001b[0m \u001b[0mtqdm\u001b[0m\u001b[0;34m(\u001b[0m\u001b[0menumerate\u001b[0m\u001b[0;34m(\u001b[0m\u001b[0murl2volumes\u001b[0m\u001b[0;34m.\u001b[0m\u001b[0mitems\u001b[0m\u001b[0;34m(\u001b[0m\u001b[0;34m)\u001b[0m\u001b[0;34m)\u001b[0m\u001b[0;34m,\u001b[0m \u001b[0mtotal\u001b[0m\u001b[0;34m=\u001b[0m\u001b[0mlen\u001b[0m\u001b[0;34m(\u001b[0m\u001b[0mmanga2volumes_files\u001b[0m\u001b[0;34m)\u001b[0m\u001b[0;34m)\u001b[0m\u001b[0;34m:\u001b[0m\u001b[0;34m\u001b[0m\u001b[0;34m\u001b[0m\u001b[0m\n\u001b[0m\u001b[1;32m     18\u001b[0m     obj = {'comments': [],\n\u001b[1;32m     19\u001b[0m            'links': []}\n",
      "\u001b[0;31mNameError\u001b[0m: name 'manga2volumes_files' is not defined"
     ]
    }
   ],
   "source": [
    "# get several volumes per one manga\n",
    "url2volumes = defaultdict(lambda: [])\n",
    "path = data_root / 'grouple_manga_volumes/'\n",
    "\n",
    "for file in tqdm(os.listdir(path)):\n",
    "    if not file.endswith('.json'):\n",
    "        continue\n",
    "    data = json.load(open(path / file))\n",
    "    url_title = data['url'].split('/')[-3]\n",
    "    url2volumes[url_title].append(file)\n",
    "\n",
    "\n",
    "# merge volumes into one file\n",
    "url2volume = defaultdict(lambda: None)\n",
    "merged_files_path = data_root / 'grouple_merged_volumes/'\n",
    "\n",
    "for i, (url_title, vols) in tqdm(enumerate(url2volumes.items()), total=len(manga2volumes_files)):\n",
    "    obj = {'comments': [],\n",
    "           'links': []}\n",
    "    for vol in vols:\n",
    "        data = json.load(open(path / vol))\n",
    "        obj['comments'] += data['comments']\n",
    "        obj['links'] += data['links']\n",
    "    obj['url'] = data['url']\n",
    "    \n",
    "    filename = f'{i}.json'\n",
    "    url2volume[url_title] = filename\n",
    "    json.dump(obj, open(merged_files_path / filename, 'w'))"
   ]
  },
  {
   "cell_type": "code",
   "execution_count": null,
   "metadata": {},
   "outputs": [],
   "source": [
    "# Create df with links to files\n",
    "\n",
    "records = []\n",
    "for url in tqdm(list(url2page.keys())):\n",
    "    page = url2page[url]\n",
    "    volumes = url2volume[url]\n",
    "    records.append((url, page, volumes))\n",
    "\n",
    "df = pd.DataFrame.from_records(records, columns=['url', 'page_file', 'volumes_data_file'])"
   ]
  },
  {
   "cell_type": "code",
   "execution_count": null,
   "metadata": {},
   "outputs": [],
   "source": [
    "df.to_csv(processed_data_root / 'merged_grouple_data.csv', index=False)"
   ]
  },
  {
   "cell_type": "markdown",
   "metadata": {},
   "source": [
    "# Plotsurl2volume"
   ]
  },
  {
   "cell_type": "code",
   "execution_count": null,
   "metadata": {},
   "outputs": [],
   "source": [
    "# How many volumes loaded per manga\n",
    "counts = list(map(len, url2volumes.values()))\n",
    "\n",
    "counts = pd.Series(list(manga2volumes.values()))\n",
    "_ = plt.hist(counts, bins=100)\n",
    "plt.showz()\n",
    "\n",
    "_ = plt.hist(counts[counts < 50], bins=50)\n",
    "plt.show()"
   ]
  },
  {
   "cell_type": "code",
   "execution_count": null,
   "metadata": {},
   "outputs": [],
   "source": []
  },
  {
   "cell_type": "code",
   "execution_count": null,
   "metadata": {},
   "outputs": [],
   "source": []
  }
 ],
 "metadata": {
  "kernelspec": {
   "display_name": "Python 3",
   "language": "python",
   "name": "python3"
  },
  "language_info": {
   "codemirror_mode": {
    "name": "ipython",
    "version": 3
   },
   "file_extension": ".py",
   "mimetype": "text/x-python",
   "name": "python",
   "nbconvert_exporter": "python",
   "pygments_lexer": "ipython3",
   "version": "3.6.9"
  }
 },
 "nbformat": 4,
 "nbformat_minor": 4
}
