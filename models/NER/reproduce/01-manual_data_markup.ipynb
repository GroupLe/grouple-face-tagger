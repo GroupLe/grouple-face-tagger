{
 "cells": [
  {
   "cell_type": "code",
   "execution_count": 1,
   "metadata": {},
   "outputs": [],
   "source": [
    "from pathlib import Path\n",
    "import pandas as pd\n",
    "import json\n",
    "import matplotlib.pyplot as plt\n",
    "from tqdm.notebook import tqdm \n",
    "\n",
    "from pairing_utils import get_pairing\n",
    "from markup_data import Manga"
   ]
  },
  {
   "cell_type": "code",
   "execution_count": 2,
   "metadata": {},
   "outputs": [],
   "source": [
    "root = Path('../../../data/NER/')\n",
    "raw_root = root / 'raw'\n",
    "processed_root = root / 'processed'"
   ]
  },
  {
   "cell_type": "code",
   "execution_count": 15,
   "metadata": {},
   "outputs": [
    {
     "name": "stdout",
     "output_type": "stream",
     "text": [
      "all (8142, 3)\n",
      "with comments (1670, 3)\n"
     ]
    },
    {
     "data": {
      "text/html": [
       "<div>\n",
       "<style scoped>\n",
       "    .dataframe tbody tr th:only-of-type {\n",
       "        vertical-align: middle;\n",
       "    }\n",
       "\n",
       "    .dataframe tbody tr th {\n",
       "        vertical-align: top;\n",
       "    }\n",
       "\n",
       "    .dataframe thead th {\n",
       "        text-align: right;\n",
       "    }\n",
       "</style>\n",
       "<table border=\"1\" class=\"dataframe\">\n",
       "  <thead>\n",
       "    <tr style=\"text-align: right;\">\n",
       "      <th></th>\n",
       "      <th>url</th>\n",
       "      <th>page_file</th>\n",
       "      <th>volumes_data_file</th>\n",
       "    </tr>\n",
       "  </thead>\n",
       "  <tbody>\n",
       "    <tr>\n",
       "      <th>0</th>\n",
       "      <td>naruto_dodzinsi__novogodnii_festival</td>\n",
       "      <td>0.json</td>\n",
       "      <td>1484.json</td>\n",
       "    </tr>\n",
       "    <tr>\n",
       "      <th>1</th>\n",
       "      <td>naruto_dj___icha_icha_academy</td>\n",
       "      <td>1.json</td>\n",
       "      <td>712.json</td>\n",
       "    </tr>\n",
       "    <tr>\n",
       "      <th>2</th>\n",
       "      <td>naruto_dj____nikki</td>\n",
       "      <td>10.json</td>\n",
       "      <td>852.json</td>\n",
       "    </tr>\n",
       "    <tr>\n",
       "      <th>3</th>\n",
       "      <td>azur_lane___cl_ust_01</td>\n",
       "      <td>100.json</td>\n",
       "      <td>693.json</td>\n",
       "    </tr>\n",
       "    <tr>\n",
       "      <th>4</th>\n",
       "      <td>fate_zero_dj___falling_down</td>\n",
       "      <td>1000.json</td>\n",
       "      <td>1285.json</td>\n",
       "    </tr>\n",
       "  </tbody>\n",
       "</table>\n",
       "</div>"
      ],
      "text/plain": [
       "                                    url  page_file volumes_data_file\n",
       "0  naruto_dodzinsi__novogodnii_festival     0.json         1484.json\n",
       "1         naruto_dj___icha_icha_academy     1.json          712.json\n",
       "2                    naruto_dj____nikki    10.json          852.json\n",
       "3                 azur_lane___cl_ust_01   100.json          693.json\n",
       "4           fate_zero_dj___falling_down  1000.json         1285.json"
      ]
     },
     "execution_count": 15,
     "metadata": {},
     "output_type": "execute_result"
    }
   ],
   "source": [
    "df = pd.read_csv(processed_root / 'merged_grouple_data.csv')\n",
    "print('all', df.shape)\n",
    "print('with comments', df[~df.volumes_data_file.isna()].shape)\n",
    "df = df[~df.volumes_data_file.isna()]\n",
    "df.head()"
   ]
  },
  {
   "cell_type": "markdown",
   "metadata": {},
   "source": [
    "# Load comments for each manga"
   ]
  },
  {
   "cell_type": "code",
   "execution_count": 4,
   "metadata": {},
   "outputs": [],
   "source": [
    "def load_data(page_file, volumes_file):\n",
    "    page = raw_root / 'grouple_manga_pages/' / page_file\n",
    "    volumes = raw_root / 'grouple_merged_volumes/' / volumes_file\n",
    "    return {'page': json.load(open(page)),\n",
    "            'volumes': json.load(open(volumes))}"
   ]
  },
  {
   "cell_type": "code",
   "execution_count": 5,
   "metadata": {},
   "outputs": [
    {
     "data": {
      "application/vnd.jupyter.widget-view+json": {
       "model_id": "8cd462eabd8a417e925a6e7e73157b3b",
       "version_major": 2,
       "version_minor": 0
      },
      "text/plain": [
       "  0%|          | 0/100 [00:00<?, ?it/s]"
      ]
     },
     "metadata": {},
     "output_type": "display_data"
    }
   ],
   "source": [
    "dataset = []\n",
    "N = 100\n",
    "\n",
    "# def hotfix(pname):\n",
    "#     for i, c in enumerate(pname[1:], start=1):\n",
    "#         if c.isupper():\n",
    "#             return pname[:i]\n",
    "#     return pname\n",
    "        \n",
    "for name, page, volumes in tqdm(df.to_records(index=False)[:N]):\n",
    "    data = load_data(page, volumes)\n",
    "    url = data['page']['url']\n",
    "    descr = data['page']['description']\n",
    "    comments = data['volumes']['comments']\n",
    "    manga = Manga(comments)\n",
    "    dataset.append(manga)"
   ]
  },
  {
   "cell_type": "code",
   "execution_count": 18,
   "metadata": {},
   "outputs": [
    {
     "data": {
      "text/plain": [
       "['Мне эта додзя всегда так сильно нравилась',\n",
       " 'Ни ч так   Искренне',\n",
       " 'Мило   Коротко и романтично',\n",
       " 'Ннн Это не яой это больше сненай Даже поцелуйчика не было  разочарована',\n",
       " 'Женя как всегда не увидела в этом никакого смысла',\n",
       " 'Это как немое кино',\n",
       " 'Мне очень понравилось',\n",
       " 'ПЕрвый страницы думала  манга для тех кто не умеет читать чтоли Оо а вот потом',\n",
       " 'так мило только вот вначеле перевод ещ бы сделали а то на немой фильм смахива',\n",
       " 'спасибо за перевод милая додзя']"
      ]
     },
     "execution_count": 18,
     "metadata": {},
     "output_type": "execute_result"
    }
   ],
   "source": [
    "comms = dataset[0].comments.comments\n",
    "comms[:10]"
   ]
  },
  {
   "cell_type": "code",
   "execution_count": 13,
   "metadata": {},
   "outputs": [],
   "source": [
    "import random\n",
    "from typing import List\n",
    "\n",
    "class Saver:\n",
    "    \"\"\"Class for sampling and saving labled comments data\"\"\"\n",
    "    def __init__(self, save_path: str, dataset: list):\n",
    "        self.path = save_path\n",
    "        self.dataset = dataset\n",
    "        self.used = set()\n",
    "    \n",
    "    def sample(self) -> List[str, ]:\n",
    "        # Fetches sample from data\n",
    "        def get_index():\n",
    "            m = random.randint(0, len(self.dataset)-1)\n",
    "            c = random.randint(0, len(self.dataset[m].comments.comments)-1)\n",
    "            return m, c\n",
    "        \n",
    "        m, c = get_index()\n",
    "        idx = f'{m}_{c}'\n",
    "        while idx in self.used:\n",
    "            m, c = get_index()\n",
    "            idx = f'{m}_{c}'\n",
    "            \n",
    "        self.used.add(idx)\n",
    "        comm = self.dataset[m].comments.comments[c]\n",
    "        return comm.split()\n",
    "        \n",
    "    def add(self, words: List[str, ], labels: List[str, ]) -> None:\n",
    "        # Writes out labled sample\n",
    "        with open(self.path, 'a') as f:\n",
    "            for w, l in zip(words, labels):\n",
    "                f.write(f'{w} _ _ {l}\\n')\n",
    "            f.write('\\n')\n",
    "            \n",
    "saver = Saver(processed_root / 'comments/raw.txt', dataset)"
   ]
  },
  {
   "cell_type": "code",
   "execution_count": 11,
   "metadata": {
    "jupyter": {
     "outputs_hidden": true
    }
   },
   "outputs": [
    {
     "name": "stdout",
     "output_type": "stream",
     "text": [
      "0 ибо\n",
      "1 ты\n",
      "2 на\n",
      "3 земле\n",
      "4 божьей\n",
      "5 приклонись\n",
      "7 фф\n"
     ]
    },
    {
     "ename": "ValueError",
     "evalue": "invalid literal for int() with base 10: 'фф'",
     "output_type": "error",
     "traceback": [
      "\u001b[1;31m---------------------------------------------------------------------------\u001b[0m",
      "\u001b[1;31mValueError\u001b[0m                                Traceback (most recent call last)",
      "\u001b[1;32m<ipython-input-11-a40b6a26edd6>\u001b[0m in \u001b[0;36m<module>\u001b[1;34m\u001b[0m\n\u001b[0;32m      9\u001b[0m     \u001b[0mixs\u001b[0m \u001b[1;33m=\u001b[0m \u001b[0minput\u001b[0m\u001b[1;33m(\u001b[0m\u001b[1;33m)\u001b[0m\u001b[1;33m\u001b[0m\u001b[0m\n\u001b[0;32m     10\u001b[0m     \u001b[1;32mif\u001b[0m \u001b[0mlen\u001b[0m\u001b[1;33m(\u001b[0m\u001b[0mixs\u001b[0m\u001b[1;33m)\u001b[0m \u001b[1;33m>\u001b[0m \u001b[1;36m0\u001b[0m\u001b[1;33m:\u001b[0m\u001b[1;33m\u001b[0m\u001b[0m\n\u001b[1;32m---> 11\u001b[1;33m         \u001b[0mixs\u001b[0m \u001b[1;33m=\u001b[0m \u001b[0mlist\u001b[0m\u001b[1;33m(\u001b[0m\u001b[0mmap\u001b[0m\u001b[1;33m(\u001b[0m\u001b[0mint\u001b[0m\u001b[1;33m,\u001b[0m \u001b[0mixs\u001b[0m\u001b[1;33m.\u001b[0m\u001b[0msplit\u001b[0m\u001b[1;33m(\u001b[0m\u001b[1;33m)\u001b[0m\u001b[1;33m)\u001b[0m\u001b[1;33m)\u001b[0m\u001b[1;33m\u001b[0m\u001b[0m\n\u001b[0m\u001b[0;32m     12\u001b[0m         \u001b[1;32mfor\u001b[0m \u001b[0mix\u001b[0m \u001b[1;32min\u001b[0m \u001b[0mixs\u001b[0m\u001b[1;33m:\u001b[0m\u001b[1;33m\u001b[0m\u001b[0m\n\u001b[0;32m     13\u001b[0m             \u001b[0mlabels\u001b[0m\u001b[1;33m[\u001b[0m\u001b[0mix\u001b[0m\u001b[1;33m]\u001b[0m \u001b[1;33m=\u001b[0m \u001b[1;34m'PER'\u001b[0m\u001b[1;33m\u001b[0m\u001b[0m\n",
      "\u001b[1;31mValueError\u001b[0m: invalid literal for int() with base 10: 'фф'"
     ]
    }
   ],
   "source": [
    "# Manually label i-th word(s) as PER(son)\n",
    "\n",
    "while 1:\n",
    "    words = saver.sample()\n",
    "    labels = ['O']*len(words)\n",
    "    s = [(i,w) for i,w in enumerate(words)]\n",
    "    s = '\\n'.join(list(map(lambda p: '%d %s' % p, s)))\n",
    "    print(s)\n",
    "    ixs = input()\n",
    "    if len(ixs) > 0:\n",
    "        ixs = list(map(int, ixs.split()))\n",
    "        for ix in ixs:\n",
    "            labels[ix] = 'PER'\n",
    "    saver.add(words, labels)\n",
    "    print('-----------------')"
   ]
  },
  {
   "cell_type": "code",
   "execution_count": 12,
   "metadata": {},
   "outputs": [
    {
     "ename": "FileNotFoundError",
     "evalue": "[Errno 2] No such file or directory: '..\\\\..\\\\..\\\\data\\\\NER\\\\processed\\\\comments\\\\raw.txt'",
     "output_type": "error",
     "traceback": [
      "\u001b[1;31m---------------------------------------------------------------------------\u001b[0m",
      "\u001b[1;31mFileNotFoundError\u001b[0m                         Traceback (most recent call last)",
      "\u001b[1;32m<ipython-input-12-99512f6b0ccf>\u001b[0m in \u001b[0;36m<module>\u001b[1;34m\u001b[0m\n\u001b[1;32m----> 1\u001b[1;33m \u001b[0mlen\u001b[0m\u001b[1;33m(\u001b[0m\u001b[0mopen\u001b[0m\u001b[1;33m(\u001b[0m\u001b[0msaver\u001b[0m\u001b[1;33m.\u001b[0m\u001b[0mpath\u001b[0m\u001b[1;33m)\u001b[0m\u001b[1;33m.\u001b[0m\u001b[0mread\u001b[0m\u001b[1;33m(\u001b[0m\u001b[1;33m)\u001b[0m\u001b[1;33m.\u001b[0m\u001b[0msplit\u001b[0m\u001b[1;33m(\u001b[0m\u001b[1;34m'\\n\\n'\u001b[0m\u001b[1;33m)\u001b[0m\u001b[1;33m)\u001b[0m\u001b[1;33m\u001b[0m\u001b[0m\n\u001b[0m",
      "\u001b[1;31mFileNotFoundError\u001b[0m: [Errno 2] No such file or directory: '..\\\\..\\\\..\\\\data\\\\NER\\\\processed\\\\comments\\\\raw.txt'"
     ]
    }
   ],
   "source": [
    "len(open(saver.path).read().split('\\n\\n'))"
   ]
  },
  {
   "cell_type": "code",
   "execution_count": null,
   "metadata": {},
   "outputs": [],
   "source": []
  }
 ],
 "metadata": {
  "kernelspec": {
   "display_name": "Python 3",
   "language": "python",
   "name": "python3"
  },
  "language_info": {
   "codemirror_mode": {
    "name": "ipython",
    "version": 3
   },
   "file_extension": ".py",
   "mimetype": "text/x-python",
   "name": "python",
   "nbconvert_exporter": "python",
   "pygments_lexer": "ipython3",
   "version": "3.6.2"
  }
 },
 "nbformat": 4,
 "nbformat_minor": 4
}
