{
 "cells": [
  {
   "cell_type": "code",
   "execution_count": 1,
   "metadata": {},
   "outputs": [],
   "source": [
    "from pathlib import Path\n",
    "from copy import deepcopy\n",
    "from random import choice, shuffle\n",
    "import pandas as pd\n",
    "import json\n",
    "import matplotlib.pyplot as plt"
   ]
  },
  {
   "cell_type": "code",
   "execution_count": 2,
   "metadata": {},
   "outputs": [],
   "source": [
    "root = Path('../../../data/NER/')\n",
    "raw_root = root / 'raw'\n",
    "processed_root = root / 'processed'"
   ]
  },
  {
   "cell_type": "code",
   "execution_count": 3,
   "metadata": {},
   "outputs": [
    {
     "data": {
      "text/html": [
       "<div>\n",
       "<style scoped>\n",
       "    .dataframe tbody tr th:only-of-type {\n",
       "        vertical-align: middle;\n",
       "    }\n",
       "\n",
       "    .dataframe tbody tr th {\n",
       "        vertical-align: top;\n",
       "    }\n",
       "\n",
       "    .dataframe thead th {\n",
       "        text-align: right;\n",
       "    }\n",
       "</style>\n",
       "<table border=\"1\" class=\"dataframe\">\n",
       "  <thead>\n",
       "    <tr style=\"text-align: right;\">\n",
       "      <th></th>\n",
       "      <th>title</th>\n",
       "      <th>name</th>\n",
       "    </tr>\n",
       "  </thead>\n",
       "  <tbody>\n",
       "    <tr>\n",
       "      <th>0</th>\n",
       "      <td>Атака титанов</td>\n",
       "      <td>Эрен Йегер</td>\n",
       "    </tr>\n",
       "    <tr>\n",
       "      <th>1</th>\n",
       "      <td>Атака титанов</td>\n",
       "      <td>Микаса Аккерман</td>\n",
       "    </tr>\n",
       "    <tr>\n",
       "      <th>2</th>\n",
       "      <td>Атака титанов</td>\n",
       "      <td>Армин Арлерт</td>\n",
       "    </tr>\n",
       "  </tbody>\n",
       "</table>\n",
       "</div>"
      ],
      "text/plain": [
       "           title             name\n",
       "0  Атака титанов       Эрен Йегер\n",
       "1  Атака титанов  Микаса Аккерман\n",
       "2  Атака титанов     Армин Арлерт"
      ]
     },
     "execution_count": 3,
     "metadata": {},
     "output_type": "execute_result"
    }
   ],
   "source": [
    "# mapping title -> name\n",
    "ydf1 = pd.read_csv(raw_root / 'you_anime_characters_refs.csv', sep='\\t')\n",
    "ydf1['anime_url'] = ydf1.page_link.apply(lambda s: s.split('/')[-1])\n",
    "\n",
    "ydf2 = pd.read_csv(raw_root / 'you_anime_refs.csv', sep='\\t')\n",
    "ydf2['anime_url'] = ydf2.link.apply(lambda s: s.split('/')[-1])\n",
    "\n",
    "ydf = pd.merge(ydf1, ydf2, on='anime_url')\n",
    "ydf = ydf['title name'.split()]\n",
    "\n",
    "ydf.title = ydf.title.apply(str.strip)\n",
    "ydf.name = ydf.name.apply(str.strip)\n",
    "\n",
    "ydf.head(3)"
   ]
  },
  {
   "cell_type": "code",
   "execution_count": 4,
   "metadata": {},
   "outputs": [
    {
     "name": "stdout",
     "output_type": "stream",
     "text": [
      "63065\n"
     ]
    },
    {
     "data": {
      "text/plain": [
       "['Эрен Йегер', 'Микаса Аккерман', 'Армин Арлерт', 'Леви', 'Саша Блауз']"
      ]
     },
     "execution_count": 4,
     "metadata": {},
     "output_type": "execute_result"
    }
   ],
   "source": [
    "names = ydf.name.drop_duplicates().tolist()\n",
    "print(len(names))\n",
    "names[:5]"
   ]
  },
  {
   "cell_type": "markdown",
   "metadata": {},
   "source": [
    "# Read data"
   ]
  },
  {
   "cell_type": "code",
   "execution_count": 5,
   "metadata": {},
   "outputs": [],
   "source": [
    "def read_conll(path):\n",
    "    \"\"\"\n",
    "    Returns list of sentences. Sentence is a list of pairs (word, NE-label)\n",
    "    \"\"\"\n",
    "\n",
    "    data = open(path, encoding=\"utf8\")\n",
    "    data = data.read().split('\\n\\n')[1:]\n",
    "    data = list(map(str.splitlines, data))\n",
    "    get_token_and_ne = lambda s: (s.split()[0], s.split()[-1])\n",
    "    data = list(map(lambda sent: list(map(get_token_and_ne, sent)), data))\n",
    "    return data"
   ]
  },
  {
   "cell_type": "code",
   "execution_count": 6,
   "metadata": {},
   "outputs": [
    {
     "data": {
      "text/plain": [
       "0.11923411662315056"
      ]
     },
     "execution_count": 6,
     "metadata": {},
     "output_type": "execute_result"
    }
   ],
   "source": [
    "sents = read_conll(processed_root / 'comments/original/raw.txt')\n",
    "with_character = lambda sent: any(map(lambda token: token[-1] == 'PER', sent))\n",
    "\n",
    "sents_characters = list(filter(with_character, sents))\n",
    "len(sents_characters) / len(sents)"
   ]
  },
  {
   "cell_type": "code",
   "execution_count": 18,
   "metadata": {},
   "outputs": [
    {
     "name": "stdout",
     "output_type": "stream",
     "text": [
      "[[('2', 'O'), ('фрейм', 'O'), ('у', 'O'), ('Канаме', 'PER'), ('встал', 'O'), ('на', 'O'), ('себя', 'O'), ('самого', 'O'), ('Оо', 'O')], [('Амур', 'PER'), ('толль', 'PER')]]\n"
     ]
    },
    {
     "data": {
      "text/plain": [
       "137"
      ]
     },
     "execution_count": 18,
     "metadata": {},
     "output_type": "execute_result"
    }
   ],
   "source": [
    "print(sents_characters[:2])\n",
    "len(sents_characters)"
   ]
  },
  {
   "cell_type": "markdown",
   "metadata": {},
   "source": [
    "# Augment"
   ]
  },
  {
   "cell_type": "code",
   "execution_count": 7,
   "metadata": {},
   "outputs": [],
   "source": [
    "def get_rand_character(characters):\n",
    "    char = choice(characters)\n",
    "    if len(char.split()) > 1:\n",
    "        char = choice(char.split())\n",
    "    return char"
   ]
  },
  {
   "cell_type": "code",
   "execution_count": 25,
   "metadata": {},
   "outputs": [
    {
     "name": "stdout",
     "output_type": "stream",
     "text": [
      "[('2', 'O'), ('фрейм', 'O'), ('у', 'O'), ('Канаме', 'PER'), ('встал', 'O'), ('на', 'O'), ('себя', 'O'), ('самого', 'O'), ('Оо', 'O')]\n",
      "---------------------\n",
      "[('2', 'O'), ('фрейм', 'O'), ('у', 'O'), ('Ryou', 'PER'), ('встал', 'O'), ('на', 'O'), ('себя', 'O'), ('самого', 'O'), ('Оо', 'O')]\n",
      "[('2', 'O'), ('фрейм', 'O'), ('у', 'O'), ('Канаме', 'PER'), ('встал', 'O'), ('на', 'O'), ('себя', 'O'), ('самого', 'O'), ('Оо', 'O')]\n",
      "---------------------\n",
      "[('2', 'O'), ('фрейм', 'O'), ('у', 'O'), ('Хибики', 'PER'), ('встал', 'O'), ('на', 'O'), ('себя', 'O'), ('самого', 'O'), ('Оо', 'O')]\n",
      "[('2', 'O'), ('фрейм', 'O'), ('у', 'O'), ('Канаме', 'PER'), ('встал', 'O'), ('на', 'O'), ('себя', 'O'), ('самого', 'O'), ('Оо', 'O')]\n",
      "---------------------\n",
      "[('2', 'O'), ('фрейм', 'O'), ('у', 'O'), ('Эйсаку', 'PER'), ('встал', 'O'), ('на', 'O'), ('себя', 'O'), ('самого', 'O'), ('Оо', 'O')]\n",
      "[('2', 'O'), ('фрейм', 'O'), ('у', 'O'), ('Канаме', 'PER'), ('встал', 'O'), ('на', 'O'), ('себя', 'O'), ('самого', 'O'), ('Оо', 'O')]\n",
      "---------------------\n",
      "[('2', 'O'), ('фрейм', 'O'), ('у', 'O'), ('Котоминэ', 'PER'), ('встал', 'O'), ('на', 'O'), ('себя', 'O'), ('самого', 'O'), ('Оо', 'O')]\n",
      "[('2', 'O'), ('фрейм', 'O'), ('у', 'O'), ('Канаме', 'PER'), ('встал', 'O'), ('на', 'O'), ('себя', 'O'), ('самого', 'O'), ('Оо', 'O')]\n",
      "---------------------\n",
      "[('2', 'O'), ('фрейм', 'O'), ('у', 'O'), ('Shougun', 'PER'), ('встал', 'O'), ('на', 'O'), ('себя', 'O'), ('самого', 'O'), ('Оо', 'O')]\n",
      "[('2', 'O'), ('фрейм', 'O'), ('у', 'O'), ('Канаме', 'PER'), ('встал', 'O'), ('на', 'O'), ('себя', 'O'), ('самого', 'O'), ('Оо', 'O')]\n",
      "---------------------\n",
      "[('2', 'O'), ('фрейм', 'O'), ('у', 'O'), ('Манами', 'PER'), ('встал', 'O'), ('на', 'O'), ('себя', 'O'), ('самого', 'O'), ('Оо', 'O')]\n",
      "[('2', 'O'), ('фрейм', 'O'), ('у', 'O'), ('Канаме', 'PER'), ('встал', 'O'), ('на', 'O'), ('себя', 'O'), ('самого', 'O'), ('Оо', 'O')]\n",
      "---------------------\n",
      "[('2', 'O'), ('фрейм', 'O'), ('у', 'O'), ('Клаудия', 'PER'), ('встал', 'O'), ('на', 'O'), ('себя', 'O'), ('самого', 'O'), ('Оо', 'O')]\n",
      "[('2', 'O'), ('фрейм', 'O'), ('у', 'O'), ('Канаме', 'PER'), ('встал', 'O'), ('на', 'O'), ('себя', 'O'), ('самого', 'O'), ('Оо', 'O')]\n",
      "---------------------\n",
      "[('2', 'O'), ('фрейм', 'O'), ('у', 'O'), ('Отова', 'PER'), ('встал', 'O'), ('на', 'O'), ('себя', 'O'), ('самого', 'O'), ('Оо', 'O')]\n",
      "[('2', 'O'), ('фрейм', 'O'), ('у', 'O'), ('Канаме', 'PER'), ('встал', 'O'), ('на', 'O'), ('себя', 'O'), ('самого', 'O'), ('Оо', 'O')]\n",
      "---------------------\n",
      "[('2', 'O'), ('фрейм', 'O'), ('у', 'O'), ('Фьюриас', 'PER'), ('встал', 'O'), ('на', 'O'), ('себя', 'O'), ('самого', 'O'), ('Оо', 'O')]\n",
      "[('2', 'O'), ('фрейм', 'O'), ('у', 'O'), ('Канаме', 'PER'), ('встал', 'O'), ('на', 'O'), ('себя', 'O'), ('самого', 'O'), ('Оо', 'O')]\n",
      "---------------------\n",
      "[('2', 'O'), ('фрейм', 'O'), ('у', 'O'), ('Kamishiro', 'PER'), ('встал', 'O'), ('на', 'O'), ('себя', 'O'), ('самого', 'O'), ('Оо', 'O')]\n"
     ]
    }
   ],
   "source": [
    "augmented_sents_characters = []\n",
    "AUGMENTATION_ROUNDS = 10\n",
    "\n",
    "for i in range(AUGMENTATION_ROUNDS):\n",
    "    for sent in sents_characters:\n",
    "        sent = deepcopy(sent)\n",
    "        # augment sentence replacing one name with another\n",
    "        for i, token in enumerate(sent):\n",
    "            if token[-1] == 'PER':\n",
    "                token = list(token)\n",
    "                token[0] = get_rand_character(names)\n",
    "                sent[i] = tuple(token)\n",
    "        augmented_sents_characters.append(sent)"
   ]
  },
  {
   "cell_type": "code",
   "execution_count": 9,
   "metadata": {},
   "outputs": [
    {
     "data": {
      "text/plain": [
       "1370"
      ]
     },
     "execution_count": 9,
     "metadata": {},
     "output_type": "execute_result"
    }
   ],
   "source": [
    "len(augmented_sents_characters)"
   ]
  },
  {
   "cell_type": "markdown",
   "metadata": {},
   "source": [
    "# Mix data with augmented and save"
   ]
  },
  {
   "cell_type": "code",
   "execution_count": 10,
   "metadata": {},
   "outputs": [],
   "source": [
    "mixed = augmented_sents_characters + sents\n",
    "shuffle(mixed)"
   ]
  },
  {
   "cell_type": "code",
   "execution_count": 11,
   "metadata": {},
   "outputs": [],
   "source": [
    "token_to_str = lambda token: '%s _ _ %s' % token\n",
    "sent_to_str_tokens = lambda sent: '\\n'.join(list(map(token_to_str, sent)))\n",
    "\n",
    "mixed = list(map(sent_to_str_tokens, mixed))\n",
    "with open(processed_root / f'comments/augmented_{AUGMENTATION_ROUNDS}/raw.txt', 'w') as f:\n",
    "    f.write('\\n\\n'.join(mixed))"
   ]
  },
  {
   "cell_type": "code",
   "execution_count": null,
   "metadata": {},
   "outputs": [],
   "source": []
  }
 ],
 "metadata": {
  "kernelspec": {
   "display_name": "Python 3",
   "language": "python",
   "name": "python3"
  },
  "language_info": {
   "codemirror_mode": {
    "name": "ipython",
    "version": 3
   },
   "file_extension": ".py",
   "mimetype": "text/x-python",
   "name": "python",
   "nbconvert_exporter": "python",
   "pygments_lexer": "ipython3",
   "version": "3.6.2"
  }
 },
 "nbformat": 4,
 "nbformat_minor": 4
}
