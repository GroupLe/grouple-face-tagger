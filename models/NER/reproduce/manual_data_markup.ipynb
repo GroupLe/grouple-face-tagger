{
 "cells": [
  {
   "cell_type": "code",
   "execution_count": 9,
   "metadata": {},
   "outputs": [],
   "source": [
    "import pandas as pd\n",
    "import json\n",
    "import matplotlib.pyplot as plt\n",
    "from tqdm.notebook import tqdm \n",
    "\n",
    "from pairing_utils import get_pairing\n",
    "from markup_data import Manga"
   ]
  },
  {
   "cell_type": "code",
   "execution_count": 2,
   "metadata": {},
   "outputs": [
    {
     "name": "stdout",
     "output_type": "stream",
     "text": [
      "(8153, 3)\n",
      "(1606, 3)\n"
     ]
    },
    {
     "data": {
      "text/html": [
       "<div>\n",
       "<style scoped>\n",
       "    .dataframe tbody tr th:only-of-type {\n",
       "        vertical-align: middle;\n",
       "    }\n",
       "\n",
       "    .dataframe tbody tr th {\n",
       "        vertical-align: top;\n",
       "    }\n",
       "\n",
       "    .dataframe thead th {\n",
       "        text-align: right;\n",
       "    }\n",
       "</style>\n",
       "<table border=\"1\" class=\"dataframe\">\n",
       "  <thead>\n",
       "    <tr style=\"text-align: right;\">\n",
       "      <th></th>\n",
       "      <th>url_title</th>\n",
       "      <th>page_file</th>\n",
       "      <th>volumes_data_file</th>\n",
       "    </tr>\n",
       "  </thead>\n",
       "  <tbody>\n",
       "    <tr>\n",
       "      <th>2</th>\n",
       "      <td>buistvo_molodoi_dushi</td>\n",
       "      <td>1499.json</td>\n",
       "      <td>349.json</td>\n",
       "    </tr>\n",
       "    <tr>\n",
       "      <th>4</th>\n",
       "      <td>choice_of_love</td>\n",
       "      <td>507.json</td>\n",
       "      <td>431.json</td>\n",
       "    </tr>\n",
       "    <tr>\n",
       "      <th>7</th>\n",
       "      <td>do_something_honey_for_me</td>\n",
       "      <td>1572.json</td>\n",
       "      <td>1396.json</td>\n",
       "    </tr>\n",
       "    <tr>\n",
       "      <th>12</th>\n",
       "      <td>moia_jizn</td>\n",
       "      <td>1393.json</td>\n",
       "      <td>939.json</td>\n",
       "    </tr>\n",
       "    <tr>\n",
       "      <th>15</th>\n",
       "      <td>first_girl</td>\n",
       "      <td>187.json</td>\n",
       "      <td>734.json</td>\n",
       "    </tr>\n",
       "  </tbody>\n",
       "</table>\n",
       "</div>"
      ],
      "text/plain": [
       "                    url_title  page_file volumes_data_file\n",
       "2       buistvo_molodoi_dushi  1499.json          349.json\n",
       "4              choice_of_love   507.json          431.json\n",
       "7   do_something_honey_for_me  1572.json         1396.json\n",
       "12                  moia_jizn  1393.json          939.json\n",
       "15                 first_girl   187.json          734.json"
      ]
     },
     "execution_count": 2,
     "metadata": {},
     "output_type": "execute_result"
    }
   ],
   "source": [
    "root = '../characters_parser/data/'\n",
    "path = root + 'merged_grouple_data.csv'\n",
    "df = pd.read_csv(path)\n",
    "print(df.shape)\n",
    "print(df[~df.volumes_data_file.isna()].shape)\n",
    "df = df[~df.volumes_data_file.isna()]\n",
    "df.head()"
   ]
  },
  {
   "cell_type": "code",
   "execution_count": 3,
   "metadata": {},
   "outputs": [],
   "source": [
    "def load_data(page_file, volumes_file):\n",
    "    page = root + 'grouple_manga_pages/' + page_file\n",
    "    volumes = root + 'grouple_merged_volumes/' + volumes_file\n",
    "    return {'page': json.load(open(page)),\n",
    "            'volumes': json.load(open(volumes))}"
   ]
  },
  {
   "cell_type": "code",
   "execution_count": 6,
   "metadata": {},
   "outputs": [],
   "source": []
  },
  {
   "cell_type": "code",
   "execution_count": 18,
   "metadata": {},
   "outputs": [
    {
     "data": {
      "text/plain": [
       "['Какой Хару на первом фрейме... Вах просто *о*',\n",
       " 'зубы .ахаха',\n",
       " 'опечаточка забавная. особенно в тему к \"плохому японскому\"',\n",
       " 'Какая страница',\n",
       " 'правильное решение',\n",
       " 'ща поможешь',\n",
       " 'какой цёёмик :З',\n",
       " 'молодец помог*О*',\n",
       " 'прям помесьХаруки и Соске @_@',\n",
       " 'Щас все будет ринушка ты только подожди']"
      ]
     },
     "execution_count": 18,
     "metadata": {},
     "output_type": "execute_result"
    }
   ],
   "source": [
    "comms = data['volumes']['comments']\n",
    "comms[:10]"
   ]
  },
  {
   "cell_type": "code",
   "execution_count": 72,
   "metadata": {},
   "outputs": [],
   "source": []
  },
  {
   "cell_type": "code",
   "execution_count": 108,
   "metadata": {},
   "outputs": [],
   "source": []
  },
  {
   "cell_type": "code",
   "execution_count": 11,
   "metadata": {},
   "outputs": [
    {
     "data": {
      "application/vnd.jupyter.widget-view+json": {
       "model_id": "7480162f083946219820adaea3cefe95",
       "version_major": 2,
       "version_minor": 0
      },
      "text/plain": [
       "HBox(children=(FloatProgress(value=0.0, max=1606.0), HTML(value='')))"
      ]
     },
     "metadata": {},
     "output_type": "display_data"
    },
    {
     "ename": "IndexError",
     "evalue": "string index out of range",
     "output_type": "error",
     "traceback": [
      "\u001b[0;31m---------------------------------------------------------------------------\u001b[0m",
      "\u001b[0;31mIndexError\u001b[0m                                Traceback (most recent call last)",
      "\u001b[0;32m<ipython-input-11-2f5abfac0a72>\u001b[0m in \u001b[0;36m<module>\u001b[0;34m\u001b[0m\n\u001b[1;32m     13\u001b[0m     \u001b[0mdescr\u001b[0m \u001b[0;34m=\u001b[0m \u001b[0mdata\u001b[0m\u001b[0;34m[\u001b[0m\u001b[0;34m'page'\u001b[0m\u001b[0;34m]\u001b[0m\u001b[0;34m[\u001b[0m\u001b[0;34m'description'\u001b[0m\u001b[0;34m]\u001b[0m\u001b[0;34m\u001b[0m\u001b[0;34m\u001b[0m\u001b[0m\n\u001b[1;32m     14\u001b[0m     \u001b[0mcomments\u001b[0m \u001b[0;34m=\u001b[0m \u001b[0mdata\u001b[0m\u001b[0;34m[\u001b[0m\u001b[0;34m'volumes'\u001b[0m\u001b[0;34m]\u001b[0m\u001b[0;34m[\u001b[0m\u001b[0;34m'comments'\u001b[0m\u001b[0;34m]\u001b[0m\u001b[0;34m\u001b[0m\u001b[0;34m\u001b[0m\u001b[0m\n\u001b[0;32m---> 15\u001b[0;31m     \u001b[0mmanga\u001b[0m \u001b[0;34m=\u001b[0m \u001b[0mManga\u001b[0m\u001b[0;34m(\u001b[0m\u001b[0mcomments\u001b[0m\u001b[0;34m)\u001b[0m\u001b[0;34m\u001b[0m\u001b[0;34m\u001b[0m\u001b[0m\n\u001b[0m\u001b[1;32m     16\u001b[0m     \u001b[0mdataset\u001b[0m\u001b[0;34m.\u001b[0m\u001b[0mappend\u001b[0m\u001b[0;34m(\u001b[0m\u001b[0mmanga\u001b[0m\u001b[0;34m)\u001b[0m\u001b[0;34m\u001b[0m\u001b[0;34m\u001b[0m\u001b[0m\n",
      "\u001b[0;32m~/grouple/face_tagger/src/NER/markup_data.py\u001b[0m in \u001b[0;36m__init__\u001b[0;34m(self, comments)\u001b[0m\n\u001b[1;32m     50\u001b[0m \u001b[0;32mclass\u001b[0m \u001b[0mManga\u001b[0m\u001b[0;34m:\u001b[0m\u001b[0;34m\u001b[0m\u001b[0;34m\u001b[0m\u001b[0m\n\u001b[1;32m     51\u001b[0m     \u001b[0;32mdef\u001b[0m \u001b[0m__init__\u001b[0m\u001b[0;34m(\u001b[0m\u001b[0mself\u001b[0m\u001b[0;34m,\u001b[0m \u001b[0mcomments\u001b[0m\u001b[0;34m)\u001b[0m\u001b[0;34m:\u001b[0m\u001b[0;34m\u001b[0m\u001b[0;34m\u001b[0m\u001b[0m\n\u001b[0;32m---> 52\u001b[0;31m         \u001b[0mself\u001b[0m\u001b[0;34m.\u001b[0m\u001b[0mcomments\u001b[0m \u001b[0;34m=\u001b[0m \u001b[0mComments\u001b[0m\u001b[0;34m(\u001b[0m\u001b[0mcomments\u001b[0m\u001b[0;34m)\u001b[0m\u001b[0;34m\u001b[0m\u001b[0;34m\u001b[0m\u001b[0m\n\u001b[0m",
      "\u001b[0;32m~/grouple/face_tagger/src/NER/markup_data.py\u001b[0m in \u001b[0;36m__init__\u001b[0;34m(self, comments)\u001b[0m\n\u001b[1;32m      4\u001b[0m \u001b[0;32mclass\u001b[0m \u001b[0mComments\u001b[0m\u001b[0;34m:\u001b[0m\u001b[0;34m\u001b[0m\u001b[0;34m\u001b[0m\u001b[0m\n\u001b[1;32m      5\u001b[0m     \u001b[0;32mdef\u001b[0m \u001b[0m__init__\u001b[0m\u001b[0;34m(\u001b[0m\u001b[0mself\u001b[0m\u001b[0;34m,\u001b[0m \u001b[0mcomments\u001b[0m\u001b[0;34m)\u001b[0m\u001b[0;34m:\u001b[0m\u001b[0;34m\u001b[0m\u001b[0;34m\u001b[0m\u001b[0m\n\u001b[0;32m----> 6\u001b[0;31m         \u001b[0mself\u001b[0m\u001b[0;34m.\u001b[0m\u001b[0mcomments\u001b[0m \u001b[0;34m=\u001b[0m \u001b[0mlist\u001b[0m\u001b[0;34m(\u001b[0m\u001b[0mmap\u001b[0m\u001b[0;34m(\u001b[0m\u001b[0mself\u001b[0m\u001b[0;34m.\u001b[0m\u001b[0mclear\u001b[0m\u001b[0;34m,\u001b[0m \u001b[0mcomments\u001b[0m\u001b[0;34m)\u001b[0m\u001b[0;34m)\u001b[0m\u001b[0;34m\u001b[0m\u001b[0;34m\u001b[0m\u001b[0m\n\u001b[0m\u001b[1;32m      7\u001b[0m         \u001b[0mself\u001b[0m\u001b[0;34m.\u001b[0m\u001b[0mlabels\u001b[0m \u001b[0;34m=\u001b[0m \u001b[0mlist\u001b[0m\u001b[0;34m(\u001b[0m\u001b[0mmap\u001b[0m\u001b[0;34m(\u001b[0m\u001b[0;32mlambda\u001b[0m \u001b[0ms\u001b[0m\u001b[0;34m:\u001b[0m \u001b[0;34m[\u001b[0m\u001b[0;34m'O'\u001b[0m \u001b[0;32mfor\u001b[0m \u001b[0m_\u001b[0m \u001b[0;32min\u001b[0m \u001b[0ms\u001b[0m\u001b[0;34m.\u001b[0m\u001b[0msplit\u001b[0m\u001b[0;34m(\u001b[0m\u001b[0;34m)\u001b[0m\u001b[0;34m]\u001b[0m\u001b[0;34m,\u001b[0m \u001b[0mself\u001b[0m\u001b[0;34m.\u001b[0m\u001b[0mcomments\u001b[0m\u001b[0;34m)\u001b[0m\u001b[0;34m)\u001b[0m\u001b[0;34m\u001b[0m\u001b[0;34m\u001b[0m\u001b[0m\n\u001b[1;32m      8\u001b[0m \u001b[0;34m\u001b[0m\u001b[0m\n",
      "\u001b[0;32m~/grouple/face_tagger/src/NER/markup_data.py\u001b[0m in \u001b[0;36mclear\u001b[0;34m(self, text, stem)\u001b[0m\n\u001b[1;32m     11\u001b[0m         \u001b[0mtext\u001b[0m \u001b[0;34m=\u001b[0m \u001b[0mself\u001b[0m\u001b[0;34m.\u001b[0m\u001b[0msplit_pairings\u001b[0m\u001b[0;34m(\u001b[0m\u001b[0mtext\u001b[0m\u001b[0;34m)\u001b[0m\u001b[0;34m\u001b[0m\u001b[0;34m\u001b[0m\u001b[0m\n\u001b[1;32m     12\u001b[0m         \u001b[0mtext\u001b[0m \u001b[0;34m=\u001b[0m \u001b[0mself\u001b[0m\u001b[0;34m.\u001b[0m\u001b[0mtokenize\u001b[0m\u001b[0;34m(\u001b[0m\u001b[0mtext\u001b[0m\u001b[0;34m)\u001b[0m\u001b[0;34m\u001b[0m\u001b[0;34m\u001b[0m\u001b[0m\n\u001b[0;32m---> 13\u001b[0;31m         \u001b[0mtext\u001b[0m \u001b[0;34m=\u001b[0m \u001b[0mself\u001b[0m\u001b[0;34m.\u001b[0m\u001b[0mdel_spec_symbols\u001b[0m\u001b[0;34m(\u001b[0m\u001b[0mtext\u001b[0m\u001b[0;34m)\u001b[0m\u001b[0;34m\u001b[0m\u001b[0;34m\u001b[0m\u001b[0m\n\u001b[0m\u001b[1;32m     14\u001b[0m         \u001b[0;32mreturn\u001b[0m \u001b[0mtext\u001b[0m\u001b[0;34m\u001b[0m\u001b[0;34m\u001b[0m\u001b[0m\n\u001b[1;32m     15\u001b[0m \u001b[0;34m\u001b[0m\u001b[0m\n",
      "\u001b[0;32m~/grouple/face_tagger/src/NER/markup_data.py\u001b[0m in \u001b[0;36mdel_spec_symbols\u001b[0;34m(self, text)\u001b[0m\n\u001b[1;32m     37\u001b[0m         \u001b[0mpunkt\u001b[0m \u001b[0;34m=\u001b[0m \u001b[0;34m',.!? '\u001b[0m\u001b[0;34m\u001b[0m\u001b[0;34m\u001b[0m\u001b[0m\n\u001b[1;32m     38\u001b[0m \u001b[0;34m\u001b[0m\u001b[0m\n\u001b[0;32m---> 39\u001b[0;31m         \u001b[0ms\u001b[0m \u001b[0;34m=\u001b[0m \u001b[0mtext\u001b[0m\u001b[0;34m[\u001b[0m\u001b[0;36m0\u001b[0m\u001b[0;34m]\u001b[0m \u001b[0;32mif\u001b[0m \u001b[0mtext\u001b[0m\u001b[0;34m[\u001b[0m\u001b[0;36m0\u001b[0m\u001b[0;34m]\u001b[0m \u001b[0;32min\u001b[0m \u001b[0mallowed\u001b[0m \u001b[0;32melse\u001b[0m \u001b[0;34m''\u001b[0m\u001b[0;34m\u001b[0m\u001b[0;34m\u001b[0m\u001b[0m\n\u001b[0m\u001b[1;32m     40\u001b[0m         \u001b[0;32mfor\u001b[0m \u001b[0mi\u001b[0m\u001b[0;34m,\u001b[0m \u001b[0mc\u001b[0m \u001b[0;32min\u001b[0m \u001b[0menumerate\u001b[0m\u001b[0;34m(\u001b[0m\u001b[0mtext\u001b[0m\u001b[0;34m[\u001b[0m\u001b[0;36m1\u001b[0m\u001b[0;34m:\u001b[0m\u001b[0;34m]\u001b[0m\u001b[0;34m,\u001b[0m \u001b[0mstart\u001b[0m\u001b[0;34m=\u001b[0m\u001b[0;36m1\u001b[0m\u001b[0;34m)\u001b[0m\u001b[0;34m:\u001b[0m\u001b[0;34m\u001b[0m\u001b[0;34m\u001b[0m\u001b[0m\n\u001b[1;32m     41\u001b[0m             \u001b[0mprev\u001b[0m \u001b[0;34m=\u001b[0m \u001b[0mtext\u001b[0m\u001b[0;34m[\u001b[0m\u001b[0mi\u001b[0m\u001b[0;34m-\u001b[0m\u001b[0;36m1\u001b[0m\u001b[0;34m]\u001b[0m\u001b[0;34m\u001b[0m\u001b[0;34m\u001b[0m\u001b[0m\n",
      "\u001b[0;31mIndexError\u001b[0m: string index out of range"
     ]
    }
   ],
   "source": [
    "dataset = []\n",
    "n = 0\n",
    "\n",
    "def hotfix(pname):\n",
    "    for i, c in enumerate(pname[1:], start=1):\n",
    "        if c.isupper():\n",
    "            return pname[:i]\n",
    "    return pname\n",
    "        \n",
    "for i, (name, page, volumes) in tqdm(enumerate(df.to_records(index=False)), total=len(df)):\n",
    "    data = load_data(page, volumes)\n",
    "    url = data['page']['url']\n",
    "    descr = data['page']['description']\n",
    "    comments = data['volumes']['comments']\n",
    "    manga = Manga(comments)\n",
    "    dataset.append(manga)"
   ]
  },
  {
   "cell_type": "code",
   "execution_count": 33,
   "metadata": {},
   "outputs": [],
   "source": [
    "import random\n",
    "\n",
    "class Saver:\n",
    "    def __init__(self, path, dataset):\n",
    "        self.path = path\n",
    "        self.dataset = dataset\n",
    "        self.used = set()\n",
    "    \n",
    "    def sample(self):\n",
    "        def get_index():\n",
    "            m = random.randint(0, len(self.dataset)-1)\n",
    "            c = random.randint(0, len(self.dataset[m].comments.comments)-1)\n",
    "            return m, c\n",
    "        \n",
    "        m, c = get_index()\n",
    "        idx = f'{m}_{c}'\n",
    "        while idx in self.used:\n",
    "            m, c = get_index()\n",
    "            idx = f'{m}_{c}'\n",
    "            \n",
    "        self.used.add(idx)\n",
    "        comm = self.dataset[m].comments.comments[c]\n",
    "        return comm.split()\n",
    "        \n",
    "    def add(self, words, labels):\n",
    "        with open(self.path, 'a') as f:\n",
    "            for w, l in zip(words, labels):\n",
    "                f.write(f'{w} _ _ {l}\\n')\n",
    "            f.write('\\n')\n",
    "            \n",
    "saver = Saver('./data/comments/train.txt', dataset)"
   ]
  },
  {
   "cell_type": "code",
   "execution_count": 43,
   "metadata": {
    "collapsed": true,
    "jupyter": {
     "outputs_hidden": true
    }
   },
   "outputs": [
    {
     "name": "stdout",
     "output_type": "stream",
     "text": [
      "0 Что\n",
      "1 с\n",
      "2 ним\n"
     ]
    },
    {
     "name": "stdin",
     "output_type": "stream",
     "text": [
      " \n"
     ]
    },
    {
     "name": "stdout",
     "output_type": "stream",
     "text": [
      "-----------------\n",
      "0 Джудал\n",
      "1 всегда\n",
      "2 ищет\n",
      "3 приключения\n",
      "4 на\n",
      "5 некоторое\n",
      "6 место\n"
     ]
    },
    {
     "name": "stdin",
     "output_type": "stream",
     "text": [
      " 0\n"
     ]
    },
    {
     "name": "stdout",
     "output_type": "stream",
     "text": [
      "-----------------\n",
      "0 опять\n",
      "1 убить\n",
      "2 всех\n",
      "3 евреев\n",
      "4 Так\n",
      "5 уже\n",
      "6 пробовали\n",
      "7 и\n",
      "8 не\n",
      "9 раз\n"
     ]
    },
    {
     "name": "stdin",
     "output_type": "stream",
     "text": [
      " \n"
     ]
    },
    {
     "name": "stdout",
     "output_type": "stream",
     "text": [
      "-----------------\n",
      "0 бло\n",
      "1 создайте\n",
      "2 альтернативную\n",
      "3 реальность\n",
      "4 Гуля\n",
      "5 ну\n",
      "6 позязя\n",
      "7 хд\n"
     ]
    },
    {
     "name": "stdin",
     "output_type": "stream",
     "text": [
      " 4\n"
     ]
    },
    {
     "name": "stdout",
     "output_type": "stream",
     "text": [
      "-----------------\n",
      "0 А\n",
      "1 она\n",
      "2 туповата\n",
      "3 да\n"
     ]
    },
    {
     "name": "stdin",
     "output_type": "stream",
     "text": [
      " \n"
     ]
    },
    {
     "name": "stdout",
     "output_type": "stream",
     "text": [
      "-----------------\n",
      "0 хааахахха\n",
      "1 пацан\n",
      "2 перегнул\n"
     ]
    },
    {
     "name": "stdin",
     "output_type": "stream",
     "text": [
      " \n"
     ]
    },
    {
     "name": "stdout",
     "output_type": "stream",
     "text": [
      "-----------------\n",
      "0 Вот\n",
      "1 братик\n",
      "2 взбесится\n",
      "3 если\n",
      "4 Шоу\n",
      "5 отдаст\n",
      "6 котенка\n",
      "7 которого\n",
      "8 тот\n",
      "9 подобрал\n",
      "10 этой\n",
      "11 девчонке\n"
     ]
    },
    {
     "name": "stdin",
     "output_type": "stream",
     "text": [
      " 4\n"
     ]
    },
    {
     "name": "stdout",
     "output_type": "stream",
     "text": [
      "-----------------\n",
      "0 на\n",
      "1 таком\n",
      "2 месте\n",
      "3 ксо\n",
      "4 Ребят\n",
      "5 я\n",
      "6 уплываю\n",
      "7 походу\n",
      "8 в\n",
      "9 обморок\n"
     ]
    },
    {
     "name": "stdin",
     "output_type": "stream",
     "text": [
      " \n"
     ]
    },
    {
     "name": "stdout",
     "output_type": "stream",
     "text": [
      "-----------------\n",
      "0 он\n",
      "1 его\n",
      "2 хочет\n"
     ]
    },
    {
     "name": "stdin",
     "output_type": "stream",
     "text": [
      " \n"
     ]
    },
    {
     "name": "stdout",
     "output_type": "stream",
     "text": [
      "-----------------\n",
      "0 Ну\n",
      "1 вот\n",
      "2 я\n",
      "3 все\n",
      "4 равно\n",
      "5 думаю\n",
      "6 что\n",
      "7 это\n",
      "8 он\n",
      "9 Ву\n",
      "10 Ну\n",
      "11 както\n",
      "12 странненько\n",
      "13 все\n",
      "14 же\n",
      "15 Ну\n",
      "16 вот\n",
      "17 не\n",
      "18 знаю\n"
     ]
    },
    {
     "name": "stdin",
     "output_type": "stream",
     "text": [
      " \n"
     ]
    },
    {
     "name": "stdout",
     "output_type": "stream",
     "text": [
      "-----------------\n",
      "0 Жесссть\n"
     ]
    },
    {
     "name": "stdin",
     "output_type": "stream",
     "text": [
      " \n"
     ]
    },
    {
     "name": "stdout",
     "output_type": "stream",
     "text": [
      "-----------------\n",
      "0 цундеры\n",
      "1 они\n",
      "2 походу\n",
      "3 клонированием\n",
      "4 или\n",
      "5 почкованием\n",
      "6 плодятся\n"
     ]
    },
    {
     "name": "stdin",
     "output_type": "stream",
     "text": [
      " \n"
     ]
    },
    {
     "name": "stdout",
     "output_type": "stream",
     "text": [
      "-----------------\n",
      "0 oleg\n",
      "1 45\n",
      "2 это\n",
      "3 как\n",
      "4 раз\n",
      "5 таки\n",
      "6 Асура\n",
      "7 У\n",
      "8 Кали\n",
      "9 одна\n",
      "10 голова\n"
     ]
    },
    {
     "name": "stdin",
     "output_type": "stream",
     "text": [
      " 6 8\n"
     ]
    },
    {
     "name": "stdout",
     "output_type": "stream",
     "text": [
      "-----------------\n",
      "0 я\n",
      "1 ржу\n",
      "2 с\n",
      "3 самокритики\n",
      "4 ГГ\n",
      "5 Х\n"
     ]
    },
    {
     "name": "stdin",
     "output_type": "stream",
     "text": [
      " \n"
     ]
    },
    {
     "name": "stdout",
     "output_type": "stream",
     "text": [
      "-----------------\n",
      "0 все\n",
      "1 прекрасно\n",
      "2 все\n",
      "3 душевно\n",
      "4 и\n",
      "5 трогательно\n",
      "6 но\n",
      "7 секас\n",
      "8 быстро\n",
      "9 начался\n",
      "10 не\n",
      "11 уловила\n",
      "12 мотив\n"
     ]
    },
    {
     "name": "stdin",
     "output_type": "stream",
     "text": [
      " \n"
     ]
    },
    {
     "name": "stdout",
     "output_type": "stream",
     "text": [
      "-----------------\n",
      "0 Парень\n",
      "1 ты\n",
      "2 просто\n",
      "3 супер\n",
      "4 Работать\n",
      "5 с\n",
      "6 таким\n",
      "7 bip\n",
      "8 и\n",
      "9 не\n",
      "10 отчаятся\n",
      "11 Молоток\n"
     ]
    },
    {
     "name": "stdin",
     "output_type": "stream",
     "text": [
      " \n"
     ]
    },
    {
     "name": "stdout",
     "output_type": "stream",
     "text": [
      "-----------------\n",
      "0 Вообщето\n",
      "1 кролики\n",
      "2 визжат\n",
      "3 например\n",
      "4 если\n",
      "5 их\n",
      "6 к\n",
      "7 злому\n",
      "8 партнру\n",
      "9 подсадить\n"
     ]
    },
    {
     "name": "stdin",
     "output_type": "stream",
     "text": [
      " \n"
     ]
    },
    {
     "name": "stdout",
     "output_type": "stream",
     "text": [
      "-----------------\n",
      "0 Хмм\n",
      "1 видимо\n",
      "2 зря\n",
      "3 я\n",
      "4 не\n",
      "5 смотрела\n",
      "6 эту\n",
      "7 тетрадку\n",
      "8 надо\n",
      "9 заценить\n",
      "10 КАК\n",
      "11 они\n",
      "12 дружат\n",
      "13 в\n",
      "14 аниме\n",
      "15 w\n"
     ]
    },
    {
     "name": "stdin",
     "output_type": "stream",
     "text": [
      " \n"
     ]
    },
    {
     "name": "stdout",
     "output_type": "stream",
     "text": [
      "-----------------\n",
      "0 Шинохара\n"
     ]
    },
    {
     "name": "stdin",
     "output_type": "stream",
     "text": [
      " 0\n"
     ]
    },
    {
     "name": "stdout",
     "output_type": "stream",
     "text": [
      "-----------------\n",
      "0 через\n",
      "1 И\n"
     ]
    },
    {
     "name": "stdin",
     "output_type": "stream",
     "text": [
      " \n"
     ]
    },
    {
     "name": "stdout",
     "output_type": "stream",
     "text": [
      "-----------------\n",
      "0 я\n",
      "1 считаю\n",
      "2 это\n",
      "3 сексуально\n",
      "4 з\n",
      "5 хоть\n",
      "6 сам\n",
      "7 и\n",
      "8 бреюсь\n",
      "9 но\n",
      "10 предпочитаю\n",
      "11 волосатых\n",
      "12 парней\n"
     ]
    },
    {
     "name": "stdin",
     "output_type": "stream",
     "text": [
      " \n"
     ]
    },
    {
     "name": "stdout",
     "output_type": "stream",
     "text": [
      "-----------------\n",
      "0 вот\n",
      "1 чтоб\n",
      "2 так\n",
      "3 пьяные\n",
      "4 в\n",
      "5 какашку\n",
      "6 выглядели\n"
     ]
    },
    {
     "name": "stdin",
     "output_type": "stream",
     "text": [
      " \n"
     ]
    },
    {
     "name": "stdout",
     "output_type": "stream",
     "text": [
      "-----------------\n",
      "0 фу\n",
      "1 фу\n",
      "2 брысь\n",
      "3 ты\n",
      "4 не\n",
      "5 милый\n",
      "6 и\n",
      "7 не\n",
      "8 сочитаешься\n",
      "9 с\n",
      "10 бруталом\n"
     ]
    },
    {
     "name": "stdin",
     "output_type": "stream",
     "text": [
      " \n"
     ]
    },
    {
     "name": "stdout",
     "output_type": "stream",
     "text": [
      "-----------------\n",
      "0 канцелярский\n",
      "1 нож\n",
      "2 Что\n",
      "3 простите\n"
     ]
    },
    {
     "name": "stdin",
     "output_type": "stream",
     "text": [
      " \n"
     ]
    },
    {
     "name": "stdout",
     "output_type": "stream",
     "text": [
      "-----------------\n",
      "0 Орнула\n",
      "1 с\n",
      "2 кома\n",
      "3 ниже\n"
     ]
    },
    {
     "name": "stdin",
     "output_type": "stream",
     "text": [
      " \n"
     ]
    },
    {
     "name": "stdout",
     "output_type": "stream",
     "text": [
      "-----------------\n",
      "0 Недавно\n",
      "1 мне\n",
      "2 сосед\n",
      "3 сказал\n",
      "4 типо\n",
      "5 почему\n",
      "6 парень\n",
      "7 не\n",
      "8 может\n",
      "9 хотеть\n",
      "10 одну\n",
      "11 девушку\n",
      "12 и\n",
      "13 спать\n",
      "14 с\n",
      "15 ней\n",
      "16 встречаясь\n"
     ]
    },
    {
     "name": "stdin",
     "output_type": "stream",
     "text": [
      " \n"
     ]
    },
    {
     "name": "stdout",
     "output_type": "stream",
     "text": [
      "-----------------\n",
      "0 Так\n",
      "1 вс\n",
      "2 таки\n",
      "3 не\n",
      "4 папа\n",
      "5 А\n",
      "6 может\n",
      "7 быть\n",
      "8 она\n",
      "9 просто\n",
      "10 очень\n",
      "11 похожа\n",
      "12 на\n",
      "13 свою\n",
      "14 мать\n"
     ]
    },
    {
     "name": "stdin",
     "output_type": "stream",
     "text": [
      " \n"
     ]
    },
    {
     "name": "stdout",
     "output_type": "stream",
     "text": [
      "-----------------\n",
      "0 Благодарю\n",
      "1 за\n",
      "2 перевод\n"
     ]
    },
    {
     "name": "stdin",
     "output_type": "stream",
     "text": [
      " \n"
     ]
    },
    {
     "name": "stdout",
     "output_type": "stream",
     "text": [
      "-----------------\n",
      "0 и\n",
      "1 ещ\n",
      "2 хочу\n",
      "3 сказать\n",
      "4 не\n",
      "5 очень\n",
      "6 хорошо\n",
      "7 застолбить\n",
      "8 проект\n",
      "9 и\n",
      "10 молчать\n",
      "11 а\n",
      "12 потом\n",
      "13 ругать\n",
      "14 тех\n",
      "15 кто\n",
      "16 не\n",
      "17 вытерпел\n"
     ]
    },
    {
     "name": "stdin",
     "output_type": "stream",
     "text": [
      " \n"
     ]
    },
    {
     "name": "stdout",
     "output_type": "stream",
     "text": [
      "-----------------\n",
      "0 Дадада\n",
      "1 Там\n",
      "2 твоя\n",
      "3 любовь\n",
      "4 езжай\n",
      "5 милая\n"
     ]
    },
    {
     "name": "stdin",
     "output_type": "stream",
     "text": [
      " \n"
     ]
    },
    {
     "name": "stdout",
     "output_type": "stream",
     "text": [
      "-----------------\n",
      "0 не\n",
      "1 люблю\n",
      "2 я\n",
      "3 школьный\n",
      "4 AU\n",
      "5 но\n",
      "6 ради\n",
      "7 любимого\n",
      "8 пейринга\n",
      "9 почитаю\n"
     ]
    },
    {
     "name": "stdin",
     "output_type": "stream",
     "text": [
      " \n"
     ]
    },
    {
     "name": "stdout",
     "output_type": "stream",
     "text": [
      "-----------------\n",
      "0 Я\n",
      "1 прочитала\n",
      "2 на\n",
      "3 семнадцатом\n"
     ]
    },
    {
     "name": "stdin",
     "output_type": "stream",
     "text": [
      " \n"
     ]
    },
    {
     "name": "stdout",
     "output_type": "stream",
     "text": [
      "-----------------\n",
      "0 Вот\n",
      "1 тебе\n",
      "2 и\n",
      "3 укешка\n",
      "4 Молодца\n",
      "5 Метит\n",
      "6 в\n",
      "7 семе\n"
     ]
    },
    {
     "name": "stdin",
     "output_type": "stream",
     "text": [
      " \n"
     ]
    },
    {
     "name": "stdout",
     "output_type": "stream",
     "text": [
      "-----------------\n",
      "0 Нет\n",
      "1 это\n",
      "2 действительно\n",
      "3 мед\n",
      "4 халат\n",
      "5 Его\n",
      "6 в\n",
      "7 таком\n",
      "8 виде\n",
      "9 в\n",
      "10 ребилде\n",
      "11 ева\n",
      "12 00\n",
      "13 забирала\n",
      "14 в\n",
      "15 штаб\n",
      "16 Нерв\n"
     ]
    },
    {
     "name": "stdin",
     "output_type": "stream",
     "text": [
      " \n"
     ]
    },
    {
     "name": "stdout",
     "output_type": "stream",
     "text": [
      "-----------------\n",
      "0 только\n",
      "1 в\n",
      "2 яое\n",
      "3 возможно\n",
      "4 вести\n",
      "5 машину\n",
      "6 и\n",
      "7 одновременно\n",
      "8 целоваться\n",
      "9 Х\n"
     ]
    },
    {
     "name": "stdin",
     "output_type": "stream",
     "text": [
      " \n"
     ]
    },
    {
     "name": "stdout",
     "output_type": "stream",
     "text": [
      "-----------------\n",
      "0 я\n",
      "1 б\n",
      "2 тоже\n",
      "3 пошла\n",
      "4 поглядеть\n"
     ]
    },
    {
     "name": "stdin",
     "output_type": "stream",
     "text": [
      " \n"
     ]
    },
    {
     "name": "stdout",
     "output_type": "stream",
     "text": [
      "-----------------\n",
      "0 Все\n",
      "1 надо\n",
      "2 брать\n",
      "3 Где\n",
      "4 мне\n",
      "5 расписаться\n"
     ]
    },
    {
     "name": "stdin",
     "output_type": "stream",
     "text": [
      " \n"
     ]
    },
    {
     "name": "stdout",
     "output_type": "stream",
     "text": [
      "-----------------\n",
      "0 И\n",
      "1 повязку\n",
      "2 свою\n",
      "3 заберу\n",
      "4 х\n"
     ]
    },
    {
     "name": "stdin",
     "output_type": "stream",
     "text": [
      " \n"
     ]
    },
    {
     "name": "stdout",
     "output_type": "stream",
     "text": [
      "-----------------\n",
      "0 Он\n",
      "1 же\n",
      "2 хотел\n",
      "3 чтобы\n",
      "4 укешка\n",
      "5 его\n",
      "6 возненанавил\n",
      "7 и\n",
      "8 т\n",
      "9 д\n"
     ]
    },
    {
     "name": "stdin",
     "output_type": "stream",
     "text": [
      " \n"
     ]
    },
    {
     "name": "stdout",
     "output_type": "stream",
     "text": [
      "-----------------\n",
      "0 у\n",
      "1 меня\n",
      "2 нет\n",
      "3 яиц\n",
      "4 но\n",
      "5 мне\n",
      "6 больно\n"
     ]
    },
    {
     "name": "stdin",
     "output_type": "stream",
     "text": [
      " \n"
     ]
    },
    {
     "name": "stdout",
     "output_type": "stream",
     "text": [
      "-----------------\n",
      "0 он\n",
      "1 ему\n",
      "2 так\n",
      "3 и\n",
      "4 не\n",
      "5 сказал\n"
     ]
    },
    {
     "name": "stdin",
     "output_type": "stream",
     "text": [
      " \n"
     ]
    },
    {
     "name": "stdout",
     "output_type": "stream",
     "text": [
      "-----------------\n",
      "0 ШТА\n"
     ]
    },
    {
     "name": "stdin",
     "output_type": "stream",
     "text": [
      " \n"
     ]
    },
    {
     "name": "stdout",
     "output_type": "stream",
     "text": [
      "-----------------\n",
      "0 Пф\n",
      "1 не\n",
      "2 смешите\n",
      "3 Он\n",
      "4 равен\n",
      "5 нам\n",
      "6 а\n",
      "7 мы\n",
      "8 ему\n",
      "9 Ишь\n",
      "10 какой\n",
      "11 Он\n",
      "12 меня\n",
      "13 просто\n",
      "14 бесит\n",
      "15 глупый\n",
      "16 Людодурень\n"
     ]
    },
    {
     "name": "stdin",
     "output_type": "stream",
     "text": [
      " \n"
     ]
    },
    {
     "name": "stdout",
     "output_type": "stream",
     "text": [
      "-----------------\n",
      "0 там\n",
      "1 должен\n",
      "2 быть\n",
      "3 трап\n",
      "4 хоть\n",
      "5 один\n"
     ]
    },
    {
     "name": "stdin",
     "output_type": "stream",
     "text": [
      " \n"
     ]
    },
    {
     "name": "stdout",
     "output_type": "stream",
     "text": [
      "-----------------\n",
      "0 Ржу\n",
      "1 не\n",
      "2 могу\n",
      "3 D\n"
     ]
    },
    {
     "name": "stdin",
     "output_type": "stream",
     "text": [
      " \n"
     ]
    },
    {
     "name": "stdout",
     "output_type": "stream",
     "text": [
      "-----------------\n",
      "0 А\n",
      "1 я\n",
      "2 вот\n",
      "3 очень\n",
      "4 люблю\n",
      "5 школьные\n",
      "6 аушки\n"
     ]
    },
    {
     "name": "stdin",
     "output_type": "stream",
     "text": [
      " \n"
     ]
    },
    {
     "name": "stdout",
     "output_type": "stream",
     "text": [
      "-----------------\n",
      "0 Милааахааа\n",
      "1 О\n"
     ]
    },
    {
     "name": "stdin",
     "output_type": "stream",
     "text": [
      " \n"
     ]
    },
    {
     "name": "stdout",
     "output_type": "stream",
     "text": [
      "-----------------\n",
      "0 Эх\n",
      "1 жаль\n",
      "2 что\n",
      "3 в\n",
      "4 аниме\n",
      "5 не\n",
      "6 такто\n",
      "7 вс\n",
      "8 просто\n"
     ]
    },
    {
     "name": "stdin",
     "output_type": "stream",
     "text": [
      " \n"
     ]
    },
    {
     "name": "stdout",
     "output_type": "stream",
     "text": [
      "-----------------\n",
      "0 СПАСИБО\n"
     ]
    },
    {
     "name": "stdin",
     "output_type": "stream",
     "text": [
      " \n"
     ]
    },
    {
     "name": "stdout",
     "output_type": "stream",
     "text": [
      "-----------------\n",
      "0 Сфокусируйся\n",
      "1 на\n",
      "2 гов\n",
      "3 е\n",
      "4 и\n",
      "5 вернешь\n",
      "6 свой\n",
      "7 настоящий\n",
      "8 цвет\n",
      "9 глаз\n",
      "10 беспроигрышная\n",
      "11 тема\n",
      "12 D\n"
     ]
    },
    {
     "name": "stdin",
     "output_type": "stream",
     "text": [
      " \n"
     ]
    },
    {
     "name": "stdout",
     "output_type": "stream",
     "text": [
      "-----------------\n",
      "0 1\n",
      "1 ком\n",
      "2 ент\n",
      "3 ты\n",
      "4 нечто\n",
      "5 XDD\n"
     ]
    },
    {
     "name": "stdin",
     "output_type": "stream",
     "text": [
      " \n"
     ]
    },
    {
     "name": "stdout",
     "output_type": "stream",
     "text": [
      "-----------------\n",
      "0 СУПЕР\n"
     ]
    },
    {
     "name": "stdin",
     "output_type": "stream",
     "text": [
      " \n"
     ]
    },
    {
     "name": "stdout",
     "output_type": "stream",
     "text": [
      "-----------------\n",
      "0 Он\n",
      "1 был\n",
      "2 рад\n",
      "3 тому\n",
      "4 что\n",
      "5 держал\n",
      "6 его\n",
      "7 в\n",
      "8 заложниках\n"
     ]
    },
    {
     "name": "stdin",
     "output_type": "stream",
     "text": [
      " \n"
     ]
    },
    {
     "name": "stdout",
     "output_type": "stream",
     "text": [
      "-----------------\n",
      "0 господи\n",
      "1 как\n",
      "2 я\n",
      "3 люблю\n",
      "4 множество\n",
      "5 комментариев\n",
      "6 сквозь\n",
      "7 годы\n",
      "8 D\n"
     ]
    },
    {
     "name": "stdin",
     "output_type": "stream",
     "text": [
      " \n"
     ]
    },
    {
     "name": "stdout",
     "output_type": "stream",
     "text": [
      "-----------------\n",
      "0 Оська\n",
      "1 вы\n",
      "2 сделали\n",
      "3 мой\n",
      "4 день\n"
     ]
    },
    {
     "name": "stdin",
     "output_type": "stream",
     "text": [
      " \n"
     ]
    },
    {
     "name": "stdout",
     "output_type": "stream",
     "text": [
      "-----------------\n",
      "0 НЕ\n",
      "1 верю\n",
      "2 лудче\n",
      "3 покажы\n"
     ]
    },
    {
     "name": "stdin",
     "output_type": "stream",
     "text": [
      " \n"
     ]
    },
    {
     "name": "stdout",
     "output_type": "stream",
     "text": [
      "-----------------\n",
      "0 Ком\n",
      "1 внизупф\n",
      "2 нубочек\n",
      "3 новичок\n",
      "4 с\n",
      "5 Жизни\n",
      "6 ты\n",
      "7 еще\n",
      "8 не\n",
      "9 видала\n"
     ]
    },
    {
     "name": "stdin",
     "output_type": "stream",
     "text": [
      " \n"
     ]
    },
    {
     "name": "stdout",
     "output_type": "stream",
     "text": [
      "-----------------\n",
      "0 спасибо\n",
      "1 за\n",
      "2 перевод\n",
      "3 пожалуйста\n",
      "4 проду\n"
     ]
    },
    {
     "name": "stdin",
     "output_type": "stream",
     "text": [
      " \n"
     ]
    },
    {
     "name": "stdout",
     "output_type": "stream",
     "text": [
      "-----------------\n",
      "0 Родители\n",
      "1 спят\n",
      "2 за\n",
      "3 дверью\n",
      "4 а\n",
      "5 я\n",
      "6 себе\n",
      "7 рот\n",
      "8 кляпом\n",
      "9 затыкаю\n",
      "10 чтобы\n",
      "11 их\n",
      "12 своим\n",
      "13 ржачем\n",
      "14 не\n",
      "15 разбудить\n"
     ]
    },
    {
     "name": "stdin",
     "output_type": "stream",
     "text": [
      " \n"
     ]
    },
    {
     "name": "stdout",
     "output_type": "stream",
     "text": [
      "-----------------\n",
      "0 или\n",
      "1 котяшей\n",
      "2 что\n",
      "3 ещ\n",
      "4 больше\n",
      "5 ужасает\n",
      "6 о\n",
      "7 ОXDD\n",
      "8 упоролололо\n"
     ]
    },
    {
     "name": "stdin",
     "output_type": "stream",
     "text": [
      " \n"
     ]
    },
    {
     "name": "stdout",
     "output_type": "stream",
     "text": [
      "-----------------\n",
      "0 ПРОДУ\n",
      "1 И\n",
      "2 ПОСКОРЕЕ\n"
     ]
    },
    {
     "name": "stdin",
     "output_type": "stream",
     "text": [
      " \n"
     ]
    },
    {
     "name": "stdout",
     "output_type": "stream",
     "text": [
      "-----------------\n",
      "0 Весна\n",
      "1 это\n",
      "2 вообще\n",
      "3 шедевр\n",
      "4 во\n",
      "5 всех\n",
      "6 смыслах\n"
     ]
    },
    {
     "name": "stdin",
     "output_type": "stream",
     "text": [
      " \n"
     ]
    },
    {
     "name": "stdout",
     "output_type": "stream",
     "text": [
      "-----------------\n",
      "0 этот\n",
      "1 длиноволоска\n",
      "2 явный\n",
      "3 уке\n"
     ]
    },
    {
     "name": "stdin",
     "output_type": "stream",
     "text": [
      " \n"
     ]
    },
    {
     "name": "stdout",
     "output_type": "stream",
     "text": [
      "-----------------\n",
      "0 Если\n",
      "1 он\n",
      "2 сейчас\n",
      "3 реит\n",
      "4 что\n",
      "5 он\n",
      "6 ворует\n",
      "7 бугами\n",
      "8 у\n",
      "9 его\n",
      "10 отца\n",
      "11 будет\n",
      "12 весело\n"
     ]
    },
    {
     "name": "stdin",
     "output_type": "stream",
     "text": [
      " 7\n"
     ]
    },
    {
     "name": "stdout",
     "output_type": "stream",
     "text": [
      "-----------------\n",
      "0 мамина\n",
      "1 еда\n",
      "2 хахаха\n"
     ]
    },
    {
     "name": "stdin",
     "output_type": "stream",
     "text": [
      " \n"
     ]
    },
    {
     "name": "stdout",
     "output_type": "stream",
     "text": [
      "-----------------\n",
      "0 вы\n",
      "1 Аясе\n",
      "2 и\n",
      "3 Кано\n",
      "4 вспомните\n"
     ]
    },
    {
     "name": "stdin",
     "output_type": "stream",
     "text": [
      " 1 3\n"
     ]
    },
    {
     "name": "stdout",
     "output_type": "stream",
     "text": [
      "-----------------\n",
      "0 Благодарствую\n"
     ]
    },
    {
     "name": "stdin",
     "output_type": "stream",
     "text": [
      " \n"
     ]
    },
    {
     "name": "stdout",
     "output_type": "stream",
     "text": [
      "-----------------\n",
      "0 шлепну\n",
      "1 тапком\n",
      "2 хахаха\n"
     ]
    },
    {
     "name": "stdin",
     "output_type": "stream",
     "text": [
      " \n"
     ]
    },
    {
     "name": "stdout",
     "output_type": "stream",
     "text": [
      "-----------------\n",
      "0 или\n",
      "1 в\n",
      "2 капусте\n",
      "3 последний\n",
      "4 фрейм\n"
     ]
    },
    {
     "name": "stdin",
     "output_type": "stream",
     "text": [
      " \n"
     ]
    },
    {
     "name": "stdout",
     "output_type": "stream",
     "text": [
      "-----------------\n",
      "0 Боже\n",
      "1 мой\n",
      "2 я\n",
      "3 опять\n",
      "4 перечитал\n",
      "5 эту\n",
      "6 историю\n",
      "7 она\n",
      "8 шикарная\n"
     ]
    },
    {
     "name": "stdin",
     "output_type": "stream",
     "text": [
      " \n"
     ]
    },
    {
     "name": "stdout",
     "output_type": "stream",
     "text": [
      "-----------------\n",
      "0 Бет\n",
      "1 СМ\n",
      "2 какойто\n",
      "3 прям\n"
     ]
    },
    {
     "name": "stdin",
     "output_type": "stream",
     "text": [
      " \n"
     ]
    },
    {
     "name": "stdout",
     "output_type": "stream",
     "text": [
      "-----------------\n",
      "0 Я\n",
      "1 конечно\n",
      "2 сделала\n",
      "3 ставку\n",
      "4 что\n",
      "5 у\n",
      "6 них\n",
      "7 вс\n",
      "8 же\n",
      "9 чтото\n",
      "10 будет\n",
      "11 Но\n",
      "12 не\n",
      "13 ожидала\n",
      "14 насколько\n"
     ]
    },
    {
     "name": "stdin",
     "output_type": "stream",
     "text": [
      " \n"
     ]
    },
    {
     "name": "stdout",
     "output_type": "stream",
     "text": [
      "-----------------\n",
      "0 Мда\n",
      "1 И\n",
      "2 это\n",
      "3 говорит\n",
      "4 разукрашенная\n",
      "5 плоская\n",
      "6 шл\n",
      "7 ха\n",
      "8 со\n",
      "9 своими\n",
      "10 ушами\n",
      "11 она\n",
      "12 похожа\n",
      "13 на\n",
      "14 чебурашку\n"
     ]
    },
    {
     "name": "stdin",
     "output_type": "stream",
     "text": [
      " \n"
     ]
    },
    {
     "name": "stdout",
     "output_type": "stream",
     "text": [
      "-----------------\n",
      "0 чтото\n",
      "1 пошло\n",
      "2 не\n",
      "3 так\n"
     ]
    },
    {
     "name": "stdin",
     "output_type": "stream",
     "text": [
      " \n"
     ]
    },
    {
     "name": "stdout",
     "output_type": "stream",
     "text": [
      "-----------------\n",
      "0 OO\n"
     ]
    },
    {
     "name": "stdin",
     "output_type": "stream",
     "text": [
      " \n"
     ]
    },
    {
     "name": "stdout",
     "output_type": "stream",
     "text": [
      "-----------------\n",
      "0 Гигантика\n"
     ]
    },
    {
     "name": "stdin",
     "output_type": "stream",
     "text": [
      " \n"
     ]
    },
    {
     "name": "stdout",
     "output_type": "stream",
     "text": [
      "-----------------\n",
      "0 ЛОВИ\n",
      "1 ЛЮБОФЬ\n",
      "2 СВОЮ\n"
     ]
    },
    {
     "name": "stdin",
     "output_type": "stream",
     "text": [
      " \n"
     ]
    },
    {
     "name": "stdout",
     "output_type": "stream",
     "text": [
      "-----------------\n",
      "0 Фенькс\n",
      "1 3\n"
     ]
    },
    {
     "name": "stdin",
     "output_type": "stream",
     "text": [
      " 0\n"
     ]
    },
    {
     "name": "stdout",
     "output_type": "stream",
     "text": [
      "-----------------\n",
      "0 ахахах\n",
      "1 зоофил\n",
      "2 шоль\n"
     ]
    },
    {
     "name": "stdin",
     "output_type": "stream",
     "text": [
      " \n"
     ]
    },
    {
     "name": "stdout",
     "output_type": "stream",
     "text": [
      "-----------------\n",
      "0 спасибки\n",
      "1 огромнющеее\n"
     ]
    },
    {
     "name": "stdin",
     "output_type": "stream",
     "text": [
      " \n"
     ]
    },
    {
     "name": "stdout",
     "output_type": "stream",
     "text": [
      "-----------------\n",
      "0 Как\n",
      "1 хорошо\n",
      "2 что\n",
      "3 я\n",
      "4 уже\n",
      "5 давно\n",
      "6 перешел\n",
      "7 с\n",
      "8 кофе\n",
      "9 на\n",
      "10 чай\n"
     ]
    },
    {
     "name": "stdin",
     "output_type": "stream",
     "text": [
      " \n"
     ]
    },
    {
     "name": "stdout",
     "output_type": "stream",
     "text": [
      "-----------------\n",
      "0 Это\n",
      "1 я\n",
      "2 с\n",
      "3 утра\n",
      "4 4\n"
     ]
    },
    {
     "name": "stdin",
     "output_type": "stream",
     "text": [
      " \n"
     ]
    },
    {
     "name": "stdout",
     "output_type": "stream",
     "text": [
      "-----------------\n",
      "0 Так\n",
      "1 Шион\n",
      "2 не\n",
      "3 вампир\n",
      "4 Он\n",
      "5 собачка\n"
     ]
    },
    {
     "name": "stdin",
     "output_type": "stream",
     "text": [
      " 1\n"
     ]
    },
    {
     "name": "stdout",
     "output_type": "stream",
     "text": [
      "-----------------\n",
      "0 заинтриговало\n",
      "1 о\n",
      "2 о\n",
      "3 спасибо\n",
      "4 за\n",
      "5 перевод\n",
      "6 ждем\n",
      "7 проду\n"
     ]
    },
    {
     "name": "stdin",
     "output_type": "stream",
     "text": [
      " \n"
     ]
    },
    {
     "name": "stdout",
     "output_type": "stream",
     "text": [
      "-----------------\n",
      "0 Рисовка\n",
      "1 нравится\n",
      "2 О\n"
     ]
    },
    {
     "name": "stdin",
     "output_type": "stream",
     "text": [
      " \n"
     ]
    },
    {
     "name": "stdout",
     "output_type": "stream",
     "text": [
      "-----------------\n",
      "0 Тю\n",
      "1 рисовка\n",
      "2 как\n",
      "3 рисовка\n",
      "4 Что\n",
      "5 в\n",
      "6 ней\n",
      "7 пугающего\n"
     ]
    },
    {
     "name": "stdin",
     "output_type": "stream",
     "text": [
      " \n"
     ]
    },
    {
     "name": "stdout",
     "output_type": "stream",
     "text": [
      "-----------------\n",
      "0 Ояоя\n"
     ]
    },
    {
     "name": "stdin",
     "output_type": "stream",
     "text": [
      " \n"
     ]
    },
    {
     "name": "stdout",
     "output_type": "stream",
     "text": [
      "-----------------\n",
      "0 нравиться\n",
      "1 когда\n",
      "2 раздумия\n",
      "3 идут\n",
      "4 со\n",
      "5 стороны\n",
      "6 семе\n"
     ]
    },
    {
     "name": "stdin",
     "output_type": "stream",
     "text": [
      " \n"
     ]
    },
    {
     "name": "stdout",
     "output_type": "stream",
     "text": [
      "-----------------\n",
      "0 какаши\n",
      "1 ты\n",
      "2 от\n",
      "3 куда\n",
      "4 вылез\n",
      "5 иди\n",
      "6 к\n",
      "7 ируке\n"
     ]
    },
    {
     "name": "stdin",
     "output_type": "stream",
     "text": [
      " 0 7\n"
     ]
    },
    {
     "name": "stdout",
     "output_type": "stream",
     "text": [
      "-----------------\n",
      "0 Во\n",
      "1 всем\n",
      "2 Мрак\n",
      "3 если\n",
      "4 задуматься\n"
     ]
    },
    {
     "name": "stdin",
     "output_type": "stream",
     "text": [
      " \n"
     ]
    },
    {
     "name": "stdout",
     "output_type": "stream",
     "text": [
      "-----------------\n",
      "0 Фак\n",
      "1 мой\n",
      "2 моск\n",
      "3 Ч\n",
      "4 за\n",
      "5 нах\n",
      "6 Я\n",
      "7 както\n",
      "8 слегка\n",
      "9 в\n",
      "10 ахуе\n",
      "11 Оо\n"
     ]
    },
    {
     "name": "stdin",
     "output_type": "stream",
     "text": [
      " \n"
     ]
    },
    {
     "name": "stdout",
     "output_type": "stream",
     "text": [
      "-----------------\n",
      "0 Breaker\n",
      "1 996\n",
      "2 1\n"
     ]
    },
    {
     "name": "stdin",
     "output_type": "stream",
     "text": [
      " \n"
     ]
    },
    {
     "name": "stdout",
     "output_type": "stream",
     "text": [
      "-----------------\n",
      "0 Ч\n",
      "1 каору\n",
      "2 парится\n",
      "3 и\n",
      "4 страдает\n",
      "5 пусть\n",
      "6 яой\n",
      "7 с\n",
      "8 менеджером\n",
      "9 этим\n",
      "10 сделают\n",
      "11 он\n",
      "12 тоже\n",
      "13 ничего\n"
     ]
    },
    {
     "name": "stdin",
     "output_type": "stream",
     "text": [
      " 1\n"
     ]
    },
    {
     "name": "stdout",
     "output_type": "stream",
     "text": [
      "-----------------\n",
      "0 Даже\n",
      "1 дырок\n",
      "2 от\n",
      "3 пуль\n",
      "4 не\n",
      "5 осталось\n",
      "6 ВТФ\n",
      "7 Оо\n"
     ]
    },
    {
     "name": "stdin",
     "output_type": "stream",
     "text": [
      " \n"
     ]
    },
    {
     "name": "stdout",
     "output_type": "stream",
     "text": [
      "-----------------\n",
      "0 испугалась\n",
      "1 облавы\n"
     ]
    },
    {
     "name": "stdin",
     "output_type": "stream",
     "text": [
      " \n"
     ]
    },
    {
     "name": "stdout",
     "output_type": "stream",
     "text": [
      "-----------------\n",
      "\n"
     ]
    },
    {
     "name": "stdin",
     "output_type": "stream",
     "text": [
      " \n"
     ]
    },
    {
     "name": "stdout",
     "output_type": "stream",
     "text": [
      "-----------------\n",
      "0 догодались\n",
      "1 кто\n",
      "2 сын\n"
     ]
    },
    {
     "name": "stdin",
     "output_type": "stream",
     "text": [
      " \n"
     ]
    },
    {
     "name": "stdout",
     "output_type": "stream",
     "text": [
      "-----------------\n",
      "0 подмигивает\n",
      "1 типа\n",
      "2 эй\n",
      "3 бейба\n",
      "4 D\n",
      "5 DD\n",
      "6 Воображение\n",
      "7 прекрати\n"
     ]
    },
    {
     "name": "stdin",
     "output_type": "stream",
     "text": [
      " \n"
     ]
    },
    {
     "name": "stdout",
     "output_type": "stream",
     "text": [
      "-----------------\n",
      "0 как\n",
      "1 будто\n",
      "2 стакон\n",
      "3 читаю\n"
     ]
    },
    {
     "name": "stdin",
     "output_type": "stream",
     "text": [
      " \n"
     ]
    },
    {
     "name": "stdout",
     "output_type": "stream",
     "text": [
      "-----------------\n",
      "0 вы\n",
      "1 аниме\n",
      "2 про\n",
      "3 пилильщика\n",
      "4 вматроске\n",
      "5 часом\n",
      "6 не\n",
      "7 оьсмотрелись\n"
     ]
    },
    {
     "name": "stdin",
     "output_type": "stream",
     "text": [
      " \n"
     ]
    },
    {
     "name": "stdout",
     "output_type": "stream",
     "text": [
      "-----------------\n",
      "0 я\n",
      "1 тожжее\n",
      "2 спанч\n",
      "3 боба\n",
      "4 вспомнила\n",
      "5 я\n",
      "6 думала\n",
      "7 я\n",
      "8 одна\n",
      "9 психованная\n",
      "10 а\n",
      "11 так\n",
      "12 милоо\n",
      "13 очеень\n"
     ]
    },
    {
     "name": "stdin",
     "output_type": "stream",
     "text": [
      " 2 3\n"
     ]
    },
    {
     "name": "stdout",
     "output_type": "stream",
     "text": [
      "-----------------\n",
      "0 сексапильное\n",
      "1 желе\n",
      "2 3\n"
     ]
    },
    {
     "name": "stdin",
     "output_type": "stream",
     "text": [
      " \n"
     ]
    },
    {
     "name": "stdout",
     "output_type": "stream",
     "text": [
      "-----------------\n",
      "0 грудь\n",
      "1 взмыла\n",
      "2 вверх\n",
      "3 и\n",
      "4 опрокинула\n",
      "5 сосок\n"
     ]
    },
    {
     "name": "stdin",
     "output_type": "stream",
     "text": [
      " \n"
     ]
    },
    {
     "name": "stdout",
     "output_type": "stream",
     "text": [
      "-----------------\n",
      "0 Благодарушка\n",
      "1 за\n",
      "2 труд\n"
     ]
    },
    {
     "name": "stdin",
     "output_type": "stream",
     "text": [
      " \n"
     ]
    },
    {
     "name": "stdout",
     "output_type": "stream",
     "text": [
      "-----------------\n",
      "0 я\n",
      "1 тоже\n",
      "2 читаю\n"
     ]
    },
    {
     "name": "stdin",
     "output_type": "stream",
     "text": [
      " \n"
     ]
    },
    {
     "name": "stdout",
     "output_type": "stream",
     "text": [
      "-----------------\n",
      "0 Это\n",
      "1 напомнило\n",
      "2 мне\n",
      "3 момент\n",
      "4 из\n",
      "5 бездомного\n",
      "6 бога\n",
      "7 ято\n",
      "8 ты\n",
      "9 из\n",
      "10 другой\n",
      "11 манги\n",
      "12 уди\n"
     ]
    },
    {
     "ename": "KeyboardInterrupt",
     "evalue": "Interrupted by user",
     "output_type": "error",
     "traceback": [
      "\u001b[0;31m---------------------------------------------------------------------------\u001b[0m",
      "\u001b[0;31mKeyboardInterrupt\u001b[0m                         Traceback (most recent call last)",
      "\u001b[0;32m<ipython-input-43-286fa21ea78c>\u001b[0m in \u001b[0;36m<module>\u001b[0;34m\u001b[0m\n\u001b[1;32m      5\u001b[0m     \u001b[0ms\u001b[0m \u001b[0;34m=\u001b[0m \u001b[0;34m'\\n'\u001b[0m\u001b[0;34m.\u001b[0m\u001b[0mjoin\u001b[0m\u001b[0;34m(\u001b[0m\u001b[0mlist\u001b[0m\u001b[0;34m(\u001b[0m\u001b[0mmap\u001b[0m\u001b[0;34m(\u001b[0m\u001b[0;32mlambda\u001b[0m \u001b[0mp\u001b[0m\u001b[0;34m:\u001b[0m \u001b[0;34m'%d %s'\u001b[0m \u001b[0;34m%\u001b[0m \u001b[0mp\u001b[0m\u001b[0;34m,\u001b[0m \u001b[0ms\u001b[0m\u001b[0;34m)\u001b[0m\u001b[0;34m)\u001b[0m\u001b[0;34m)\u001b[0m\u001b[0;34m\u001b[0m\u001b[0;34m\u001b[0m\u001b[0m\n\u001b[1;32m      6\u001b[0m     \u001b[0mprint\u001b[0m\u001b[0;34m(\u001b[0m\u001b[0ms\u001b[0m\u001b[0;34m)\u001b[0m\u001b[0;34m\u001b[0m\u001b[0;34m\u001b[0m\u001b[0m\n\u001b[0;32m----> 7\u001b[0;31m     \u001b[0mixs\u001b[0m \u001b[0;34m=\u001b[0m \u001b[0minput\u001b[0m\u001b[0;34m(\u001b[0m\u001b[0;34m)\u001b[0m\u001b[0;34m\u001b[0m\u001b[0;34m\u001b[0m\u001b[0m\n\u001b[0m\u001b[1;32m      8\u001b[0m     \u001b[0;32mif\u001b[0m \u001b[0mlen\u001b[0m\u001b[0;34m(\u001b[0m\u001b[0mixs\u001b[0m\u001b[0;34m)\u001b[0m \u001b[0;34m>\u001b[0m \u001b[0;36m0\u001b[0m\u001b[0;34m:\u001b[0m\u001b[0;34m\u001b[0m\u001b[0;34m\u001b[0m\u001b[0m\n\u001b[1;32m      9\u001b[0m         \u001b[0mixs\u001b[0m \u001b[0;34m=\u001b[0m \u001b[0mlist\u001b[0m\u001b[0;34m(\u001b[0m\u001b[0mmap\u001b[0m\u001b[0;34m(\u001b[0m\u001b[0mint\u001b[0m\u001b[0;34m,\u001b[0m \u001b[0mixs\u001b[0m\u001b[0;34m.\u001b[0m\u001b[0msplit\u001b[0m\u001b[0;34m(\u001b[0m\u001b[0;34m)\u001b[0m\u001b[0;34m)\u001b[0m\u001b[0;34m)\u001b[0m\u001b[0;34m\u001b[0m\u001b[0;34m\u001b[0m\u001b[0m\n",
      "\u001b[0;32m/usr/local/lib/python3.6/dist-packages/ipykernel/kernelbase.py\u001b[0m in \u001b[0;36mraw_input\u001b[0;34m(self, prompt)\u001b[0m\n\u001b[1;32m    858\u001b[0m             \u001b[0mself\u001b[0m\u001b[0;34m.\u001b[0m\u001b[0m_parent_ident\u001b[0m\u001b[0;34m,\u001b[0m\u001b[0;34m\u001b[0m\u001b[0;34m\u001b[0m\u001b[0m\n\u001b[1;32m    859\u001b[0m             \u001b[0mself\u001b[0m\u001b[0;34m.\u001b[0m\u001b[0m_parent_header\u001b[0m\u001b[0;34m,\u001b[0m\u001b[0;34m\u001b[0m\u001b[0;34m\u001b[0m\u001b[0m\n\u001b[0;32m--> 860\u001b[0;31m             \u001b[0mpassword\u001b[0m\u001b[0;34m=\u001b[0m\u001b[0;32mFalse\u001b[0m\u001b[0;34m,\u001b[0m\u001b[0;34m\u001b[0m\u001b[0;34m\u001b[0m\u001b[0m\n\u001b[0m\u001b[1;32m    861\u001b[0m         )\n\u001b[1;32m    862\u001b[0m \u001b[0;34m\u001b[0m\u001b[0m\n",
      "\u001b[0;32m/usr/local/lib/python3.6/dist-packages/ipykernel/kernelbase.py\u001b[0m in \u001b[0;36m_input_request\u001b[0;34m(self, prompt, ident, parent, password)\u001b[0m\n\u001b[1;32m    899\u001b[0m             \u001b[0;32mexcept\u001b[0m \u001b[0mKeyboardInterrupt\u001b[0m\u001b[0;34m:\u001b[0m\u001b[0;34m\u001b[0m\u001b[0;34m\u001b[0m\u001b[0m\n\u001b[1;32m    900\u001b[0m                 \u001b[0;31m# re-raise KeyboardInterrupt, to truncate traceback\u001b[0m\u001b[0;34m\u001b[0m\u001b[0;34m\u001b[0m\u001b[0;34m\u001b[0m\u001b[0m\n\u001b[0;32m--> 901\u001b[0;31m                 \u001b[0;32mraise\u001b[0m \u001b[0mKeyboardInterrupt\u001b[0m\u001b[0;34m(\u001b[0m\u001b[0;34m\"Interrupted by user\"\u001b[0m\u001b[0;34m)\u001b[0m \u001b[0;32mfrom\u001b[0m \u001b[0;32mNone\u001b[0m\u001b[0;34m\u001b[0m\u001b[0;34m\u001b[0m\u001b[0m\n\u001b[0m\u001b[1;32m    902\u001b[0m             \u001b[0;32mexcept\u001b[0m \u001b[0mException\u001b[0m \u001b[0;32mas\u001b[0m \u001b[0me\u001b[0m\u001b[0;34m:\u001b[0m\u001b[0;34m\u001b[0m\u001b[0;34m\u001b[0m\u001b[0m\n\u001b[1;32m    903\u001b[0m                 \u001b[0mself\u001b[0m\u001b[0;34m.\u001b[0m\u001b[0mlog\u001b[0m\u001b[0;34m.\u001b[0m\u001b[0mwarning\u001b[0m\u001b[0;34m(\u001b[0m\u001b[0;34m\"Invalid Message:\"\u001b[0m\u001b[0;34m,\u001b[0m \u001b[0mexc_info\u001b[0m\u001b[0;34m=\u001b[0m\u001b[0;32mTrue\u001b[0m\u001b[0;34m)\u001b[0m\u001b[0;34m\u001b[0m\u001b[0;34m\u001b[0m\u001b[0m\n",
      "\u001b[0;31mKeyboardInterrupt\u001b[0m: Interrupted by user"
     ]
    }
   ],
   "source": [
    "while 1:\n",
    "    words = saver.sample()\n",
    "    labels = ['O']*len(words)\n",
    "    s = [(i,w) for i,w in enumerate(words)]\n",
    "    s = '\\n'.join(list(map(lambda p: '%d %s' % p, s)))\n",
    "    print(s)\n",
    "    ixs = input()\n",
    "    if len(ixs) > 0:\n",
    "        ixs = list(map(int, ixs.split()))\n",
    "        for ix in ixs:\n",
    "            labels[ix] = 'PER'\n",
    "    saver.add(words, labels)\n",
    "    print('-----------------')"
   ]
  },
  {
   "cell_type": "code",
   "execution_count": 40,
   "metadata": {},
   "outputs": [
    {
     "data": {
      "text/plain": [
       "1022"
      ]
     },
     "execution_count": 40,
     "metadata": {},
     "output_type": "execute_result"
    }
   ],
   "source": [
    "len(open(saver.path).read().split('\\n\\n'))"
   ]
  },
  {
   "cell_type": "code",
   "execution_count": null,
   "metadata": {},
   "outputs": [],
   "source": []
  }
 ],
 "metadata": {
  "kernelspec": {
   "display_name": "Python 3",
   "language": "python",
   "name": "python3"
  },
  "language_info": {
   "codemirror_mode": {
    "name": "ipython",
    "version": 3
   },
   "file_extension": ".py",
   "mimetype": "text/x-python",
   "name": "python",
   "nbconvert_exporter": "python",
   "pygments_lexer": "ipython3",
   "version": "3.6.9"
  }
 },
 "nbformat": 4,
 "nbformat_minor": 4
}
