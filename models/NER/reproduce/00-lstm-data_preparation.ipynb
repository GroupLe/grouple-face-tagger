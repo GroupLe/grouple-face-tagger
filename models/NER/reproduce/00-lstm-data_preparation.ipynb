{
 "cells": [
  {
   "cell_type": "code",
   "execution_count": 124,
   "id": "statewide-starter",
   "metadata": {},
   "outputs": [],
   "source": [
    "import pandas as pd\n",
    "from pathlib import Path\n",
    "import regex as re\n",
    "import torch\n",
    "import torch.nn as nn\n",
    "import torch.nn.functional as F"
   ]
  },
  {
   "cell_type": "code",
   "execution_count": 125,
   "id": "fossil-moderator",
   "metadata": {},
   "outputs": [],
   "source": [
    "book_path = Path('../../../data/NER/raw/books_text/')"
   ]
  },
  {
   "cell_type": "code",
   "execution_count": 126,
   "id": "likely-labor",
   "metadata": {},
   "outputs": [],
   "source": [
    "book1 = book_path / 'priestuplieniie_i_nakazaniie_-_fiedor_mikhailovich_dostoievskii.txt'\n",
    "book2 = book_path / 'voyna-i-mir-tom-1.txt'\n",
    "book3 = book_path / 'txtrend_istochnik.txt'\n",
    "book4 = book_path / 'RUS.txt'"
   ]
  },
  {
   "cell_type": "code",
   "execution_count": 127,
   "id": "amateur-consideration",
   "metadata": {},
   "outputs": [],
   "source": [
    "with open(book1) as b1, open(book2) as b2, open(book3, encoding='utf-8') as b3, open(book4) as b4:\n",
    "    book1 = b1.read().split()\n",
    "    book2 = b2.read().split()\n",
    "    book3 = b3.read().split()\n",
    "    book4 = b4.read().split()\n",
    "    book = book1 + book2 + book3"
   ]
  },
  {
   "cell_type": "code",
   "execution_count": 128,
   "id": "iraqi-logic",
   "metadata": {},
   "outputs": [],
   "source": [
    "import regex as re\n",
    "doc = []\n",
    "for token in book:\n",
    "    tok = re.sub(r\"[^А-Яа-я]\", \"\", token)\n",
    "    if tok!='':\n",
    "        doc.append(tok.lower())"
   ]
  },
  {
   "cell_type": "code",
   "execution_count": 129,
   "id": "distant-setting",
   "metadata": {},
   "outputs": [
    {
     "data": {
      "text/plain": [
       "['ф',\n",
       " 'м',\n",
       " 'достоевский',\n",
       " 'преступление',\n",
       " 'и',\n",
       " 'наказание',\n",
       " 'часть',\n",
       " 'в',\n",
       " 'начале',\n",
       " 'июля']"
      ]
     },
     "execution_count": 129,
     "metadata": {},
     "output_type": "execute_result"
    }
   ],
   "source": [
    "doc[:10]"
   ]
  },
  {
   "cell_type": "code",
   "execution_count": 130,
   "id": "wireless-nylon",
   "metadata": {},
   "outputs": [
    {
     "data": {
      "text/plain": [
       "31370"
      ]
     },
     "execution_count": 130,
     "metadata": {},
     "output_type": "execute_result"
    }
   ],
   "source": [
    "labels = [0]*len(doc)\n",
    "text = pd.DataFrame({'token':doc, 'label': labels})\n",
    "text = text.drop_duplicates(subset=['token'], keep='first')\n",
    "text = text.sample(frac=0.5)\n",
    "len(text)"
   ]
  },
  {
   "cell_type": "code",
   "execution_count": 131,
   "id": "italic-joining",
   "metadata": {},
   "outputs": [
    {
     "data": {
      "text/html": [
       "<div>\n",
       "<style scoped>\n",
       "    .dataframe tbody tr th:only-of-type {\n",
       "        vertical-align: middle;\n",
       "    }\n",
       "\n",
       "    .dataframe tbody tr th {\n",
       "        vertical-align: top;\n",
       "    }\n",
       "\n",
       "    .dataframe thead th {\n",
       "        text-align: right;\n",
       "    }\n",
       "</style>\n",
       "<table border=\"1\" class=\"dataframe\">\n",
       "  <thead>\n",
       "    <tr style=\"text-align: right;\">\n",
       "      <th></th>\n",
       "      <th>token</th>\n",
       "      <th>label</th>\n",
       "    </tr>\n",
       "  </thead>\n",
       "  <tbody>\n",
       "    <tr>\n",
       "      <th>218946</th>\n",
       "      <td>перилы</td>\n",
       "      <td>0</td>\n",
       "    </tr>\n",
       "    <tr>\n",
       "      <th>145767</th>\n",
       "      <td>незыблемое</td>\n",
       "      <td>0</td>\n",
       "    </tr>\n",
       "    <tr>\n",
       "      <th>385003</th>\n",
       "      <td>становишься</td>\n",
       "      <td>0</td>\n",
       "    </tr>\n",
       "    <tr>\n",
       "      <th>422736</th>\n",
       "      <td>доброхотками</td>\n",
       "      <td>0</td>\n",
       "    </tr>\n",
       "    <tr>\n",
       "      <th>12210</th>\n",
       "      <td>приезд</td>\n",
       "      <td>0</td>\n",
       "    </tr>\n",
       "  </tbody>\n",
       "</table>\n",
       "</div>"
      ],
      "text/plain": [
       "               token  label\n",
       "218946        перилы      0\n",
       "145767    незыблемое      0\n",
       "385003   становишься      0\n",
       "422736  доброхотками      0\n",
       "12210         приезд      0"
      ]
     },
     "execution_count": 131,
     "metadata": {},
     "output_type": "execute_result"
    }
   ],
   "source": [
    "text.head()"
   ]
  },
  {
   "cell_type": "code",
   "execution_count": 132,
   "id": "gothic-melissa",
   "metadata": {},
   "outputs": [
    {
     "data": {
      "text/plain": [
       "<AxesSubplot:>"
      ]
     },
     "execution_count": 132,
     "metadata": {},
     "output_type": "execute_result"
    },
    {
     "data": {
      "image/png": "[encoded data removed]",
      "text/plain": [
       "<Figure size 432x288 with 1 Axes>"
      ]
     },
     "metadata": {
      "needs_background": "light"
     },
     "output_type": "display_data"
    }
   ],
   "source": [
    "text.token.apply(len).hist(bins = 50)"
   ]
  },
  {
   "cell_type": "code",
   "execution_count": 133,
   "id": "thirty-token",
   "metadata": {},
   "outputs": [],
   "source": [
    "path = Path('../../../data/NER/raw/characters/you_anime_refs.csv/')\n",
    "path2 = Path('../../../data/NER/raw/characters/you_anime_characters_refs.csv/')"
   ]
  },
  {
   "cell_type": "code",
   "execution_count": 134,
   "id": "decent-modification",
   "metadata": {},
   "outputs": [],
   "source": [
    "df = pd.read_csv(path, sep='\\t')"
   ]
  },
  {
   "cell_type": "code",
   "execution_count": 135,
   "id": "exclusive-seattle",
   "metadata": {},
   "outputs": [
    {
     "data": {
      "text/html": [
       "<div>\n",
       "<style scoped>\n",
       "    .dataframe tbody tr th:only-of-type {\n",
       "        vertical-align: middle;\n",
       "    }\n",
       "\n",
       "    .dataframe tbody tr th {\n",
       "        vertical-align: top;\n",
       "    }\n",
       "\n",
       "    .dataframe thead th {\n",
       "        text-align: right;\n",
       "    }\n",
       "</style>\n",
       "<table border=\"1\" class=\"dataframe\">\n",
       "  <thead>\n",
       "    <tr style=\"text-align: right;\">\n",
       "      <th></th>\n",
       "      <th>title</th>\n",
       "      <th>link</th>\n",
       "      <th>img_addr</th>\n",
       "    </tr>\n",
       "  </thead>\n",
       "  <tbody>\n",
       "    <tr>\n",
       "      <th>0</th>\n",
       "      <td>Атака титанов</td>\n",
       "      <td>/watch/vtorzhenie-gigantov</td>\n",
       "      <td>/anime-images/posters/128.jpg</td>\n",
       "    </tr>\n",
       "    <tr>\n",
       "      <th>1</th>\n",
       "      <td>Токийский гуль</td>\n",
       "      <td>/watch/tokiiskii-gul</td>\n",
       "      <td>/anime-images/posters/504.jpg</td>\n",
       "    </tr>\n",
       "    <tr>\n",
       "      <th>2</th>\n",
       "      <td>Бездомный бог</td>\n",
       "      <td>/watch/bezdomnyi-bog</td>\n",
       "      <td>/anime-images/posters/2827.jpg</td>\n",
       "    </tr>\n",
       "    <tr>\n",
       "      <th>3</th>\n",
       "      <td>Твоё имя</td>\n",
       "      <td>/watch/tvoe-imya</td>\n",
       "      <td>/anime-images/posters/5674.jpg</td>\n",
       "    </tr>\n",
       "    <tr>\n",
       "      <th>4</th>\n",
       "      <td>Тетрадь смерти</td>\n",
       "      <td>/watch/tetrad-smerti</td>\n",
       "      <td>/anime-images/posters/5599.jpg</td>\n",
       "    </tr>\n",
       "  </tbody>\n",
       "</table>\n",
       "</div>"
      ],
      "text/plain": [
       "            title                        link                        img_addr\n",
       "0   Атака титанов  /watch/vtorzhenie-gigantov   /anime-images/posters/128.jpg\n",
       "1  Токийский гуль        /watch/tokiiskii-gul   /anime-images/posters/504.jpg\n",
       "2   Бездомный бог        /watch/bezdomnyi-bog  /anime-images/posters/2827.jpg\n",
       "3        Твоё имя            /watch/tvoe-imya  /anime-images/posters/5674.jpg\n",
       "4  Тетрадь смерти        /watch/tetrad-smerti  /anime-images/posters/5599.jpg"
      ]
     },
     "execution_count": 135,
     "metadata": {},
     "output_type": "execute_result"
    }
   ],
   "source": [
    "df.head()"
   ]
  },
  {
   "cell_type": "code",
   "execution_count": 136,
   "id": "center-inspiration",
   "metadata": {},
   "outputs": [],
   "source": [
    "df2 = pd.read_csv(path2, sep='\\t')"
   ]
  },
  {
   "cell_type": "code",
   "execution_count": 137,
   "id": "useful-mexico",
   "metadata": {},
   "outputs": [
    {
     "data": {
      "text/html": [
       "<div>\n",
       "<style scoped>\n",
       "    .dataframe tbody tr th:only-of-type {\n",
       "        vertical-align: middle;\n",
       "    }\n",
       "\n",
       "    .dataframe tbody tr th {\n",
       "        vertical-align: top;\n",
       "    }\n",
       "\n",
       "    .dataframe thead th {\n",
       "        text-align: right;\n",
       "    }\n",
       "</style>\n",
       "<table border=\"1\" class=\"dataframe\">\n",
       "  <thead>\n",
       "    <tr style=\"text-align: right;\">\n",
       "      <th></th>\n",
       "      <th>page_link</th>\n",
       "      <th>name</th>\n",
       "      <th>link</th>\n",
       "      <th>img_addr</th>\n",
       "    </tr>\n",
       "  </thead>\n",
       "  <tbody>\n",
       "    <tr>\n",
       "      <th>0</th>\n",
       "      <td>https://you-anime.ru/characters/anime/vtorzhen...</td>\n",
       "      <td>Эрен Йегер</td>\n",
       "      <td>/characters/eren-ieger</td>\n",
       "      <td>/anime-images/characters/40882.jpg</td>\n",
       "    </tr>\n",
       "    <tr>\n",
       "      <th>1</th>\n",
       "      <td>https://you-anime.ru/characters/anime/vtorzhen...</td>\n",
       "      <td>Микаса Аккерман</td>\n",
       "      <td>/characters/mikasa-akkerman</td>\n",
       "      <td>/anime-images/characters/40881.jpg</td>\n",
       "    </tr>\n",
       "    <tr>\n",
       "      <th>2</th>\n",
       "      <td>https://you-anime.ru/characters/anime/vtorzhen...</td>\n",
       "      <td>Армин Арлерт</td>\n",
       "      <td>/characters/armin-arlert</td>\n",
       "      <td>/anime-images/characters/46494.jpg</td>\n",
       "    </tr>\n",
       "    <tr>\n",
       "      <th>3</th>\n",
       "      <td>https://you-anime.ru/characters/anime/vtorzhen...</td>\n",
       "      <td>Леви</td>\n",
       "      <td>/characters/levi</td>\n",
       "      <td>/anime-images/characters/45627.jpg</td>\n",
       "    </tr>\n",
       "    <tr>\n",
       "      <th>4</th>\n",
       "      <td>https://you-anime.ru/characters/anime/vtorzhen...</td>\n",
       "      <td>Саша Блауз</td>\n",
       "      <td>/characters/sasha-blauz</td>\n",
       "      <td>/anime-images/characters/45887.jpg</td>\n",
       "    </tr>\n",
       "  </tbody>\n",
       "</table>\n",
       "</div>"
      ],
      "text/plain": [
       "                                           page_link             name  \\\n",
       "0  https://you-anime.ru/characters/anime/vtorzhen...       Эрен Йегер   \n",
       "1  https://you-anime.ru/characters/anime/vtorzhen...  Микаса Аккерман   \n",
       "2  https://you-anime.ru/characters/anime/vtorzhen...     Армин Арлерт   \n",
       "3  https://you-anime.ru/characters/anime/vtorzhen...             Леви   \n",
       "4  https://you-anime.ru/characters/anime/vtorzhen...       Саша Блауз   \n",
       "\n",
       "                          link                            img_addr  \n",
       "0       /characters/eren-ieger  /anime-images/characters/40882.jpg  \n",
       "1  /characters/mikasa-akkerman  /anime-images/characters/40881.jpg  \n",
       "2     /characters/armin-arlert  /anime-images/characters/46494.jpg  \n",
       "3             /characters/levi  /anime-images/characters/45627.jpg  \n",
       "4      /characters/sasha-blauz  /anime-images/characters/45887.jpg  "
      ]
     },
     "execution_count": 137,
     "metadata": {},
     "output_type": "execute_result"
    }
   ],
   "source": [
    "df2.head()"
   ]
  },
  {
   "cell_type": "code",
   "execution_count": 138,
   "id": "incoming-democrat",
   "metadata": {},
   "outputs": [
    {
     "data": {
      "text/plain": [
       "113311"
      ]
     },
     "execution_count": 138,
     "metadata": {},
     "output_type": "execute_result"
    }
   ],
   "source": [
    "len(df2['name'])"
   ]
  },
  {
   "cell_type": "code",
   "execution_count": 139,
   "id": "announced-booth",
   "metadata": {},
   "outputs": [
    {
     "data": {
      "text/html": [
       "<div>\n",
       "<style scoped>\n",
       "    .dataframe tbody tr th:only-of-type {\n",
       "        vertical-align: middle;\n",
       "    }\n",
       "\n",
       "    .dataframe tbody tr th {\n",
       "        vertical-align: top;\n",
       "    }\n",
       "\n",
       "    .dataframe thead th {\n",
       "        text-align: right;\n",
       "    }\n",
       "</style>\n",
       "<table border=\"1\" class=\"dataframe\">\n",
       "  <thead>\n",
       "    <tr style=\"text-align: right;\">\n",
       "      <th></th>\n",
       "      <th>page_link</th>\n",
       "      <th>name</th>\n",
       "      <th>link</th>\n",
       "      <th>img_addr</th>\n",
       "    </tr>\n",
       "  </thead>\n",
       "  <tbody>\n",
       "    <tr>\n",
       "      <th>0</th>\n",
       "      <td>https://you-anime.ru/characters/anime/vtorzhen...</td>\n",
       "      <td>Эрен Йегер</td>\n",
       "      <td>/characters/eren-ieger</td>\n",
       "      <td>/anime-images/characters/40882.jpg</td>\n",
       "    </tr>\n",
       "    <tr>\n",
       "      <th>1</th>\n",
       "      <td>https://you-anime.ru/characters/anime/vtorzhen...</td>\n",
       "      <td>Микаса Аккерман</td>\n",
       "      <td>/characters/mikasa-akkerman</td>\n",
       "      <td>/anime-images/characters/40881.jpg</td>\n",
       "    </tr>\n",
       "    <tr>\n",
       "      <th>2</th>\n",
       "      <td>https://you-anime.ru/characters/anime/vtorzhen...</td>\n",
       "      <td>Армин Арлерт</td>\n",
       "      <td>/characters/armin-arlert</td>\n",
       "      <td>/anime-images/characters/46494.jpg</td>\n",
       "    </tr>\n",
       "    <tr>\n",
       "      <th>3</th>\n",
       "      <td>https://you-anime.ru/characters/anime/vtorzhen...</td>\n",
       "      <td>Леви</td>\n",
       "      <td>/characters/levi</td>\n",
       "      <td>/anime-images/characters/45627.jpg</td>\n",
       "    </tr>\n",
       "    <tr>\n",
       "      <th>4</th>\n",
       "      <td>https://you-anime.ru/characters/anime/vtorzhen...</td>\n",
       "      <td>Саша Блауз</td>\n",
       "      <td>/characters/sasha-blauz</td>\n",
       "      <td>/anime-images/characters/45887.jpg</td>\n",
       "    </tr>\n",
       "    <tr>\n",
       "      <th>...</th>\n",
       "      <td>...</td>\n",
       "      <td>...</td>\n",
       "      <td>...</td>\n",
       "      <td>...</td>\n",
       "    </tr>\n",
       "    <tr>\n",
       "      <th>113295</th>\n",
       "      <td>https://you-anime.ru/characters/anime/mcdull-b...</td>\n",
       "      <td>McDull</td>\n",
       "      <td>/characters/mcdull</td>\n",
       "      <td>/anime-images/characters/95761.jpg</td>\n",
       "    </tr>\n",
       "    <tr>\n",
       "      <th>113296</th>\n",
       "      <td>https://you-anime.ru/characters/anime/mcdull-b...</td>\n",
       "      <td>McBing</td>\n",
       "      <td>/characters/mcbing</td>\n",
       "      <td>/anime-images/characters/95763.jpg</td>\n",
       "    </tr>\n",
       "    <tr>\n",
       "      <th>113297</th>\n",
       "      <td>https://you-anime.ru/characters/anime/hal-i-bons</td>\n",
       "      <td>Mochi</td>\n",
       "      <td>/characters/mochi</td>\n",
       "      <td>/anime-images/characters/15821.jpg</td>\n",
       "    </tr>\n",
       "    <tr>\n",
       "      <th>113298</th>\n",
       "      <td>https://you-anime.ru/characters/anime/shinjuku...</td>\n",
       "      <td>Shin-chan Shinjuku</td>\n",
       "      <td>/characters/shin-chan-shinjuku</td>\n",
       "      <td>/anime-images/characters/19346.jpg</td>\n",
       "    </tr>\n",
       "    <tr>\n",
       "      <th>113303</th>\n",
       "      <td>https://you-anime.ru/characters/anime/mister-s...</td>\n",
       "      <td>Лифа</td>\n",
       "      <td>/characters/lifa</td>\n",
       "      <td>/anime-images/characters/114203.jpg</td>\n",
       "    </tr>\n",
       "  </tbody>\n",
       "</table>\n",
       "<p>63171 rows × 4 columns</p>\n",
       "</div>"
      ],
      "text/plain": [
       "                                                page_link                name  \\\n",
       "0       https://you-anime.ru/characters/anime/vtorzhen...          Эрен Йегер   \n",
       "1       https://you-anime.ru/characters/anime/vtorzhen...     Микаса Аккерман   \n",
       "2       https://you-anime.ru/characters/anime/vtorzhen...        Армин Арлерт   \n",
       "3       https://you-anime.ru/characters/anime/vtorzhen...                Леви   \n",
       "4       https://you-anime.ru/characters/anime/vtorzhen...          Саша Блауз   \n",
       "...                                                   ...                 ...   \n",
       "113295  https://you-anime.ru/characters/anime/mcdull-b...              McDull   \n",
       "113296  https://you-anime.ru/characters/anime/mcdull-b...              McBing   \n",
       "113297   https://you-anime.ru/characters/anime/hal-i-bons               Mochi   \n",
       "113298  https://you-anime.ru/characters/anime/shinjuku...  Shin-chan Shinjuku   \n",
       "113303  https://you-anime.ru/characters/anime/mister-s...                Лифа   \n",
       "\n",
       "                                  link                             img_addr  \n",
       "0               /characters/eren-ieger   /anime-images/characters/40882.jpg  \n",
       "1          /characters/mikasa-akkerman   /anime-images/characters/40881.jpg  \n",
       "2             /characters/armin-arlert   /anime-images/characters/46494.jpg  \n",
       "3                     /characters/levi   /anime-images/characters/45627.jpg  \n",
       "4              /characters/sasha-blauz   /anime-images/characters/45887.jpg  \n",
       "...                                ...                                  ...  \n",
       "113295              /characters/mcdull   /anime-images/characters/95761.jpg  \n",
       "113296              /characters/mcbing   /anime-images/characters/95763.jpg  \n",
       "113297               /characters/mochi   /anime-images/characters/15821.jpg  \n",
       "113298  /characters/shin-chan-shinjuku   /anime-images/characters/19346.jpg  \n",
       "113303                /characters/lifa  /anime-images/characters/114203.jpg  \n",
       "\n",
       "[63171 rows x 4 columns]"
      ]
     },
     "execution_count": 139,
     "metadata": {},
     "output_type": "execute_result"
    }
   ],
   "source": [
    "df2.drop_duplicates(['name'])"
   ]
  },
  {
   "cell_type": "code",
   "execution_count": 141,
   "id": "early-cross",
   "metadata": {},
   "outputs": [
    {
     "name": "stdout",
     "output_type": "stream",
     "text": [
      "Эндрю Гилберт Миллс (Эгиль)\n",
      "Золотой Шар\n",
      "Женщина из таверны\n",
      "Большая Мадам\n",
      "Роза Томас\n",
      "Миссис Бредли\n",
      "Сын Рыба\n",
      "Ю\n",
      "Эндрю Гилберт Миллс (Эгиль)\n",
      "Дух Леса\n",
      "Роза Томас\n",
      "Миссис Бредли\n",
      "Лидер банды\n",
      "Роберт Эдвард О. Спидвагон\n",
      "Лиза Лиза\n",
      "Большая Мадам\n",
      "Ведущая новостей\n",
      "Сотрудник отдела морали №2\n",
      "Сотрудник отдела морали №1\n",
      "Золотой Шар\n",
      "Иван Цель\n"
     ]
    },
    {
     "ename": "KeyboardInterrupt",
     "evalue": "",
     "output_type": "error",
     "traceback": [
      "\u001b[1;31m---------------------------------------------------------------------------\u001b[0m",
      "\u001b[1;31mKeyboardInterrupt\u001b[0m                         Traceback (most recent call last)",
      "\u001b[1;32m<ipython-input-141-429004d91ebc>\u001b[0m in \u001b[0;36m<module>\u001b[1;34m\u001b[0m\n\u001b[0;32m      4\u001b[0m     \u001b[1;32mfor\u001b[0m \u001b[0mword\u001b[0m \u001b[1;32min\u001b[0m \u001b[0mname_list\u001b[0m\u001b[1;33m:\u001b[0m\u001b[1;33m\u001b[0m\u001b[0m\n\u001b[0;32m      5\u001b[0m         \u001b[1;32mtry\u001b[0m\u001b[1;33m:\u001b[0m\u001b[1;33m\u001b[0m\u001b[0m\n\u001b[1;32m----> 6\u001b[1;33m             \u001b[1;32mif\u001b[0m \u001b[1;32mnot\u001b[0m \u001b[1;33m(\u001b[0m\u001b[0mtext\u001b[0m\u001b[1;33m[\u001b[0m\u001b[0mtext\u001b[0m\u001b[1;33m.\u001b[0m\u001b[0mtoken\u001b[0m\u001b[1;33m.\u001b[0m\u001b[0mstr\u001b[0m\u001b[1;33m.\u001b[0m\u001b[0mfullmatch\u001b[0m\u001b[1;33m(\u001b[0m\u001b[0mword\u001b[0m\u001b[1;33m.\u001b[0m\u001b[0mlower\u001b[0m\u001b[1;33m(\u001b[0m\u001b[1;33m)\u001b[0m\u001b[1;33m)\u001b[0m\u001b[1;33m]\u001b[0m\u001b[1;33m.\u001b[0m\u001b[0mempty\u001b[0m\u001b[1;33m)\u001b[0m\u001b[1;33m:\u001b[0m\u001b[1;33m\u001b[0m\u001b[0m\n\u001b[0m\u001b[0;32m      7\u001b[0m                 \u001b[0mi\u001b[0m\u001b[1;33m+=\u001b[0m\u001b[1;36m1\u001b[0m\u001b[1;33m\u001b[0m\u001b[0m\n\u001b[0;32m      8\u001b[0m         \u001b[1;32mexcept\u001b[0m \u001b[0mException\u001b[0m\u001b[1;33m:\u001b[0m\u001b[1;33m\u001b[0m\u001b[0m\n",
      "\u001b[1;32mc:\\users\\май\\appdata\\local\\programs\\python\\python36\\lib\\site-packages\\pandas\\core\\strings.py\u001b[0m in \u001b[0;36mwrapper\u001b[1;34m(self, *args, **kwargs)\u001b[0m\n\u001b[0;32m   1999\u001b[0m                 )\n\u001b[0;32m   2000\u001b[0m                 \u001b[1;32mraise\u001b[0m \u001b[0mTypeError\u001b[0m\u001b[1;33m(\u001b[0m\u001b[0mmsg\u001b[0m\u001b[1;33m)\u001b[0m\u001b[1;33m\u001b[0m\u001b[0m\n\u001b[1;32m-> 2001\u001b[1;33m             \u001b[1;32mreturn\u001b[0m \u001b[0mfunc\u001b[0m\u001b[1;33m(\u001b[0m\u001b[0mself\u001b[0m\u001b[1;33m,\u001b[0m \u001b[1;33m*\u001b[0m\u001b[0margs\u001b[0m\u001b[1;33m,\u001b[0m \u001b[1;33m**\u001b[0m\u001b[0mkwargs\u001b[0m\u001b[1;33m)\u001b[0m\u001b[1;33m\u001b[0m\u001b[0m\n\u001b[0m\u001b[0;32m   2002\u001b[0m \u001b[1;33m\u001b[0m\u001b[0m\n\u001b[0;32m   2003\u001b[0m         \u001b[0mwrapper\u001b[0m\u001b[1;33m.\u001b[0m\u001b[0m__name__\u001b[0m \u001b[1;33m=\u001b[0m \u001b[0mfunc_name\u001b[0m\u001b[1;33m\u001b[0m\u001b[0m\n",
      "\u001b[1;32mc:\\users\\май\\appdata\\local\\programs\\python\\python36\\lib\\site-packages\\pandas\\core\\strings.py\u001b[0m in \u001b[0;36mfullmatch\u001b[1;34m(self, pat, case, flags, na)\u001b[0m\n\u001b[0;32m   2836\u001b[0m     \u001b[1;33m@\u001b[0m\u001b[0mforbid_nonstring_types\u001b[0m\u001b[1;33m(\u001b[0m\u001b[1;33m[\u001b[0m\u001b[1;34m\"bytes\"\u001b[0m\u001b[1;33m]\u001b[0m\u001b[1;33m)\u001b[0m\u001b[1;33m\u001b[0m\u001b[0m\n\u001b[0;32m   2837\u001b[0m     \u001b[1;32mdef\u001b[0m \u001b[0mfullmatch\u001b[0m\u001b[1;33m(\u001b[0m\u001b[0mself\u001b[0m\u001b[1;33m,\u001b[0m \u001b[0mpat\u001b[0m\u001b[1;33m,\u001b[0m \u001b[0mcase\u001b[0m\u001b[1;33m=\u001b[0m\u001b[1;32mTrue\u001b[0m\u001b[1;33m,\u001b[0m \u001b[0mflags\u001b[0m\u001b[1;33m=\u001b[0m\u001b[1;36m0\u001b[0m\u001b[1;33m,\u001b[0m \u001b[0mna\u001b[0m\u001b[1;33m=\u001b[0m\u001b[0mnp\u001b[0m\u001b[1;33m.\u001b[0m\u001b[0mnan\u001b[0m\u001b[1;33m)\u001b[0m\u001b[1;33m:\u001b[0m\u001b[1;33m\u001b[0m\u001b[0m\n\u001b[1;32m-> 2838\u001b[1;33m         \u001b[0mresult\u001b[0m \u001b[1;33m=\u001b[0m \u001b[0mstr_fullmatch\u001b[0m\u001b[1;33m(\u001b[0m\u001b[0mself\u001b[0m\u001b[1;33m.\u001b[0m\u001b[0m_parent\u001b[0m\u001b[1;33m,\u001b[0m \u001b[0mpat\u001b[0m\u001b[1;33m,\u001b[0m \u001b[0mcase\u001b[0m\u001b[1;33m=\u001b[0m\u001b[0mcase\u001b[0m\u001b[1;33m,\u001b[0m \u001b[0mflags\u001b[0m\u001b[1;33m=\u001b[0m\u001b[0mflags\u001b[0m\u001b[1;33m,\u001b[0m \u001b[0mna\u001b[0m\u001b[1;33m=\u001b[0m\u001b[0mna\u001b[0m\u001b[1;33m)\u001b[0m\u001b[1;33m\u001b[0m\u001b[0m\n\u001b[0m\u001b[0;32m   2839\u001b[0m         \u001b[1;32mreturn\u001b[0m \u001b[0mself\u001b[0m\u001b[1;33m.\u001b[0m\u001b[0m_wrap_result\u001b[0m\u001b[1;33m(\u001b[0m\u001b[0mresult\u001b[0m\u001b[1;33m,\u001b[0m \u001b[0mfill_value\u001b[0m\u001b[1;33m=\u001b[0m\u001b[0mna\u001b[0m\u001b[1;33m,\u001b[0m \u001b[0mreturns_string\u001b[0m\u001b[1;33m=\u001b[0m\u001b[1;32mFalse\u001b[0m\u001b[1;33m)\u001b[0m\u001b[1;33m\u001b[0m\u001b[0m\n\u001b[0;32m   2840\u001b[0m \u001b[1;33m\u001b[0m\u001b[0m\n",
      "\u001b[1;32mc:\\users\\май\\appdata\\local\\programs\\python\\python36\\lib\\site-packages\\pandas\\core\\strings.py\u001b[0m in \u001b[0;36mstr_fullmatch\u001b[1;34m(arr, pat, case, flags, na)\u001b[0m\n\u001b[0;32m    870\u001b[0m     \u001b[0mf\u001b[0m \u001b[1;33m=\u001b[0m \u001b[1;32mlambda\u001b[0m \u001b[0mx\u001b[0m\u001b[1;33m:\u001b[0m \u001b[0mregex\u001b[0m\u001b[1;33m.\u001b[0m\u001b[0mfullmatch\u001b[0m\u001b[1;33m(\u001b[0m\u001b[0mx\u001b[0m\u001b[1;33m)\u001b[0m \u001b[1;32mis\u001b[0m \u001b[1;32mnot\u001b[0m \u001b[1;32mNone\u001b[0m\u001b[1;33m\u001b[0m\u001b[0m\n\u001b[0;32m    871\u001b[0m \u001b[1;33m\u001b[0m\u001b[0m\n\u001b[1;32m--> 872\u001b[1;33m     \u001b[1;32mreturn\u001b[0m \u001b[0m_na_map\u001b[0m\u001b[1;33m(\u001b[0m\u001b[0mf\u001b[0m\u001b[1;33m,\u001b[0m \u001b[0marr\u001b[0m\u001b[1;33m,\u001b[0m \u001b[0mna\u001b[0m\u001b[1;33m,\u001b[0m \u001b[0mdtype\u001b[0m\u001b[1;33m=\u001b[0m\u001b[0mnp\u001b[0m\u001b[1;33m.\u001b[0m\u001b[0mdtype\u001b[0m\u001b[1;33m(\u001b[0m\u001b[0mbool\u001b[0m\u001b[1;33m)\u001b[0m\u001b[1;33m)\u001b[0m\u001b[1;33m\u001b[0m\u001b[0m\n\u001b[0m\u001b[0;32m    873\u001b[0m \u001b[1;33m\u001b[0m\u001b[0m\n\u001b[0;32m    874\u001b[0m \u001b[1;33m\u001b[0m\u001b[0m\n",
      "\u001b[1;32mc:\\users\\май\\appdata\\local\\programs\\python\\python36\\lib\\site-packages\\pandas\\core\\strings.py\u001b[0m in \u001b[0;36m_na_map\u001b[1;34m(f, arr, na_result, dtype)\u001b[0m\n\u001b[0;32m    128\u001b[0m     \u001b[1;32mif\u001b[0m \u001b[0mna_result\u001b[0m \u001b[1;32mis\u001b[0m \u001b[1;32mNone\u001b[0m\u001b[1;33m:\u001b[0m\u001b[1;33m\u001b[0m\u001b[0m\n\u001b[0;32m    129\u001b[0m         \u001b[0mna_result\u001b[0m \u001b[1;33m=\u001b[0m \u001b[0mnp\u001b[0m\u001b[1;33m.\u001b[0m\u001b[0mnan\u001b[0m\u001b[1;33m\u001b[0m\u001b[0m\n\u001b[1;32m--> 130\u001b[1;33m     \u001b[1;32mreturn\u001b[0m \u001b[0m_map_object\u001b[0m\u001b[1;33m(\u001b[0m\u001b[0mf\u001b[0m\u001b[1;33m,\u001b[0m \u001b[0marr\u001b[0m\u001b[1;33m,\u001b[0m \u001b[0mna_mask\u001b[0m\u001b[1;33m=\u001b[0m\u001b[1;32mTrue\u001b[0m\u001b[1;33m,\u001b[0m \u001b[0mna_value\u001b[0m\u001b[1;33m=\u001b[0m\u001b[0mna_result\u001b[0m\u001b[1;33m,\u001b[0m \u001b[0mdtype\u001b[0m\u001b[1;33m=\u001b[0m\u001b[0mdtype\u001b[0m\u001b[1;33m)\u001b[0m\u001b[1;33m\u001b[0m\u001b[0m\n\u001b[0m\u001b[0;32m    131\u001b[0m \u001b[1;33m\u001b[0m\u001b[0m\n\u001b[0;32m    132\u001b[0m \u001b[1;33m\u001b[0m\u001b[0m\n",
      "\u001b[1;32mc:\\users\\май\\appdata\\local\\programs\\python\\python36\\lib\\site-packages\\pandas\\core\\strings.py\u001b[0m in \u001b[0;36m_map_object\u001b[1;34m(f, arr, na_mask, na_value, dtype)\u001b[0m\n\u001b[0;32m    213\u001b[0m         \u001b[0mconvert\u001b[0m \u001b[1;33m=\u001b[0m \u001b[1;32mnot\u001b[0m \u001b[0mnp\u001b[0m\u001b[1;33m.\u001b[0m\u001b[0mall\u001b[0m\u001b[1;33m(\u001b[0m\u001b[0mmask\u001b[0m\u001b[1;33m)\u001b[0m\u001b[1;33m\u001b[0m\u001b[0m\n\u001b[0;32m    214\u001b[0m         \u001b[1;32mtry\u001b[0m\u001b[1;33m:\u001b[0m\u001b[1;33m\u001b[0m\u001b[0m\n\u001b[1;32m--> 215\u001b[1;33m             \u001b[0mresult\u001b[0m \u001b[1;33m=\u001b[0m \u001b[0mlib\u001b[0m\u001b[1;33m.\u001b[0m\u001b[0mmap_infer_mask\u001b[0m\u001b[1;33m(\u001b[0m\u001b[0marr\u001b[0m\u001b[1;33m,\u001b[0m \u001b[0mf\u001b[0m\u001b[1;33m,\u001b[0m \u001b[0mmask\u001b[0m\u001b[1;33m.\u001b[0m\u001b[0mview\u001b[0m\u001b[1;33m(\u001b[0m\u001b[0mnp\u001b[0m\u001b[1;33m.\u001b[0m\u001b[0muint8\u001b[0m\u001b[1;33m)\u001b[0m\u001b[1;33m,\u001b[0m \u001b[0mconvert\u001b[0m\u001b[1;33m)\u001b[0m\u001b[1;33m\u001b[0m\u001b[0m\n\u001b[0m\u001b[0;32m    216\u001b[0m         \u001b[1;32mexcept\u001b[0m \u001b[1;33m(\u001b[0m\u001b[0mTypeError\u001b[0m\u001b[1;33m,\u001b[0m \u001b[0mAttributeError\u001b[0m\u001b[1;33m)\u001b[0m \u001b[1;32mas\u001b[0m \u001b[0me\u001b[0m\u001b[1;33m:\u001b[0m\u001b[1;33m\u001b[0m\u001b[0m\n\u001b[0;32m    217\u001b[0m             \u001b[1;31m# Reraise the exception if callable `f` got wrong number of args.\u001b[0m\u001b[1;33m\u001b[0m\u001b[1;33m\u001b[0m\u001b[0m\n",
      "\u001b[1;32mpandas\\_libs\\lib.pyx\u001b[0m in \u001b[0;36mpandas._libs.lib.map_infer_mask\u001b[1;34m()\u001b[0m\n",
      "\u001b[1;32mc:\\users\\май\\appdata\\local\\programs\\python\\python36\\lib\\site-packages\\pandas\\core\\strings.py\u001b[0m in \u001b[0;36m<lambda>\u001b[1;34m(x)\u001b[0m\n\u001b[0;32m    868\u001b[0m     \u001b[0mregex\u001b[0m \u001b[1;33m=\u001b[0m \u001b[0mre\u001b[0m\u001b[1;33m.\u001b[0m\u001b[0mcompile\u001b[0m\u001b[1;33m(\u001b[0m\u001b[0mpat\u001b[0m\u001b[1;33m,\u001b[0m \u001b[0mflags\u001b[0m\u001b[1;33m=\u001b[0m\u001b[0mflags\u001b[0m\u001b[1;33m)\u001b[0m\u001b[1;33m\u001b[0m\u001b[0m\n\u001b[0;32m    869\u001b[0m \u001b[1;33m\u001b[0m\u001b[0m\n\u001b[1;32m--> 870\u001b[1;33m     \u001b[0mf\u001b[0m \u001b[1;33m=\u001b[0m \u001b[1;32mlambda\u001b[0m \u001b[0mx\u001b[0m\u001b[1;33m:\u001b[0m \u001b[0mregex\u001b[0m\u001b[1;33m.\u001b[0m\u001b[0mfullmatch\u001b[0m\u001b[1;33m(\u001b[0m\u001b[0mx\u001b[0m\u001b[1;33m)\u001b[0m \u001b[1;32mis\u001b[0m \u001b[1;32mnot\u001b[0m \u001b[1;32mNone\u001b[0m\u001b[1;33m\u001b[0m\u001b[0m\n\u001b[0m\u001b[0;32m    871\u001b[0m \u001b[1;33m\u001b[0m\u001b[0m\n\u001b[0;32m    872\u001b[0m     \u001b[1;32mreturn\u001b[0m \u001b[0m_na_map\u001b[0m\u001b[1;33m(\u001b[0m\u001b[0mf\u001b[0m\u001b[1;33m,\u001b[0m \u001b[0marr\u001b[0m\u001b[1;33m,\u001b[0m \u001b[0mna\u001b[0m\u001b[1;33m,\u001b[0m \u001b[0mdtype\u001b[0m\u001b[1;33m=\u001b[0m\u001b[0mnp\u001b[0m\u001b[1;33m.\u001b[0m\u001b[0mdtype\u001b[0m\u001b[1;33m(\u001b[0m\u001b[0mbool\u001b[0m\u001b[1;33m)\u001b[0m\u001b[1;33m)\u001b[0m\u001b[1;33m\u001b[0m\u001b[0m\n",
      "\u001b[1;31mKeyboardInterrupt\u001b[0m: "
     ]
    }
   ],
   "source": [
    "for name in df2.name:\n",
    "    name_list = name.split(' ')\n",
    "    i=0\n",
    "    for word in name_list:\n",
    "        try:\n",
    "            if not (text[text.token.str.fullmatch(word.lower())].empty):\n",
    "                i+=1\n",
    "        except Exception:\n",
    "            pass\n",
    "    if i>=2 or i/len(name)>0.5:\n",
    "        print(name)\n",
    "        try:\n",
    "            df2 = df2.drop(df2.loc[df2.name.str.fullmatch(name)].index[0])\n",
    "        except Exception:\n",
    "            pass"
   ]
  },
  {
   "cell_type": "code",
   "execution_count": 142,
   "id": "loved-tournament",
   "metadata": {},
   "outputs": [],
   "source": [
    "names = []\n",
    "for i in df2['name'].unique():\n",
    "    for j in i.split(): \n",
    "        token = re.sub(r\"[^А-Яа-я]\", \"\", j)\n",
    "        if token!='':\n",
    "            names.append(token.lower())    "
   ]
  },
  {
   "cell_type": "code",
   "execution_count": 143,
   "id": "conservative-israeli",
   "metadata": {},
   "outputs": [
    {
     "data": {
      "text/plain": [
       "98249"
      ]
     },
     "execution_count": 143,
     "metadata": {},
     "output_type": "execute_result"
    }
   ],
   "source": [
    "len(names)"
   ]
  },
  {
   "cell_type": "code",
   "execution_count": 144,
   "id": "restricted-allowance",
   "metadata": {},
   "outputs": [],
   "source": [
    "labels = [1]*len(names)"
   ]
  },
  {
   "cell_type": "code",
   "execution_count": 145,
   "id": "amber-species",
   "metadata": {},
   "outputs": [
    {
     "data": {
      "text/html": [
       "<div>\n",
       "<style scoped>\n",
       "    .dataframe tbody tr th:only-of-type {\n",
       "        vertical-align: middle;\n",
       "    }\n",
       "\n",
       "    .dataframe tbody tr th {\n",
       "        vertical-align: top;\n",
       "    }\n",
       "\n",
       "    .dataframe thead th {\n",
       "        text-align: right;\n",
       "    }\n",
       "</style>\n",
       "<table border=\"1\" class=\"dataframe\">\n",
       "  <thead>\n",
       "    <tr style=\"text-align: right;\">\n",
       "      <th></th>\n",
       "      <th>token</th>\n",
       "      <th>label</th>\n",
       "    </tr>\n",
       "  </thead>\n",
       "  <tbody>\n",
       "    <tr>\n",
       "      <th>0</th>\n",
       "      <td>эрен</td>\n",
       "      <td>1</td>\n",
       "    </tr>\n",
       "    <tr>\n",
       "      <th>1</th>\n",
       "      <td>йегер</td>\n",
       "      <td>1</td>\n",
       "    </tr>\n",
       "    <tr>\n",
       "      <th>2</th>\n",
       "      <td>микаса</td>\n",
       "      <td>1</td>\n",
       "    </tr>\n",
       "    <tr>\n",
       "      <th>3</th>\n",
       "      <td>аккерман</td>\n",
       "      <td>1</td>\n",
       "    </tr>\n",
       "    <tr>\n",
       "      <th>4</th>\n",
       "      <td>армин</td>\n",
       "      <td>1</td>\n",
       "    </tr>\n",
       "  </tbody>\n",
       "</table>\n",
       "</div>"
      ],
      "text/plain": [
       "      token  label\n",
       "0      эрен      1\n",
       "1     йегер      1\n",
       "2    микаса      1\n",
       "3  аккерман      1\n",
       "4     армин      1"
      ]
     },
     "execution_count": 145,
     "metadata": {},
     "output_type": "execute_result"
    }
   ],
   "source": [
    "characters = pd.DataFrame({'token':names, 'label': labels})\n",
    "characters.head()"
   ]
  },
  {
   "cell_type": "code",
   "execution_count": 146,
   "id": "virtual-huntington",
   "metadata": {},
   "outputs": [
    {
     "data": {
      "text/plain": [
       "мать        457\n",
       "отец        367\n",
       "юки         214\n",
       "акира       171\n",
       "фон         168\n",
       "           ... \n",
       "йодо          2\n",
       "судзури       2\n",
       "ведущего      2\n",
       "паркс         2\n",
       "курон         2\n",
       "Name: token, Length: 11483, dtype: int64"
      ]
     },
     "execution_count": 146,
     "metadata": {},
     "output_type": "execute_result"
    }
   ],
   "source": [
    "names = characters.token.value_counts()\n",
    "names[names > 1]"
   ]
  },
  {
   "cell_type": "code",
   "execution_count": 147,
   "id": "renewable-final",
   "metadata": {},
   "outputs": [
    {
     "data": {
      "text/plain": [
       "36365"
      ]
     },
     "execution_count": 147,
     "metadata": {},
     "output_type": "execute_result"
    }
   ],
   "source": [
    "characters = characters.drop_duplicates(['token'])\n",
    "len(characters)"
   ]
  },
  {
   "cell_type": "code",
   "execution_count": 148,
   "id": "terminal-malaysia",
   "metadata": {},
   "outputs": [
    {
     "data": {
      "text/plain": [
       "<AxesSubplot:>"
      ]
     },
     "execution_count": 148,
     "metadata": {},
     "output_type": "execute_result"
    },
    {
     "data": {
      "image/png": "[encoded data removed]",
      "text/plain": [
       "<Figure size 432x288 with 1 Axes>"
      ]
     },
     "metadata": {
      "needs_background": "light"
     },
     "output_type": "display_data"
    }
   ],
   "source": [
    "characters.token.apply(len).hist(bins=20)"
   ]
  },
  {
   "cell_type": "code",
   "execution_count": null,
   "id": "absolute-taste",
   "metadata": {},
   "outputs": [],
   "source": []
  },
  {
   "cell_type": "code",
   "execution_count": 162,
   "id": "extra-sunglasses",
   "metadata": {},
   "outputs": [
    {
     "name": "stdout",
     "output_type": "stream",
     "text": [
      "67735\n",
      "36365 31370\n"
     ]
    },
    {
     "data": {
      "text/html": [
       "<div>\n",
       "<style scoped>\n",
       "    .dataframe tbody tr th:only-of-type {\n",
       "        vertical-align: middle;\n",
       "    }\n",
       "\n",
       "    .dataframe tbody tr th {\n",
       "        vertical-align: top;\n",
       "    }\n",
       "\n",
       "    .dataframe thead th {\n",
       "        text-align: right;\n",
       "    }\n",
       "</style>\n",
       "<table border=\"1\" class=\"dataframe\">\n",
       "  <thead>\n",
       "    <tr style=\"text-align: right;\">\n",
       "      <th></th>\n",
       "      <th>token</th>\n",
       "      <th>label</th>\n",
       "    </tr>\n",
       "  </thead>\n",
       "  <tbody>\n",
       "    <tr>\n",
       "      <th>6130</th>\n",
       "      <td>эйклер</td>\n",
       "      <td>1</td>\n",
       "    </tr>\n",
       "    <tr>\n",
       "      <th>61014</th>\n",
       "      <td>икушима</td>\n",
       "      <td>1</td>\n",
       "    </tr>\n",
       "    <tr>\n",
       "      <th>142303</th>\n",
       "      <td>лакейскую</td>\n",
       "      <td>0</td>\n",
       "    </tr>\n",
       "    <tr>\n",
       "      <th>447880</th>\n",
       "      <td>водолаза</td>\n",
       "      <td>0</td>\n",
       "    </tr>\n",
       "    <tr>\n",
       "      <th>541531</th>\n",
       "      <td>тождество</td>\n",
       "      <td>0</td>\n",
       "    </tr>\n",
       "  </tbody>\n",
       "</table>\n",
       "</div>"
      ],
      "text/plain": [
       "            token  label\n",
       "6130       эйклер      1\n",
       "61014     икушима      1\n",
       "142303  лакейскую      0\n",
       "447880   водолаза      0\n",
       "541531  тождество      0"
      ]
     },
     "execution_count": 162,
     "metadata": {},
     "output_type": "execute_result"
    }
   ],
   "source": [
    "raw_data = pd.concat([text, characters])\n",
    "data = raw_data.sample(frac=1)\n",
    "print(len(data))\n",
    "print(len(characters), len(text))\n",
    "data.head()"
   ]
  },
  {
   "cell_type": "code",
   "execution_count": 150,
   "id": "veterinary-track",
   "metadata": {},
   "outputs": [
    {
     "data": {
      "text/plain": [
       "сторож         2\n",
       "виски          2\n",
       "али            2\n",
       "ребнок         2\n",
       "компании       2\n",
       "              ..\n",
       "серебряный     2\n",
       "толстая        2\n",
       "своим          2\n",
       "школы          2\n",
       "коричневого    2\n",
       "Name: token, Length: 914, dtype: int64"
      ]
     },
     "execution_count": 150,
     "metadata": {},
     "output_type": "execute_result"
    }
   ],
   "source": [
    "names = data.token.value_counts()\n",
    "names[names > 1]"
   ]
  },
  {
   "cell_type": "code",
   "execution_count": 151,
   "id": "effective-senator",
   "metadata": {},
   "outputs": [
    {
     "data": {
      "text/plain": [
       "66821"
      ]
     },
     "execution_count": 151,
     "metadata": {},
     "output_type": "execute_result"
    }
   ],
   "source": [
    "data = data.drop_duplicates(subset=['token'])\n",
    "len(data)"
   ]
  },
  {
   "cell_type": "code",
   "execution_count": 152,
   "id": "japanese-merchandise",
   "metadata": {},
   "outputs": [
    {
     "data": {
      "text/plain": [
       "<AxesSubplot:>"
      ]
     },
     "execution_count": 152,
     "metadata": {},
     "output_type": "execute_result"
    },
    {
     "data": {
      "image/png": "[encoded data removed]",
      "text/plain": [
       "<Figure size 432x288 with 1 Axes>"
      ]
     },
     "metadata": {
      "needs_background": "light"
     },
     "output_type": "display_data"
    }
   ],
   "source": [
    "data[(data.token.str.len()<15) & (data.token.str.len()>1)].token.str.len().hist(bins=50)"
   ]
  },
  {
   "cell_type": "code",
   "execution_count": 153,
   "id": "grand-cowboy",
   "metadata": {},
   "outputs": [],
   "source": [
    "data = data[(data.token.str.len()<15) & (data.token.str.len()>1)]"
   ]
  },
  {
   "cell_type": "code",
   "execution_count": 154,
   "id": "quiet-dialogue",
   "metadata": {},
   "outputs": [],
   "source": [
    "a = ord('а')\n",
    "chars = [chr(i) for i in range(a,a+32)]\n",
    "nums = [i+1 for i in range(0, 33)]\n",
    "rus_dict = dict(zip(chars, nums))"
   ]
  },
  {
   "cell_type": "code",
   "execution_count": 155,
   "id": "former-reverse",
   "metadata": {},
   "outputs": [],
   "source": [
    "max_len = len(max(data['token'], key=lambda i: len(i)))"
   ]
  },
  {
   "cell_type": "code",
   "execution_count": 156,
   "id": "chicken-bulgarian",
   "metadata": {},
   "outputs": [
    {
     "data": {
      "text/plain": [
       "'вопросительным'"
      ]
     },
     "execution_count": 156,
     "metadata": {},
     "output_type": "execute_result"
    }
   ],
   "source": [
    "max(data['token'], key=lambda i: len(i))"
   ]
  },
  {
   "cell_type": "code",
   "execution_count": 157,
   "id": "dedicated-liquid",
   "metadata": {},
   "outputs": [],
   "source": [
    "def encode(word, max_len):\n",
    "    pad_len = max_len - len(word)\n",
    "    cur_word = []\n",
    "    for i in range(pad_len):\n",
    "        cur_word.append(0)\n",
    "    for i in word:\n",
    "        cur_word.append(rus_dict[i])\n",
    "    return cur_word"
   ]
  },
  {
   "cell_type": "code",
   "execution_count": 158,
   "id": "greatest-level",
   "metadata": {},
   "outputs": [
    {
     "data": {
      "text/plain": [
       "[0, 0, 0, 0, 0, 0, 0, 0, 0, 16, 17, 9, 3, 6, 19]"
      ]
     },
     "execution_count": 158,
     "metadata": {},
     "output_type": "execute_result"
    }
   ],
   "source": [
    "encode('привет', 15)"
   ]
  },
  {
   "cell_type": "code",
   "execution_count": 159,
   "id": "bound-probe",
   "metadata": {},
   "outputs": [
    {
     "data": {
      "text/html": [
       "<div>\n",
       "<style scoped>\n",
       "    .dataframe tbody tr th:only-of-type {\n",
       "        vertical-align: middle;\n",
       "    }\n",
       "\n",
       "    .dataframe tbody tr th {\n",
       "        vertical-align: top;\n",
       "    }\n",
       "\n",
       "    .dataframe thead th {\n",
       "        text-align: right;\n",
       "    }\n",
       "</style>\n",
       "<table border=\"1\" class=\"dataframe\">\n",
       "  <thead>\n",
       "    <tr style=\"text-align: right;\">\n",
       "      <th></th>\n",
       "      <th>token</th>\n",
       "      <th>label</th>\n",
       "    </tr>\n",
       "  </thead>\n",
       "  <tbody>\n",
       "    <tr>\n",
       "      <th>287916</th>\n",
       "      <td>заметной</td>\n",
       "      <td>0</td>\n",
       "    </tr>\n",
       "    <tr>\n",
       "      <th>5410</th>\n",
       "      <td>добивался</td>\n",
       "      <td>0</td>\n",
       "    </tr>\n",
       "    <tr>\n",
       "      <th>19516</th>\n",
       "      <td>регистраторши</td>\n",
       "      <td>0</td>\n",
       "    </tr>\n",
       "    <tr>\n",
       "      <th>349016</th>\n",
       "      <td>подгоревшего</td>\n",
       "      <td>0</td>\n",
       "    </tr>\n",
       "    <tr>\n",
       "      <th>94361</th>\n",
       "      <td>ленбах</td>\n",
       "      <td>1</td>\n",
       "    </tr>\n",
       "  </tbody>\n",
       "</table>\n",
       "</div>"
      ],
      "text/plain": [
       "                token  label\n",
       "287916       заметной      0\n",
       "5410        добивался      0\n",
       "19516   регистраторши      0\n",
       "349016   подгоревшего      0\n",
       "94361          ленбах      1"
      ]
     },
     "execution_count": 159,
     "metadata": {},
     "output_type": "execute_result"
    }
   ],
   "source": [
    "data.head()"
   ]
  },
  {
   "cell_type": "code",
   "execution_count": 160,
   "id": "streaming-border",
   "metadata": {},
   "outputs": [],
   "source": [
    "processed_data_root = '../../../data/NER/processed/'"
   ]
  },
  {
   "cell_type": "code",
   "execution_count": 161,
   "id": "according-kennedy",
   "metadata": {},
   "outputs": [],
   "source": [
    "data[['token', 'label']].to_csv(processed_data_root + 'tokens_labels_lstm.csv', index=False, sep=';')"
   ]
  },
  {
   "cell_type": "code",
   "execution_count": null,
   "id": "mineral-andrew",
   "metadata": {},
   "outputs": [],
   "source": []
  }
 ],
 "metadata": {
  "kernelspec": {
   "display_name": "Python 3",
   "language": "python",
   "name": "python3"
  },
  "language_info": {
   "codemirror_mode": {
    "name": "ipython",
    "version": 3
   },
   "file_extension": ".py",
   "mimetype": "text/x-python",
   "name": "python",
   "nbconvert_exporter": "python",
   "pygments_lexer": "ipython3",
   "version": "3.6.2"
  }
 },
 "nbformat": 4,
 "nbformat_minor": 5
}
