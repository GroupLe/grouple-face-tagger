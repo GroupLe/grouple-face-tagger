{
 "cells": [
  {
   "cell_type": "code",
   "execution_count": 1,
   "id": "statewide-starter",
   "metadata": {},
   "outputs": [],
   "source": [
    "import pandas as pd\n",
    "from pathlib import Path\n",
    "import regex as re\n",
    "import torch\n",
    "import torch.nn as nn\n",
    "import torch.nn.functional as F"
   ]
  },
  {
   "cell_type": "code",
   "execution_count": 2,
   "id": "thirty-token",
   "metadata": {},
   "outputs": [],
   "source": [
    "path = Path('../../../data/NER/raw/characters/you_anime_refs.csv/')\n",
    "path2 = Path('../../../data/NER/raw/characters/you_anime_characters_refs.csv/')"
   ]
  },
  {
   "cell_type": "code",
   "execution_count": 3,
   "id": "decent-modification",
   "metadata": {},
   "outputs": [],
   "source": [
    "df = pd.read_csv(path, sep='\\t')"
   ]
  },
  {
   "cell_type": "code",
   "execution_count": 4,
   "id": "exclusive-seattle",
   "metadata": {},
   "outputs": [
    {
     "data": {
      "text/html": [
       "<div>\n",
       "<style scoped>\n",
       "    .dataframe tbody tr th:only-of-type {\n",
       "        vertical-align: middle;\n",
       "    }\n",
       "\n",
       "    .dataframe tbody tr th {\n",
       "        vertical-align: top;\n",
       "    }\n",
       "\n",
       "    .dataframe thead th {\n",
       "        text-align: right;\n",
       "    }\n",
       "</style>\n",
       "<table border=\"1\" class=\"dataframe\">\n",
       "  <thead>\n",
       "    <tr style=\"text-align: right;\">\n",
       "      <th></th>\n",
       "      <th>title</th>\n",
       "      <th>link</th>\n",
       "      <th>img_addr</th>\n",
       "    </tr>\n",
       "  </thead>\n",
       "  <tbody>\n",
       "    <tr>\n",
       "      <th>0</th>\n",
       "      <td>Атака титанов</td>\n",
       "      <td>/watch/vtorzhenie-gigantov</td>\n",
       "      <td>/anime-images/posters/128.jpg</td>\n",
       "    </tr>\n",
       "    <tr>\n",
       "      <th>1</th>\n",
       "      <td>Токийский гуль</td>\n",
       "      <td>/watch/tokiiskii-gul</td>\n",
       "      <td>/anime-images/posters/504.jpg</td>\n",
       "    </tr>\n",
       "    <tr>\n",
       "      <th>2</th>\n",
       "      <td>Бездомный бог</td>\n",
       "      <td>/watch/bezdomnyi-bog</td>\n",
       "      <td>/anime-images/posters/2827.jpg</td>\n",
       "    </tr>\n",
       "    <tr>\n",
       "      <th>3</th>\n",
       "      <td>Твоё имя</td>\n",
       "      <td>/watch/tvoe-imya</td>\n",
       "      <td>/anime-images/posters/5674.jpg</td>\n",
       "    </tr>\n",
       "    <tr>\n",
       "      <th>4</th>\n",
       "      <td>Тетрадь смерти</td>\n",
       "      <td>/watch/tetrad-smerti</td>\n",
       "      <td>/anime-images/posters/5599.jpg</td>\n",
       "    </tr>\n",
       "  </tbody>\n",
       "</table>\n",
       "</div>"
      ],
      "text/plain": [
       "            title                        link                        img_addr\n",
       "0   Атака титанов  /watch/vtorzhenie-gigantov   /anime-images/posters/128.jpg\n",
       "1  Токийский гуль        /watch/tokiiskii-gul   /anime-images/posters/504.jpg\n",
       "2   Бездомный бог        /watch/bezdomnyi-bog  /anime-images/posters/2827.jpg\n",
       "3        Твоё имя            /watch/tvoe-imya  /anime-images/posters/5674.jpg\n",
       "4  Тетрадь смерти        /watch/tetrad-smerti  /anime-images/posters/5599.jpg"
      ]
     },
     "execution_count": 4,
     "metadata": {},
     "output_type": "execute_result"
    }
   ],
   "source": [
    "df.head()"
   ]
  },
  {
   "cell_type": "code",
   "execution_count": 5,
   "id": "center-inspiration",
   "metadata": {},
   "outputs": [],
   "source": [
    "df2 = pd.read_csv(path2, sep='\\t')"
   ]
  },
  {
   "cell_type": "code",
   "execution_count": 6,
   "id": "useful-mexico",
   "metadata": {},
   "outputs": [
    {
     "data": {
      "text/html": [
       "<div>\n",
       "<style scoped>\n",
       "    .dataframe tbody tr th:only-of-type {\n",
       "        vertical-align: middle;\n",
       "    }\n",
       "\n",
       "    .dataframe tbody tr th {\n",
       "        vertical-align: top;\n",
       "    }\n",
       "\n",
       "    .dataframe thead th {\n",
       "        text-align: right;\n",
       "    }\n",
       "</style>\n",
       "<table border=\"1\" class=\"dataframe\">\n",
       "  <thead>\n",
       "    <tr style=\"text-align: right;\">\n",
       "      <th></th>\n",
       "      <th>page_link</th>\n",
       "      <th>name</th>\n",
       "      <th>link</th>\n",
       "      <th>img_addr</th>\n",
       "    </tr>\n",
       "  </thead>\n",
       "  <tbody>\n",
       "    <tr>\n",
       "      <th>0</th>\n",
       "      <td>https://you-anime.ru/characters/anime/vtorzhen...</td>\n",
       "      <td>Эрен Йегер</td>\n",
       "      <td>/characters/eren-ieger</td>\n",
       "      <td>/anime-images/characters/40882.jpg</td>\n",
       "    </tr>\n",
       "    <tr>\n",
       "      <th>1</th>\n",
       "      <td>https://you-anime.ru/characters/anime/vtorzhen...</td>\n",
       "      <td>Микаса Аккерман</td>\n",
       "      <td>/characters/mikasa-akkerman</td>\n",
       "      <td>/anime-images/characters/40881.jpg</td>\n",
       "    </tr>\n",
       "    <tr>\n",
       "      <th>2</th>\n",
       "      <td>https://you-anime.ru/characters/anime/vtorzhen...</td>\n",
       "      <td>Армин Арлерт</td>\n",
       "      <td>/characters/armin-arlert</td>\n",
       "      <td>/anime-images/characters/46494.jpg</td>\n",
       "    </tr>\n",
       "    <tr>\n",
       "      <th>3</th>\n",
       "      <td>https://you-anime.ru/characters/anime/vtorzhen...</td>\n",
       "      <td>Леви</td>\n",
       "      <td>/characters/levi</td>\n",
       "      <td>/anime-images/characters/45627.jpg</td>\n",
       "    </tr>\n",
       "    <tr>\n",
       "      <th>4</th>\n",
       "      <td>https://you-anime.ru/characters/anime/vtorzhen...</td>\n",
       "      <td>Саша Блауз</td>\n",
       "      <td>/characters/sasha-blauz</td>\n",
       "      <td>/anime-images/characters/45887.jpg</td>\n",
       "    </tr>\n",
       "  </tbody>\n",
       "</table>\n",
       "</div>"
      ],
      "text/plain": [
       "                                           page_link             name  \\\n",
       "0  https://you-anime.ru/characters/anime/vtorzhen...       Эрен Йегер   \n",
       "1  https://you-anime.ru/characters/anime/vtorzhen...  Микаса Аккерман   \n",
       "2  https://you-anime.ru/characters/anime/vtorzhen...     Армин Арлерт   \n",
       "3  https://you-anime.ru/characters/anime/vtorzhen...             Леви   \n",
       "4  https://you-anime.ru/characters/anime/vtorzhen...       Саша Блауз   \n",
       "\n",
       "                          link                            img_addr  \n",
       "0       /characters/eren-ieger  /anime-images/characters/40882.jpg  \n",
       "1  /characters/mikasa-akkerman  /anime-images/characters/40881.jpg  \n",
       "2     /characters/armin-arlert  /anime-images/characters/46494.jpg  \n",
       "3             /characters/levi  /anime-images/characters/45627.jpg  \n",
       "4      /characters/sasha-blauz  /anime-images/characters/45887.jpg  "
      ]
     },
     "execution_count": 6,
     "metadata": {},
     "output_type": "execute_result"
    }
   ],
   "source": [
    "df2.head()"
   ]
  },
  {
   "cell_type": "code",
   "execution_count": 7,
   "id": "incoming-democrat",
   "metadata": {},
   "outputs": [
    {
     "data": {
      "text/plain": [
       "113311"
      ]
     },
     "execution_count": 7,
     "metadata": {},
     "output_type": "execute_result"
    }
   ],
   "source": [
    "len(df2['name'])"
   ]
  },
  {
   "cell_type": "code",
   "execution_count": 8,
   "id": "announced-booth",
   "metadata": {},
   "outputs": [
    {
     "data": {
      "text/html": [
       "<div>\n",
       "<style scoped>\n",
       "    .dataframe tbody tr th:only-of-type {\n",
       "        vertical-align: middle;\n",
       "    }\n",
       "\n",
       "    .dataframe tbody tr th {\n",
       "        vertical-align: top;\n",
       "    }\n",
       "\n",
       "    .dataframe thead th {\n",
       "        text-align: right;\n",
       "    }\n",
       "</style>\n",
       "<table border=\"1\" class=\"dataframe\">\n",
       "  <thead>\n",
       "    <tr style=\"text-align: right;\">\n",
       "      <th></th>\n",
       "      <th>page_link</th>\n",
       "      <th>name</th>\n",
       "      <th>link</th>\n",
       "      <th>img_addr</th>\n",
       "    </tr>\n",
       "  </thead>\n",
       "  <tbody>\n",
       "    <tr>\n",
       "      <th>0</th>\n",
       "      <td>https://you-anime.ru/characters/anime/vtorzhen...</td>\n",
       "      <td>Эрен Йегер</td>\n",
       "      <td>/characters/eren-ieger</td>\n",
       "      <td>/anime-images/characters/40882.jpg</td>\n",
       "    </tr>\n",
       "    <tr>\n",
       "      <th>1</th>\n",
       "      <td>https://you-anime.ru/characters/anime/vtorzhen...</td>\n",
       "      <td>Микаса Аккерман</td>\n",
       "      <td>/characters/mikasa-akkerman</td>\n",
       "      <td>/anime-images/characters/40881.jpg</td>\n",
       "    </tr>\n",
       "    <tr>\n",
       "      <th>2</th>\n",
       "      <td>https://you-anime.ru/characters/anime/vtorzhen...</td>\n",
       "      <td>Армин Арлерт</td>\n",
       "      <td>/characters/armin-arlert</td>\n",
       "      <td>/anime-images/characters/46494.jpg</td>\n",
       "    </tr>\n",
       "    <tr>\n",
       "      <th>3</th>\n",
       "      <td>https://you-anime.ru/characters/anime/vtorzhen...</td>\n",
       "      <td>Леви</td>\n",
       "      <td>/characters/levi</td>\n",
       "      <td>/anime-images/characters/45627.jpg</td>\n",
       "    </tr>\n",
       "    <tr>\n",
       "      <th>4</th>\n",
       "      <td>https://you-anime.ru/characters/anime/vtorzhen...</td>\n",
       "      <td>Саша Блауз</td>\n",
       "      <td>/characters/sasha-blauz</td>\n",
       "      <td>/anime-images/characters/45887.jpg</td>\n",
       "    </tr>\n",
       "    <tr>\n",
       "      <th>...</th>\n",
       "      <td>...</td>\n",
       "      <td>...</td>\n",
       "      <td>...</td>\n",
       "      <td>...</td>\n",
       "    </tr>\n",
       "    <tr>\n",
       "      <th>113295</th>\n",
       "      <td>https://you-anime.ru/characters/anime/mcdull-b...</td>\n",
       "      <td>McDull</td>\n",
       "      <td>/characters/mcdull</td>\n",
       "      <td>/anime-images/characters/95761.jpg</td>\n",
       "    </tr>\n",
       "    <tr>\n",
       "      <th>113296</th>\n",
       "      <td>https://you-anime.ru/characters/anime/mcdull-b...</td>\n",
       "      <td>McBing</td>\n",
       "      <td>/characters/mcbing</td>\n",
       "      <td>/anime-images/characters/95763.jpg</td>\n",
       "    </tr>\n",
       "    <tr>\n",
       "      <th>113297</th>\n",
       "      <td>https://you-anime.ru/characters/anime/hal-i-bons</td>\n",
       "      <td>Mochi</td>\n",
       "      <td>/characters/mochi</td>\n",
       "      <td>/anime-images/characters/15821.jpg</td>\n",
       "    </tr>\n",
       "    <tr>\n",
       "      <th>113298</th>\n",
       "      <td>https://you-anime.ru/characters/anime/shinjuku...</td>\n",
       "      <td>Shin-chan Shinjuku</td>\n",
       "      <td>/characters/shin-chan-shinjuku</td>\n",
       "      <td>/anime-images/characters/19346.jpg</td>\n",
       "    </tr>\n",
       "    <tr>\n",
       "      <th>113303</th>\n",
       "      <td>https://you-anime.ru/characters/anime/mister-s...</td>\n",
       "      <td>Лифа</td>\n",
       "      <td>/characters/lifa</td>\n",
       "      <td>/anime-images/characters/114203.jpg</td>\n",
       "    </tr>\n",
       "  </tbody>\n",
       "</table>\n",
       "<p>63171 rows × 4 columns</p>\n",
       "</div>"
      ],
      "text/plain": [
       "                                                page_link                name  \\\n",
       "0       https://you-anime.ru/characters/anime/vtorzhen...          Эрен Йегер   \n",
       "1       https://you-anime.ru/characters/anime/vtorzhen...     Микаса Аккерман   \n",
       "2       https://you-anime.ru/characters/anime/vtorzhen...        Армин Арлерт   \n",
       "3       https://you-anime.ru/characters/anime/vtorzhen...                Леви   \n",
       "4       https://you-anime.ru/characters/anime/vtorzhen...          Саша Блауз   \n",
       "...                                                   ...                 ...   \n",
       "113295  https://you-anime.ru/characters/anime/mcdull-b...              McDull   \n",
       "113296  https://you-anime.ru/characters/anime/mcdull-b...              McBing   \n",
       "113297   https://you-anime.ru/characters/anime/hal-i-bons               Mochi   \n",
       "113298  https://you-anime.ru/characters/anime/shinjuku...  Shin-chan Shinjuku   \n",
       "113303  https://you-anime.ru/characters/anime/mister-s...                Лифа   \n",
       "\n",
       "                                  link                             img_addr  \n",
       "0               /characters/eren-ieger   /anime-images/characters/40882.jpg  \n",
       "1          /characters/mikasa-akkerman   /anime-images/characters/40881.jpg  \n",
       "2             /characters/armin-arlert   /anime-images/characters/46494.jpg  \n",
       "3                     /characters/levi   /anime-images/characters/45627.jpg  \n",
       "4              /characters/sasha-blauz   /anime-images/characters/45887.jpg  \n",
       "...                                ...                                  ...  \n",
       "113295              /characters/mcdull   /anime-images/characters/95761.jpg  \n",
       "113296              /characters/mcbing   /anime-images/characters/95763.jpg  \n",
       "113297               /characters/mochi   /anime-images/characters/15821.jpg  \n",
       "113298  /characters/shin-chan-shinjuku   /anime-images/characters/19346.jpg  \n",
       "113303                /characters/lifa  /anime-images/characters/114203.jpg  \n",
       "\n",
       "[63171 rows x 4 columns]"
      ]
     },
     "execution_count": 8,
     "metadata": {},
     "output_type": "execute_result"
    }
   ],
   "source": [
    "df2.drop_duplicates(['name'])"
   ]
  },
  {
   "cell_type": "code",
   "execution_count": 9,
   "id": "loved-tournament",
   "metadata": {},
   "outputs": [],
   "source": [
    "names = []\n",
    "for i in df2['name'].unique():\n",
    "    for j in i.split(): \n",
    "        token = re.sub(r\"[^А-Яа-я]\", \"\", j)\n",
    "        if token!='':\n",
    "            names.append(token.lower())    "
   ]
  },
  {
   "cell_type": "code",
   "execution_count": 10,
   "id": "conservative-israeli",
   "metadata": {},
   "outputs": [
    {
     "data": {
      "text/plain": [
       "98280"
      ]
     },
     "execution_count": 10,
     "metadata": {},
     "output_type": "execute_result"
    }
   ],
   "source": [
    "len(names)"
   ]
  },
  {
   "cell_type": "code",
   "execution_count": 11,
   "id": "restricted-allowance",
   "metadata": {},
   "outputs": [],
   "source": [
    "labels = [1]*len(names)"
   ]
  },
  {
   "cell_type": "code",
   "execution_count": 12,
   "id": "amber-species",
   "metadata": {},
   "outputs": [
    {
     "data": {
      "text/html": [
       "<div>\n",
       "<style scoped>\n",
       "    .dataframe tbody tr th:only-of-type {\n",
       "        vertical-align: middle;\n",
       "    }\n",
       "\n",
       "    .dataframe tbody tr th {\n",
       "        vertical-align: top;\n",
       "    }\n",
       "\n",
       "    .dataframe thead th {\n",
       "        text-align: right;\n",
       "    }\n",
       "</style>\n",
       "<table border=\"1\" class=\"dataframe\">\n",
       "  <thead>\n",
       "    <tr style=\"text-align: right;\">\n",
       "      <th></th>\n",
       "      <th>token</th>\n",
       "      <th>label</th>\n",
       "    </tr>\n",
       "  </thead>\n",
       "  <tbody>\n",
       "    <tr>\n",
       "      <th>0</th>\n",
       "      <td>эрен</td>\n",
       "      <td>1</td>\n",
       "    </tr>\n",
       "    <tr>\n",
       "      <th>1</th>\n",
       "      <td>йегер</td>\n",
       "      <td>1</td>\n",
       "    </tr>\n",
       "    <tr>\n",
       "      <th>2</th>\n",
       "      <td>микаса</td>\n",
       "      <td>1</td>\n",
       "    </tr>\n",
       "    <tr>\n",
       "      <th>3</th>\n",
       "      <td>аккерман</td>\n",
       "      <td>1</td>\n",
       "    </tr>\n",
       "    <tr>\n",
       "      <th>4</th>\n",
       "      <td>армин</td>\n",
       "      <td>1</td>\n",
       "    </tr>\n",
       "  </tbody>\n",
       "</table>\n",
       "</div>"
      ],
      "text/plain": [
       "      token  label\n",
       "0      эрен      1\n",
       "1     йегер      1\n",
       "2    микаса      1\n",
       "3  аккерман      1\n",
       "4     армин      1"
      ]
     },
     "execution_count": 12,
     "metadata": {},
     "output_type": "execute_result"
    }
   ],
   "source": [
    "characters = pd.DataFrame({'token':names, 'label': labels})\n",
    "characters.head()"
   ]
  },
  {
   "cell_type": "code",
   "execution_count": 13,
   "id": "virtual-huntington",
   "metadata": {},
   "outputs": [
    {
     "data": {
      "text/plain": [
       "мать        457\n",
       "отец        367\n",
       "юки         214\n",
       "акира       171\n",
       "фон         168\n",
       "           ... \n",
       "коннелл       2\n",
       "кристофф      2\n",
       "токумару      2\n",
       "мусорщик      2\n",
       "смерти        2\n",
       "Name: token, Length: 11487, dtype: int64"
      ]
     },
     "execution_count": 13,
     "metadata": {},
     "output_type": "execute_result"
    }
   ],
   "source": [
    "names = characters.token.value_counts()\n",
    "names[names > 1]"
   ]
  },
  {
   "cell_type": "code",
   "execution_count": 14,
   "id": "renewable-final",
   "metadata": {},
   "outputs": [
    {
     "data": {
      "text/plain": [
       "36368"
      ]
     },
     "execution_count": 14,
     "metadata": {},
     "output_type": "execute_result"
    }
   ],
   "source": [
    "characters = characters.drop_duplicates(['token'])\n",
    "len(characters)"
   ]
  },
  {
   "cell_type": "code",
   "execution_count": 15,
   "id": "terminal-malaysia",
   "metadata": {},
   "outputs": [
    {
     "data": {
      "text/plain": [
       "<AxesSubplot:>"
      ]
     },
     "execution_count": 15,
     "metadata": {},
     "output_type": "execute_result"
    },
    {
     "data": {
      "image/png": "[encoded data removed]",
      "text/plain": [
       "<Figure size 432x288 with 1 Axes>"
      ]
     },
     "metadata": {
      "needs_background": "light"
     },
     "output_type": "display_data"
    }
   ],
   "source": [
    "characters.token.apply(len).hist(bins=20)"
   ]
  },
  {
   "cell_type": "code",
   "execution_count": 16,
   "id": "seven-median",
   "metadata": {},
   "outputs": [],
   "source": [
    "book_path = Path('../../../data/NER/raw/books_text/')"
   ]
  },
  {
   "cell_type": "code",
   "execution_count": 17,
   "id": "upset-catch",
   "metadata": {},
   "outputs": [],
   "source": [
    "book1 = book_path / 'priestuplieniie_i_nakazaniie_-_fiedor_mikhailovich_dostoievskii.txt'\n",
    "book2 = book_path / 'voyna-i-mir-tom-1.txt'\n",
    "book3 = book_path / 'txtrend_istochnik.txt'"
   ]
  },
  {
   "cell_type": "code",
   "execution_count": 19,
   "id": "different-techno",
   "metadata": {},
   "outputs": [],
   "source": [
    "with open(book1) as b1, open(book2) as b2, open(book3, encoding='utf-8') as b3:\n",
    "    book1 = b1.read().split()\n",
    "    book2 = b2.read().split()\n",
    "    book3 = b3.read().split()\n",
    "    book = book1 + book2 + book3 "
   ]
  },
  {
   "cell_type": "code",
   "execution_count": 20,
   "id": "roman-surrey",
   "metadata": {},
   "outputs": [],
   "source": [
    "import regex as re\n",
    "doc = []\n",
    "for token in book:\n",
    "    tok = re.sub(r\"[^А-Яа-я]\", \"\", token)\n",
    "    if tok!='':\n",
    "        doc.append(tok.lower())"
   ]
  },
  {
   "cell_type": "code",
   "execution_count": 21,
   "id": "provincial-repair",
   "metadata": {},
   "outputs": [
    {
     "data": {
      "text/plain": [
       "['ф',\n",
       " 'м',\n",
       " 'достоевский',\n",
       " 'преступление',\n",
       " 'и',\n",
       " 'наказание',\n",
       " 'часть',\n",
       " 'в',\n",
       " 'начале',\n",
       " 'июля']"
      ]
     },
     "execution_count": 21,
     "metadata": {},
     "output_type": "execute_result"
    }
   ],
   "source": [
    "doc[:10]"
   ]
  },
  {
   "cell_type": "code",
   "execution_count": 22,
   "id": "genuine-movement",
   "metadata": {},
   "outputs": [
    {
     "data": {
      "text/plain": [
       "31370"
      ]
     },
     "execution_count": 22,
     "metadata": {},
     "output_type": "execute_result"
    }
   ],
   "source": [
    "labels = [0]*len(doc)\n",
    "text = pd.DataFrame({'token':doc, 'label': labels})\n",
    "text = text.drop_duplicates(subset=['token'], keep='first')\n",
    "text = text.sample(frac=0.5)\n",
    "len(text)"
   ]
  },
  {
   "cell_type": "code",
   "execution_count": 23,
   "id": "mobile-wisconsin",
   "metadata": {},
   "outputs": [
    {
     "data": {
      "text/plain": [
       "<AxesSubplot:>"
      ]
     },
     "execution_count": 23,
     "metadata": {},
     "output_type": "execute_result"
    },
    {
     "data": {
      "image/png": "[encoded data removed]",
      "text/plain": [
       "<Figure size 432x288 with 1 Axes>"
      ]
     },
     "metadata": {
      "needs_background": "light"
     },
     "output_type": "display_data"
    }
   ],
   "source": [
    "text.token.apply(len).hist(bins = 50)"
   ]
  },
  {
   "cell_type": "code",
   "execution_count": 24,
   "id": "extra-sunglasses",
   "metadata": {},
   "outputs": [
    {
     "name": "stdout",
     "output_type": "stream",
     "text": [
      "67738\n",
      "36368 31370\n"
     ]
    },
    {
     "data": {
      "text/html": [
       "<div>\n",
       "<style scoped>\n",
       "    .dataframe tbody tr th:only-of-type {\n",
       "        vertical-align: middle;\n",
       "    }\n",
       "\n",
       "    .dataframe tbody tr th {\n",
       "        vertical-align: top;\n",
       "    }\n",
       "\n",
       "    .dataframe thead th {\n",
       "        text-align: right;\n",
       "    }\n",
       "</style>\n",
       "<table border=\"1\" class=\"dataframe\">\n",
       "  <thead>\n",
       "    <tr style=\"text-align: right;\">\n",
       "      <th></th>\n",
       "      <th>token</th>\n",
       "      <th>label</th>\n",
       "    </tr>\n",
       "  </thead>\n",
       "  <tbody>\n",
       "    <tr>\n",
       "      <th>89986</th>\n",
       "      <td>ханц</td>\n",
       "      <td>1</td>\n",
       "    </tr>\n",
       "    <tr>\n",
       "      <th>9672</th>\n",
       "      <td>саду</td>\n",
       "      <td>0</td>\n",
       "    </tr>\n",
       "    <tr>\n",
       "      <th>78845</th>\n",
       "      <td>мономочи</td>\n",
       "      <td>1</td>\n",
       "    </tr>\n",
       "    <tr>\n",
       "      <th>293501</th>\n",
       "      <td>распороть</td>\n",
       "      <td>0</td>\n",
       "    </tr>\n",
       "    <tr>\n",
       "      <th>109792</th>\n",
       "      <td>баснословных</td>\n",
       "      <td>0</td>\n",
       "    </tr>\n",
       "  </tbody>\n",
       "</table>\n",
       "</div>"
      ],
      "text/plain": [
       "               token  label\n",
       "89986           ханц      1\n",
       "9672            саду      0\n",
       "78845       мономочи      1\n",
       "293501     распороть      0\n",
       "109792  баснословных      0"
      ]
     },
     "execution_count": 24,
     "metadata": {},
     "output_type": "execute_result"
    }
   ],
   "source": [
    "raw_data = pd.concat([text, characters])\n",
    "data = raw_data.sample(frac=1)\n",
    "print(len(data))\n",
    "print(len(characters), len(text))\n",
    "data.head()"
   ]
  },
  {
   "cell_type": "code",
   "execution_count": 25,
   "id": "veterinary-track",
   "metadata": {},
   "outputs": [
    {
     "data": {
      "text/plain": [
       "охраны     2\n",
       "меч        2\n",
       "год        2\n",
       "шарль      2\n",
       "лектор     2\n",
       "          ..\n",
       "полиции    2\n",
       "антонов    2\n",
       "смерть     2\n",
       "форд       2\n",
       "машина     2\n",
       "Name: token, Length: 881, dtype: int64"
      ]
     },
     "execution_count": 25,
     "metadata": {},
     "output_type": "execute_result"
    }
   ],
   "source": [
    "names = data.token.value_counts()\n",
    "names[names > 1]"
   ]
  },
  {
   "cell_type": "code",
   "execution_count": 26,
   "id": "effective-senator",
   "metadata": {},
   "outputs": [
    {
     "data": {
      "text/plain": [
       "66857"
      ]
     },
     "execution_count": 26,
     "metadata": {},
     "output_type": "execute_result"
    }
   ],
   "source": [
    "data = data.drop_duplicates(subset=['token'])\n",
    "len(data)"
   ]
  },
  {
   "cell_type": "code",
   "execution_count": 27,
   "id": "japanese-merchandise",
   "metadata": {},
   "outputs": [
    {
     "data": {
      "text/plain": [
       "<AxesSubplot:>"
      ]
     },
     "execution_count": 27,
     "metadata": {},
     "output_type": "execute_result"
    },
    {
     "data": {
      "image/png": "[encoded data removed]",
      "text/plain": [
       "<Figure size 432x288 with 1 Axes>"
      ]
     },
     "metadata": {
      "needs_background": "light"
     },
     "output_type": "display_data"
    }
   ],
   "source": [
    "data[(data.token.str.len()<15) & (data.token.str.len()>1)].token.str.len().hist(bins=50)"
   ]
  },
  {
   "cell_type": "code",
   "execution_count": 28,
   "id": "grand-cowboy",
   "metadata": {},
   "outputs": [],
   "source": [
    "data = data[(data.token.str.len()<15) & (data.token.str.len()>1)]"
   ]
  },
  {
   "cell_type": "code",
   "execution_count": 29,
   "id": "quiet-dialogue",
   "metadata": {},
   "outputs": [],
   "source": [
    "a = ord('а')\n",
    "chars = [chr(i) for i in range(a,a+32)]\n",
    "nums = [i+1 for i in range(0, 33)]\n",
    "rus_dict = dict(zip(chars, nums))"
   ]
  },
  {
   "cell_type": "code",
   "execution_count": 37,
   "id": "former-reverse",
   "metadata": {},
   "outputs": [],
   "source": [
    "max_len = len(max(data['token'], key=lambda i: len(i)))"
   ]
  },
  {
   "cell_type": "code",
   "execution_count": 38,
   "id": "chicken-bulgarian",
   "metadata": {},
   "outputs": [
    {
     "data": {
      "text/plain": [
       "'отличительными'"
      ]
     },
     "execution_count": 38,
     "metadata": {},
     "output_type": "execute_result"
    }
   ],
   "source": [
    "max(data['token'], key=lambda i: len(i))"
   ]
  },
  {
   "cell_type": "code",
   "execution_count": 39,
   "id": "dedicated-liquid",
   "metadata": {},
   "outputs": [],
   "source": [
    "def encode(word, max_len):\n",
    "    cur_word = []\n",
    "    for i in word:\n",
    "        cur_word.append(rus_dict[i])\n",
    "    while len(cur_word)<max_len:\n",
    "        cur_word.append(1)\n",
    "    return cur_word"
   ]
  },
  {
   "cell_type": "code",
   "execution_count": 40,
   "id": "bound-probe",
   "metadata": {},
   "outputs": [
    {
     "data": {
      "text/html": [
       "<div>\n",
       "<style scoped>\n",
       "    .dataframe tbody tr th:only-of-type {\n",
       "        vertical-align: middle;\n",
       "    }\n",
       "\n",
       "    .dataframe tbody tr th {\n",
       "        vertical-align: top;\n",
       "    }\n",
       "\n",
       "    .dataframe thead th {\n",
       "        text-align: right;\n",
       "    }\n",
       "</style>\n",
       "<table border=\"1\" class=\"dataframe\">\n",
       "  <thead>\n",
       "    <tr style=\"text-align: right;\">\n",
       "      <th></th>\n",
       "      <th>token</th>\n",
       "      <th>label</th>\n",
       "    </tr>\n",
       "  </thead>\n",
       "  <tbody>\n",
       "    <tr>\n",
       "      <th>93281</th>\n",
       "      <td>случившееся</td>\n",
       "      <td>0</td>\n",
       "    </tr>\n",
       "    <tr>\n",
       "      <th>90435</th>\n",
       "      <td>шейд</td>\n",
       "      <td>1</td>\n",
       "    </tr>\n",
       "    <tr>\n",
       "      <th>56501</th>\n",
       "      <td>бессолини</td>\n",
       "      <td>1</td>\n",
       "    </tr>\n",
       "    <tr>\n",
       "      <th>355985</th>\n",
       "      <td>сможете</td>\n",
       "      <td>0</td>\n",
       "    </tr>\n",
       "    <tr>\n",
       "      <th>17142</th>\n",
       "      <td>такакура</td>\n",
       "      <td>1</td>\n",
       "    </tr>\n",
       "  </tbody>\n",
       "</table>\n",
       "</div>"
      ],
      "text/plain": [
       "              token  label\n",
       "93281   случившееся      0\n",
       "90435          шейд      1\n",
       "56501     бессолини      1\n",
       "355985      сможете      0\n",
       "17142      такакура      1"
      ]
     },
     "execution_count": 40,
     "metadata": {},
     "output_type": "execute_result"
    }
   ],
   "source": [
    "data.head()"
   ]
  },
  {
   "cell_type": "code",
   "execution_count": 41,
   "id": "streaming-border",
   "metadata": {},
   "outputs": [],
   "source": [
    "processed_data_root = '../../../data/NER/processed/'"
   ]
  },
  {
   "cell_type": "code",
   "execution_count": 42,
   "id": "according-kennedy",
   "metadata": {},
   "outputs": [],
   "source": [
    "data[['token', 'label']].to_csv(processed_data_root + 'tokens_labels_lstm.csv', index=False, sep=';')"
   ]
  }
 ],
 "metadata": {
  "kernelspec": {
   "display_name": "Python 3",
   "language": "python",
   "name": "python3"
  },
  "language_info": {
   "codemirror_mode": {
    "name": "ipython",
    "version": 3
   },
   "file_extension": ".py",
   "mimetype": "text/x-python",
   "name": "python",
   "nbconvert_exporter": "python",
   "pygments_lexer": "ipython3",
   "version": "3.6.2"
  }
 },
 "nbformat": 4,
 "nbformat_minor": 5
}
