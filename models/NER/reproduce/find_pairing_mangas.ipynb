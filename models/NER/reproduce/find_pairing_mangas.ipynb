{
 "cells": [
  {
   "cell_type": "code",
   "execution_count": 1,
   "metadata": {},
   "outputs": [],
   "source": [
    "import pandas as pd\n",
    "import json\n",
    "import matplotlib.pyplot as plt"
   ]
  },
  {
   "cell_type": "code",
   "execution_count": 2,
   "metadata": {},
   "outputs": [
    {
     "data": {
      "text/html": [
       "<div>\n",
       "<style scoped>\n",
       "    .dataframe tbody tr th:only-of-type {\n",
       "        vertical-align: middle;\n",
       "    }\n",
       "\n",
       "    .dataframe tbody tr th {\n",
       "        vertical-align: top;\n",
       "    }\n",
       "\n",
       "    .dataframe thead th {\n",
       "        text-align: right;\n",
       "    }\n",
       "</style>\n",
       "<table border=\"1\" class=\"dataframe\">\n",
       "  <thead>\n",
       "    <tr style=\"text-align: right;\">\n",
       "      <th></th>\n",
       "      <th>url_title</th>\n",
       "      <th>page_file</th>\n",
       "      <th>volumes_data_file</th>\n",
       "    </tr>\n",
       "  </thead>\n",
       "  <tbody>\n",
       "    <tr>\n",
       "      <th>0</th>\n",
       "      <td>the_emperor_s_treasure</td>\n",
       "      <td>4425.json</td>\n",
       "      <td>NaN</td>\n",
       "    </tr>\n",
       "    <tr>\n",
       "      <th>1</th>\n",
       "      <td>katekyo_hitman_reborn__dj___small___round_kyou...</td>\n",
       "      <td>3782.json</td>\n",
       "      <td>NaN</td>\n",
       "    </tr>\n",
       "    <tr>\n",
       "      <th>2</th>\n",
       "      <td>buistvo_molodoi_dushi</td>\n",
       "      <td>1499.json</td>\n",
       "      <td>349.json</td>\n",
       "    </tr>\n",
       "    <tr>\n",
       "      <th>3</th>\n",
       "      <td>meaningful_kiss</td>\n",
       "      <td>5509.json</td>\n",
       "      <td>NaN</td>\n",
       "    </tr>\n",
       "    <tr>\n",
       "      <th>4</th>\n",
       "      <td>choice_of_love</td>\n",
       "      <td>507.json</td>\n",
       "      <td>431.json</td>\n",
       "    </tr>\n",
       "  </tbody>\n",
       "</table>\n",
       "</div>"
      ],
      "text/plain": [
       "                                           url_title  page_file  \\\n",
       "0                             the_emperor_s_treasure  4425.json   \n",
       "1  katekyo_hitman_reborn__dj___small___round_kyou...  3782.json   \n",
       "2                              buistvo_molodoi_dushi  1499.json   \n",
       "3                                    meaningful_kiss  5509.json   \n",
       "4                                     choice_of_love   507.json   \n",
       "\n",
       "  volumes_data_file  \n",
       "0               NaN  \n",
       "1               NaN  \n",
       "2          349.json  \n",
       "3               NaN  \n",
       "4          431.json  "
      ]
     },
     "execution_count": 2,
     "metadata": {},
     "output_type": "execute_result"
    }
   ],
   "source": [
    "root = '../characters_parser/data/'\n",
    "path = root + 'merged_grouple_data.csv'\n",
    "df = pd.read_csv(path)\n",
    "df.head()"
   ]
  },
  {
   "cell_type": "code",
   "execution_count": 3,
   "metadata": {},
   "outputs": [
    {
     "name": "stdout",
     "output_type": "stream",
     "text": [
      "(8153, 3)\n",
      "(1606, 3)\n"
     ]
    }
   ],
   "source": [
    "print(df.shape)\n",
    "print(df[~df.volumes_data_file.isna()].shape)"
   ]
  },
  {
   "cell_type": "code",
   "execution_count": 4,
   "metadata": {},
   "outputs": [
    {
     "data": {
      "text/html": [
       "<div>\n",
       "<style scoped>\n",
       "    .dataframe tbody tr th:only-of-type {\n",
       "        vertical-align: middle;\n",
       "    }\n",
       "\n",
       "    .dataframe tbody tr th {\n",
       "        vertical-align: top;\n",
       "    }\n",
       "\n",
       "    .dataframe thead th {\n",
       "        text-align: right;\n",
       "    }\n",
       "</style>\n",
       "<table border=\"1\" class=\"dataframe\">\n",
       "  <thead>\n",
       "    <tr style=\"text-align: right;\">\n",
       "      <th></th>\n",
       "      <th>url_title</th>\n",
       "      <th>page_file</th>\n",
       "      <th>volumes_data_file</th>\n",
       "    </tr>\n",
       "  </thead>\n",
       "  <tbody>\n",
       "    <tr>\n",
       "      <th>2</th>\n",
       "      <td>buistvo_molodoi_dushi</td>\n",
       "      <td>1499.json</td>\n",
       "      <td>349.json</td>\n",
       "    </tr>\n",
       "    <tr>\n",
       "      <th>4</th>\n",
       "      <td>choice_of_love</td>\n",
       "      <td>507.json</td>\n",
       "      <td>431.json</td>\n",
       "    </tr>\n",
       "    <tr>\n",
       "      <th>7</th>\n",
       "      <td>do_something_honey_for_me</td>\n",
       "      <td>1572.json</td>\n",
       "      <td>1396.json</td>\n",
       "    </tr>\n",
       "    <tr>\n",
       "      <th>12</th>\n",
       "      <td>moia_jizn</td>\n",
       "      <td>1393.json</td>\n",
       "      <td>939.json</td>\n",
       "    </tr>\n",
       "    <tr>\n",
       "      <th>15</th>\n",
       "      <td>first_girl</td>\n",
       "      <td>187.json</td>\n",
       "      <td>734.json</td>\n",
       "    </tr>\n",
       "  </tbody>\n",
       "</table>\n",
       "</div>"
      ],
      "text/plain": [
       "                    url_title  page_file volumes_data_file\n",
       "2       buistvo_molodoi_dushi  1499.json          349.json\n",
       "4              choice_of_love   507.json          431.json\n",
       "7   do_something_honey_for_me  1572.json         1396.json\n",
       "12                  moia_jizn  1393.json          939.json\n",
       "15                 first_girl   187.json          734.json"
      ]
     },
     "execution_count": 4,
     "metadata": {},
     "output_type": "execute_result"
    }
   ],
   "source": [
    "df = df[~df.volumes_data_file.isna()]\n",
    "df.head()"
   ]
  },
  {
   "cell_type": "code",
   "execution_count": 5,
   "metadata": {},
   "outputs": [],
   "source": [
    "def load_data(page_file, volumes_file):\n",
    "    page = root + 'grouple_manga_pages/' + page_file\n",
    "    volumes = root + 'grouple_merged_volumes/' + volumes_file\n",
    "    return {'page': json.load(open(page)),\n",
    "            'volumes': json.load(open(volumes))}"
   ]
  },
  {
   "cell_type": "markdown",
   "metadata": {},
   "source": [
    "# Fetch pairings"
   ]
  },
  {
   "cell_type": "code",
   "execution_count": 6,
   "metadata": {},
   "outputs": [],
   "source": [
    "from pairing_utils import get_pairing"
   ]
  },
  {
   "cell_type": "code",
   "execution_count": 7,
   "metadata": {},
   "outputs": [
    {
     "name": "stdout",
     "output_type": "stream",
     "text": [
      "https://mintmanga.live/free__dj___awkward_sleepover ('Харука', 'Рин')\n",
      "https://mintmanga.live/yowamushi_pedal_dj___juicy_hold_hole ('Тодо', 'Макисима')\n",
      "https://mintmanga.live/katekyo_hitman_reborn__dj___a_game_for_new_suits ('Ямамото', 'Гокудера')\n",
      "https://mintmanga.live/durarara___dj___biting_because_you_re_mine ('Shizuo', 'Izaya')\n",
      "https://mintmanga.live/vse_vmeste ('Кенсей', 'Шуухей')\n",
      "https://mintmanga.live/black_butler_dj___cheshire None\n"
     ]
    }
   ],
   "source": [
    "c = 0\n",
    "for i, (name, page, volumes) in enumerate(df.to_records(index=False)):\n",
    "    if c > 5:\n",
    "        break\n",
    "    \n",
    "    data = load_data(page, volumes)\n",
    "    url = data['page']['url']\n",
    "    descr = data['page']['description'].replace('\\n', ' ')\n",
    "    is_pairing = 'пейринг' in descr.lower()\n",
    "\n",
    "    if is_pairing:\n",
    "        print(url, get_pairing(descr))\n",
    "        c += 1"
   ]
  },
  {
   "cell_type": "markdown",
   "metadata": {},
   "source": [
    "# Get most probable fandom"
   ]
  },
  {
   "cell_type": "code",
   "execution_count": 8,
   "metadata": {},
   "outputs": [
    {
     "data": {
      "text/html": [
       "<div>\n",
       "<style scoped>\n",
       "    .dataframe tbody tr th:only-of-type {\n",
       "        vertical-align: middle;\n",
       "    }\n",
       "\n",
       "    .dataframe tbody tr th {\n",
       "        vertical-align: top;\n",
       "    }\n",
       "\n",
       "    .dataframe thead th {\n",
       "        text-align: right;\n",
       "    }\n",
       "</style>\n",
       "<table border=\"1\" class=\"dataframe\">\n",
       "  <thead>\n",
       "    <tr style=\"text-align: right;\">\n",
       "      <th></th>\n",
       "      <th>title</th>\n",
       "      <th>name</th>\n",
       "    </tr>\n",
       "  </thead>\n",
       "  <tbody>\n",
       "    <tr>\n",
       "      <th>0</th>\n",
       "      <td>Атака титанов</td>\n",
       "      <td>Эрен Йегер</td>\n",
       "    </tr>\n",
       "    <tr>\n",
       "      <th>1</th>\n",
       "      <td>Атака титанов</td>\n",
       "      <td>Микаса Аккерман</td>\n",
       "    </tr>\n",
       "    <tr>\n",
       "      <th>2</th>\n",
       "      <td>Атака титанов</td>\n",
       "      <td>Армин Арлерт</td>\n",
       "    </tr>\n",
       "  </tbody>\n",
       "</table>\n",
       "</div>"
      ],
      "text/plain": [
       "           title             name\n",
       "0  Атака титанов       Эрен Йегер\n",
       "1  Атака титанов  Микаса Аккерман\n",
       "2  Атака титанов     Армин Арлерт"
      ]
     },
     "execution_count": 8,
     "metadata": {},
     "output_type": "execute_result"
    }
   ],
   "source": [
    "ydf1 = pd.read_csv(root + 'you_anime_characters_refs.csv', sep='\\t')\n",
    "ydf1['anime_url'] = ydf1.page_link.apply(lambda s: s.split('/')[-1])\n",
    "\n",
    "ydf2 = pd.read_csv(root + 'you_anime_refs.csv', sep='\\t')\n",
    "ydf2['anime_url'] = ydf2.link.apply(lambda s: s.split('/')[-1])\n",
    "\n",
    "ydf = pd.merge(ydf1, ydf2, on='anime_url')\n",
    "ydf = ydf['title name'.split()]\n",
    "ydf.head(3)"
   ]
  },
  {
   "cell_type": "code",
   "execution_count": 9,
   "metadata": {},
   "outputs": [],
   "source": [
    "from pairing_utils import get_probable_fandoms"
   ]
  },
  {
   "cell_type": "code",
   "execution_count": 10,
   "metadata": {},
   "outputs": [
    {
     "name": "stdout",
     "output_type": "stream",
     "text": [
      "https://mintmanga.live/free__dj___awkward_sleepover Харука Рин ['Вольный стиль! Спецвыпуски', 'Маленькие проказники: Я защищу мир Сайто!', 'Вольный стиль! Вечное соревнование — Обещание', 'Импульс мира', 'Актёры ослеплённого города', 'Маленькие проказники! Ещё раз', 'Вольный стиль! Займите свои позиции', 'Вольный стиль! Вечное лето — Спецвыпуск', 'Вперёд, ко вселенной!!', 'Дни Мидори', 'Вольный стиль!', 'Маленькие проказники! EX', 'Механизированные спасатели, вперёд!', 'Вольный стиль! Вечное лето', 'Вольный стиль! Вечное соревнование — Узы', 'Высокая скорость: Так начинался «Вольный стиль!»', 'Вольный стиль! Заплыв в будущее', 'Активный рейд: Мобильная боевая дивизия, восьмой отряд', 'Я вовсе не люблю своего старшего брата!', 'Идолмастер: За гранью светлого будущего!', 'Активный рейд: Мобильная боевая дивизия, восьмой отряд 2', 'Маленькие проказники!']\n",
      "https://mintmanga.live/yowamushi_pedal_dj___juicy_hold_hole Тодо Макисима []\n",
      "https://mintmanga.live/katekyo_hitman_reborn__dj___a_game_for_new_suits Ямамото Гокудера []\n",
      "https://mintmanga.live/durarara___dj___biting_because_you_re_mine Shizuo Izaya []\n",
      "https://mintmanga.live/vse_vmeste Кенсей Шуухей []\n"
     ]
    }
   ],
   "source": [
    "c = 0\n",
    "for i, (name, page, volumes) in enumerate(df.to_records(index=False)):\n",
    "    if c > 5:\n",
    "        break\n",
    "    data = load_data(page, volumes)\n",
    "    url = data['page']['url']\n",
    "    descr = data['page']['description'].replace('\\n', ' ')\n",
    "    is_pairing = 'пейринг' in descr.lower()\n",
    "\n",
    "    if is_pairing:\n",
    "        res = get_pairing(descr)\n",
    "        c += 1\n",
    "        if res is not None:\n",
    "            p1, p2 = res\n",
    "            fandoms = get_probable_fandoms(ydf, p1, p2)\n",
    "            print(url, p1, p2, fandoms)\n",
    "        "
   ]
  },
  {
   "cell_type": "markdown",
   "metadata": {},
   "source": [
    "# Group fandoms"
   ]
  },
  {
   "cell_type": "code",
   "execution_count": 11,
   "metadata": {},
   "outputs": [],
   "source": [
    "# Examples\n",
    "e0 = ['Актёры ослеплённого города', 'Активный рейд: Мобильная боевая дивизия, восьмой отряд 2', 'Вольный стиль! Займите свои позиции', 'Вольный стиль! Вечное лето', 'Маленькие проказники! Ещё раз', 'Высокая скорость: Так начинался «Вольный стиль!»', 'Маленькие проказники: Я защищу мир Сайто!', 'Вольный стиль! Вечное соревнование — Узы', 'Я вовсе не люблю своего старшего брата!', 'Вольный стиль! Вечное соревнование — Обещание', 'Импульс мира', 'Вольный стиль! Вечное лето — Спецвыпуск', 'Активный рейд: Мобильная боевая дивизия, восьмой отряд', 'Вольный стиль! Заплыв в будущее', 'Маленькие проказники! EX', 'Вперёд, ко вселенной!!', 'Вольный стиль!', 'Вольный стиль! Спецвыпуски', 'Маленькие проказники!', 'Дни Мидори', 'Механизированные спасатели, вперёд!', 'Идолмастер: За гранью светлого будущего!']\n",
    "e1 =  ['Гинтама: Джамп Феста 2005', 'Гинтама: Лучшее из «Гинтамы» на Theater 2D', 'Гинтама 8', 'Гинтама x Фасоль', 'Гинтама', 'Гинтама: Джамп Феста 2015', 'Гинтама 3', 'Гинтама: Финальная арка — Ёродзуя навсегда!', 'Гинтама: Сказание о Бэнидзакуре', 'Гинтама: Джамп Феста 2014', 'Гинтама: Грандиозное собрание', 'Гинтама 2', 'Гинтама: Рождение Белого Демона', 'Гинтама 7', 'Гинтама 4', 'Гинтама 6']\n",
    "e2 = ['Ван-Пис: Запасной план. Идеальный метод захвата Ван-Пис', 'Ван-Пис: Золото', 'Ван-Пис: Театр Мугивары', 'Ван-Пис: Путешествие в один конец', 'Ван-Пис: Танцевальный марафон Джанго', 'Ван-Пис', 'Ван-Пис: Воспоминания детектива в соломенной шляпе', 'Ван-Пис: Эпизод Чоппера Плюс — Зимнее цветение, чудесная сакура', 'Ван-Пис 3D2Y: Пережить смерть Эйса! Обещание Луффи своим накама', 'Ван-Пис: Рекап', 'Ван-Пис: Эпизод Луффи — Приключения на Ладоневом острове', 'Ван-Пис: Приключение на Заводном Острове', 'Ван-Пис: Приключение в глуби океана', 'Ван-Пис: Z', 'Ван-Пис: Эпизод Сабо — Узы трёх братьев, чудесное воссоединение и унаследованная воля', 'Ван-Пис: Барон Омацури и Секретный Остров', 'Ван-Пис: Эпизод Нами — Слёзы навигатора и узы друзей', 'Ван-Пис: Футбольный король мечты', 'Ван-Пис 3D: Погоня за соломенной шляпой', 'Ван-Пис: Гигантский механический солдат замка Каракури', 'Ван-Пис: Проклятие Святого Меча', 'Ван-Пис: Защитить! Последнее великое представление!', 'Ван-Пис: Открытие в большом море! Большая мечта отца!', 'Ван-Пис: Остров мечты', 'Ван-Пис: Жестокий мир', 'Ван-Пис: Начало приключений', 'Ван-Пис: Приключение в Алабасте — Принцесса пустыни и пираты', 'Ван-Пис: Эпизод Ист Блю — Большое приключение Луффи и его команды', 'Ван-Пис: Приключения в Алабасте — Пролог', 'Ван-Пис: Золото — Эпизод 0', 'Ван-Пис: Королевство Чоппера на Острове Необычных Животных', 'Ван-Пис: Приключение в Небуландии', 'Ван-Пис: Эпизод Мерри — История об ещё одном накаме', 'Ван-Пис: Цельсь! Пиратские короли бейсбола', 'Серена x Ван-Пис 3D: Погоня за Соломенной шляпой — Проникновение! Таузенд Санни!', 'Ван-Пис: Золотое сердце']\n",
    "e3 = ['Синий экзорцист: Путешествие Куро', 'Новый принц тенниса OVA', 'Синий экзорцист', 'Новый принц тенниса', 'Синий экзорцист: Спецвыпуски', 'Новый принц тенниса: Спецвыпуски', 'Синий экзорцист: Нечестивый король Киото', 'Блич', 'Синий экзорцист: Нечестивый король Киото OVA']\n",
    "e4 =  ['Атака титанов: Рекап', 'Атака титанов OVA', 'Атака титанов 3', 'Атака титанов: Выбор без сожалений', 'Атака титанов: Крылья свободы', 'Атака титанов: Багровые луки и стрелы', 'Атака титанов 2', 'Атака титанов: Театр с монстрами — Вперёд, кадетский корпус!', 'Атака! Титаны средней школы', 'Атака титанов']\n",
    "e5 = ['Маги: Королевство магии', 'Маги: Лабиринт магии']"
   ]
  },
  {
   "cell_type": "code",
   "execution_count": 12,
   "metadata": {},
   "outputs": [],
   "source": [
    "from pairing_utils import group_fandoms"
   ]
  },
  {
   "cell_type": "code",
   "execution_count": 13,
   "metadata": {
    "collapsed": true,
    "jupyter": {
     "outputs_hidden": true
    }
   },
   "outputs": [
    {
     "name": "stdout",
     "output_type": "stream",
     "text": [
      "Вольный стиль!\n",
      "   Вольный стиль!\n",
      "   Вольный стиль! Вечное лето\n",
      "   Вольный стиль! Спецвыпуски\n",
      "   Вольный стиль! Заплыв в будущее\n",
      "   Вольный стиль! Займите свои позиции\n",
      "   Вольный стиль! Вечное лето — Спецвыпуск\n",
      "   Вольный стиль! Вечное соревнование — Узы\n",
      "   Вольный стиль! Вечное соревнование — Обещание\n",
      "Маленькие проказники!\n",
      "   Маленькие проказники!\n",
      "   Маленькие проказники! EX\n",
      "   Маленькие проказники! Ещё раз\n",
      "   Маленькие проказники: Я защищу мир Сайто!\n",
      "Активный рейд: Мобильная боевая дивизия, восьмой отряд\n",
      "   Активный рейд: Мобильная боевая дивизия, восьмой отряд\n",
      "   Активный рейд: Мобильная боевая дивизия, восьмой отряд 2\n",
      "Дни Мидори\n",
      "   Дни Мидори\n",
      "Импульс мира\n",
      "   Импульс мира\n",
      "Вперёд, ко вселенной!!\n",
      "   Вперёд, ко вселенной!!\n",
      "Актёры ослеплённого города\n",
      "   Актёры ослеплённого города\n",
      "Механизированные спасатели, вперёд!\n",
      "   Механизированные спасатели, вперёд!\n",
      "Я вовсе не люблю своего старшего брата!\n",
      "   Я вовсе не люблю своего старшего брата!\n",
      "Идолмастер: За гранью светлого будущего!\n",
      "   Идолмастер: За гранью светлого будущего!\n",
      "Высокая скорость: Так начинался «Вольный стиль!»\n",
      "   Высокая скорость: Так начинался «Вольный стиль!»\n",
      "--------------------\n",
      "Гинтама\n",
      "   Гинтама\n",
      "   Гинтама 8\n",
      "   Гинтама 3\n",
      "   Гинтама 2\n",
      "   Гинтама 7\n",
      "   Гинтама 4\n",
      "   Гинтама 6\n",
      "   Гинтама x Фасоль\n",
      "   Гинтама: Джамп Феста 2005\n",
      "   Гинтама: Джамп Феста 2015\n",
      "   Гинтама: Джамп Феста 2014\n",
      "   Гинтама: Грандиозное собрание\n",
      "   Гинтама: Сказание о Бэнидзакуре\n",
      "   Гинтама: Рождение Белого Демона\n",
      "   Гинтама: Лучшее из «Гинтамы» на Theater 2D\n",
      "   Гинтама: Финальная арка — Ёродзуя навсегда!\n",
      "--------------------\n",
      "Ван-Пис\n",
      "   Ван-Пис\n",
      "   Ван-Пис: Z\n",
      "   Ван-Пис: Рекап\n",
      "   Ван-Пис: Золото\n",
      "   Ван-Пис: Остров мечты\n",
      "   Ван-Пис: Жестокий мир\n",
      "   Ван-Пис: Театр Мугивары\n",
      "   Ван-Пис: Золотое сердце\n",
      "   Ван-Пис: Золото — Эпизод 0\n",
      "   Ван-Пис: Начало приключений\n",
      "   Ван-Пис: Проклятие Святого Меча\n",
      "   Ван-Пис: Футбольный король мечты\n",
      "   Ван-Пис: Путешествие в один конец\n",
      "   Ван-Пис: Приключение в Небуландии\n",
      "   Ван-Пис: Приключение в глуби океана\n",
      "   Ван-Пис: Танцевальный марафон Джанго\n",
      "   Ван-Пис 3D: Погоня за соломенной шляпой\n",
      "   Ван-Пис: Приключение на Заводном Острове\n",
      "   Ван-Пис: Приключения в Алабасте — Пролог\n",
      "   Ван-Пис: Барон Омацури и Секретный Остров\n",
      "   Ван-Пис: Цельсь! Пиратские короли бейсбола\n",
      "   Ван-Пис: Воспоминания детектива в соломенной шляпе\n",
      "   Ван-Пис: Защитить! Последнее великое представление!\n",
      "   Ван-Пис: Эпизод Мерри — История об ещё одном накаме\n",
      "   Ван-Пис: Эпизод Нами — Слёзы навигатора и узы друзей\n",
      "   Ван-Пис: Открытие в большом море! Большая мечта отца!\n",
      "   Ван-Пис: Гигантский механический солдат замка Каракури\n",
      "   Ван-Пис: Запасной план. Идеальный метод захвата Ван-Пис\n",
      "   Ван-Пис: Эпизод Луффи — Приключения на Ладоневом острове\n",
      "   Ван-Пис: Королевство Чоппера на Острове Необычных Животных\n",
      "   Ван-Пис: Приключение в Алабасте — Принцесса пустыни и пираты\n",
      "   Ван-Пис: Эпизод Чоппера Плюс — Зимнее цветение, чудесная сакура\n",
      "   Ван-Пис 3D2Y: Пережить смерть Эйса! Обещание Луффи своим накама\n",
      "   Ван-Пис: Эпизод Ист Блю — Большое приключение Луффи и его команды\n",
      "   Ван-Пис: Эпизод Сабо — Узы трёх братьев, чудесное воссоединение и унаследованная воля\n",
      "Серена x Ван-Пис 3D: Погоня за Соломенной шляпой — Проникновение! Таузенд Санни!\n",
      "   Серена x Ван-Пис 3D: Погоня за Соломенной шляпой — Проникновение! Таузенд Санни!\n",
      "--------------------\n",
      "Синий экзорцист\n",
      "   Синий экзорцист\n",
      "   Синий экзорцист: Спецвыпуски\n",
      "   Синий экзорцист: Путешествие Куро\n",
      "   Синий экзорцист: Нечестивый король Киото\n",
      "   Синий экзорцист: Нечестивый король Киото OVA\n",
      "Новый принц тенниса\n",
      "   Новый принц тенниса\n",
      "   Новый принц тенниса OVA\n",
      "   Новый принц тенниса: Спецвыпуски\n",
      "Блич\n",
      "   Блич\n",
      "--------------------\n",
      "Атака титанов\n",
      "   Атака титанов\n",
      "   Атака титанов 3\n",
      "   Атака титанов 2\n",
      "   Атака титанов OVA\n",
      "   Атака титанов: Рекап\n",
      "   Атака титанов: Крылья свободы\n",
      "   Атака титанов: Выбор без сожалений\n",
      "   Атака титанов: Багровые луки и стрелы\n",
      "   Атака титанов: Театр с монстрами — Вперёд, кадетский корпус!\n",
      "Атака! Титаны средней школы\n",
      "   Атака! Титаны средней школы\n",
      "--------------------\n",
      "Маги:\n",
      "   Маги: Лабиринт магии\n",
      "   Маги: Королевство магии\n",
      "--------------------\n"
     ]
    }
   ],
   "source": [
    "all_cases = (e0,e1,e2,e3,e4,e5)\n",
    "one_case = (e5, )\n",
    "for e in all_cases:\n",
    "    for key, val in group_fandoms(e).items():\n",
    "        print(key)\n",
    "        for v in val:\n",
    "            print('  ', v)\n",
    "            \n",
    "    print('--------------------')"
   ]
  },
  {
   "cell_type": "code",
   "execution_count": 14,
   "metadata": {
    "collapsed": true,
    "jupyter": {
     "outputs_hidden": true
    }
   },
   "outputs": [
    {
     "name": "stdout",
     "output_type": "stream",
     "text": [
      "Харука + Рин\n",
      "   ['Вольный стиль!', 'Маленькие проказники!', 'Активный рейд: Мобильная боевая дивизия, восьмой отряд', 'Дни Мидори', 'Импульс мира', 'Вперёд, ко вселенной!!', 'Актёры ослеплённого города', 'Механизированные спасатели, вперёд!', 'Я вовсе не люблю своего старшего брата!', 'Идолмастер: За гранью светлого будущего!', 'Высокая скорость: Так начинался «Вольный стиль!»'] https://mintmanga.live/free__dj___awkward_sleepover\n",
      "Юкио + Рин\n",
      "   ['Синий экзорцист', 'Новый принц тенниса', 'Блич'] https://mintmanga.live/dogra\n",
      "Эрвин + Леви\n",
      "   ['Атака титанов', 'Атака! Титаны средней школы'] https://mintmanga.live/eche_ne_vremia\n",
      "Шисуи + Итачи\n",
      "   ['Наруто: Ураганные хроники'] https://mintmanga.live/naruto_dj___enjoy_\n",
      "Гинтоки + Хиджиката\n",
      "   ['Гинтама'] https://mintmanga.live/spazm\n",
      "Зоро + Санджи\n",
      "   ['Ван-Пис', 'Серена x Ван-Пис 3D: Погоня за Соломенной шляпой — Проникновение! Таузенд Санни!'] https://mintmanga.live/one_piece_dj___kaisui_pearl\n",
      "Масрур + Синдбад\n",
      "   ['Маги:'] https://mintmanga.live/asimmetriia\n",
      "Дайки + Кагами\n",
      "   ['Баскетбол Куроко'] https://mintmanga.live/kuroko_no_basket_dj___n_est_ce_pas\n",
      "Хотаро + Сатоши\n",
      "   ['Хёка'] https://mintmanga.live/hyouka_dj___ice_pack\n",
      "Хиджиката + Гинтоки\n",
      "   ['Гинтама'] https://mintmanga.live/kak_isportit_vashu_sobaku\n",
      "Кайто + Шиничи\n",
      "   ['Детектив Конан'] https://mintmanga.live/aonoao\n",
      "Эрен + Леви\n",
      "   ['Атака титанов', 'Атака! Титаны средней школы'] https://mintmanga.live/kak_priruchit_domashnego_kota\n",
      "Дания + Норвегия\n",
      "   ['Хеталия: Мировая серия', 'Хеталия:'] https://mintmanga.live/hetalia_dj___inescapable\n",
      "Леви + Эрен\n",
      "   ['Атака титанов', 'Атака! Титаны средней школы'] https://mintmanga.live/krasnaia_lenta_i_podrosshii_kapral\n",
      "Мадара + Нацумэ\n",
      "   ['Тетрадь дружбы Нацумэ'] https://mintmanga.live/natsume_yuujinchou_dj___watashi_no_dato_itteiru\n",
      "Рин + Хару\n",
      "   ['Блич', 'Айкацу!', 'Девочки-трансформеры'] https://mintmanga.live/free__dj____one_night\n",
      "Зоро + Луффи\n",
      "   ['Ван-Пис', 'Серена x Ван-Пис 3D: Погоня за Соломенной шляпой — Проникновение! Таузенд Санни!'] https://mintmanga.live/one_piece_dj____dynamite_wolves\n",
      "Моточика + Иэясу\n",
      "   ['Эпоха смут', 'Школа смут'] https://mintmanga.live/volshebnyi_polet\n",
      "Иснан + Синдбад\n",
      "   ['Маги:'] https://mintmanga.live/ruka_togo__kto_pokidaet_etot_mir\n",
      "Харука + Макото\n",
      "   ['Идолмастер', 'Сёстры Минами', 'Вольный стиль!', 'И', 'Сёстры Минами 3', 'Красавица-воин Сейлор Мун Эс', 'Тиби-Идолмастер:', 'Красавица-воин Сейлор Мун:', 'Фука', 'Ра-Зефон', 'Яркая Чихая 3', 'Тиби-тиби-Идолмастер', 'Механизированные спасатели, вперёд!', 'Высокая скорость: Так начинался «Вольный стиль!»', 'Активный рейд: Мобильная боевая дивизия, восьмой отряд'] https://mintmanga.live/free__dj___haru_no_pantsu\n",
      "Такао + Мидорима\n",
      "   ['Баскетбол Куроко'] https://mintmanga.live/kuroko_no_basket_dj___zankyou\n",
      "Санджи + Зоро\n",
      "   ['Ван-Пис', 'Серена x Ван-Пис 3D: Погоня за Соломенной шляпой — Проникновение! Таузенд Санни!'] https://mintmanga.live/prizraki_v_padaiuchem_snege\n",
      "Хибари + Мукуро\n",
      "   ['Репетитор-киллер Реборн!'] https://mintmanga.live/katekyo_hitman_reborn__dj___center_of_the_world_is_us\n",
      "Гинтоки + Кацура\n",
      "   ['Гинтама', 'Лапша быстрого приготовления «Ниссин» x Гинтама'] https://mintmanga.live/neschastlivyi_siujet\n",
      "Жан + Армин\n",
      "   ['Атака титанов', 'Атака! Титаны средней школы'] https://mintmanga.live/v_liubvi_teorii_ne_mesto\n",
      "Юкио + Рин\n",
      "   ['Синий экзорцист', 'Новый принц тенниса', 'Блич'] https://mintmanga.live/ao_no_exorcist_dj___anata_shika_mitasenai__A1230023\n",
      "Макото + Харука\n",
      "   ['Идолмастер', 'Сёстры Минами', 'Вольный стиль!', 'И', 'Сёстры Минами 3', 'Красавица-воин Сейлор Мун Эс', 'Тиби-Идолмастер:', 'Красавица-воин Сейлор Мун:', 'Фука', 'Ра-Зефон', 'Яркая Чихая 3', 'Тиби-тиби-Идолмастер', 'Механизированные спасатели, вперёд!', 'Высокая скорость: Так начинался «Вольный стиль!»', 'Активный рейд: Мобильная боевая дивизия, восьмой отряд'] https://mintmanga.live/free__dj___v082\n",
      "Леви + Эрен\n",
      "   ['Атака титанов', 'Атака! Титаны средней школы'] https://mintmanga.live/nepravda\n",
      "Америка + Англия\n",
      "   ['Хеталия'] https://mintmanga.live/hetalia_dj___pirate_s_chronicles\n",
      "Кагами + Куроко\n",
      "   ['Баскетбол Куроко'] https://mintmanga.live/kuroko_no_basuke_dj___i_want_to_eat_you_up\n",
      "Аракита + Фукутоми\n",
      "   ['Трусливый велосипедист'] https://mintmanga.live/yowamushi_pedal_dj___fuyu_no_hi_kaidashi\n",
      "Хиджиката + Гинтоки\n",
      "   ['Гинтама'] https://mintmanga.live/gintama_dj___random_dogs\n",
      "Каору + Синдзи\n",
      "   ['Принц тенниса', 'Беспокойные сердца', 'Евангелион нового поколения', 'Евангелион 1.11: Ты (не)', 'Блич', 'Шик x Евангелион', 'Новый принц тенниса', 'Тиби-Ева: Школьные дни', 'Японская выставка анимации'] https://mintmanga.live/pod_zamkom_\n",
      "Рин + Харука\n",
      "   ['Вольный стиль!', 'Маленькие проказники!', 'Активный рейд: Мобильная боевая дивизия, восьмой отряд', 'Дни Мидори', 'Импульс мира', 'Вперёд, ко вселенной!!', 'Актёры ослеплённого города', 'Механизированные спасатели, вперёд!', 'Я вовсе не люблю своего старшего брата!', 'Идолмастер: За гранью светлого будущего!', 'Высокая скорость: Так начинался «Вольный стиль!»'] https://mintmanga.live/free__dj___gyaku_ni_neko_ni_sarechaimashita\n",
      "Леви + Эрен\n",
      "   ['Атака титанов', 'Атака! Титаны средней школы'] https://mintmanga.live/bezzvuchnyi_golos\n",
      "Хару + Рин\n",
      "   ['Блич', 'Айкацу!', 'Девочки-трансформеры'] https://mintmanga.live/free__dj___it_s_a_sleepover\n",
      "Марко + Жан\n",
      "   ['Школа убийц', 'Атака титанов', 'Атака титанов 2', 'Стальной алхимик: Братство', 'Ван-Пис'] https://mintmanga.live/vyjivanie\n",
      "Реборн + Ламбо\n",
      "   ['Репетитор-киллер Реборн!'] https://mintmanga.live/katekyo_hitman_reborn__dj___milk_lambo\n",
      "Ниджимура + Хайзаки\n",
      "   ['Баскетбол Куроко 3'] https://mintmanga.live/kuroko_no_basket_dj___the_four_captivating_blades\n",
      "Масаока + Шусэй\n",
      "   ['Психопаспорт'] https://mintmanga.live/psycho_pass_dj___clumsy_love\n",
      "Ло + Кид\n",
      "   ['Ван-Пис'] https://mintmanga.live/chemu_ty_nauchil_menia\n",
      "Макото + Рин\n",
      "   ['Вольный стиль!', 'Новый этап всех', 'Блич', 'Сирена', 'Айкацу!', 'Кагэвани', 'Импульс мира', 'Скелтер+Небо', 'Ещё больше любовных неприятностей', 'Карточные бои Авангарда G: Будущее', 'Механизированные спасатели, вперёд!', 'Идолмастер: За гранью светлого будущего!', 'Высокая скорость: Так начинался «Вольный стиль!»', 'Активный рейд: Мобильная боевая дивизия, восьмой отряд'] https://mintmanga.live/free__dj___happy_day\n",
      "Цезарь + Джозеф\n",
      "   ['Невероятное приключение ДжоДжо'] https://mintmanga.live/pocelui_hamona\n",
      "Америка + Англия\n",
      "   ['Хеталия'] https://mintmanga.live/hetalia_dj___keep_a_secret\n",
      "Уолкер + Канда\n",
      "   ['Ди Грэй-мен'] https://mintmanga.live/d_gray_man_dj___offlead\n"
     ]
    },
    {
     "ename": "KeyboardInterrupt",
     "evalue": "",
     "output_type": "error",
     "traceback": [
      "\u001b[0;31m---------------------------------------------------------------------------\u001b[0m",
      "\u001b[0;31mKeyboardInterrupt\u001b[0m                         Traceback (most recent call last)",
      "\u001b[0;32m<ipython-input-14-b9a6e63a7513>\u001b[0m in \u001b[0;36m<module>\u001b[0;34m\u001b[0m\n\u001b[1;32m     13\u001b[0m         \u001b[0;32mif\u001b[0m \u001b[0mres\u001b[0m \u001b[0;32mis\u001b[0m \u001b[0;32mnot\u001b[0m \u001b[0;32mNone\u001b[0m\u001b[0;34m:\u001b[0m\u001b[0;34m\u001b[0m\u001b[0;34m\u001b[0m\u001b[0m\n\u001b[1;32m     14\u001b[0m             \u001b[0mp1\u001b[0m\u001b[0;34m,\u001b[0m \u001b[0mp2\u001b[0m \u001b[0;34m=\u001b[0m \u001b[0mres\u001b[0m\u001b[0;34m\u001b[0m\u001b[0;34m\u001b[0m\u001b[0m\n\u001b[0;32m---> 15\u001b[0;31m             \u001b[0mfandoms\u001b[0m \u001b[0;34m=\u001b[0m \u001b[0mget_probable_fandoms\u001b[0m\u001b[0;34m(\u001b[0m\u001b[0mydf\u001b[0m\u001b[0;34m,\u001b[0m \u001b[0mp1\u001b[0m\u001b[0;34m,\u001b[0m \u001b[0mp2\u001b[0m\u001b[0;34m)\u001b[0m\u001b[0;34m\u001b[0m\u001b[0;34m\u001b[0m\u001b[0m\n\u001b[0m\u001b[1;32m     16\u001b[0m             \u001b[0mgroupped_fandoms\u001b[0m \u001b[0;34m=\u001b[0m \u001b[0mlist\u001b[0m\u001b[0;34m(\u001b[0m\u001b[0mgroup_fandoms\u001b[0m\u001b[0;34m(\u001b[0m\u001b[0mfandoms\u001b[0m\u001b[0;34m)\u001b[0m\u001b[0;34m.\u001b[0m\u001b[0mkeys\u001b[0m\u001b[0;34m(\u001b[0m\u001b[0;34m)\u001b[0m\u001b[0;34m)\u001b[0m\u001b[0;34m\u001b[0m\u001b[0;34m\u001b[0m\u001b[0m\n\u001b[1;32m     17\u001b[0m             \u001b[0;32mif\u001b[0m \u001b[0mlen\u001b[0m\u001b[0;34m(\u001b[0m\u001b[0mgroupped_fandoms\u001b[0m\u001b[0;34m)\u001b[0m\u001b[0;34m:\u001b[0m\u001b[0;34m\u001b[0m\u001b[0;34m\u001b[0m\u001b[0m\n",
      "\u001b[0;32m~/grouple/face_tagger/src/NER/pairing_utils.py\u001b[0m in \u001b[0;36mget_probable_fandoms\u001b[0;34m(df, p1, p2)\u001b[0m\n\u001b[1;32m     34\u001b[0m     \u001b[0;31m# Returns list of fandoms names\u001b[0m\u001b[0;34m\u001b[0m\u001b[0;34m\u001b[0m\u001b[0;34m\u001b[0m\u001b[0m\n\u001b[1;32m     35\u001b[0m     \u001b[0mp1_fandoms\u001b[0m \u001b[0;34m=\u001b[0m \u001b[0mdf\u001b[0m\u001b[0;34m[\u001b[0m\u001b[0mdf\u001b[0m\u001b[0;34m.\u001b[0m\u001b[0mname\u001b[0m\u001b[0;34m.\u001b[0m\u001b[0mapply\u001b[0m\u001b[0;34m(\u001b[0m\u001b[0;32mlambda\u001b[0m \u001b[0ms\u001b[0m\u001b[0;34m:\u001b[0m \u001b[0many\u001b[0m\u001b[0;34m(\u001b[0m\u001b[0mmap\u001b[0m\u001b[0;34m(\u001b[0m\u001b[0;32mlambda\u001b[0m \u001b[0mss\u001b[0m\u001b[0;34m:\u001b[0m \u001b[0mss\u001b[0m\u001b[0;34m==\u001b[0m\u001b[0mp1\u001b[0m\u001b[0;34m,\u001b[0m \u001b[0ms\u001b[0m\u001b[0;34m.\u001b[0m\u001b[0msplit\u001b[0m\u001b[0;34m(\u001b[0m\u001b[0;34m)\u001b[0m\u001b[0;34m)\u001b[0m\u001b[0;34m)\u001b[0m\u001b[0;34m)\u001b[0m\u001b[0;34m]\u001b[0m\u001b[0;34m.\u001b[0m\u001b[0mtitle\u001b[0m\u001b[0;34m.\u001b[0m\u001b[0mtolist\u001b[0m\u001b[0;34m(\u001b[0m\u001b[0;34m)\u001b[0m\u001b[0;34m\u001b[0m\u001b[0;34m\u001b[0m\u001b[0m\n\u001b[0;32m---> 36\u001b[0;31m     \u001b[0mp2_fandoms\u001b[0m \u001b[0;34m=\u001b[0m \u001b[0mdf\u001b[0m\u001b[0;34m[\u001b[0m\u001b[0mdf\u001b[0m\u001b[0;34m.\u001b[0m\u001b[0mname\u001b[0m\u001b[0;34m.\u001b[0m\u001b[0mapply\u001b[0m\u001b[0;34m(\u001b[0m\u001b[0;32mlambda\u001b[0m \u001b[0ms\u001b[0m\u001b[0;34m:\u001b[0m \u001b[0many\u001b[0m\u001b[0;34m(\u001b[0m\u001b[0mmap\u001b[0m\u001b[0;34m(\u001b[0m\u001b[0;32mlambda\u001b[0m \u001b[0mss\u001b[0m\u001b[0;34m:\u001b[0m \u001b[0mss\u001b[0m\u001b[0;34m==\u001b[0m\u001b[0mp2\u001b[0m\u001b[0;34m,\u001b[0m \u001b[0ms\u001b[0m\u001b[0;34m.\u001b[0m\u001b[0msplit\u001b[0m\u001b[0;34m(\u001b[0m\u001b[0;34m)\u001b[0m\u001b[0;34m)\u001b[0m\u001b[0;34m)\u001b[0m\u001b[0;34m)\u001b[0m\u001b[0;34m]\u001b[0m\u001b[0;34m.\u001b[0m\u001b[0mtitle\u001b[0m\u001b[0;34m.\u001b[0m\u001b[0mtolist\u001b[0m\u001b[0;34m(\u001b[0m\u001b[0;34m)\u001b[0m\u001b[0;34m\u001b[0m\u001b[0;34m\u001b[0m\u001b[0m\n\u001b[0m\u001b[1;32m     37\u001b[0m     \u001b[0mfandoms\u001b[0m \u001b[0;34m=\u001b[0m \u001b[0mset\u001b[0m\u001b[0;34m(\u001b[0m\u001b[0mp1_fandoms\u001b[0m\u001b[0;34m)\u001b[0m\u001b[0;34m.\u001b[0m\u001b[0mintersection\u001b[0m\u001b[0;34m(\u001b[0m\u001b[0mset\u001b[0m\u001b[0;34m(\u001b[0m\u001b[0mp2_fandoms\u001b[0m\u001b[0;34m)\u001b[0m\u001b[0;34m)\u001b[0m\u001b[0;34m\u001b[0m\u001b[0;34m\u001b[0m\u001b[0m\n\u001b[1;32m     38\u001b[0m     \u001b[0;32mreturn\u001b[0m \u001b[0mlist\u001b[0m\u001b[0;34m(\u001b[0m\u001b[0mfandoms\u001b[0m\u001b[0;34m)\u001b[0m\u001b[0;34m\u001b[0m\u001b[0;34m\u001b[0m\u001b[0m\n",
      "\u001b[0;32m/usr/local/lib/python3.6/dist-packages/pandas/core/series.py\u001b[0m in \u001b[0;36mapply\u001b[0;34m(self, func, convert_dtype, args, **kwds)\u001b[0m\n\u001b[1;32m   4043\u001b[0m             \u001b[0;32melse\u001b[0m\u001b[0;34m:\u001b[0m\u001b[0;34m\u001b[0m\u001b[0;34m\u001b[0m\u001b[0m\n\u001b[1;32m   4044\u001b[0m                 \u001b[0mvalues\u001b[0m \u001b[0;34m=\u001b[0m \u001b[0mself\u001b[0m\u001b[0;34m.\u001b[0m\u001b[0mastype\u001b[0m\u001b[0;34m(\u001b[0m\u001b[0mobject\u001b[0m\u001b[0;34m)\u001b[0m\u001b[0;34m.\u001b[0m\u001b[0mvalues\u001b[0m\u001b[0;34m\u001b[0m\u001b[0;34m\u001b[0m\u001b[0m\n\u001b[0;32m-> 4045\u001b[0;31m                 \u001b[0mmapped\u001b[0m \u001b[0;34m=\u001b[0m \u001b[0mlib\u001b[0m\u001b[0;34m.\u001b[0m\u001b[0mmap_infer\u001b[0m\u001b[0;34m(\u001b[0m\u001b[0mvalues\u001b[0m\u001b[0;34m,\u001b[0m \u001b[0mf\u001b[0m\u001b[0;34m,\u001b[0m \u001b[0mconvert\u001b[0m\u001b[0;34m=\u001b[0m\u001b[0mconvert_dtype\u001b[0m\u001b[0;34m)\u001b[0m\u001b[0;34m\u001b[0m\u001b[0;34m\u001b[0m\u001b[0m\n\u001b[0m\u001b[1;32m   4046\u001b[0m \u001b[0;34m\u001b[0m\u001b[0m\n\u001b[1;32m   4047\u001b[0m         \u001b[0;32mif\u001b[0m \u001b[0mlen\u001b[0m\u001b[0;34m(\u001b[0m\u001b[0mmapped\u001b[0m\u001b[0;34m)\u001b[0m \u001b[0;32mand\u001b[0m \u001b[0misinstance\u001b[0m\u001b[0;34m(\u001b[0m\u001b[0mmapped\u001b[0m\u001b[0;34m[\u001b[0m\u001b[0;36m0\u001b[0m\u001b[0;34m]\u001b[0m\u001b[0;34m,\u001b[0m \u001b[0mSeries\u001b[0m\u001b[0;34m)\u001b[0m\u001b[0;34m:\u001b[0m\u001b[0;34m\u001b[0m\u001b[0;34m\u001b[0m\u001b[0m\n",
      "\u001b[0;32mpandas/_libs/lib.pyx\u001b[0m in \u001b[0;36mpandas._libs.lib.map_infer\u001b[0;34m()\u001b[0m\n",
      "\u001b[0;32m~/grouple/face_tagger/src/NER/pairing_utils.py\u001b[0m in \u001b[0;36m<lambda>\u001b[0;34m(s)\u001b[0m\n\u001b[1;32m     34\u001b[0m     \u001b[0;31m# Returns list of fandoms names\u001b[0m\u001b[0;34m\u001b[0m\u001b[0;34m\u001b[0m\u001b[0;34m\u001b[0m\u001b[0m\n\u001b[1;32m     35\u001b[0m     \u001b[0mp1_fandoms\u001b[0m \u001b[0;34m=\u001b[0m \u001b[0mdf\u001b[0m\u001b[0;34m[\u001b[0m\u001b[0mdf\u001b[0m\u001b[0;34m.\u001b[0m\u001b[0mname\u001b[0m\u001b[0;34m.\u001b[0m\u001b[0mapply\u001b[0m\u001b[0;34m(\u001b[0m\u001b[0;32mlambda\u001b[0m \u001b[0ms\u001b[0m\u001b[0;34m:\u001b[0m \u001b[0many\u001b[0m\u001b[0;34m(\u001b[0m\u001b[0mmap\u001b[0m\u001b[0;34m(\u001b[0m\u001b[0;32mlambda\u001b[0m \u001b[0mss\u001b[0m\u001b[0;34m:\u001b[0m \u001b[0mss\u001b[0m\u001b[0;34m==\u001b[0m\u001b[0mp1\u001b[0m\u001b[0;34m,\u001b[0m \u001b[0ms\u001b[0m\u001b[0;34m.\u001b[0m\u001b[0msplit\u001b[0m\u001b[0;34m(\u001b[0m\u001b[0;34m)\u001b[0m\u001b[0;34m)\u001b[0m\u001b[0;34m)\u001b[0m\u001b[0;34m)\u001b[0m\u001b[0;34m]\u001b[0m\u001b[0;34m.\u001b[0m\u001b[0mtitle\u001b[0m\u001b[0;34m.\u001b[0m\u001b[0mtolist\u001b[0m\u001b[0;34m(\u001b[0m\u001b[0;34m)\u001b[0m\u001b[0;34m\u001b[0m\u001b[0;34m\u001b[0m\u001b[0m\n\u001b[0;32m---> 36\u001b[0;31m     \u001b[0mp2_fandoms\u001b[0m \u001b[0;34m=\u001b[0m \u001b[0mdf\u001b[0m\u001b[0;34m[\u001b[0m\u001b[0mdf\u001b[0m\u001b[0;34m.\u001b[0m\u001b[0mname\u001b[0m\u001b[0;34m.\u001b[0m\u001b[0mapply\u001b[0m\u001b[0;34m(\u001b[0m\u001b[0;32mlambda\u001b[0m \u001b[0ms\u001b[0m\u001b[0;34m:\u001b[0m \u001b[0many\u001b[0m\u001b[0;34m(\u001b[0m\u001b[0mmap\u001b[0m\u001b[0;34m(\u001b[0m\u001b[0;32mlambda\u001b[0m \u001b[0mss\u001b[0m\u001b[0;34m:\u001b[0m \u001b[0mss\u001b[0m\u001b[0;34m==\u001b[0m\u001b[0mp2\u001b[0m\u001b[0;34m,\u001b[0m \u001b[0ms\u001b[0m\u001b[0;34m.\u001b[0m\u001b[0msplit\u001b[0m\u001b[0;34m(\u001b[0m\u001b[0;34m)\u001b[0m\u001b[0;34m)\u001b[0m\u001b[0;34m)\u001b[0m\u001b[0;34m)\u001b[0m\u001b[0;34m]\u001b[0m\u001b[0;34m.\u001b[0m\u001b[0mtitle\u001b[0m\u001b[0;34m.\u001b[0m\u001b[0mtolist\u001b[0m\u001b[0;34m(\u001b[0m\u001b[0;34m)\u001b[0m\u001b[0;34m\u001b[0m\u001b[0;34m\u001b[0m\u001b[0m\n\u001b[0m\u001b[1;32m     37\u001b[0m     \u001b[0mfandoms\u001b[0m \u001b[0;34m=\u001b[0m \u001b[0mset\u001b[0m\u001b[0;34m(\u001b[0m\u001b[0mp1_fandoms\u001b[0m\u001b[0;34m)\u001b[0m\u001b[0;34m.\u001b[0m\u001b[0mintersection\u001b[0m\u001b[0;34m(\u001b[0m\u001b[0mset\u001b[0m\u001b[0;34m(\u001b[0m\u001b[0mp2_fandoms\u001b[0m\u001b[0;34m)\u001b[0m\u001b[0;34m)\u001b[0m\u001b[0;34m\u001b[0m\u001b[0;34m\u001b[0m\u001b[0m\n\u001b[1;32m     38\u001b[0m     \u001b[0;32mreturn\u001b[0m \u001b[0mlist\u001b[0m\u001b[0;34m(\u001b[0m\u001b[0mfandoms\u001b[0m\u001b[0;34m)\u001b[0m\u001b[0;34m\u001b[0m\u001b[0;34m\u001b[0m\u001b[0m\n",
      "\u001b[0;31mKeyboardInterrupt\u001b[0m: "
     ]
    }
   ],
   "source": [
    "n_pairings = 0\n",
    "n_recognized = 0\n",
    "\n",
    "for i, (name, page, volumes) in enumerate(df.to_records(index=False)):\n",
    "    data = load_data(page, volumes)\n",
    "    url = data['page']['url']\n",
    "    descr = data['page']['description']\n",
    "    is_pairing = 'пейринг' in descr.lower()\n",
    "\n",
    "    if is_pairing:\n",
    "        n_pairings += 1\n",
    "        res = get_pairing(descr)\n",
    "        if res is not None:\n",
    "            p1, p2 = res\n",
    "            fandoms = get_probable_fandoms(ydf, p1, p2)\n",
    "            groupped_fandoms = list(group_fandoms(fandoms).keys())\n",
    "            if len(groupped_fandoms):\n",
    "                n_recognized += 1\n",
    "                print(p1, '+', p2)\n",
    "                print('  ', groupped_fandoms, url)\n",
    "        "
   ]
  },
  {
   "cell_type": "code",
   "execution_count": null,
   "metadata": {},
   "outputs": [],
   "source": [
    "print('Описаний с пейрингами:', n_pairings)\n",
    "print('Распознано фандомов по пейрингам:', n_recognized, '(%.2f' % (n_recognized/n_pairings*100) + '%)')"
   ]
  },
  {
   "cell_type": "markdown",
   "metadata": {},
   "source": [
    "class Manga# Create NER dataset"
   ]
  },
  {
   "cell_type": "code",
   "execution_count": 15,
   "metadata": {},
   "outputs": [],
   "source": []
  }
 ],
 "metadata": {
  "kernelspec": {
   "display_name": "Python 3",
   "language": "python",
   "name": "python3"
  },
  "language_info": {
   "codemirror_mode": {
    "name": "ipython",
    "version": 3
   },
   "file_extension": ".py",
   "mimetype": "text/x-python",
   "name": "python",
   "nbconvert_exporter": "python",
   "pygments_lexer": "ipython3",
   "version": "3.6.9"
  }
 },
 "nbformat": 4,
 "nbformat_minor": 4
}
